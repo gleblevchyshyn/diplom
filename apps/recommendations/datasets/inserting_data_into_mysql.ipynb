{
 "cells": [
  {
   "cell_type": "code",
   "execution_count": 1,
   "outputs": [],
   "source": [
    "import mysql.connector\n",
    "import json\n",
    "import pandas as pd\n",
    "import random"
   ],
   "metadata": {
    "collapsed": false,
    "pycharm": {
     "name": "#%%\n"
    }
   }
  },
  {
   "cell_type": "code",
   "execution_count": 2,
   "outputs": [],
   "source": [
    "books = pd.read_csv('encoded_books.csv')"
   ],
   "metadata": {
    "collapsed": false,
    "pycharm": {
     "name": "#%%\n"
    }
   }
  },
  {
   "cell_type": "code",
   "execution_count": 20,
   "outputs": [
    {
     "data": {
      "text/plain": "Index(['book_id', 'title', 'isbn', 'language_code', 'is_ebook',\n       'average_rating', 'similar_books', 'description', 'format', 'cover_img',\n       'author', 'publisher', 'num_pages', 'edition_information',\n       'publication_year', 'ratings_count', 'language_code_encoded',\n       'format_encoded'],\n      dtype='object')"
     },
     "execution_count": 20,
     "metadata": {},
     "output_type": "execute_result"
    }
   ],
   "source": [
    "books.columns"
   ],
   "metadata": {
    "collapsed": false,
    "pycharm": {
     "name": "#%%\n"
    }
   }
  },
  {
   "cell_type": "code",
   "execution_count": 70,
   "outputs": [
    {
     "data": {
      "text/plain": "Empty DataFrame\nColumns: [book_id, title, isbn, language_code, is_ebook, average_rating, similar_books, description, format, cover_img, author, publisher, num_pages, edition_information, publication_year, ratings_count, language_code_encoded, format_encoded]\nIndex: []",
      "text/html": "<div>\n<style scoped>\n    .dataframe tbody tr th:only-of-type {\n        vertical-align: middle;\n    }\n\n    .dataframe tbody tr th {\n        vertical-align: top;\n    }\n\n    .dataframe thead th {\n        text-align: right;\n    }\n</style>\n<table border=\"1\" class=\"dataframe\">\n  <thead>\n    <tr style=\"text-align: right;\">\n      <th></th>\n      <th>book_id</th>\n      <th>title</th>\n      <th>isbn</th>\n      <th>language_code</th>\n      <th>is_ebook</th>\n      <th>average_rating</th>\n      <th>similar_books</th>\n      <th>description</th>\n      <th>format</th>\n      <th>cover_img</th>\n      <th>author</th>\n      <th>publisher</th>\n      <th>num_pages</th>\n      <th>edition_information</th>\n      <th>publication_year</th>\n      <th>ratings_count</th>\n      <th>language_code_encoded</th>\n      <th>format_encoded</th>\n    </tr>\n  </thead>\n  <tbody>\n  </tbody>\n</table>\n</div>"
     },
     "execution_count": 70,
     "metadata": {},
     "output_type": "execute_result"
    }
   ],
   "source": [
    "books.isnull().sum()"
   ],
   "metadata": {
    "collapsed": false,
    "pycharm": {
     "name": "#%%\n"
    }
   }
  },
  {
   "cell_type": "code",
   "execution_count": 71,
   "outputs": [],
   "source": [
    "values = {'title': '',\n",
    "          'isbn': '',\n",
    "          'description': '',\n",
    "          'publisher': '',\n",
    "          'num_pages': -1,\n",
    "          'edition_information': '',\n",
    "          'publication_year': -1\n",
    "          }\n",
    "books.fillna(value=values, inplace=True)"
   ],
   "metadata": {
    "collapsed": false,
    "pycharm": {
     "name": "#%%\n"
    }
   }
  },
  {
   "cell_type": "code",
   "execution_count": 72,
   "outputs": [
    {
     "data": {
      "text/plain": "book_id                        0\ntitle                          0\nisbn                           0\nlanguage_code            1059663\nis_ebook                       0\naverage_rating                 0\nsimilar_books                  0\ndescription                    0\nformat                    646229\ncover_img                      0\nauthor                         0\npublisher                      0\nnum_pages                      0\nedition_information            0\npublication_year               0\nratings_count                  0\nlanguage_code_encoded          0\nformat_encoded                 0\ndtype: int64"
     },
     "execution_count": 72,
     "metadata": {},
     "output_type": "execute_result"
    }
   ],
   "source": [
    "books.isnull().sum()"
   ],
   "metadata": {
    "collapsed": false,
    "pycharm": {
     "name": "#%%\n"
    }
   }
  },
  {
   "cell_type": "code",
   "execution_count": 4,
   "outputs": [],
   "source": [
    "with open('format.json', 'r') as file:\n",
    "    form = json.load(file)\n",
    "\n",
    "with open('language.json', 'r') as file:\n",
    "    language = json.load(file)"
   ],
   "metadata": {
    "collapsed": false,
    "pycharm": {
     "name": "#%%\n"
    }
   }
  },
  {
   "cell_type": "code",
   "execution_count": 4,
   "outputs": [],
   "source": [
    "db = mysql.connector.connect(\n",
    "    host='localhost',\n",
    "    user='root',\n",
    "    password='111111',\n",
    "    database='mydb'\n",
    ")"
   ],
   "metadata": {
    "collapsed": false,
    "pycharm": {
     "name": "#%%\n"
    }
   }
  },
  {
   "cell_type": "code",
   "execution_count": 5,
   "outputs": [
    {
     "data": {
      "text/plain": "True"
     },
     "execution_count": 5,
     "metadata": {},
     "output_type": "execute_result"
    }
   ],
   "source": [
    "db.is_connected()"
   ],
   "metadata": {
    "collapsed": false,
    "pycharm": {
     "name": "#%%\n"
    }
   }
  },
  {
   "cell_type": "code",
   "execution_count": 30,
   "outputs": [],
   "source": [
    "cursor = db.cursor()"
   ],
   "metadata": {
    "collapsed": false,
    "pycharm": {
     "name": "#%%\n"
    }
   }
  },
  {
   "cell_type": "code",
   "execution_count": 31,
   "outputs": [],
   "source": [
    "for value in form.keys():\n",
    "    idFormat = form[value]\n",
    "    sql = 'INSERT INTO FORMAT (idFormat, format) values (%s, %s)'\n",
    "    val = (idFormat, value)\n",
    "    cursor.execute(sql, val)\n",
    "db.commit()"
   ],
   "metadata": {
    "collapsed": false,
    "pycharm": {
     "name": "#%%\n"
    }
   }
  },
  {
   "cell_type": "code",
   "execution_count": 36,
   "outputs": [],
   "source": [
    "for value in language.keys():\n",
    "    idLanguage = language[value]\n",
    "    sql = 'INSERT INTO LANGUAGE (idLanguage, language) values (%s, %s)'\n",
    "    val = (idLanguage, value)\n",
    "    cursor.execute(sql, val)\n",
    "db.commit()"
   ],
   "metadata": {
    "collapsed": false,
    "pycharm": {
     "name": "#%%\n"
    }
   }
  },
  {
   "cell_type": "code",
   "execution_count": 41,
   "outputs": [
    {
     "data": {
      "text/plain": "Index(['book_id', 'title', 'isbn', 'language_code', 'is_ebook',\n       'average_rating', 'similar_books', 'description', 'format', 'cover_img',\n       'author', 'publisher', 'num_pages', 'edition_information',\n       'publication_year', 'ratings_count', 'language_code_encoded',\n       'format_encoded'],\n      dtype='object')"
     },
     "execution_count": 41,
     "metadata": {},
     "output_type": "execute_result"
    }
   ],
   "source": [
    "books.columns"
   ],
   "metadata": {
    "collapsed": false,
    "pycharm": {
     "name": "#%%\n"
    }
   }
  },
  {
   "cell_type": "code",
   "execution_count": 73,
   "outputs": [
    {
     "ename": "TypeError",
     "evalue": "CMySQLCursor.execute() missing 1 required positional argument: 'operation'",
     "output_type": "error",
     "traceback": [
      "\u001B[1;31m---------------------------------------------------------------------------\u001B[0m",
      "\u001B[1;31mTypeError\u001B[0m                                 Traceback (most recent call last)",
      "Cell \u001B[1;32mIn[73], line 26\u001B[0m\n\u001B[0;32m     23\u001B[0m     val \u001B[38;5;241m=\u001B[39m (idBook, title, average_rating, description, isbn, num_pages, publication_year, cover_img, price, ratings_count, amount, idLanguage, edition_info, is_ebook, publisher, idFormat)\n\u001B[0;32m     24\u001B[0m     cursor\u001B[38;5;241m.\u001B[39mexecute(sql, val)\n\u001B[1;32m---> 26\u001B[0m \u001B[43mcursor\u001B[49m\u001B[38;5;241;43m.\u001B[39;49m\u001B[43mexecute\u001B[49m\u001B[43m(\u001B[49m\u001B[43m)\u001B[49m\n",
      "\u001B[1;31mTypeError\u001B[0m: CMySQLCursor.execute() missing 1 required positional argument: 'operation'"
     ]
    }
   ],
   "source": [
    "for ind in books.index:\n",
    "    idBook = int(books.book_id[ind])\n",
    "    title = books.title[ind]\n",
    "    average_rating = books.average_rating[ind]\n",
    "    description = books.description[ind]\n",
    "    isbn = books.isbn[ind]\n",
    "    num_pages = int(books.num_pages[ind])\n",
    "    publication_year = int(books.publication_year[ind])\n",
    "    cover_img = books.cover_img[ind]\n",
    "    ratings_count = int(books.ratings_count[ind])\n",
    "    idLanguage = int(books.language_code_encoded[ind])\n",
    "    edition_info = books.edition_information[ind]\n",
    "    is_ebook = books.is_ebook[ind]\n",
    "    idFormat = int(books.format_encoded[ind])\n",
    "    publisher = books.publisher[ind]\n",
    "\n",
    "    amount = random.randint(0, 10)\n",
    "    price = round(random.uniform(10, 999.99), 2)\n",
    "\n",
    "    sql = 'INSERT INTO BOOK (idBook, title, average_rating, description, isbn, num_pages, publication_year, cover_img, price, ratings_count, ' \\\n",
    "          'amount, Language_idLanguage, edition_information, is_ebook, publisher, Format_idFormat)' \\\n",
    "          ' values (%s, %s, %s, %s, %s, %s, %s, %s, %s, %s, %s, %s, %s, %s, %s, %s)'\n",
    "    val = (idBook, title, average_rating, description, isbn, num_pages, publication_year, cover_img, price, ratings_count, amount, idLanguage, edition_info, is_ebook, publisher, idFormat)\n",
    "    cursor.execute(sql, val)\n",
    "\n",
    "db.commit()"
   ],
   "metadata": {
    "collapsed": false,
    "pycharm": {
     "name": "#%%\n"
    }
   }
  },
  {
   "cell_type": "code",
   "execution_count": null,
   "outputs": [],
   "source": [
    "db.close()"
   ],
   "metadata": {
    "collapsed": false,
    "pycharm": {
     "name": "#%%\n"
    }
   }
  },
  {
   "cell_type": "code",
   "execution_count": null,
   "outputs": [],
   "source": [],
   "metadata": {
    "collapsed": false,
    "pycharm": {
     "name": "#%%\n"
    }
   }
  }
 ],
 "metadata": {
  "kernelspec": {
   "display_name": "Python 3",
   "language": "python",
   "name": "python3"
  },
  "language_info": {
   "codemirror_mode": {
    "name": "ipython",
    "version": 2
   },
   "file_extension": ".py",
   "mimetype": "text/x-python",
   "name": "python",
   "nbconvert_exporter": "python",
   "pygments_lexer": "ipython2",
   "version": "2.7.6"
  }
 },
 "nbformat": 4,
 "nbformat_minor": 0
}