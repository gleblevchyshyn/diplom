{
 "cells": [
  {
   "cell_type": "code",
   "execution_count": 1,
   "outputs": [],
   "source": [
    "import mysql.connector\n",
    "import json\n",
    "import pandas as pd\n",
    "import random"
   ],
   "metadata": {
    "collapsed": false,
    "pycharm": {
     "name": "#%%\n"
    }
   }
  },
  {
   "cell_type": "code",
   "execution_count": 2,
   "outputs": [
    {
     "ename": "KeyboardInterrupt",
     "evalue": "",
     "output_type": "error",
     "traceback": [
      "\u001B[1;31m---------------------------------------------------------------------------\u001B[0m",
      "\u001B[1;31mKeyboardInterrupt\u001B[0m                         Traceback (most recent call last)",
      "Cell \u001B[1;32mIn[2], line 1\u001B[0m\n\u001B[1;32m----> 1\u001B[0m books \u001B[38;5;241m=\u001B[39m \u001B[43mpd\u001B[49m\u001B[38;5;241;43m.\u001B[39;49m\u001B[43mread_csv\u001B[49m\u001B[43m(\u001B[49m\u001B[38;5;124;43m'\u001B[39;49m\u001B[38;5;124;43mbooks.csv\u001B[39;49m\u001B[38;5;124;43m'\u001B[39;49m\u001B[43m)\u001B[49m\n",
      "File \u001B[1;32m~\\PycharmProjects\\diplom\\DIPLOM_VENV\\lib\\site-packages\\pandas\\io\\parsers\\readers.py:912\u001B[0m, in \u001B[0;36mread_csv\u001B[1;34m(filepath_or_buffer, sep, delimiter, header, names, index_col, usecols, dtype, engine, converters, true_values, false_values, skipinitialspace, skiprows, skipfooter, nrows, na_values, keep_default_na, na_filter, verbose, skip_blank_lines, parse_dates, infer_datetime_format, keep_date_col, date_parser, date_format, dayfirst, cache_dates, iterator, chunksize, compression, thousands, decimal, lineterminator, quotechar, quoting, doublequote, escapechar, comment, encoding, encoding_errors, dialect, on_bad_lines, delim_whitespace, low_memory, memory_map, float_precision, storage_options, dtype_backend)\u001B[0m\n\u001B[0;32m    899\u001B[0m kwds_defaults \u001B[38;5;241m=\u001B[39m _refine_defaults_read(\n\u001B[0;32m    900\u001B[0m     dialect,\n\u001B[0;32m    901\u001B[0m     delimiter,\n\u001B[1;32m   (...)\u001B[0m\n\u001B[0;32m    908\u001B[0m     dtype_backend\u001B[38;5;241m=\u001B[39mdtype_backend,\n\u001B[0;32m    909\u001B[0m )\n\u001B[0;32m    910\u001B[0m kwds\u001B[38;5;241m.\u001B[39mupdate(kwds_defaults)\n\u001B[1;32m--> 912\u001B[0m \u001B[38;5;28;01mreturn\u001B[39;00m \u001B[43m_read\u001B[49m\u001B[43m(\u001B[49m\u001B[43mfilepath_or_buffer\u001B[49m\u001B[43m,\u001B[49m\u001B[43m \u001B[49m\u001B[43mkwds\u001B[49m\u001B[43m)\u001B[49m\n",
      "File \u001B[1;32m~\\PycharmProjects\\diplom\\DIPLOM_VENV\\lib\\site-packages\\pandas\\io\\parsers\\readers.py:583\u001B[0m, in \u001B[0;36m_read\u001B[1;34m(filepath_or_buffer, kwds)\u001B[0m\n\u001B[0;32m    580\u001B[0m     \u001B[38;5;28;01mreturn\u001B[39;00m parser\n\u001B[0;32m    582\u001B[0m \u001B[38;5;28;01mwith\u001B[39;00m parser:\n\u001B[1;32m--> 583\u001B[0m     \u001B[38;5;28;01mreturn\u001B[39;00m \u001B[43mparser\u001B[49m\u001B[38;5;241;43m.\u001B[39;49m\u001B[43mread\u001B[49m\u001B[43m(\u001B[49m\u001B[43mnrows\u001B[49m\u001B[43m)\u001B[49m\n",
      "File \u001B[1;32m~\\PycharmProjects\\diplom\\DIPLOM_VENV\\lib\\site-packages\\pandas\\io\\parsers\\readers.py:1704\u001B[0m, in \u001B[0;36mTextFileReader.read\u001B[1;34m(self, nrows)\u001B[0m\n\u001B[0;32m   1697\u001B[0m nrows \u001B[38;5;241m=\u001B[39m validate_integer(\u001B[38;5;124m\"\u001B[39m\u001B[38;5;124mnrows\u001B[39m\u001B[38;5;124m\"\u001B[39m, nrows)\n\u001B[0;32m   1698\u001B[0m \u001B[38;5;28;01mtry\u001B[39;00m:\n\u001B[0;32m   1699\u001B[0m     \u001B[38;5;66;03m# error: \"ParserBase\" has no attribute \"read\"\u001B[39;00m\n\u001B[0;32m   1700\u001B[0m     (\n\u001B[0;32m   1701\u001B[0m         index,\n\u001B[0;32m   1702\u001B[0m         columns,\n\u001B[0;32m   1703\u001B[0m         col_dict,\n\u001B[1;32m-> 1704\u001B[0m     ) \u001B[38;5;241m=\u001B[39m \u001B[38;5;28;43mself\u001B[39;49m\u001B[38;5;241;43m.\u001B[39;49m\u001B[43m_engine\u001B[49m\u001B[38;5;241;43m.\u001B[39;49m\u001B[43mread\u001B[49m\u001B[43m(\u001B[49m\u001B[43m  \u001B[49m\u001B[38;5;66;43;03m# type: ignore[attr-defined]\u001B[39;49;00m\n\u001B[0;32m   1705\u001B[0m \u001B[43m        \u001B[49m\u001B[43mnrows\u001B[49m\n\u001B[0;32m   1706\u001B[0m \u001B[43m    \u001B[49m\u001B[43m)\u001B[49m\n\u001B[0;32m   1707\u001B[0m \u001B[38;5;28;01mexcept\u001B[39;00m \u001B[38;5;167;01mException\u001B[39;00m:\n\u001B[0;32m   1708\u001B[0m     \u001B[38;5;28mself\u001B[39m\u001B[38;5;241m.\u001B[39mclose()\n",
      "File \u001B[1;32m~\\PycharmProjects\\diplom\\DIPLOM_VENV\\lib\\site-packages\\pandas\\io\\parsers\\c_parser_wrapper.py:234\u001B[0m, in \u001B[0;36mCParserWrapper.read\u001B[1;34m(self, nrows)\u001B[0m\n\u001B[0;32m    232\u001B[0m \u001B[38;5;28;01mtry\u001B[39;00m:\n\u001B[0;32m    233\u001B[0m     \u001B[38;5;28;01mif\u001B[39;00m \u001B[38;5;28mself\u001B[39m\u001B[38;5;241m.\u001B[39mlow_memory:\n\u001B[1;32m--> 234\u001B[0m         chunks \u001B[38;5;241m=\u001B[39m \u001B[38;5;28;43mself\u001B[39;49m\u001B[38;5;241;43m.\u001B[39;49m\u001B[43m_reader\u001B[49m\u001B[38;5;241;43m.\u001B[39;49m\u001B[43mread_low_memory\u001B[49m\u001B[43m(\u001B[49m\u001B[43mnrows\u001B[49m\u001B[43m)\u001B[49m\n\u001B[0;32m    235\u001B[0m         \u001B[38;5;66;03m# destructive to chunks\u001B[39;00m\n\u001B[0;32m    236\u001B[0m         data \u001B[38;5;241m=\u001B[39m _concatenate_chunks(chunks)\n",
      "File \u001B[1;32m~\\PycharmProjects\\diplom\\DIPLOM_VENV\\lib\\site-packages\\pandas\\_libs\\parsers.pyx:812\u001B[0m, in \u001B[0;36mpandas._libs.parsers.TextReader.read_low_memory\u001B[1;34m()\u001B[0m\n",
      "File \u001B[1;32m~\\PycharmProjects\\diplom\\DIPLOM_VENV\\lib\\site-packages\\pandas\\_libs\\parsers.pyx:889\u001B[0m, in \u001B[0;36mpandas._libs.parsers.TextReader._read_rows\u001B[1;34m()\u001B[0m\n",
      "File \u001B[1;32m~\\PycharmProjects\\diplom\\DIPLOM_VENV\\lib\\site-packages\\pandas\\_libs\\parsers.pyx:1047\u001B[0m, in \u001B[0;36mpandas._libs.parsers.TextReader._convert_column_data\u001B[1;34m()\u001B[0m\n",
      "File \u001B[1;32m~\\PycharmProjects\\diplom\\DIPLOM_VENV\\lib\\site-packages\\pandas\\core\\dtypes\\common.py:1335\u001B[0m, in \u001B[0;36mis_extension_array_dtype\u001B[1;34m(arr_or_dtype)\u001B[0m\n\u001B[0;32m   1326\u001B[0m     \u001B[38;5;66;03m# Note: if other EA dtypes are ever held in HybridBlock, exclude those\u001B[39;00m\n\u001B[0;32m   1327\u001B[0m     \u001B[38;5;66;03m#  here too.\u001B[39;00m\n\u001B[0;32m   1328\u001B[0m     \u001B[38;5;66;03m# NB: need to check DatetimeTZDtype and not is_datetime64tz_dtype\u001B[39;00m\n\u001B[0;32m   1329\u001B[0m     \u001B[38;5;66;03m#  to exclude ArrowTimestampUSDtype\u001B[39;00m\n\u001B[0;32m   1330\u001B[0m     \u001B[38;5;28;01mreturn\u001B[39;00m \u001B[38;5;28misinstance\u001B[39m(dtype, ExtensionDtype) \u001B[38;5;129;01mand\u001B[39;00m \u001B[38;5;129;01mnot\u001B[39;00m \u001B[38;5;28misinstance\u001B[39m(\n\u001B[0;32m   1331\u001B[0m         dtype, (DatetimeTZDtype, PeriodDtype)\n\u001B[0;32m   1332\u001B[0m     )\n\u001B[1;32m-> 1335\u001B[0m \u001B[38;5;28;01mdef\u001B[39;00m \u001B[38;5;21mis_extension_array_dtype\u001B[39m(arr_or_dtype) \u001B[38;5;241m-\u001B[39m\u001B[38;5;241m>\u001B[39m \u001B[38;5;28mbool\u001B[39m:\n\u001B[0;32m   1336\u001B[0m \u001B[38;5;250m    \u001B[39m\u001B[38;5;124;03m\"\"\"\u001B[39;00m\n\u001B[0;32m   1337\u001B[0m \u001B[38;5;124;03m    Check if an object is a pandas extension array type.\u001B[39;00m\n\u001B[0;32m   1338\u001B[0m \n\u001B[1;32m   (...)\u001B[0m\n\u001B[0;32m   1378\u001B[0m \u001B[38;5;124;03m    False\u001B[39;00m\n\u001B[0;32m   1379\u001B[0m \u001B[38;5;124;03m    \"\"\"\u001B[39;00m\n\u001B[0;32m   1380\u001B[0m     dtype \u001B[38;5;241m=\u001B[39m \u001B[38;5;28mgetattr\u001B[39m(arr_or_dtype, \u001B[38;5;124m\"\u001B[39m\u001B[38;5;124mdtype\u001B[39m\u001B[38;5;124m\"\u001B[39m, arr_or_dtype)\n",
      "\u001B[1;31mKeyboardInterrupt\u001B[0m: "
     ]
    }
   ],
   "source": [
    "books = pd.read_csv('books.csv')"
   ],
   "metadata": {
    "collapsed": false,
    "pycharm": {
     "name": "#%%\n"
    }
   }
  },
  {
   "cell_type": "code",
   "execution_count": null,
   "outputs": [],
   "source": [
    "books.head(5)"
   ],
   "metadata": {
    "collapsed": false,
    "pycharm": {
     "name": "#%%\n"
    }
   }
  },
  {
   "cell_type": "code",
   "execution_count": null,
   "outputs": [],
   "source": [
    "books.isnull().sum()"
   ],
   "metadata": {
    "collapsed": false,
    "pycharm": {
     "name": "#%%\n"
    }
   }
  },
  {
   "cell_type": "code",
   "execution_count": null,
   "outputs": [],
   "source": [
    "# Drop rows with NaN values in column B and C\n",
    "books.dropna(subset=['title', 'isbn', 'average_rating', 'description', 'cover_img', 'ratings_count'], inplace=True)"
   ],
   "metadata": {
    "collapsed": false,
    "pycharm": {
     "name": "#%%\n"
    }
   }
  },
  {
   "cell_type": "code",
   "execution_count": null,
   "outputs": [],
   "source": [
    "books.isnull().sum()"
   ],
   "metadata": {
    "collapsed": false,
    "pycharm": {
     "name": "#%%\n"
    }
   }
  },
  {
   "cell_type": "code",
   "execution_count": 7,
   "outputs": [],
   "source": [
    "values = {'format': 'unknown',\n",
    "          'language_code': 'unknown',\n",
    "          'publisher': 'unknown',\n",
    "          'num_pages': -1,\n",
    "          'edition_information': 'unknown',\n",
    "          'publication_year': -1\n",
    "          }\n",
    "books.fillna(value=values, inplace=True)"
   ],
   "metadata": {
    "collapsed": false,
    "pycharm": {
     "name": "#%%\n"
    }
   }
  },
  {
   "cell_type": "code",
   "execution_count": 8,
   "outputs": [
    {
     "data": {
      "text/plain": "book_id                0\ntitle                  0\nisbn                   0\nlanguage_code          0\nis_ebook               0\naverage_rating         0\nsimilar_books          0\ndescription            0\nformat                 0\ncover_img              0\nauthor                 0\npublisher              0\nnum_pages              0\nedition_information    0\npublication_year       0\nratings_count          0\ndtype: int64"
     },
     "execution_count": 8,
     "metadata": {},
     "output_type": "execute_result"
    }
   ],
   "source": [
    "books.isnull().sum()"
   ],
   "metadata": {
    "collapsed": false,
    "pycharm": {
     "name": "#%%\n"
    }
   }
  },
  {
   "cell_type": "code",
   "execution_count": 9,
   "outputs": [
    {
     "data": {
      "text/plain": "1185390"
     },
     "execution_count": 9,
     "metadata": {},
     "output_type": "execute_result"
    }
   ],
   "source": [
    "len(books)"
   ],
   "metadata": {
    "collapsed": false,
    "pycharm": {
     "name": "#%%\n"
    }
   }
  },
  {
   "cell_type": "code",
   "execution_count": 10,
   "outputs": [
    {
     "data": {
      "text/plain": "   book_id                                              title        isbn   \n1  1333909                                        Good Harbor  0743509986  \\\n3  6066819                               Best Friends Forever  0743294297   \n5   287141                      The Aeneid for Boys and Girls  1599150603   \n7  6066812  All's Fairy in Love and War (Avalon: Web of Ma...  1934876569   \n9   287149                               The Devil's Notebook  0922915113   \n\n  language_code  is_ebook  average_rating   \n1       unknown       0.0            3.23  \\\n3           eng       0.0            3.49   \n5       unknown       0.0            4.13   \n7       unknown       0.0            4.22   \n9       unknown       0.0            3.81   \n\n                                       similar_books   \n1  ['8709549', '17074050', '28937', '158816', '22...  \\\n3  ['6604176', '6054190', '2285777', '82641', '75...   \n5                                                 []   \n7  ['948696', '439885', '274955', '12978730', '37...   \n9  ['287151', '1104760', '1172822', '440292', '28...   \n\n                                         description     format   \n1  Anita Diamant's international bestseller \"The ...   Audio CD  \\\n3  Addie Downs and Valerie Adler were eight when ...  Hardcover   \n5  Relates in vigorous prose the tale of Aeneas, ...  Paperback   \n7  To Kara's astonishment, she discovers that a p...  Paperback   \n9  Wisdom, humor, and dark observations by the fo...  Paperback   \n\n                                           cover_img                author   \n1  https://s.gr-assets.com/assets/nophoto/book/11...            ['626222']  \\\n3  https://s.gr-assets.com/assets/nophoto/book/11...              ['9212']   \n5  https://s.gr-assets.com/assets/nophoto/book/11...           ['3041852']   \n7  https://images.gr-assets.com/books/1316637798m...             ['19158']   \n9  https://images.gr-assets.com/books/1328768789m...  ['2983296', '40075']   \n\n                publisher  num_pages edition_information  publication_year   \n1  Simon & Schuster Audio       -1.0            Abridged            2001.0  \\\n3             Atria Books      368.0             unknown            2009.0   \n5    Yesterday's Classics      162.0             unknown            2006.0   \n7              Seven Seas      216.0             unknown            2009.0   \n9             Feral House      147.0             unknown            2000.0   \n\n   ratings_count  \n1           10.0  \n3        51184.0  \n5           46.0  \n7           98.0  \n9          986.0  ",
      "text/html": "<div>\n<style scoped>\n    .dataframe tbody tr th:only-of-type {\n        vertical-align: middle;\n    }\n\n    .dataframe tbody tr th {\n        vertical-align: top;\n    }\n\n    .dataframe thead th {\n        text-align: right;\n    }\n</style>\n<table border=\"1\" class=\"dataframe\">\n  <thead>\n    <tr style=\"text-align: right;\">\n      <th></th>\n      <th>book_id</th>\n      <th>title</th>\n      <th>isbn</th>\n      <th>language_code</th>\n      <th>is_ebook</th>\n      <th>average_rating</th>\n      <th>similar_books</th>\n      <th>description</th>\n      <th>format</th>\n      <th>cover_img</th>\n      <th>author</th>\n      <th>publisher</th>\n      <th>num_pages</th>\n      <th>edition_information</th>\n      <th>publication_year</th>\n      <th>ratings_count</th>\n    </tr>\n  </thead>\n  <tbody>\n    <tr>\n      <th>1</th>\n      <td>1333909</td>\n      <td>Good Harbor</td>\n      <td>0743509986</td>\n      <td>unknown</td>\n      <td>0.0</td>\n      <td>3.23</td>\n      <td>['8709549', '17074050', '28937', '158816', '22...</td>\n      <td>Anita Diamant's international bestseller \"The ...</td>\n      <td>Audio CD</td>\n      <td>https://s.gr-assets.com/assets/nophoto/book/11...</td>\n      <td>['626222']</td>\n      <td>Simon &amp; Schuster Audio</td>\n      <td>-1.0</td>\n      <td>Abridged</td>\n      <td>2001.0</td>\n      <td>10.0</td>\n    </tr>\n    <tr>\n      <th>3</th>\n      <td>6066819</td>\n      <td>Best Friends Forever</td>\n      <td>0743294297</td>\n      <td>eng</td>\n      <td>0.0</td>\n      <td>3.49</td>\n      <td>['6604176', '6054190', '2285777', '82641', '75...</td>\n      <td>Addie Downs and Valerie Adler were eight when ...</td>\n      <td>Hardcover</td>\n      <td>https://s.gr-assets.com/assets/nophoto/book/11...</td>\n      <td>['9212']</td>\n      <td>Atria Books</td>\n      <td>368.0</td>\n      <td>unknown</td>\n      <td>2009.0</td>\n      <td>51184.0</td>\n    </tr>\n    <tr>\n      <th>5</th>\n      <td>287141</td>\n      <td>The Aeneid for Boys and Girls</td>\n      <td>1599150603</td>\n      <td>unknown</td>\n      <td>0.0</td>\n      <td>4.13</td>\n      <td>[]</td>\n      <td>Relates in vigorous prose the tale of Aeneas, ...</td>\n      <td>Paperback</td>\n      <td>https://s.gr-assets.com/assets/nophoto/book/11...</td>\n      <td>['3041852']</td>\n      <td>Yesterday's Classics</td>\n      <td>162.0</td>\n      <td>unknown</td>\n      <td>2006.0</td>\n      <td>46.0</td>\n    </tr>\n    <tr>\n      <th>7</th>\n      <td>6066812</td>\n      <td>All's Fairy in Love and War (Avalon: Web of Ma...</td>\n      <td>1934876569</td>\n      <td>unknown</td>\n      <td>0.0</td>\n      <td>4.22</td>\n      <td>['948696', '439885', '274955', '12978730', '37...</td>\n      <td>To Kara's astonishment, she discovers that a p...</td>\n      <td>Paperback</td>\n      <td>https://images.gr-assets.com/books/1316637798m...</td>\n      <td>['19158']</td>\n      <td>Seven Seas</td>\n      <td>216.0</td>\n      <td>unknown</td>\n      <td>2009.0</td>\n      <td>98.0</td>\n    </tr>\n    <tr>\n      <th>9</th>\n      <td>287149</td>\n      <td>The Devil's Notebook</td>\n      <td>0922915113</td>\n      <td>unknown</td>\n      <td>0.0</td>\n      <td>3.81</td>\n      <td>['287151', '1104760', '1172822', '440292', '28...</td>\n      <td>Wisdom, humor, and dark observations by the fo...</td>\n      <td>Paperback</td>\n      <td>https://images.gr-assets.com/books/1328768789m...</td>\n      <td>['2983296', '40075']</td>\n      <td>Feral House</td>\n      <td>147.0</td>\n      <td>unknown</td>\n      <td>2000.0</td>\n      <td>986.0</td>\n    </tr>\n  </tbody>\n</table>\n</div>"
     },
     "execution_count": 10,
     "metadata": {},
     "output_type": "execute_result"
    }
   ],
   "source": [
    "books.head(5)"
   ],
   "metadata": {
    "collapsed": false,
    "pycharm": {
     "name": "#%%\n"
    }
   }
  },
  {
   "cell_type": "code",
   "execution_count": 11,
   "outputs": [],
   "source": [
    "db = mysql.connector.connect(\n",
    "    host='localhost',\n",
    "    user='root',\n",
    "    password='111111',\n",
    "    database='mydb'\n",
    ")"
   ],
   "metadata": {
    "collapsed": false,
    "pycharm": {
     "name": "#%%\n"
    }
   }
  },
  {
   "cell_type": "code",
   "execution_count": 12,
   "outputs": [
    {
     "data": {
      "text/plain": "True"
     },
     "execution_count": 12,
     "metadata": {},
     "output_type": "execute_result"
    }
   ],
   "source": [
    "db.is_connected()"
   ],
   "metadata": {
    "collapsed": false,
    "pycharm": {
     "name": "#%%\n"
    }
   }
  },
  {
   "cell_type": "code",
   "execution_count": 14,
   "outputs": [],
   "source": [
    "cursor = db.cursor()"
   ],
   "metadata": {
    "collapsed": false,
    "pycharm": {
     "name": "#%%\n"
    }
   }
  },
  {
   "cell_type": "code",
   "execution_count": 18,
   "outputs": [],
   "source": [
    "# define the list of values\n",
    "values = books['format'].unique().tolist()\n",
    "\n",
    "# execute the REPLACE INTO statement for each value in the list\n",
    "for value in values:\n",
    "  sql = \"REPLACE INTO FORMAT (format) VALUES (%s)\"\n",
    "  cursor.execute(sql, (value,))\n"
   ],
   "metadata": {
    "collapsed": false,
    "pycharm": {
     "name": "#%%\n"
    }
   }
  },
  {
   "cell_type": "code",
   "execution_count": 19,
   "outputs": [],
   "source": [
    "# commit the changes to the database\n",
    "db.commit()"
   ],
   "metadata": {
    "collapsed": false,
    "pycharm": {
     "name": "#%%\n"
    }
   }
  },
  {
   "cell_type": "code",
   "execution_count": 20,
   "outputs": [],
   "source": [
    "# define the list of values\n",
    "values = books['language_code'].unique().tolist()\n",
    "\n",
    "# execute the REPLACE INTO statement for each value in the list\n",
    "for value in values:\n",
    "  sql = \"REPLACE INTO LANGUAGE (language) VALUES (%s)\"\n",
    "  cursor.execute(sql, (value,))\n"
   ],
   "metadata": {
    "collapsed": false,
    "pycharm": {
     "name": "#%%\n"
    }
   }
  },
  {
   "cell_type": "code",
   "execution_count": 21,
   "outputs": [],
   "source": [
    "# commit the changes to the database\n",
    "db.commit()"
   ],
   "metadata": {
    "collapsed": false,
    "pycharm": {
     "name": "#%%\n"
    }
   }
  },
  {
   "cell_type": "code",
   "execution_count": 24,
   "outputs": [
    {
     "data": {
      "text/plain": "[(1, 'Audio CD'),\n (2, 'Hardcover'),\n (3, 'Paperback'),\n (4, 'unknown'),\n (5, 'ebook'),\n (6, 'Board Book'),\n (7, 'Audio'),\n (8, 'Paperback Manga'),\n (9, 'Audiobook'),\n (10, 'Mass Market Paperback'),\n (11, 'Trade Paperback'),\n (12, 'Unknown Binding'),\n (13, 'MP3 CD'),\n (14, 'Unbound'),\n (15, 'pbk'),\n (16, 'Library Binding'),\n (17, 'Kindle Edition'),\n (18, 'Board book'),\n (19, 'Inbunden'),\n (20, 'Taschenbuch'),\n (21, 'Wen Ku'),\n (22, 'Boxed Set'),\n (23, 'Novelty Book'),\n (24, 'Audio Cassette'),\n (25, 'paperback'),\n (26, 'Leather Bound'),\n (27, 'hardback'),\n (28, 'hardcover'),\n (29, 'Brossura'),\n (30, 'Spiral-bound'),\n (31, 'Album'),\n (32, 'Tapa blanda con solapas'),\n (33, 'Capa Mole'),\n (34, 'Broche'),\n (35, 'Pamphlet'),\n (36, 'paperfomat'),\n (37, 'Gebunden'),\n (38, 'paperback B format 197mm x 128mm'),\n (39, 'Soft Cover'),\n (40, 'Large print'),\n (41, 'Preloaded Digital Audio Player'),\n (42, 'Audible Audio'),\n (43, 'Hardback'),\n (44, 'Trade'),\n (45, \"Audio CD's\"),\n (46, 'Audio Play'),\n (47, 'mass market'),\n (48, 'Livro de Bolso'),\n (49, 'Library Bound'),\n (50, 'Softcover'),\n (51, 'cloth'),\n (52, 'paper'),\n (53, 'Klappenbroschur'),\n (54, 'Large Print Paperback'),\n (55, 'Sony Reader'),\n (56, 'audio'),\n (57, 'softcover'),\n (58, 'Paperback - Large Print'),\n (59, 'Paper book'),\n (60, 'Hardcover with dust jacket'),\n (61, 'paperbook &amp; ebook'),\n (62, 'Livre ferme comme une boite'),\n (63, 'MP3 Book'),\n (64, 'Tverdyi pereplet (Hardcover)'),\n (65, 'Flexbound'),\n (66, 'newsprint stapled folio'),\n (67, 'Soft Cover Flap'),\n (68, 'PDF'),\n (69, 'Paperback , Ebook'),\n (70, 'trade paperback'),\n (71, 'Papeback'),\n (72, '106x180'),\n (73, 'Bath Book'),\n (74, 'Box'),\n (75, 'Graphic Novels'),\n (76, 'Nook'),\n (77, 'Turtleback'),\n (78, 'audio cassette'),\n (79, 'Gebundene Ausgabe'),\n (80, 'Slipcased Hardcover'),\n (81, 'e-book, digital format'),\n (82, 'E-book'),\n (83, 'Poetry'),\n (84, 'Other Format'),\n (85, 'MP3 Audiobook'),\n (86, 'Audio CD - Narrated by Campbell Scott'),\n (87, 'ePUB'),\n (88, 'HARDCOVER'),\n (89, 'Casebound'),\n (90, 'Online'),\n (91, 'Poche'),\n (92, 'pepabatsuku'),\n (93, 'Perfect Paperback'),\n (94, 'Flexcover'),\n (95, 'wzyry'),\n (96, 'a3'),\n (97, 'Tverdyi pereplet'),\n (98, 'Chapbook'),\n (99, 'Rustica'),\n (100, 'Pocketbook'),\n (101, 'Kindle edition and paperback'),\n (102, 'Saddle stitch'),\n (103, 'Tradepaperback'),\n (104, 'Capa Comum'),\n (105, 'book'),\n (106, 'Kindle Edition, Paperback'),\n (107, 'Planeta'),\n (108, 'Cards'),\n (109, 'Brochura'),\n (110, 'Pocket Paperback'),\n (111, 'Broschiert'),\n (112, 'Dwarsligger'),\n (113, 'CD-ROM'),\n (114, 'Hardcover glyngwr'),\n (115, 'Loose-Leaf'),\n (116, 'Soft cover'),\n (117, 'Tarot Deck &amp; Booklet'),\n (118, 'Bolsillo'),\n (119, 'Glf `dy'),\n (120, 'Tapa dura con sobrecubierta'),\n (121, 'audiobook'),\n (122, 'Flexible con solapas'),\n (123, 'Librino'),\n (124, 'Kindle, Paperback'),\n (125, 'Capa mole'),\n (126, 'Large Paperback'),\n (127, 'Cartone'),\n (128, 'Paperback w/DVD'),\n (129, 'Novelty'),\n (130, 'Paperback Box Set'),\n (131, 'Plastic Comb'),\n (132, 'Large Print'),\n (133, 'Paperback (8x10)'),\n (134, 'Export Trade Paperback'),\n (135, 'Staple bound'),\n (136, 'audio cd'),\n (137, 'Paperback with flaps'),\n (138, 'CreateSpace paperback, Mobipocket eBook, Amazon &quot;Kindle&quot;'),\n (139, 'capa dura'),\n (140, 'MP3 Audio'),\n (141, 'Digital Audio'),\n (142, 'Slipcase'),\n (143, 'Newsprint'),\n (144, 'Paperback + CD'),\n (145, 'Hardbound'),\n (146, 'Hard Cover edition'),\n (147, 'Kindle'),\n (148, 'Special Edition Mass Market Paperback'),\n (149, 'Paperback, 15 x 23 cm'),\n (150, 'Box Set'),\n (151, 'DVD'),\n (152, 'Over-sized Soft-cover'),\n (153, 'Illustrato, brossura'),\n (154, 'Paperback &amp; Hardcover'),\n (155, 'Pocket'),\n (156, 'Paperback and ebook'),\n (157, 'eBook'),\n (158, 'Playaway'),\n (159, 'Mass paperback'),\n (160, 'komitsuku'),\n (161, 'Mass Market'),\n (162, 'Misc. Supplies'),\n (163, 'Da Xing Ben'),\n (164, 'Xin Shu'),\n (165, 'School &amp; Library Binding'),\n (166, 'Library binding'),\n (167, 'Cloth Bound'),\n (168, 'Malaysian stories'),\n (169, 'Tapa flexible con solapas'),\n (170, 'Tarot Deck &amp; Book'),\n (171, 'Flexibound'),\n (172, 'Tapa blanda'),\n (173, 'Inbuden'),\n (174, 'Libro cartaceo'),\n (175, 'Digital Audio (Unabridged)'),\n (176, 'Novel'),\n (177, 'Dan Xing Ben'),\n (178, 'Paperback, e-book'),\n (179, 'E-book, digital format'),\n (180, 'broche'),\n (181, 'Either ebook or paperback'),\n (182, 'Hardcover, Slipcased'),\n (183, 'chapbook'),\n (184, 'Kovakantinen'),\n (185, 'Flexiback'),\n (186, 'Trade paperback'),\n (187, 'MP3'),\n (188, 'Hardcover with CD'),\n (189, 'Perfect Paperback Binding'),\n (190, 'Playaway Audiobook'),\n (191, 'Danskt band'),\n (192, 'Hardcover (Pew Edition)'),\n (193, 'Graphic Novel'),\n (194, 'e-book &amp; print'),\n (195, 'Twelve Audio Cassettes'),\n (196, 'PAPERBACK'),\n (197, 'mass market paperback'),\n (198, 'Book'),\n (199, 'Flipback'),\n (200, 'Picture/Flip Book'),\n (201, 'Reliure Peau'),\n (202, 'Paper'),\n (203, 'Hardcover - Large Print'),\n (204, 'ebook, paperback'),\n (205, 'Stripboek'),\n (206, 'Taskuformaat'),\n (207, 'Paperback &amp; ebook'),\n (208, 'Innbundet'),\n (209, 'Paperback &amp; Ebook'),\n (210, 'Paperback with CD'),\n (211, 'album'),\n (212, 'Paperback, Sewn Binding'),\n (213, 'Paperback, Nook Book, Kindle Edition'),\n (214, 'clouth-binding'),\n (215, 'Audio book'),\n (216, 'Poetry Chapbook'),\n (217, 'Paperback &amp; Hard cover'),\n (218, 'Copertina rigida'),\n (219, 'Magazine'),\n (220, 'Audio Cassette - Abridged'),\n (221, 'trade paper'),\n (222, 'Paperback, Kindle, Ebook, Audio'),\n (223, 'Large Hardcover'),\n (224, 'Paperback or online'),\n (225, 'Capa Dura'),\n (226, 'capa mole'),\n (227, '10 Compact Discs'),\n (228, 'Audio Playaway'),\n (229, 'paperback/e-book'),\n (230, 'Paperback, eBook'),\n (231, 'Leatherette Bound'),\n (232, 'Paperback, Kindle, and other e-book formats'),\n (233, 'soft cover'),\n (234, 'Rustico'),\n (235, 'Epub'),\n (236, 'Scout Book Pamphlet'),\n (237, 'Multiple Formats'),\n (238, 'Rag Book'),\n (239, 'Comic'),\n (240, 'Photobook'),\n (241, 'Broschur'),\n (242, 'rabendabutsukusu'),\n (243, 'Rilegato'),\n (244, 'Trade Paper'),\n (245, 'Paperback and Ebook'),\n (246, 'Ring-bound'),\n (247, 'Audible, USA Download'),\n (248, 'books'),\n (249, 'DVD/Pap/Cr edition'),\n (250, 'Hard cover, Soft cover, e-book'),\n (251, 'Electronic - ktb lktrwny'),\n (252, 'Hard Cover'),\n (253, 'Audiobook Unabridged'),\n (254, 'Copertina morbida con sovraccoperta'),\n (255, 'Paperback, ebook'),\n (256, 'ARC'),\n (257, 'Persian Poetry'),\n (258, 'Loose Leaf'),\n (259, \"Publisher's Binding\"),\n (260, 'Prestige'),\n (261, '(Paperback)'),\n (262, 'digital'),\n (263, 'picture book'),\n (264, 'Paperback and E-Book'),\n (265, 'Hard cover'),\n (266, 'Paperback and eBook'),\n (267, 'pocket'),\n (268, 'Premium Mass Market Paperback'),\n (269, 'Tarot Cards &amp; Booklet'),\n (270, 'poche'),\n (271, 'Hard Cover Novel'),\n (272, 'Book + CD'),\n (273, 'Rustica con solapas'),\n (274, '14x20 cm'),\n (275, 'Papperback'),\n (276, 'ebook, Paperback'),\n (277, 'Padded Hardback'),\n (278, 'Ringbound'),\n (279, 'Hardcover (Large Print)'),\n (280, 'Ruan Jing Zhuang'),\n (281, 'Spiral Bound'),\n (282, 'Hardcover / glyngwr - wzyry'),\n (283, 'Print/Kindle'),\n (284, 'Audible Download'),\n (285, 'Danskt Band'),\n (286, 'Saddle-stitched paperback'),\n (287, 'Paperback in Box'),\n (288, 'Hardback / Pasta dura'),\n (289, 'rq`y shmyz'),\n (290, 'Hardcover, Paperback, Kindle'),\n (291, 'ebook and paperback'),\n (292, 'poetry'),\n (293, 'DVD and coursebook'),\n (294, 'papberback'),\n (295, 'Brochure'),\n (296, 'comic'),\n (297, 'Audio CD - Abr'),\n (298, 'Print on Demand'),\n (299, 'hadokaba'),\n (300, 'Semi-poche'),\n (301, '6 Audio CDs'),\n (302, 'ebook and print'),\n (303, 'Paperback / eBook'),\n (304, 'Hardcover, Paperback'),\n (305, 'Tapa dura'),\n (306, 'Paperback, Kindle'),\n (307, 'Comic Book'),\n (308, 'Audio CD (Unabridged)'),\n (309, 'audio CD, unabridged'),\n (310, 'Paperback; Hardcover'),\n (311, 'Hardcover (Pop-Up Boxed Set)'),\n (312, 'Bookpaper'),\n (313, '20x13'),\n (314, 'Cartonne'),\n (315, 'Library Binding, Hardcover'),\n (316, 'Paperback and Kindle'),\n (317, 'audiobook (unabridged)'),\n (318, 'Digital MP3 Audiobook'),\n (319, 'Audiobook - MP3'),\n (320, 'Glf `dy, 28x20'),\n (321, 'Microsoft Reader'),\n (322, 'Library'),\n (323, 'Three-Ring'),\n (324, 'AudioBook'),\n (325, 'CD Audio'),\n (326, 'Slipcased hardcover (1-3)'),\n (327, 'Trade Paper back'),\n (328, 'paperbacks'),\n (329, 'Paperback and CD'),\n (330, 'Copertina morbida'),\n (331, 'MP3 Audible'),\n (332, 'cd'),\n (333, 'Paperback &amp; eBook'),\n (334, 'cassettes - unabridged'),\n (335, 'audio CD'),\n (336, 'Paperback + CD + DVD'),\n (337, '6x9 soft cover'),\n (338, 'ebook &amp; paperback'),\n (339, 'Paperbaci &amp; Ebook'),\n (340, 'Picture book'),\n (341, 'Hardcover, Large Print'),\n (342, 'OUT OF PRINT'),\n (343, 'Hardcover Slipcase'),\n (344, 'Paperback, kindle &amp; ebook.'),\n (345, 'CHAPBOOK'),\n (346, '6&quot; x 9&quot;, perfect bound'),\n (347, 'pop-up'),\n (348, '6 x 9'),\n (349, 'Audiobook, Unabridged'),\n (350, 'softback'),\n (351, 'softcovers'),\n (352, 'anime'),\n (353, 'Kindle Edition/ Paperback'),\n (354, 'Paperback, Graphic Novel'),\n (355, 'Mass Paper Back'),\n (356, 'kindle'),\n (357, 'Glf `dy, 21x21'),\n (358, 'Over-Sized 12&quot;W x 16&quot;H Hardcover'),\n (359, 'Paperback &amp; Kindle'),\n (360, 'E-book and Print'),\n (361, 'flexcover'),\n (362, 'Livro de papel'),\n (363, 'Hardcover + Audio CD'),\n (364, 'Paperback, Kindle, .pdf ebook'),\n (365, 'Unabridged Audiobook'),\n (366, 'A cookbook with a difference'),\n (367, '2 audio cassettes'),\n (368, 'paper back'),\n (369, 'Paperback/Kindle'),\n (370, 'Trade Cloth'),\n (371, 'paperback and ebook'),\n (372, 'Book Paper'),\n (373, 'Serial'),\n (374, 'Large Print Hardcover'),\n (375, 'hard cover'),\n (376, 'Audio Book'),\n (377, 'Paperback 22.4 x 15.2 x 1.6 cm'),\n (378, 'BD'),\n (379, 'livro de bolso'),\n (380, 'Seeds Of Civilization'),\n (381, 'Kartonnage'),\n (382, '(Pamphlet)'),\n (383, 'DVD, Course Guidebook'),\n (384, 'Paperpack Graphic Novels'),\n (385, 'MultiFormat eBook'),\n (386, 'Paperback with dust jacket'),\n (387, 'US Hardcover Edition'),\n (388, 'postcard book'),\n (389, 'Romance'),\n (390, 'Paperback 130x200'),\n (391, 'paperback perfect bound'),\n (392, 'Soft Cover with Clear Plastic Dust Jacket'),\n (393, 'ebook and Paperback'),\n (394, 'MIRA'),\n (395, '4 Videodiscs'),\n (396, 'Tapa Blanda'),\n (397, 'Tapa blanda sin solapas'),\n (398, 'ktb 10*20'),\n (399, 'miekka (paperback)'),\n (400, 'Paperback, e-Book'),\n (401, 'Deluxe Softcover'),\n (402, 'pop up book'),\n (403, 'Hardcover with DVD'),\n (404, 'Textbook Binding'),\n (405, 'Book + Cassette'),\n (406, 'epub'),\n (407, 'Paperback and e-book'),\n (408, 'Paperback, Audio CD'),\n (409, 'rq`y'),\n (410, 'Hardcover and CD'),\n (411, 'Capa mole - 155 x 235 mm'),\n (412, 'mass market Paperback'),\n (413, 'DVD-ROM'),\n (414, 'e book'),\n (415, 'Audio CD (Abr.)'),\n (416, 'Diary'),\n (417, 'Paperback w/ CD'),\n (418, 'paperback, ebook'),\n (419, 'VHS Tape'),\n (420, 'coloring book'),\n (421, 'Book on CD'),\n (422, 'Pehmeakantinen'),\n (423, 'Open Market Paperback'),\n (424, 'Flash Movie Webcast'),\n (425, 'Hardcover book-plus product'),\n (426, 'eAudiobook'),\n (427, 'PDB'),\n (428, \"4 DVD's and 2 Coursebooks\"),\n (429, 'Paper back'),\n (430, 'Softback'),\n (431, 'PDF DIGITAL EDITION'),\n (432, '824 pp'),\n (433, 'unabridged audio download'),\n (434, 'Bound, Hardcover'),\n (435, 'Fiction Chapbook'),\n (436, 'POche'),\n (437, 'Clothbound'),\n (438, 'Relie'),\n (439, 'handbound perfect binding'),\n (440, 'Soft Cover [Dan Xing Ben ]'),\n (441, 'Paperback, Kindle eBook'),\n (442, 'Leather-finish bound'),\n (443, 'HardCover'),\n (444, 'CBR - Comic Book Reader'),\n (445, 'Spillato'),\n (446, 'Trade Paperbck'),\n (447, 'Pamphlets in sleeve'),\n (448, 'Audio CD - Narrated by Lily Rabe'),\n (449, 'Big Book'),\n (450, 'Spiral Bound Paperback'),\n (451, 'Manga Box'),\n (452, 'Cloth'),\n (453, 'pdf'),\n (454, 'glyngwr'),\n (455, 'Graphic novel'),\n (456, 'Paperback with Cassette'),\n (457, 'Radio Play'),\n (458, 'Hardcover/Paperback'),\n (459, 'Hardcover-LP'),\n (460, 'Special Size'),\n (461, 'Paperback with DVD'),\n (462, 'Hardcover with hidden spiral'),\n (463, 'Paperbook, Ebook'),\n (464, 'Paper Back'),\n (465, 'Paperback, Ebook'),\n (466, 'Hardcover [LARGE PRINT]'),\n (467, 'Radio Drama'),\n (468, 'PDF eBook'),\n (469, 'Ebook with Audio/Video'),\n (470, 'Preloaded Digital Player'),\n (471, 'fiction'),\n (472, 'paperback, Ebook'),\n (473, 'Hardcover Spiral-bound'),\n (474, 'DVD NTSC'),\n (475, '8.5&quot; x 11&quot;, perfect binding, black and white interior ink'),\n (476, 'Flex-Bind'),\n (477, 'Artpaper'),\n (478, 'mass paperback'),\n (479, 'B6'),\n (480, 'Linen-bound Softcover'),\n (481, 'Abriged Audio CD'),\n (482, 'Hardcover &amp; eBook'),\n (483, 'Webtoon'),\n (484, 'frsy nglysy glsh / landScap'),\n (485, 'Audio CD -- Unabridged'),\n (486, 'Audio CD (unabridged)'),\n (487, 'toy'),\n (488, 'Bolso'),\n (489, 'Artbook'),\n (490, 'brochura'),\n (491, 'Laminated Paperback'),\n (492, 'paper book'),\n (493, 'TruTone'),\n (494, 'Ring binder'),\n (495, 'papel'),\n (496, 'TPB'),\n (497, '16 pp concertina binding'),\n (498, 'Cards accompanied by a booklet'),\n (499, 'Tarot Cards &amp; Book Set'),\n (500, 'Wire-O binding'),\n (501, 'Imitation Leather'),\n (502, 'e-book and trade paperback'),\n (503, 'Softcover album'),\n (504, 'Hard Copy'),\n (505, 'MP3 Download'),\n (506, 'Chapbook/Pamphlet'),\n (507, '10 Audio CDs'),\n (508, 'game'),\n (509, 'comic book'),\n (510, 'Paperback and EBook'),\n (511, 'Board'),\n (512, 'Pop-up'),\n (513, 'Paperback, 21 x 29 cm'),\n (514, 'Covercraft'),\n (515, 'miekka (paperback), 142 x 202 mm'),\n (516, 'Card Book'),\n (517, 'Hardcover/Trade paper'),\n (518, '11x18'),\n (519, 'Storpocket'),\n (520, 'mjlWdn'),\n (521, \"Audio Cassette Narrated by Madeleine L'Engle\"),\n (522, 'Clothbound Hardback'),\n (523, 'school binding'),\n (524, 'rustica'),\n (525, 'Paper &amp; Ebook'),\n (526, 'Paperback &amp; Audio CD'),\n (527, 'compilation'),\n (528, 'tapa blanda'),\n (529, 'Print on Demand Paperback'),\n (530, 'Library Edition'),\n (531, 'Perfect-Bound'),\n (532, 'Hardcover, Sewn Binding, Paper Dust Jacket'),\n (533, 'Hardcover and Paperback'),\n (534, 'Saddle Stitch'),\n (535, 'Book and DVD'),\n (536, 'B Format Paperback'),\n (537, 'Vinyl Cover'),\n (538, 'FC'),\n (539, 'Cloth Hardcover'),\n (540, 'Deluxe Flexicover'),\n (541, 'Paperpack'),\n (542, 'Advance Reader Copy'),\n (543, 'Paperback, photos, color insert'),\n (544, 'pocket paperback'),\n (545, 'Unabriged Audio CD'),\n (546, 'Playaway digital media player'),\n (547, 'Audio CD + ebook'),\n (548, 'Paperback, 13.5 x 21 cm'),\n (549, 'UK paperback'),\n (550, '6 x 9 paperback'),\n (551, '20x12cm'),\n (552, 'Kindle, Nook, and Print'),\n (553, 'Gekartonneerd'),\n (554, 'Vinyl'),\n (555, '13x20 cm'),\n (556, 'Bolsillo con solapas'),\n (557, 'Mass market paperback'),\n (558, 'Audio CD-Narrated by Oliver Wyman'),\n (559, 'Hardcover, ebook'),\n (560, 'Oversized Paperback'),\n (561, 'Large Type'),\n (562, 'Kindle and Paperback'),\n (563, 'Pre-recorded MP3 player'),\n (564, 'Boardbook'),\n (565, 'Paperback, Hardcover'),\n (566, 'Capa mole - 15 x 23 x 3 cm'),\n (567, 'Slipcase Hardcover'),\n (568, 'Print and ebook'),\n (569, 'Econo-clad'),\n (570, 'DVD + paperback'),\n (571, 'NOOKbook/ BN ebook'),\n (572, 'Grapa'),\n (573, 'Hardcover + 2 CDs'),\n (574, 'Paperback graphic novel'),\n (575, 'Paperback Bunko'),\n (576, 'Pdf e-book and Paperback'),\n (577, '15 x 17cm'),\n (578, 'Saddle stitched'),\n (579, '13 x 19 cm'),\n (580, \"Collector's Edition\"),\n (581, 'Bound, Paperback'),\n (582, \"Book and 4 CD's\"),\n (583, 'Storygraph'),\n (584, 'Heftet'),\n (585, 'Hardcover, Paper Dust Jacket'),\n (586, 'Paperback 16/24'),\n (587, 'Paperbound Chapbook'),\n (588, 'Paperback / shwmyz'),\n (589, 'MOBI, EPUB, PDF'),\n (590, 'Paperback, Paper Dust Jacket'),\n (591, 'fydybw'),\n (592, 'box set'),\n (593, 'Bonded Leather'),\n (594, 'Cartone con sobrecubierta'),\n (595, 'Tarot Cards &amp; Book'),\n (596, 'Stapled'),\n (597, 'brochado'),\n (598, 'Unabridged CD'),\n (599, 'Paper, Hardcover'),\n (600, 'Bolso, capa mole (16,8cmx11cm)'),\n (601, 'Paperbacks'),\n (602, 'Capa mole - 16 x 24 x 1,5 cm'),\n (603, 'Mixed media product - Hardcover and CDs'),\n (604, 'Tarot Deck and Booklet'),\n (605, 'Illustrated Book and CD Set'),\n (606, 'novel'),\n (607, 'Boxed Set - Hardcover'),\n (608, 'Hardcover, Multimedia Book &amp; CD Set'),\n (609, 'NOOK Book'),\n (610, 'perfect bound'),\n (611, 'online fiction'),\n (612, 'cetak ulang ganti cover'),\n (613, 'Prebound'),\n (614, 'Paperback, Kindle, Nook, iBook'),\n (615, 'DVD (NTSC)'),\n (616, 'Hardcover + CD'),\n (617, 'Bookprint'),\n (618, 'Pop Up Book'),\n (619, 'Paperback + Audio CD'),\n (620, 'paper back and kindle'),\n (621, 'Saddle-stitched'),\n (622, 'paperback, hardcover, e-book'),\n (623, 'Uncorrected Proof'),\n (624, '17x23'),\n (625, 'zine'),\n (626, '6 Audio Cassettes'),\n (627, 'Hardcover, Paperback, Digital'),\n (628, 'Paperback with Audio CD'),\n (629, 'paperback, kindle'),\n (630, 'Hardcover Boxed Set'),\n (631, 'ePub'),\n (632, 'Laser Disc'),\n (633, 'Book Club Omnibus'),\n (634, 'Paperback with CD Rom'),\n (635, 'Picture Book'),\n (636, 'Music Score'),\n (637, 'Box set with Cards'),\n (638, 'Hardcover Picture Book'),\n (639, 'Leather Bound, Brown'),\n (640, 'Grapic Novel'),\n (641, 'Hardcover Box Set'),\n (642, 'Quadrat'),\n (643, 'Nook Edition'),\n (644, 'Paperback Printing'),\n (645, 'Paper-bound Softcover'),\n (646, 'Prestige One-Shot'),\n (647, 'Paperback - UK'),\n (648, 'paperback, e-book'),\n (649, 'Pocket Edition'),\n (650, 'Bolsillo con sobrecubierta'),\n (651, 'paperback, KIndle, ebook pdf'),\n (652, 'Audio CD [Unabridged]'),\n (653, 'Bolsigrapa'),\n (654, 'Pocket Book'),\n (655, 'Bound paperback'),\n (656, 'geheftet'),\n (657, 'Hardcover + CD rom'),\n (658, 'Hardcover in slipcase'),\n (659, '20 Audio CDs'),\n (660, 'Audio  [With Earbuds]'),\n (661, 'Box-Fold-Out'),\n (662, 'Hardcover - Deluxe Illustrated Edition'),\n (663, '[pack].'),\n (664, 'cartonne'),\n (665, 'Ebook'),\n (666, 'Papreback'),\n (667, 'PDF Format'),\n (668, 'Trade Paperback - hardback'),\n (669, 'jacket'),\n (670, 'E - PDF'),\n (671, 'Newspaper'),\n (672, 'Crime and Investigation'),\n (673, 'Demy'),\n (674, 'Zine'),\n (675, 'Kleinoktav-Format'),\n (676, 'Paperback, Perfect Bound'),\n (677, 'Audio CD (Unabr.)'),\n (678, '8&quot; x 10&quot; Softcover'),\n (679, 'audiobook mp3'),\n (680, 'Downloadable Audio File'),\n (681, 'Dutch binding'),\n (682, 'Livro de bolso'),\n (683, 'Brochura (Paperback)'),\n (684, 'Half hardcover'),\n (685, 'teeny tiny hardcover'),\n (686, 'Exhibition Pamphlet'),\n (687, 'Large Format  Magazine'),\n (688, 'PB'),\n (689, 'paperback ARC'),\n (690, 'Boxed set'),\n (691, 'audiocassette'),\n (692, 'B'),\n (693, 'softcover monograph'),\n (694, '14x21 cm'),\n (695, 'Oversized Slipcased Hardcover'),\n (696, 'CD'),\n (697, 'TB 13,1 x 2 x 19 cm'),\n (698, 'Graphic Anthology'),\n (699, 'Print &amp; Ebook'),\n (700, 'Pop-Up Book'),\n (701, 'Saddle Stitch  Chapbook'),\n (702, 'Game'),\n (703, 'Book + Audio Cassette'),\n (704, 'Advance Uncorrected Proof'),\n (705, 'ebook, paperback, Audible audio'),\n (706, 'tascabile'),\n (707, 'Rilegato in seta'),\n (708, 'Flexi-cover binding'),\n (709, 'Perfect Bound'),\n (710, 'bolsillo'),\n (711, 'vazana vazba'),\n (712, 'leatherbound'),\n (713, 'data-CD'),\n (714, 'Pictorial Book'),\n (715, 'online'),\n (716, 'Kindle Edition and Paper Back'),\n (717, 'Book, additional audio'),\n (718, 'Hardcover, eBook'),\n (719, 'board book'),\n (720, 'Trade paperback &amp; ebook'),\n (721, 'eBook, paperback'),\n (722, 'Livre-CD'),\n (723, 'Audiobook - Audible Download'),\n (724, 'ebook, cd or download +30 mb,    17,000 wds'),\n (725, 'Paperback + 1 audio CD'),\n (726, 'Comic book'),\n (727, 'paperback, Kindle'),\n (728, 'dwrh dw jldy'),\n (729, 'Paperback (Large Print)'),\n (730, 'oversized paperback'),\n (731, 'Textbook'),\n (732, 'Trade paperback, ebook'),\n (733, 'Stample bound'),\n (734, '3-ring Binder'),\n (735, 'fq'),\n (736, 'box with loose sheets'),\n (737, 'Foam Book'),\n (738, 'Paperback, Hard Cover, E-book'),\n (739, 'katoniert'),\n (740, 'Article'),\n (741, 'Paperback, Kindle Edition'),\n (742, 'Soft Cover (Flap Cover)'),\n (743, 'Spiral Binding in Hardcover'),\n (744, 'Sheet music'),\n (745, 'hardback, ebook'),\n (746, 'Digital Comic'),\n (747, 'Mixed Media'),\n (748, '2 CD-ROMs'),\n (749, 'Book + cd'),\n (750, 'Binder-Bound'),\n (751, 'Book, DVD, CD, Cards, Glass Healing Crystal'),\n (752, 'Kindle, Paperback, Ebook'),\n (753, 'School And Library Binding'),\n (754, 'Paperback with deck of cards'),\n (755, 'Paperback (Miagkaia oblozhka)'),\n (756, 'Paperback, Kindle, Audio'),\n (757, 'Plastic Comb/Paperback'),\n (758, 'Electronic, Paperback'),\n (759, 'Plastic-comb bound hardcover'),\n (760, 'Print on Demand (Paperback)'),\n (761, 'Bolsillo en tapa dura'),\n (762, 'Paperback / Digital'),\n (763, 'Trade papaerback'),\n (764, 'graphic novel'),\n (765, 'Audio Cassette (Libr.) (Unabr.)'),\n (766, 'Downloadable audio file'),\n (767, 'Full Color Paperback'),\n (768, 'Book and Toy'),\n (769, 'book and kindle'),\n (770, 'Audio CD - Narrated by Bill Bryson'),\n (771, 'Downloadable Audiobook'),\n (772, 'Cofanetto'),\n (773, 'Audio Cassette - Unabridged'),\n (774, 'Playaway edition'),\n (775, 'sew-bound'),\n (776, 'Print'),\n (777, 'Graphic Novel Paperback'),\n (778, 'Hardocover'),\n (779, 'Sewn paperback with dust jacket'),\n (780, 'Paper cover'),\n (781, 'chrome'),\n (782, 'Audio CD [Abridged]'),\n (783, 'Haeftet'),\n (784, 'Audible MP3 Download'),\n (785, 'Perfect paperback'),\n (786, 'Boxed Collection'),\n (787, 'Flexibler Einband'),\n (788, 'paperback,e-book, audio'),\n (789, 'Livro de Bolso: Pocket Book'),\n (790, 'Plastic'),\n (791, 'Paperback + 2 CDs'),\n (792, 'UK Paperback'),\n (793, 'Softback with gatefold'),\n (794, 'Printed'),\n (795, 'tjlyd fny'),\n (796, 'Abridged Board Book'),\n (797, 'print, perfect binding'),\n (798, 'Paperback Guide with 2 Audio CDs'),\n (799, 'brosiran'),\n (800, 'Advanced Reader Copy'),\n (801, 'eBook and softcover'),\n (802, 'Hardcover + Audiobook'),\n (803, 'Paperback School &amp; Library Binding'),\n (804, 'Livro de Bolso (Pocket Book)'),\n (805, 'Playaway audio book'),\n (806, 'e book Print'),\n (807, \"Advance Reader's Copy\"),\n (808, 'Wattpad'),\n (809, 'Economico'),\n (810, 'black bonded leather'),\n (811, 'Graphic Paperback'),\n (812, 'novelty book'),\n (813, 'Abriged Unknown Binding'),\n (814, 'Glf `dy, 21x14'),\n (815, 'Mass-market paperback'),\n (816, 'Abridged Audio CD - Narrated by Deanna Hurst'),\n (817, 'Bande dessinee'),\n (818, 'Tankobon'),\n (819, 'Bound, eBook'),\n (820, 'Plushie'),\n (821, 'Softcover with Flap'),\n (822, 'Hardcover, Paperback, Ebook'),\n (823, 'mjmw`h dstn'),\n (824, 'Grand format'),\n (825, 'paperpack'),\n (826, 'Softbond'),\n (827, 'Paperback, Mobipocket and Amazon &quot;Kindle&quot; ebook'),\n (828, 'Paperback and Kindle Edition'),\n (829, 'paper; 448pp'),\n (830, 'Paperback, Kindle, ibook'),\n (831, 'Paperback+CD'),\n (832, 'Abriged Audio Cassette'),\n (833, 'Leinengebunden'),\n (834, 'Hardcover Art and Poetry Gift Book'),\n (835, 'Paperback + DVD set'),\n (836, 'Paperback in Hard Sleeve'),\n (837, 'Hardcover Pop-Up'),\n (838, 'Hardcover 21,4 x 21,4 x 1,4 cm'),\n (839, 'Encuadernacion rustica'),\n (840, 'Custodia'),\n (841, 'Print and Download'),\n (842, 'Audio Download'),\n (843, 'Other'),\n (844, 'Kindle Edition &amp; Paperback'),\n (845, 'Stapled, unpaginated chapbook'),\n (846, 'Text/Workbook'),\n (847, 'Bolsilibro'),\n (848, 'Paperback and Kindle eBook'),\n (849, 'Soft Cover 512 pages'),\n (850, 'Trade Edition'),\n (851, 'Paperback/Hardback'),\n (852, 'Deck of Oracle Cards'),\n (853, 'Paperback+DvD'),\n (854, 'Poetry chapbook'),\n (855, 'Unknown'),\n (856, 'electronic &amp; print'),\n (857, 'eAudio'),\n (858, 'paperback and Kindle'),\n (859, '5 audio cds'),\n (860, '5 audio cassette'),\n (861, 'Paperback, eBook, Audible'),\n (862, '70x90/32'),\n (863, 'kartoniert'),\n (864, 'shwmyz/paperback'),\n (865, 'Hardcover plus bonus VCD'),\n (866, 'Paper-pound Hardcover'),\n (867, 'Tverdyi pereplet/cloth'),\n (868, 'Hardcover im Schuber'),\n (869, 'Graphic Novel Trade Hardcover'),\n (870, 'Kindle Edition and Trade Paperback'),\n (871, 'paperback, Kindle eBook'),\n (872, 'Light Novel'),\n (873, 'eBook and Hardcover'),\n (874, 'Library bound'),\n (875, 'Hardcover w/cd'),\n (876, 'PA'),\n (877, 'Exhibition Catalogue'),\n (878, 'saddle-stitched'),\n (879, '78 Card Tarot Deck'),\n (880, 'Taschenbuch; kindle edition'),\n (881, 'Rilegato Lino'),\n (882, 'Hardcovver'),\n (883, 'historical fiction--young adult'),\n (884, 'eJournal')]"
     },
     "execution_count": 24,
     "metadata": {},
     "output_type": "execute_result"
    }
   ],
   "source": [
    "cursor.execute(\"SELECT idFormat, format FROM FORMAT\")\n",
    "results = cursor.fetchall()\n",
    "results"
   ],
   "metadata": {
    "collapsed": false,
    "pycharm": {
     "name": "#%%\n"
    }
   }
  },
  {
   "cell_type": "code",
   "execution_count": 25,
   "outputs": [
    {
     "data": {
      "text/plain": "    book_id                                              title        isbn   \n1   1333909                                        Good Harbor  0743509986  \\\n3   6066819                               Best Friends Forever  0743294297   \n5    287141                      The Aeneid for Boys and Girls  1599150603   \n7   6066812  All's Fairy in Love and War (Avalon: Web of Ma...  1934876569   \n9    287149                               The Devil's Notebook  0922915113   \n10  6066814          Crowner Royal (Crowner John Mystery, #13)  184737297X   \n12    89371                                   The Te Of Piglet  0413675106   \n15    89375  90 Minutes in Heaven: A True Story of Death an...  0800759494   \n16    89376                                             Heaven  0842379428   \n17    89377                                  Penny from Heaven  037583687X   \n\n   language_code  is_ebook  average_rating   \n1        unknown       0.0            3.23  \\\n3            eng       0.0            3.49   \n5        unknown       0.0            4.13   \n7        unknown       0.0            4.22   \n9        unknown       0.0            3.81   \n10       unknown       0.0            3.93   \n12       unknown       0.0            3.81   \n15       unknown       0.0            3.91   \n16           eng       0.0            4.26   \n17       unknown       0.0            3.98   \n\n                                        similar_books   \n1   ['8709549', '17074050', '28937', '158816', '22...  \\\n3   ['6604176', '6054190', '2285777', '82641', '75...   \n5                                                  []   \n7   ['948696', '439885', '274955', '12978730', '37...   \n9   ['287151', '1104760', '1172822', '440292', '28...   \n10  ['439108', '522621', '116770', '1275927', '620...   \n12  ['888460', '734023', '147311', '219106', '3139...   \n15  ['299795', '8100288', '7570892', '53817', '121...   \n16  ['45366', '246849', '11096385', '19102466', '7...   \n17  ['614054', '272343', '824934', '581383', '9359...   \n\n                                          description     format   \n1   Anita Diamant's international bestseller \"The ...   Audio CD  \\\n3   Addie Downs and Valerie Adler were eight when ...  Hardcover   \n5   Relates in vigorous prose the tale of Aeneas, ...  Paperback   \n7   To Kara's astonishment, she discovers that a p...  Paperback   \n9   Wisdom, humor, and dark observations by the fo...  Paperback   \n10  London, 1196. At the command of Richard the Li...  Hardcover   \n12  Taoist philosophy explained using examples fro...    unknown   \n15  As he is driving home from a minister's confer...    unknown   \n16  What is Heaven really going to be like? What w...    unknown   \n17  It's 1953 and 11-year-old Penny dreams of a su...  Hardcover   \n\n                                            cover_img                author   \n1   https://s.gr-assets.com/assets/nophoto/book/11...            ['626222']  \\\n3   https://s.gr-assets.com/assets/nophoto/book/11...              ['9212']   \n5   https://s.gr-assets.com/assets/nophoto/book/11...           ['3041852']   \n7   https://images.gr-assets.com/books/1316637798m...             ['19158']   \n9   https://images.gr-assets.com/books/1328768789m...  ['2983296', '40075']   \n10  https://images.gr-assets.com/books/1328724803m...             ['37778']   \n12  https://s.gr-assets.com/assets/nophoto/book/11...             ['27397']   \n15  https://s.gr-assets.com/assets/nophoto/book/11...    ['39054', '11099']   \n16  https://images.gr-assets.com/books/1406508230m...              ['4862']   \n17  https://images.gr-assets.com/books/1320470906m...            ['137561']   \n\n                               publisher  num_pages edition_information   \n1                 Simon & Schuster Audio       -1.0            Abridged  \\\n3                            Atria Books      368.0             unknown   \n5                   Yesterday's Classics      162.0             unknown   \n7                             Seven Seas      216.0             unknown   \n9                            Feral House      147.0             unknown   \n10                   Simon & Schuster UK      400.0             unknown   \n12                               unknown       -1.0             unknown   \n15                               unknown       -1.0             unknown   \n16                               unknown      533.0             unknown   \n17  Random House Books for Young Readers      288.0             unknown   \n\n    publication_year  ratings_count  format_code  \n1             2001.0           10.0            1  \n3             2009.0        51184.0            2  \n5             2006.0           46.0            3  \n7             2009.0           98.0            3  \n9             2000.0          986.0            3  \n10            2009.0          186.0            2  \n12              -1.0           11.0            4  \n15              -1.0        68157.0            4  \n16              -1.0         7345.0            4  \n17            2006.0         6949.0            2  ",
      "text/html": "<div>\n<style scoped>\n    .dataframe tbody tr th:only-of-type {\n        vertical-align: middle;\n    }\n\n    .dataframe tbody tr th {\n        vertical-align: top;\n    }\n\n    .dataframe thead th {\n        text-align: right;\n    }\n</style>\n<table border=\"1\" class=\"dataframe\">\n  <thead>\n    <tr style=\"text-align: right;\">\n      <th></th>\n      <th>book_id</th>\n      <th>title</th>\n      <th>isbn</th>\n      <th>language_code</th>\n      <th>is_ebook</th>\n      <th>average_rating</th>\n      <th>similar_books</th>\n      <th>description</th>\n      <th>format</th>\n      <th>cover_img</th>\n      <th>author</th>\n      <th>publisher</th>\n      <th>num_pages</th>\n      <th>edition_information</th>\n      <th>publication_year</th>\n      <th>ratings_count</th>\n      <th>format_code</th>\n    </tr>\n  </thead>\n  <tbody>\n    <tr>\n      <th>1</th>\n      <td>1333909</td>\n      <td>Good Harbor</td>\n      <td>0743509986</td>\n      <td>unknown</td>\n      <td>0.0</td>\n      <td>3.23</td>\n      <td>['8709549', '17074050', '28937', '158816', '22...</td>\n      <td>Anita Diamant's international bestseller \"The ...</td>\n      <td>Audio CD</td>\n      <td>https://s.gr-assets.com/assets/nophoto/book/11...</td>\n      <td>['626222']</td>\n      <td>Simon &amp; Schuster Audio</td>\n      <td>-1.0</td>\n      <td>Abridged</td>\n      <td>2001.0</td>\n      <td>10.0</td>\n      <td>1</td>\n    </tr>\n    <tr>\n      <th>3</th>\n      <td>6066819</td>\n      <td>Best Friends Forever</td>\n      <td>0743294297</td>\n      <td>eng</td>\n      <td>0.0</td>\n      <td>3.49</td>\n      <td>['6604176', '6054190', '2285777', '82641', '75...</td>\n      <td>Addie Downs and Valerie Adler were eight when ...</td>\n      <td>Hardcover</td>\n      <td>https://s.gr-assets.com/assets/nophoto/book/11...</td>\n      <td>['9212']</td>\n      <td>Atria Books</td>\n      <td>368.0</td>\n      <td>unknown</td>\n      <td>2009.0</td>\n      <td>51184.0</td>\n      <td>2</td>\n    </tr>\n    <tr>\n      <th>5</th>\n      <td>287141</td>\n      <td>The Aeneid for Boys and Girls</td>\n      <td>1599150603</td>\n      <td>unknown</td>\n      <td>0.0</td>\n      <td>4.13</td>\n      <td>[]</td>\n      <td>Relates in vigorous prose the tale of Aeneas, ...</td>\n      <td>Paperback</td>\n      <td>https://s.gr-assets.com/assets/nophoto/book/11...</td>\n      <td>['3041852']</td>\n      <td>Yesterday's Classics</td>\n      <td>162.0</td>\n      <td>unknown</td>\n      <td>2006.0</td>\n      <td>46.0</td>\n      <td>3</td>\n    </tr>\n    <tr>\n      <th>7</th>\n      <td>6066812</td>\n      <td>All's Fairy in Love and War (Avalon: Web of Ma...</td>\n      <td>1934876569</td>\n      <td>unknown</td>\n      <td>0.0</td>\n      <td>4.22</td>\n      <td>['948696', '439885', '274955', '12978730', '37...</td>\n      <td>To Kara's astonishment, she discovers that a p...</td>\n      <td>Paperback</td>\n      <td>https://images.gr-assets.com/books/1316637798m...</td>\n      <td>['19158']</td>\n      <td>Seven Seas</td>\n      <td>216.0</td>\n      <td>unknown</td>\n      <td>2009.0</td>\n      <td>98.0</td>\n      <td>3</td>\n    </tr>\n    <tr>\n      <th>9</th>\n      <td>287149</td>\n      <td>The Devil's Notebook</td>\n      <td>0922915113</td>\n      <td>unknown</td>\n      <td>0.0</td>\n      <td>3.81</td>\n      <td>['287151', '1104760', '1172822', '440292', '28...</td>\n      <td>Wisdom, humor, and dark observations by the fo...</td>\n      <td>Paperback</td>\n      <td>https://images.gr-assets.com/books/1328768789m...</td>\n      <td>['2983296', '40075']</td>\n      <td>Feral House</td>\n      <td>147.0</td>\n      <td>unknown</td>\n      <td>2000.0</td>\n      <td>986.0</td>\n      <td>3</td>\n    </tr>\n    <tr>\n      <th>10</th>\n      <td>6066814</td>\n      <td>Crowner Royal (Crowner John Mystery, #13)</td>\n      <td>184737297X</td>\n      <td>unknown</td>\n      <td>0.0</td>\n      <td>3.93</td>\n      <td>['439108', '522621', '116770', '1275927', '620...</td>\n      <td>London, 1196. At the command of Richard the Li...</td>\n      <td>Hardcover</td>\n      <td>https://images.gr-assets.com/books/1328724803m...</td>\n      <td>['37778']</td>\n      <td>Simon &amp; Schuster UK</td>\n      <td>400.0</td>\n      <td>unknown</td>\n      <td>2009.0</td>\n      <td>186.0</td>\n      <td>2</td>\n    </tr>\n    <tr>\n      <th>12</th>\n      <td>89371</td>\n      <td>The Te Of Piglet</td>\n      <td>0413675106</td>\n      <td>unknown</td>\n      <td>0.0</td>\n      <td>3.81</td>\n      <td>['888460', '734023', '147311', '219106', '3139...</td>\n      <td>Taoist philosophy explained using examples fro...</td>\n      <td>unknown</td>\n      <td>https://s.gr-assets.com/assets/nophoto/book/11...</td>\n      <td>['27397']</td>\n      <td>unknown</td>\n      <td>-1.0</td>\n      <td>unknown</td>\n      <td>-1.0</td>\n      <td>11.0</td>\n      <td>4</td>\n    </tr>\n    <tr>\n      <th>15</th>\n      <td>89375</td>\n      <td>90 Minutes in Heaven: A True Story of Death an...</td>\n      <td>0800759494</td>\n      <td>unknown</td>\n      <td>0.0</td>\n      <td>3.91</td>\n      <td>['299795', '8100288', '7570892', '53817', '121...</td>\n      <td>As he is driving home from a minister's confer...</td>\n      <td>unknown</td>\n      <td>https://s.gr-assets.com/assets/nophoto/book/11...</td>\n      <td>['39054', '11099']</td>\n      <td>unknown</td>\n      <td>-1.0</td>\n      <td>unknown</td>\n      <td>-1.0</td>\n      <td>68157.0</td>\n      <td>4</td>\n    </tr>\n    <tr>\n      <th>16</th>\n      <td>89376</td>\n      <td>Heaven</td>\n      <td>0842379428</td>\n      <td>eng</td>\n      <td>0.0</td>\n      <td>4.26</td>\n      <td>['45366', '246849', '11096385', '19102466', '7...</td>\n      <td>What is Heaven really going to be like? What w...</td>\n      <td>unknown</td>\n      <td>https://images.gr-assets.com/books/1406508230m...</td>\n      <td>['4862']</td>\n      <td>unknown</td>\n      <td>533.0</td>\n      <td>unknown</td>\n      <td>-1.0</td>\n      <td>7345.0</td>\n      <td>4</td>\n    </tr>\n    <tr>\n      <th>17</th>\n      <td>89377</td>\n      <td>Penny from Heaven</td>\n      <td>037583687X</td>\n      <td>unknown</td>\n      <td>0.0</td>\n      <td>3.98</td>\n      <td>['614054', '272343', '824934', '581383', '9359...</td>\n      <td>It's 1953 and 11-year-old Penny dreams of a su...</td>\n      <td>Hardcover</td>\n      <td>https://images.gr-assets.com/books/1320470906m...</td>\n      <td>['137561']</td>\n      <td>Random House Books for Young Readers</td>\n      <td>288.0</td>\n      <td>unknown</td>\n      <td>2006.0</td>\n      <td>6949.0</td>\n      <td>2</td>\n    </tr>\n  </tbody>\n</table>\n</div>"
     },
     "execution_count": 25,
     "metadata": {},
     "output_type": "execute_result"
    }
   ],
   "source": [
    "# create a dictionary mapping each format name to its integer code\n",
    "format_dict = {name: code for code, name in results}\n",
    "\n",
    "# use the map function to encode the 'format' column in your dataframe\n",
    "books['format_code'] = books['format'].map(format_dict)\n",
    "books.head(10)"
   ],
   "metadata": {
    "collapsed": false,
    "pycharm": {
     "name": "#%%\n"
    }
   }
  },
  {
   "cell_type": "code",
   "execution_count": 26,
   "outputs": [
    {
     "data": {
      "text/plain": "[(1, 'unknown'),\n (2, 'eng'),\n (3, 'spa'),\n (4, 'en-US'),\n (5, 'ita'),\n (6, 'mon'),\n (7, 'fre'),\n (8, 'per'),\n (9, 'ara'),\n (10, 'lav'),\n (11, 'jpn'),\n (12, 'ger'),\n (13, 'kor'),\n (14, 'fin'),\n (15, 'en-GB'),\n (16, 'nl'),\n (17, 'tur'),\n (18, 'bul'),\n (19, 'zho'),\n (20, 'fil'),\n (21, 'por'),\n (22, 'nor'),\n (23, 'pol'),\n (24, 'ind'),\n (25, 'dan'),\n (26, 'swe'),\n (27, 'gre'),\n (28, 'en-CA'),\n (29, 'rus'),\n (30, 'slv'),\n (31, 'scr'),\n (32, 'heb'),\n (33, 'nob'),\n (34, 'mar'),\n (35, 'srp'),\n (36, 'pes'),\n (37, 'hun'),\n (38, 'est'),\n (39, 'ben'),\n (40, 'afr'),\n (41, 'mul'),\n (42, 'cze'),\n (43, 'cat'),\n (44, 'msa'),\n (45, 'kat'),\n (46, 'rum'),\n (47, 'mus'),\n (48, 'tam'),\n (49, 'ukr'),\n (50, 'bos'),\n (51, 'lit'),\n (52, 'enm'),\n (53, 'hin'),\n (54, 'isl'),\n (55, 'crh'),\n (56, 'es-MX'),\n (57, 'urd'),\n (58, 'tha'),\n (59, 'vie'),\n (60, 'tel'),\n (61, 'slo'),\n (62, 'nep'),\n (63, 'tgl'),\n (64, 'lat'),\n (65, 'mkd'),\n (66, 'mal'),\n (67, 'grc'),\n (68, 'nno'),\n (69, 'sin'),\n (70, 'glg'),\n (71, 'mlt'),\n (72, 'ada'),\n (73, '--'),\n (74, 'apa'),\n (75, 'dum'),\n (76, 'pt-BR'),\n (77, 'tut'),\n (78, 'frs'),\n (79, 'arg'),\n (80, 'ang'),\n (81, 'hye'),\n (82, 'vls'),\n (83, 'jav'),\n (84, 'tlh'),\n (85, 'aze'),\n (86, 'abk'),\n (87, 'gle'),\n (88, 'wel'),\n (89, 'guj'),\n (90, 'fao'),\n (91, 'kan'),\n (92, 'sqi'),\n (93, 'ace'),\n (94, 'oci'),\n (95, 'ast'),\n (96, 'eus'),\n (97, 'elx'),\n (98, 'dyu'),\n (99, 'sco'),\n (100, 'che'),\n (101, 'nld'),\n (102, 'raj'),\n (103, 'nqo'),\n (104, 'sun'),\n (105, 'cor'),\n (106, 'gsw'),\n (107, 'gmh'),\n (108, 'gla'),\n (109, 'egy'),\n (110, 'fiu'),\n (111, 'phi'),\n (112, 'frm'),\n (113, 'hat'),\n (114, 'awa'),\n (115, 'ava'),\n (116, 'swa'),\n (117, 'krl'),\n (118, 'peo'),\n (119, 'ota'),\n (120, 'dua'),\n (121, 'kur'),\n (122, 'ori'),\n (123, 'en-IN'),\n (124, 'epo'),\n (125, 'wak'),\n (126, 'vec'),\n (127, 'fan'),\n (128, 'yid'),\n (129, 'gem'),\n (130, 'scn'),\n (131, 'dut'),\n (132, 'myv'),\n (133, 'nav'),\n (134, 'roa'),\n (135, 'bam'),\n (136, 'kir'),\n (137, 'ira'),\n (138, 'ale'),\n (139, 'kau'),\n (140, 'bel'),\n (141, 'haw'),\n (142, 'hmn'),\n (143, 'aus'),\n (144, 'iba'),\n (145, 'fro'),\n (146, 'ave'),\n (147, 'ton'),\n (148, 'mya'),\n (149, 'pan'),\n (150, 'sot'),\n (151, 'anp'),\n (152, 'ady'),\n (153, 'ilo'),\n (154, 'zap'),\n (155, 'lao')]"
     },
     "execution_count": 26,
     "metadata": {},
     "output_type": "execute_result"
    }
   ],
   "source": [
    "cursor.execute(\"SELECT idLanguage, language FROM LANGUAGE\")\n",
    "results = cursor.fetchall()\n",
    "results"
   ],
   "metadata": {
    "collapsed": false,
    "pycharm": {
     "name": "#%%\n"
    }
   }
  },
  {
   "cell_type": "code",
   "execution_count": 27,
   "outputs": [
    {
     "data": {
      "text/plain": "    book_id                                              title        isbn   \n1   1333909                                        Good Harbor  0743509986  \\\n3   6066819                               Best Friends Forever  0743294297   \n5    287141                      The Aeneid for Boys and Girls  1599150603   \n7   6066812  All's Fairy in Love and War (Avalon: Web of Ma...  1934876569   \n9    287149                               The Devil's Notebook  0922915113   \n10  6066814          Crowner Royal (Crowner John Mystery, #13)  184737297X   \n12    89371                                   The Te Of Piglet  0413675106   \n15    89375  90 Minutes in Heaven: A True Story of Death an...  0800759494   \n16    89376                                             Heaven  0842379428   \n17    89377                                  Penny from Heaven  037583687X   \n\n   language_code  is_ebook  average_rating   \n1        unknown       0.0            3.23  \\\n3            eng       0.0            3.49   \n5        unknown       0.0            4.13   \n7        unknown       0.0            4.22   \n9        unknown       0.0            3.81   \n10       unknown       0.0            3.93   \n12       unknown       0.0            3.81   \n15       unknown       0.0            3.91   \n16           eng       0.0            4.26   \n17       unknown       0.0            3.98   \n\n                                        similar_books   \n1   ['8709549', '17074050', '28937', '158816', '22...  \\\n3   ['6604176', '6054190', '2285777', '82641', '75...   \n5                                                  []   \n7   ['948696', '439885', '274955', '12978730', '37...   \n9   ['287151', '1104760', '1172822', '440292', '28...   \n10  ['439108', '522621', '116770', '1275927', '620...   \n12  ['888460', '734023', '147311', '219106', '3139...   \n15  ['299795', '8100288', '7570892', '53817', '121...   \n16  ['45366', '246849', '11096385', '19102466', '7...   \n17  ['614054', '272343', '824934', '581383', '9359...   \n\n                                          description     format   \n1   Anita Diamant's international bestseller \"The ...   Audio CD  \\\n3   Addie Downs and Valerie Adler were eight when ...  Hardcover   \n5   Relates in vigorous prose the tale of Aeneas, ...  Paperback   \n7   To Kara's astonishment, she discovers that a p...  Paperback   \n9   Wisdom, humor, and dark observations by the fo...  Paperback   \n10  London, 1196. At the command of Richard the Li...  Hardcover   \n12  Taoist philosophy explained using examples fro...    unknown   \n15  As he is driving home from a minister's confer...    unknown   \n16  What is Heaven really going to be like? What w...    unknown   \n17  It's 1953 and 11-year-old Penny dreams of a su...  Hardcover   \n\n                                            cover_img                author   \n1   https://s.gr-assets.com/assets/nophoto/book/11...            ['626222']  \\\n3   https://s.gr-assets.com/assets/nophoto/book/11...              ['9212']   \n5   https://s.gr-assets.com/assets/nophoto/book/11...           ['3041852']   \n7   https://images.gr-assets.com/books/1316637798m...             ['19158']   \n9   https://images.gr-assets.com/books/1328768789m...  ['2983296', '40075']   \n10  https://images.gr-assets.com/books/1328724803m...             ['37778']   \n12  https://s.gr-assets.com/assets/nophoto/book/11...             ['27397']   \n15  https://s.gr-assets.com/assets/nophoto/book/11...    ['39054', '11099']   \n16  https://images.gr-assets.com/books/1406508230m...              ['4862']   \n17  https://images.gr-assets.com/books/1320470906m...            ['137561']   \n\n                               publisher  num_pages edition_information   \n1                 Simon & Schuster Audio       -1.0            Abridged  \\\n3                            Atria Books      368.0             unknown   \n5                   Yesterday's Classics      162.0             unknown   \n7                             Seven Seas      216.0             unknown   \n9                            Feral House      147.0             unknown   \n10                   Simon & Schuster UK      400.0             unknown   \n12                               unknown       -1.0             unknown   \n15                               unknown       -1.0             unknown   \n16                               unknown      533.0             unknown   \n17  Random House Books for Young Readers      288.0             unknown   \n\n    publication_year  ratings_count  format_code  language_code1  \n1             2001.0           10.0            1               1  \n3             2009.0        51184.0            2               2  \n5             2006.0           46.0            3               1  \n7             2009.0           98.0            3               1  \n9             2000.0          986.0            3               1  \n10            2009.0          186.0            2               1  \n12              -1.0           11.0            4               1  \n15              -1.0        68157.0            4               1  \n16              -1.0         7345.0            4               2  \n17            2006.0         6949.0            2               1  ",
      "text/html": "<div>\n<style scoped>\n    .dataframe tbody tr th:only-of-type {\n        vertical-align: middle;\n    }\n\n    .dataframe tbody tr th {\n        vertical-align: top;\n    }\n\n    .dataframe thead th {\n        text-align: right;\n    }\n</style>\n<table border=\"1\" class=\"dataframe\">\n  <thead>\n    <tr style=\"text-align: right;\">\n      <th></th>\n      <th>book_id</th>\n      <th>title</th>\n      <th>isbn</th>\n      <th>language_code</th>\n      <th>is_ebook</th>\n      <th>average_rating</th>\n      <th>similar_books</th>\n      <th>description</th>\n      <th>format</th>\n      <th>cover_img</th>\n      <th>author</th>\n      <th>publisher</th>\n      <th>num_pages</th>\n      <th>edition_information</th>\n      <th>publication_year</th>\n      <th>ratings_count</th>\n      <th>format_code</th>\n      <th>language_code1</th>\n    </tr>\n  </thead>\n  <tbody>\n    <tr>\n      <th>1</th>\n      <td>1333909</td>\n      <td>Good Harbor</td>\n      <td>0743509986</td>\n      <td>unknown</td>\n      <td>0.0</td>\n      <td>3.23</td>\n      <td>['8709549', '17074050', '28937', '158816', '22...</td>\n      <td>Anita Diamant's international bestseller \"The ...</td>\n      <td>Audio CD</td>\n      <td>https://s.gr-assets.com/assets/nophoto/book/11...</td>\n      <td>['626222']</td>\n      <td>Simon &amp; Schuster Audio</td>\n      <td>-1.0</td>\n      <td>Abridged</td>\n      <td>2001.0</td>\n      <td>10.0</td>\n      <td>1</td>\n      <td>1</td>\n    </tr>\n    <tr>\n      <th>3</th>\n      <td>6066819</td>\n      <td>Best Friends Forever</td>\n      <td>0743294297</td>\n      <td>eng</td>\n      <td>0.0</td>\n      <td>3.49</td>\n      <td>['6604176', '6054190', '2285777', '82641', '75...</td>\n      <td>Addie Downs and Valerie Adler were eight when ...</td>\n      <td>Hardcover</td>\n      <td>https://s.gr-assets.com/assets/nophoto/book/11...</td>\n      <td>['9212']</td>\n      <td>Atria Books</td>\n      <td>368.0</td>\n      <td>unknown</td>\n      <td>2009.0</td>\n      <td>51184.0</td>\n      <td>2</td>\n      <td>2</td>\n    </tr>\n    <tr>\n      <th>5</th>\n      <td>287141</td>\n      <td>The Aeneid for Boys and Girls</td>\n      <td>1599150603</td>\n      <td>unknown</td>\n      <td>0.0</td>\n      <td>4.13</td>\n      <td>[]</td>\n      <td>Relates in vigorous prose the tale of Aeneas, ...</td>\n      <td>Paperback</td>\n      <td>https://s.gr-assets.com/assets/nophoto/book/11...</td>\n      <td>['3041852']</td>\n      <td>Yesterday's Classics</td>\n      <td>162.0</td>\n      <td>unknown</td>\n      <td>2006.0</td>\n      <td>46.0</td>\n      <td>3</td>\n      <td>1</td>\n    </tr>\n    <tr>\n      <th>7</th>\n      <td>6066812</td>\n      <td>All's Fairy in Love and War (Avalon: Web of Ma...</td>\n      <td>1934876569</td>\n      <td>unknown</td>\n      <td>0.0</td>\n      <td>4.22</td>\n      <td>['948696', '439885', '274955', '12978730', '37...</td>\n      <td>To Kara's astonishment, she discovers that a p...</td>\n      <td>Paperback</td>\n      <td>https://images.gr-assets.com/books/1316637798m...</td>\n      <td>['19158']</td>\n      <td>Seven Seas</td>\n      <td>216.0</td>\n      <td>unknown</td>\n      <td>2009.0</td>\n      <td>98.0</td>\n      <td>3</td>\n      <td>1</td>\n    </tr>\n    <tr>\n      <th>9</th>\n      <td>287149</td>\n      <td>The Devil's Notebook</td>\n      <td>0922915113</td>\n      <td>unknown</td>\n      <td>0.0</td>\n      <td>3.81</td>\n      <td>['287151', '1104760', '1172822', '440292', '28...</td>\n      <td>Wisdom, humor, and dark observations by the fo...</td>\n      <td>Paperback</td>\n      <td>https://images.gr-assets.com/books/1328768789m...</td>\n      <td>['2983296', '40075']</td>\n      <td>Feral House</td>\n      <td>147.0</td>\n      <td>unknown</td>\n      <td>2000.0</td>\n      <td>986.0</td>\n      <td>3</td>\n      <td>1</td>\n    </tr>\n    <tr>\n      <th>10</th>\n      <td>6066814</td>\n      <td>Crowner Royal (Crowner John Mystery, #13)</td>\n      <td>184737297X</td>\n      <td>unknown</td>\n      <td>0.0</td>\n      <td>3.93</td>\n      <td>['439108', '522621', '116770', '1275927', '620...</td>\n      <td>London, 1196. At the command of Richard the Li...</td>\n      <td>Hardcover</td>\n      <td>https://images.gr-assets.com/books/1328724803m...</td>\n      <td>['37778']</td>\n      <td>Simon &amp; Schuster UK</td>\n      <td>400.0</td>\n      <td>unknown</td>\n      <td>2009.0</td>\n      <td>186.0</td>\n      <td>2</td>\n      <td>1</td>\n    </tr>\n    <tr>\n      <th>12</th>\n      <td>89371</td>\n      <td>The Te Of Piglet</td>\n      <td>0413675106</td>\n      <td>unknown</td>\n      <td>0.0</td>\n      <td>3.81</td>\n      <td>['888460', '734023', '147311', '219106', '3139...</td>\n      <td>Taoist philosophy explained using examples fro...</td>\n      <td>unknown</td>\n      <td>https://s.gr-assets.com/assets/nophoto/book/11...</td>\n      <td>['27397']</td>\n      <td>unknown</td>\n      <td>-1.0</td>\n      <td>unknown</td>\n      <td>-1.0</td>\n      <td>11.0</td>\n      <td>4</td>\n      <td>1</td>\n    </tr>\n    <tr>\n      <th>15</th>\n      <td>89375</td>\n      <td>90 Minutes in Heaven: A True Story of Death an...</td>\n      <td>0800759494</td>\n      <td>unknown</td>\n      <td>0.0</td>\n      <td>3.91</td>\n      <td>['299795', '8100288', '7570892', '53817', '121...</td>\n      <td>As he is driving home from a minister's confer...</td>\n      <td>unknown</td>\n      <td>https://s.gr-assets.com/assets/nophoto/book/11...</td>\n      <td>['39054', '11099']</td>\n      <td>unknown</td>\n      <td>-1.0</td>\n      <td>unknown</td>\n      <td>-1.0</td>\n      <td>68157.0</td>\n      <td>4</td>\n      <td>1</td>\n    </tr>\n    <tr>\n      <th>16</th>\n      <td>89376</td>\n      <td>Heaven</td>\n      <td>0842379428</td>\n      <td>eng</td>\n      <td>0.0</td>\n      <td>4.26</td>\n      <td>['45366', '246849', '11096385', '19102466', '7...</td>\n      <td>What is Heaven really going to be like? What w...</td>\n      <td>unknown</td>\n      <td>https://images.gr-assets.com/books/1406508230m...</td>\n      <td>['4862']</td>\n      <td>unknown</td>\n      <td>533.0</td>\n      <td>unknown</td>\n      <td>-1.0</td>\n      <td>7345.0</td>\n      <td>4</td>\n      <td>2</td>\n    </tr>\n    <tr>\n      <th>17</th>\n      <td>89377</td>\n      <td>Penny from Heaven</td>\n      <td>037583687X</td>\n      <td>unknown</td>\n      <td>0.0</td>\n      <td>3.98</td>\n      <td>['614054', '272343', '824934', '581383', '9359...</td>\n      <td>It's 1953 and 11-year-old Penny dreams of a su...</td>\n      <td>Hardcover</td>\n      <td>https://images.gr-assets.com/books/1320470906m...</td>\n      <td>['137561']</td>\n      <td>Random House Books for Young Readers</td>\n      <td>288.0</td>\n      <td>unknown</td>\n      <td>2006.0</td>\n      <td>6949.0</td>\n      <td>2</td>\n      <td>1</td>\n    </tr>\n  </tbody>\n</table>\n</div>"
     },
     "execution_count": 27,
     "metadata": {},
     "output_type": "execute_result"
    }
   ],
   "source": [
    "# create a dictionary mapping each format name to its integer code\n",
    "language_dict = {name: code for code, name in results}\n",
    "\n",
    "# use the map function to encode the 'format' column in your dataframe\n",
    "books['language_code1'] = books['language_code'].map(language_dict)\n",
    "books.head(10)"
   ],
   "metadata": {
    "collapsed": false,
    "pycharm": {
     "name": "#%%\n"
    }
   }
  },
  {
   "cell_type": "code",
   "execution_count": 29,
   "outputs": [],
   "source": [
    "for ind in books.index:\n",
    "    title = books.title[ind]\n",
    "    average_rating = books.average_rating[ind]\n",
    "    description = books.description[ind]\n",
    "    isbn = books.isbn[ind]\n",
    "    num_pages = int(books.num_pages[ind])\n",
    "    publication_year = int(books.publication_year[ind])\n",
    "    cover_img = books.cover_img[ind]\n",
    "    ratings_count = int(books.ratings_count[ind])\n",
    "    idLanguage = int(books.language_code1[ind])\n",
    "    edition_info = books.edition_information[ind]\n",
    "    is_ebook = books.is_ebook[ind]\n",
    "    idFormat = int(books.format_code[ind])\n",
    "    publisher = books.publisher[ind]\n",
    "\n",
    "    amount = random.randint(0, 10)\n",
    "    price = round(random.uniform(10, 999.99), 2)\n",
    "\n",
    "    sql = 'INSERT INTO BOOK (title, average_rating, description, isbn, num_pages, publication_year, cover_img, price, ratings_count, ' \\\n",
    "          'amount, Language_idLanguage, edition_information, is_ebook, publisher, Format_idFormat)' \\\n",
    "          ' values ( %s, %s, %s, %s, %s, %s, %s, %s, %s, %s, %s, %s, %s, %s, %s)'\n",
    "    val = (title, average_rating, description, isbn, num_pages, publication_year, cover_img, price, ratings_count, amount, idLanguage, edition_info, is_ebook, publisher, idFormat)\n",
    "    cursor.execute(sql, val)\n",
    "\n",
    "db.commit()"
   ],
   "metadata": {
    "collapsed": false,
    "pycharm": {
     "name": "#%%\n"
    }
   }
  },
  {
   "cell_type": "code",
   "execution_count": 31,
   "outputs": [],
   "source": [
    "db.close()"
   ],
   "metadata": {
    "collapsed": false,
    "pycharm": {
     "name": "#%%\n"
    }
   }
  },
  {
   "cell_type": "code",
   "execution_count": 32,
   "outputs": [],
   "source": [
    "books.to_csv('processed_books.csv', index=False)"
   ],
   "metadata": {
    "collapsed": false,
    "pycharm": {
     "name": "#%%\n"
    }
   }
  },
  {
   "cell_type": "code",
   "execution_count": 33,
   "outputs": [
    {
     "data": {
      "text/plain": "    book_id                                              title        isbn   \n1   1333909                                        Good Harbor  0743509986  \\\n3   6066819                               Best Friends Forever  0743294297   \n5    287141                      The Aeneid for Boys and Girls  1599150603   \n7   6066812  All's Fairy in Love and War (Avalon: Web of Ma...  1934876569   \n9    287149                               The Devil's Notebook  0922915113   \n10  6066814          Crowner Royal (Crowner John Mystery, #13)  184737297X   \n12    89371                                   The Te Of Piglet  0413675106   \n15    89375  90 Minutes in Heaven: A True Story of Death an...  0800759494   \n16    89376                                             Heaven  0842379428   \n17    89377                                  Penny from Heaven  037583687X   \n\n   language_code  is_ebook  average_rating   \n1        unknown       0.0            3.23  \\\n3            eng       0.0            3.49   \n5        unknown       0.0            4.13   \n7        unknown       0.0            4.22   \n9        unknown       0.0            3.81   \n10       unknown       0.0            3.93   \n12       unknown       0.0            3.81   \n15       unknown       0.0            3.91   \n16           eng       0.0            4.26   \n17       unknown       0.0            3.98   \n\n                                        similar_books   \n1   ['8709549', '17074050', '28937', '158816', '22...  \\\n3   ['6604176', '6054190', '2285777', '82641', '75...   \n5                                                  []   \n7   ['948696', '439885', '274955', '12978730', '37...   \n9   ['287151', '1104760', '1172822', '440292', '28...   \n10  ['439108', '522621', '116770', '1275927', '620...   \n12  ['888460', '734023', '147311', '219106', '3139...   \n15  ['299795', '8100288', '7570892', '53817', '121...   \n16  ['45366', '246849', '11096385', '19102466', '7...   \n17  ['614054', '272343', '824934', '581383', '9359...   \n\n                                          description     format   \n1   Anita Diamant's international bestseller \"The ...   Audio CD  \\\n3   Addie Downs and Valerie Adler were eight when ...  Hardcover   \n5   Relates in vigorous prose the tale of Aeneas, ...  Paperback   \n7   To Kara's astonishment, she discovers that a p...  Paperback   \n9   Wisdom, humor, and dark observations by the fo...  Paperback   \n10  London, 1196. At the command of Richard the Li...  Hardcover   \n12  Taoist philosophy explained using examples fro...    unknown   \n15  As he is driving home from a minister's confer...    unknown   \n16  What is Heaven really going to be like? What w...    unknown   \n17  It's 1953 and 11-year-old Penny dreams of a su...  Hardcover   \n\n                                            cover_img                author   \n1   https://s.gr-assets.com/assets/nophoto/book/11...            ['626222']  \\\n3   https://s.gr-assets.com/assets/nophoto/book/11...              ['9212']   \n5   https://s.gr-assets.com/assets/nophoto/book/11...           ['3041852']   \n7   https://images.gr-assets.com/books/1316637798m...             ['19158']   \n9   https://images.gr-assets.com/books/1328768789m...  ['2983296', '40075']   \n10  https://images.gr-assets.com/books/1328724803m...             ['37778']   \n12  https://s.gr-assets.com/assets/nophoto/book/11...             ['27397']   \n15  https://s.gr-assets.com/assets/nophoto/book/11...    ['39054', '11099']   \n16  https://images.gr-assets.com/books/1406508230m...              ['4862']   \n17  https://images.gr-assets.com/books/1320470906m...            ['137561']   \n\n                               publisher  num_pages edition_information   \n1                 Simon & Schuster Audio       -1.0            Abridged  \\\n3                            Atria Books      368.0             unknown   \n5                   Yesterday's Classics      162.0             unknown   \n7                             Seven Seas      216.0             unknown   \n9                            Feral House      147.0             unknown   \n10                   Simon & Schuster UK      400.0             unknown   \n12                               unknown       -1.0             unknown   \n15                               unknown       -1.0             unknown   \n16                               unknown      533.0             unknown   \n17  Random House Books for Young Readers      288.0             unknown   \n\n    publication_year  ratings_count  format_code  language_code1  \n1             2001.0           10.0            1               1  \n3             2009.0        51184.0            2               2  \n5             2006.0           46.0            3               1  \n7             2009.0           98.0            3               1  \n9             2000.0          986.0            3               1  \n10            2009.0          186.0            2               1  \n12              -1.0           11.0            4               1  \n15              -1.0        68157.0            4               1  \n16              -1.0         7345.0            4               2  \n17            2006.0         6949.0            2               1  ",
      "text/html": "<div>\n<style scoped>\n    .dataframe tbody tr th:only-of-type {\n        vertical-align: middle;\n    }\n\n    .dataframe tbody tr th {\n        vertical-align: top;\n    }\n\n    .dataframe thead th {\n        text-align: right;\n    }\n</style>\n<table border=\"1\" class=\"dataframe\">\n  <thead>\n    <tr style=\"text-align: right;\">\n      <th></th>\n      <th>book_id</th>\n      <th>title</th>\n      <th>isbn</th>\n      <th>language_code</th>\n      <th>is_ebook</th>\n      <th>average_rating</th>\n      <th>similar_books</th>\n      <th>description</th>\n      <th>format</th>\n      <th>cover_img</th>\n      <th>author</th>\n      <th>publisher</th>\n      <th>num_pages</th>\n      <th>edition_information</th>\n      <th>publication_year</th>\n      <th>ratings_count</th>\n      <th>format_code</th>\n      <th>language_code1</th>\n    </tr>\n  </thead>\n  <tbody>\n    <tr>\n      <th>1</th>\n      <td>1333909</td>\n      <td>Good Harbor</td>\n      <td>0743509986</td>\n      <td>unknown</td>\n      <td>0.0</td>\n      <td>3.23</td>\n      <td>['8709549', '17074050', '28937', '158816', '22...</td>\n      <td>Anita Diamant's international bestseller \"The ...</td>\n      <td>Audio CD</td>\n      <td>https://s.gr-assets.com/assets/nophoto/book/11...</td>\n      <td>['626222']</td>\n      <td>Simon &amp; Schuster Audio</td>\n      <td>-1.0</td>\n      <td>Abridged</td>\n      <td>2001.0</td>\n      <td>10.0</td>\n      <td>1</td>\n      <td>1</td>\n    </tr>\n    <tr>\n      <th>3</th>\n      <td>6066819</td>\n      <td>Best Friends Forever</td>\n      <td>0743294297</td>\n      <td>eng</td>\n      <td>0.0</td>\n      <td>3.49</td>\n      <td>['6604176', '6054190', '2285777', '82641', '75...</td>\n      <td>Addie Downs and Valerie Adler were eight when ...</td>\n      <td>Hardcover</td>\n      <td>https://s.gr-assets.com/assets/nophoto/book/11...</td>\n      <td>['9212']</td>\n      <td>Atria Books</td>\n      <td>368.0</td>\n      <td>unknown</td>\n      <td>2009.0</td>\n      <td>51184.0</td>\n      <td>2</td>\n      <td>2</td>\n    </tr>\n    <tr>\n      <th>5</th>\n      <td>287141</td>\n      <td>The Aeneid for Boys and Girls</td>\n      <td>1599150603</td>\n      <td>unknown</td>\n      <td>0.0</td>\n      <td>4.13</td>\n      <td>[]</td>\n      <td>Relates in vigorous prose the tale of Aeneas, ...</td>\n      <td>Paperback</td>\n      <td>https://s.gr-assets.com/assets/nophoto/book/11...</td>\n      <td>['3041852']</td>\n      <td>Yesterday's Classics</td>\n      <td>162.0</td>\n      <td>unknown</td>\n      <td>2006.0</td>\n      <td>46.0</td>\n      <td>3</td>\n      <td>1</td>\n    </tr>\n    <tr>\n      <th>7</th>\n      <td>6066812</td>\n      <td>All's Fairy in Love and War (Avalon: Web of Ma...</td>\n      <td>1934876569</td>\n      <td>unknown</td>\n      <td>0.0</td>\n      <td>4.22</td>\n      <td>['948696', '439885', '274955', '12978730', '37...</td>\n      <td>To Kara's astonishment, she discovers that a p...</td>\n      <td>Paperback</td>\n      <td>https://images.gr-assets.com/books/1316637798m...</td>\n      <td>['19158']</td>\n      <td>Seven Seas</td>\n      <td>216.0</td>\n      <td>unknown</td>\n      <td>2009.0</td>\n      <td>98.0</td>\n      <td>3</td>\n      <td>1</td>\n    </tr>\n    <tr>\n      <th>9</th>\n      <td>287149</td>\n      <td>The Devil's Notebook</td>\n      <td>0922915113</td>\n      <td>unknown</td>\n      <td>0.0</td>\n      <td>3.81</td>\n      <td>['287151', '1104760', '1172822', '440292', '28...</td>\n      <td>Wisdom, humor, and dark observations by the fo...</td>\n      <td>Paperback</td>\n      <td>https://images.gr-assets.com/books/1328768789m...</td>\n      <td>['2983296', '40075']</td>\n      <td>Feral House</td>\n      <td>147.0</td>\n      <td>unknown</td>\n      <td>2000.0</td>\n      <td>986.0</td>\n      <td>3</td>\n      <td>1</td>\n    </tr>\n    <tr>\n      <th>10</th>\n      <td>6066814</td>\n      <td>Crowner Royal (Crowner John Mystery, #13)</td>\n      <td>184737297X</td>\n      <td>unknown</td>\n      <td>0.0</td>\n      <td>3.93</td>\n      <td>['439108', '522621', '116770', '1275927', '620...</td>\n      <td>London, 1196. At the command of Richard the Li...</td>\n      <td>Hardcover</td>\n      <td>https://images.gr-assets.com/books/1328724803m...</td>\n      <td>['37778']</td>\n      <td>Simon &amp; Schuster UK</td>\n      <td>400.0</td>\n      <td>unknown</td>\n      <td>2009.0</td>\n      <td>186.0</td>\n      <td>2</td>\n      <td>1</td>\n    </tr>\n    <tr>\n      <th>12</th>\n      <td>89371</td>\n      <td>The Te Of Piglet</td>\n      <td>0413675106</td>\n      <td>unknown</td>\n      <td>0.0</td>\n      <td>3.81</td>\n      <td>['888460', '734023', '147311', '219106', '3139...</td>\n      <td>Taoist philosophy explained using examples fro...</td>\n      <td>unknown</td>\n      <td>https://s.gr-assets.com/assets/nophoto/book/11...</td>\n      <td>['27397']</td>\n      <td>unknown</td>\n      <td>-1.0</td>\n      <td>unknown</td>\n      <td>-1.0</td>\n      <td>11.0</td>\n      <td>4</td>\n      <td>1</td>\n    </tr>\n    <tr>\n      <th>15</th>\n      <td>89375</td>\n      <td>90 Minutes in Heaven: A True Story of Death an...</td>\n      <td>0800759494</td>\n      <td>unknown</td>\n      <td>0.0</td>\n      <td>3.91</td>\n      <td>['299795', '8100288', '7570892', '53817', '121...</td>\n      <td>As he is driving home from a minister's confer...</td>\n      <td>unknown</td>\n      <td>https://s.gr-assets.com/assets/nophoto/book/11...</td>\n      <td>['39054', '11099']</td>\n      <td>unknown</td>\n      <td>-1.0</td>\n      <td>unknown</td>\n      <td>-1.0</td>\n      <td>68157.0</td>\n      <td>4</td>\n      <td>1</td>\n    </tr>\n    <tr>\n      <th>16</th>\n      <td>89376</td>\n      <td>Heaven</td>\n      <td>0842379428</td>\n      <td>eng</td>\n      <td>0.0</td>\n      <td>4.26</td>\n      <td>['45366', '246849', '11096385', '19102466', '7...</td>\n      <td>What is Heaven really going to be like? What w...</td>\n      <td>unknown</td>\n      <td>https://images.gr-assets.com/books/1406508230m...</td>\n      <td>['4862']</td>\n      <td>unknown</td>\n      <td>533.0</td>\n      <td>unknown</td>\n      <td>-1.0</td>\n      <td>7345.0</td>\n      <td>4</td>\n      <td>2</td>\n    </tr>\n    <tr>\n      <th>17</th>\n      <td>89377</td>\n      <td>Penny from Heaven</td>\n      <td>037583687X</td>\n      <td>unknown</td>\n      <td>0.0</td>\n      <td>3.98</td>\n      <td>['614054', '272343', '824934', '581383', '9359...</td>\n      <td>It's 1953 and 11-year-old Penny dreams of a su...</td>\n      <td>Hardcover</td>\n      <td>https://images.gr-assets.com/books/1320470906m...</td>\n      <td>['137561']</td>\n      <td>Random House Books for Young Readers</td>\n      <td>288.0</td>\n      <td>unknown</td>\n      <td>2006.0</td>\n      <td>6949.0</td>\n      <td>2</td>\n      <td>1</td>\n    </tr>\n  </tbody>\n</table>\n</div>"
     },
     "execution_count": 33,
     "metadata": {},
     "output_type": "execute_result"
    }
   ],
   "source": [
    "books.head(10)"
   ],
   "metadata": {
    "collapsed": false,
    "pycharm": {
     "name": "#%%\n"
    }
   }
  },
  {
   "cell_type": "code",
   "execution_count": null,
   "outputs": [],
   "source": [],
   "metadata": {
    "collapsed": false,
    "pycharm": {
     "name": "#%%\n"
    }
   }
  }
 ],
 "metadata": {
  "kernelspec": {
   "display_name": "Python 3",
   "language": "python",
   "name": "python3"
  },
  "language_info": {
   "codemirror_mode": {
    "name": "ipython",
    "version": 2
   },
   "file_extension": ".py",
   "mimetype": "text/x-python",
   "name": "python",
   "nbconvert_exporter": "python",
   "pygments_lexer": "ipython2",
   "version": "2.7.6"
  }
 },
 "nbformat": 4,
 "nbformat_minor": 0
}