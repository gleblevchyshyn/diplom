{
 "cells": [
  {
   "cell_type": "code",
   "execution_count": 1,
   "outputs": [],
   "source": [
    "import mysql.connector\n",
    "import json\n",
    "import pandas as pd\n",
    "import random"
   ],
   "metadata": {
    "pycharm": {
     "name": "#%%\n"
    },
    "id": "A-b7hQWW0h0N"
   }
  },
  {
   "cell_type": "code",
   "execution_count": 2,
   "outputs": [],
   "source": [
    "books = pd.read_csv('books.csv')"
   ],
   "metadata": {
    "pycharm": {
     "name": "#%%\n"
    },
    "id": "P2uomjed0h0O"
   }
  },
  {
   "cell_type": "code",
   "execution_count": 3,
   "outputs": [
    {
     "data": {
      "text/plain": "   book_id                                              title        isbn   \n0  5333265                        W.C. Fields: A Life on Film  0312853122  \\\n1  1333909                                        Good Harbor  0743509986   \n2  7327624  The Unschooled Wizard (Sun Wolf and Starhawk, ...         NaN   \n3  6066819                               Best Friends Forever  0743294297   \n4   287140  Runic Astrology: Starcraft and Timekeeping in ...  0850308712   \n\n  language_code  is_ebook  average_rating   \n0           NaN       0.0            4.00  \\\n1           NaN       0.0            3.23   \n2           eng       0.0            4.03   \n3           eng       0.0            3.49   \n4           NaN       0.0            3.40   \n\n                                       similar_books   \n0                                                 []  \\\n1  ['8709549', '17074050', '28937', '158816', '22...   \n2  ['19997', '828466', '1569323', '425389', '1176...   \n3  ['6604176', '6054190', '2285777', '82641', '75...   \n4                                                 []   \n\n                                         description     format   \n0                                                NaN  Paperback  \\\n1  Anita Diamant's international bestseller \"The ...   Audio CD   \n2  Omnibus book club edition containing the Ladie...  Hardcover   \n3  Addie Downs and Valerie Adler were eight when ...  Hardcover   \n4                                                NaN        NaN   \n\n                                           cover_img      author   \n0  https://images.gr-assets.com/books/1310220028m...  ['604031']  \\\n1  https://s.gr-assets.com/assets/nophoto/book/11...  ['626222']   \n2  https://images.gr-assets.com/books/1304100136m...   ['10333']   \n3  https://s.gr-assets.com/assets/nophoto/book/11...    ['9212']   \n4  https://images.gr-assets.com/books/1413219371m...  ['149918']   \n\n                publisher  num_pages edition_information  publication_year   \n0      St. Martin's Press      256.0                 NaN            1984.0  \\\n1  Simon & Schuster Audio        NaN            Abridged            2001.0   \n2  Nelson Doubleday, Inc.      600.0   Book Club Edition            1987.0   \n3             Atria Books      368.0                 NaN            2009.0   \n4                     NaN        NaN                 NaN               NaN   \n\n   ratings_count  \n0            3.0  \n1           10.0  \n2          140.0  \n3        51184.0  \n4           15.0  ",
      "text/html": "<div>\n<style scoped>\n    .dataframe tbody tr th:only-of-type {\n        vertical-align: middle;\n    }\n\n    .dataframe tbody tr th {\n        vertical-align: top;\n    }\n\n    .dataframe thead th {\n        text-align: right;\n    }\n</style>\n<table border=\"1\" class=\"dataframe\">\n  <thead>\n    <tr style=\"text-align: right;\">\n      <th></th>\n      <th>book_id</th>\n      <th>title</th>\n      <th>isbn</th>\n      <th>language_code</th>\n      <th>is_ebook</th>\n      <th>average_rating</th>\n      <th>similar_books</th>\n      <th>description</th>\n      <th>format</th>\n      <th>cover_img</th>\n      <th>author</th>\n      <th>publisher</th>\n      <th>num_pages</th>\n      <th>edition_information</th>\n      <th>publication_year</th>\n      <th>ratings_count</th>\n    </tr>\n  </thead>\n  <tbody>\n    <tr>\n      <th>0</th>\n      <td>5333265</td>\n      <td>W.C. Fields: A Life on Film</td>\n      <td>0312853122</td>\n      <td>NaN</td>\n      <td>0.0</td>\n      <td>4.00</td>\n      <td>[]</td>\n      <td>NaN</td>\n      <td>Paperback</td>\n      <td>https://images.gr-assets.com/books/1310220028m...</td>\n      <td>['604031']</td>\n      <td>St. Martin's Press</td>\n      <td>256.0</td>\n      <td>NaN</td>\n      <td>1984.0</td>\n      <td>3.0</td>\n    </tr>\n    <tr>\n      <th>1</th>\n      <td>1333909</td>\n      <td>Good Harbor</td>\n      <td>0743509986</td>\n      <td>NaN</td>\n      <td>0.0</td>\n      <td>3.23</td>\n      <td>['8709549', '17074050', '28937', '158816', '22...</td>\n      <td>Anita Diamant's international bestseller \"The ...</td>\n      <td>Audio CD</td>\n      <td>https://s.gr-assets.com/assets/nophoto/book/11...</td>\n      <td>['626222']</td>\n      <td>Simon &amp; Schuster Audio</td>\n      <td>NaN</td>\n      <td>Abridged</td>\n      <td>2001.0</td>\n      <td>10.0</td>\n    </tr>\n    <tr>\n      <th>2</th>\n      <td>7327624</td>\n      <td>The Unschooled Wizard (Sun Wolf and Starhawk, ...</td>\n      <td>NaN</td>\n      <td>eng</td>\n      <td>0.0</td>\n      <td>4.03</td>\n      <td>['19997', '828466', '1569323', '425389', '1176...</td>\n      <td>Omnibus book club edition containing the Ladie...</td>\n      <td>Hardcover</td>\n      <td>https://images.gr-assets.com/books/1304100136m...</td>\n      <td>['10333']</td>\n      <td>Nelson Doubleday, Inc.</td>\n      <td>600.0</td>\n      <td>Book Club Edition</td>\n      <td>1987.0</td>\n      <td>140.0</td>\n    </tr>\n    <tr>\n      <th>3</th>\n      <td>6066819</td>\n      <td>Best Friends Forever</td>\n      <td>0743294297</td>\n      <td>eng</td>\n      <td>0.0</td>\n      <td>3.49</td>\n      <td>['6604176', '6054190', '2285777', '82641', '75...</td>\n      <td>Addie Downs and Valerie Adler were eight when ...</td>\n      <td>Hardcover</td>\n      <td>https://s.gr-assets.com/assets/nophoto/book/11...</td>\n      <td>['9212']</td>\n      <td>Atria Books</td>\n      <td>368.0</td>\n      <td>NaN</td>\n      <td>2009.0</td>\n      <td>51184.0</td>\n    </tr>\n    <tr>\n      <th>4</th>\n      <td>287140</td>\n      <td>Runic Astrology: Starcraft and Timekeeping in ...</td>\n      <td>0850308712</td>\n      <td>NaN</td>\n      <td>0.0</td>\n      <td>3.40</td>\n      <td>[]</td>\n      <td>NaN</td>\n      <td>NaN</td>\n      <td>https://images.gr-assets.com/books/1413219371m...</td>\n      <td>['149918']</td>\n      <td>NaN</td>\n      <td>NaN</td>\n      <td>NaN</td>\n      <td>NaN</td>\n      <td>15.0</td>\n    </tr>\n  </tbody>\n</table>\n</div>"
     },
     "execution_count": 3,
     "metadata": {},
     "output_type": "execute_result"
    }
   ],
   "source": [
    "books.head(5)"
   ],
   "metadata": {
    "pycharm": {
     "name": "#%%\n"
    },
    "id": "jBzso6Dr0h0P",
    "outputId": "213aae32-3cf6-46a8-c958-642d7a434805"
   }
  },
  {
   "cell_type": "code",
   "execution_count": 4,
   "outputs": [
    {
     "data": {
      "text/plain": "book_id                      0\ntitle                       12\nisbn                    983374\nlanguage_code          1060153\nis_ebook                   490\naverage_rating             524\nsimilar_books                0\ndescription             412249\nformat                  646754\ncover_img                  490\nauthor                       0\npublisher               654386\nnum_pages               764133\nedition_information    2142648\npublication_year        599625\nratings_count              524\ndtype: int64"
     },
     "execution_count": 4,
     "metadata": {},
     "output_type": "execute_result"
    }
   ],
   "source": [
    "books.isnull().sum()"
   ],
   "metadata": {
    "pycharm": {
     "name": "#%%\n"
    },
    "id": "cYKWUFvA0h0P",
    "outputId": "00d86298-249d-443f-94e7-cee0851a4b3e"
   }
  },
  {
   "cell_type": "code",
   "execution_count": 5,
   "outputs": [],
   "source": [
    "# Drop rows with NaN values in column B and C\n",
    "books.dropna(subset=['title', 'isbn', 'average_rating', 'description', 'cover_img', 'ratings_count'], inplace=True)"
   ],
   "metadata": {
    "pycharm": {
     "name": "#%%\n"
    },
    "id": "Vl_B1aZQ0h0Q"
   }
  },
  {
   "cell_type": "code",
   "execution_count": 6,
   "outputs": [],
   "source": [
    "books = books[books['ratings_count'] != 0]"
   ],
   "metadata": {
    "pycharm": {
     "name": "#%%\n"
    },
    "id": "mxkLbJ8U0h0Q"
   }
  },
  {
   "cell_type": "code",
   "execution_count": 7,
   "outputs": [
    {
     "data": {
      "text/plain": "book_id                      0\ntitle                        0\nisbn                         0\nlanguage_code           621731\nis_ebook                     0\naverage_rating               0\nsimilar_books                0\ndescription                  0\nformat                  105774\ncover_img                    0\nauthor                       0\npublisher               103527\nnum_pages               174125\nedition_information    1073918\npublication_year         98291\nratings_count                0\ndtype: int64"
     },
     "execution_count": 7,
     "metadata": {},
     "output_type": "execute_result"
    }
   ],
   "source": [
    "books.isnull().sum()"
   ],
   "metadata": {
    "pycharm": {
     "name": "#%%\n"
    },
    "id": "IZk_F2nQ0h0Q",
    "outputId": "014d09fa-9988-4f2a-b98a-2507c2dd786f"
   }
  },
  {
   "cell_type": "code",
   "execution_count": 8,
   "outputs": [
    {
     "data": {
      "text/plain": "0"
     },
     "execution_count": 8,
     "metadata": {},
     "output_type": "execute_result"
    }
   ],
   "source": [
    "len(books[books['publication_year'] < 0])"
   ],
   "metadata": {
    "pycharm": {
     "name": "#%%\n"
    },
    "id": "mj1uxulO0h0R",
    "outputId": "78955eeb-0bb9-422e-e902-d474a9ce9a00"
   }
  },
  {
   "cell_type": "code",
   "execution_count": 8,
   "outputs": [],
   "source": [],
   "metadata": {
    "pycharm": {
     "name": "#%%\n"
    },
    "id": "5oj9tF410h0R"
   }
  },
  {
   "cell_type": "code",
   "execution_count": 9,
   "outputs": [],
   "source": [
    "values = {'format': 'unknown',\n",
    "          'language_code': 'unknown',\n",
    "          'publisher': 'unknown',\n",
    "          'num_pages': -1,\n",
    "          'edition_information': 'unknown',\n",
    "          'publication_year': -1\n",
    "          }\n",
    "books.fillna(value=values, inplace=True)"
   ],
   "metadata": {
    "pycharm": {
     "name": "#%%\n"
    },
    "id": "fxlF6iTj0h0R"
   }
  },
  {
   "cell_type": "code",
   "execution_count": 10,
   "outputs": [
    {
     "data": {
      "text/plain": "book_id                0\ntitle                  0\nisbn                   0\nlanguage_code          0\nis_ebook               0\naverage_rating         0\nsimilar_books          0\ndescription            0\nformat                 0\ncover_img              0\nauthor                 0\npublisher              0\nnum_pages              0\nedition_information    0\npublication_year       0\nratings_count          0\ndtype: int64"
     },
     "execution_count": 10,
     "metadata": {},
     "output_type": "execute_result"
    }
   ],
   "source": [
    "books.isnull().sum()"
   ],
   "metadata": {
    "pycharm": {
     "name": "#%%\n"
    },
    "id": "qWY4fm-w0h0R",
    "outputId": "01e56075-11cd-4bbf-fd8a-f8526384edca"
   }
  },
  {
   "cell_type": "code",
   "execution_count": 11,
   "outputs": [
    {
     "data": {
      "text/plain": "1179966"
     },
     "execution_count": 11,
     "metadata": {},
     "output_type": "execute_result"
    }
   ],
   "source": [
    "len(books)"
   ],
   "metadata": {
    "pycharm": {
     "name": "#%%\n"
    },
    "id": "P5I3633_0h0S",
    "outputId": "7153ae67-f05f-4ff2-a005-48e36a258b94"
   }
  },
  {
   "cell_type": "code",
   "execution_count": 12,
   "outputs": [
    {
     "data": {
      "text/plain": "   book_id                                              title        isbn   \n1  1333909                                        Good Harbor  0743509986  \\\n3  6066819                               Best Friends Forever  0743294297   \n5   287141                      The Aeneid for Boys and Girls  1599150603   \n7  6066812  All's Fairy in Love and War (Avalon: Web of Ma...  1934876569   \n9   287149                               The Devil's Notebook  0922915113   \n\n  language_code  is_ebook  average_rating   \n1       unknown       0.0            3.23  \\\n3           eng       0.0            3.49   \n5       unknown       0.0            4.13   \n7       unknown       0.0            4.22   \n9       unknown       0.0            3.81   \n\n                                       similar_books   \n1  ['8709549', '17074050', '28937', '158816', '22...  \\\n3  ['6604176', '6054190', '2285777', '82641', '75...   \n5                                                 []   \n7  ['948696', '439885', '274955', '12978730', '37...   \n9  ['287151', '1104760', '1172822', '440292', '28...   \n\n                                         description     format   \n1  Anita Diamant's international bestseller \"The ...   Audio CD  \\\n3  Addie Downs and Valerie Adler were eight when ...  Hardcover   \n5  Relates in vigorous prose the tale of Aeneas, ...  Paperback   \n7  To Kara's astonishment, she discovers that a p...  Paperback   \n9  Wisdom, humor, and dark observations by the fo...  Paperback   \n\n                                           cover_img                author   \n1  https://s.gr-assets.com/assets/nophoto/book/11...            ['626222']  \\\n3  https://s.gr-assets.com/assets/nophoto/book/11...              ['9212']   \n5  https://s.gr-assets.com/assets/nophoto/book/11...           ['3041852']   \n7  https://images.gr-assets.com/books/1316637798m...             ['19158']   \n9  https://images.gr-assets.com/books/1328768789m...  ['2983296', '40075']   \n\n                publisher  num_pages edition_information  publication_year   \n1  Simon & Schuster Audio       -1.0            Abridged            2001.0  \\\n3             Atria Books      368.0             unknown            2009.0   \n5    Yesterday's Classics      162.0             unknown            2006.0   \n7              Seven Seas      216.0             unknown            2009.0   \n9             Feral House      147.0             unknown            2000.0   \n\n   ratings_count  \n1           10.0  \n3        51184.0  \n5           46.0  \n7           98.0  \n9          986.0  ",
      "text/html": "<div>\n<style scoped>\n    .dataframe tbody tr th:only-of-type {\n        vertical-align: middle;\n    }\n\n    .dataframe tbody tr th {\n        vertical-align: top;\n    }\n\n    .dataframe thead th {\n        text-align: right;\n    }\n</style>\n<table border=\"1\" class=\"dataframe\">\n  <thead>\n    <tr style=\"text-align: right;\">\n      <th></th>\n      <th>book_id</th>\n      <th>title</th>\n      <th>isbn</th>\n      <th>language_code</th>\n      <th>is_ebook</th>\n      <th>average_rating</th>\n      <th>similar_books</th>\n      <th>description</th>\n      <th>format</th>\n      <th>cover_img</th>\n      <th>author</th>\n      <th>publisher</th>\n      <th>num_pages</th>\n      <th>edition_information</th>\n      <th>publication_year</th>\n      <th>ratings_count</th>\n    </tr>\n  </thead>\n  <tbody>\n    <tr>\n      <th>1</th>\n      <td>1333909</td>\n      <td>Good Harbor</td>\n      <td>0743509986</td>\n      <td>unknown</td>\n      <td>0.0</td>\n      <td>3.23</td>\n      <td>['8709549', '17074050', '28937', '158816', '22...</td>\n      <td>Anita Diamant's international bestseller \"The ...</td>\n      <td>Audio CD</td>\n      <td>https://s.gr-assets.com/assets/nophoto/book/11...</td>\n      <td>['626222']</td>\n      <td>Simon &amp; Schuster Audio</td>\n      <td>-1.0</td>\n      <td>Abridged</td>\n      <td>2001.0</td>\n      <td>10.0</td>\n    </tr>\n    <tr>\n      <th>3</th>\n      <td>6066819</td>\n      <td>Best Friends Forever</td>\n      <td>0743294297</td>\n      <td>eng</td>\n      <td>0.0</td>\n      <td>3.49</td>\n      <td>['6604176', '6054190', '2285777', '82641', '75...</td>\n      <td>Addie Downs and Valerie Adler were eight when ...</td>\n      <td>Hardcover</td>\n      <td>https://s.gr-assets.com/assets/nophoto/book/11...</td>\n      <td>['9212']</td>\n      <td>Atria Books</td>\n      <td>368.0</td>\n      <td>unknown</td>\n      <td>2009.0</td>\n      <td>51184.0</td>\n    </tr>\n    <tr>\n      <th>5</th>\n      <td>287141</td>\n      <td>The Aeneid for Boys and Girls</td>\n      <td>1599150603</td>\n      <td>unknown</td>\n      <td>0.0</td>\n      <td>4.13</td>\n      <td>[]</td>\n      <td>Relates in vigorous prose the tale of Aeneas, ...</td>\n      <td>Paperback</td>\n      <td>https://s.gr-assets.com/assets/nophoto/book/11...</td>\n      <td>['3041852']</td>\n      <td>Yesterday's Classics</td>\n      <td>162.0</td>\n      <td>unknown</td>\n      <td>2006.0</td>\n      <td>46.0</td>\n    </tr>\n    <tr>\n      <th>7</th>\n      <td>6066812</td>\n      <td>All's Fairy in Love and War (Avalon: Web of Ma...</td>\n      <td>1934876569</td>\n      <td>unknown</td>\n      <td>0.0</td>\n      <td>4.22</td>\n      <td>['948696', '439885', '274955', '12978730', '37...</td>\n      <td>To Kara's astonishment, she discovers that a p...</td>\n      <td>Paperback</td>\n      <td>https://images.gr-assets.com/books/1316637798m...</td>\n      <td>['19158']</td>\n      <td>Seven Seas</td>\n      <td>216.0</td>\n      <td>unknown</td>\n      <td>2009.0</td>\n      <td>98.0</td>\n    </tr>\n    <tr>\n      <th>9</th>\n      <td>287149</td>\n      <td>The Devil's Notebook</td>\n      <td>0922915113</td>\n      <td>unknown</td>\n      <td>0.0</td>\n      <td>3.81</td>\n      <td>['287151', '1104760', '1172822', '440292', '28...</td>\n      <td>Wisdom, humor, and dark observations by the fo...</td>\n      <td>Paperback</td>\n      <td>https://images.gr-assets.com/books/1328768789m...</td>\n      <td>['2983296', '40075']</td>\n      <td>Feral House</td>\n      <td>147.0</td>\n      <td>unknown</td>\n      <td>2000.0</td>\n      <td>986.0</td>\n    </tr>\n  </tbody>\n</table>\n</div>"
     },
     "execution_count": 12,
     "metadata": {},
     "output_type": "execute_result"
    }
   ],
   "source": [
    "books.head(5)"
   ],
   "metadata": {
    "pycharm": {
     "name": "#%%\n"
    },
    "id": "0Kasug100h0S",
    "outputId": "a9b9bbd3-b8bb-46dc-a7eb-fb69c9423d69"
   }
  },
  {
   "cell_type": "code",
   "execution_count": 18,
   "outputs": [],
   "source": [
    "db = mysql.connector.connect(\n",
    "    host='localhost',\n",
    "    user='root',\n",
    "    password='111111',\n",
    "    database='mydb'\n",
    ")"
   ],
   "metadata": {
    "pycharm": {
     "name": "#%%\n"
    },
    "id": "3SS4xBmH0h0S"
   }
  },
  {
   "cell_type": "code",
   "execution_count": 19,
   "outputs": [
    {
     "data": {
      "text/plain": "True"
     },
     "execution_count": 19,
     "metadata": {},
     "output_type": "execute_result"
    }
   ],
   "source": [
    "db.is_connected()"
   ],
   "metadata": {
    "pycharm": {
     "name": "#%%\n"
    },
    "id": "KkP4R8Mc0h0S",
    "outputId": "ce3ea565-cae7-4ddb-b3bc-ab6fb2c9041f"
   }
  },
  {
   "cell_type": "code",
   "execution_count": 20,
   "outputs": [],
   "source": [
    "cursor = db.cursor()"
   ],
   "metadata": {
    "pycharm": {
     "name": "#%%\n"
    },
    "id": "YmBU3C0R0h0T"
   }
  },
  {
   "cell_type": "code",
   "execution_count": 21,
   "outputs": [],
   "source": [
    "# define the list of values\n",
    "values = books['format'].unique().tolist()\n",
    "\n",
    "# execute the REPLACE INTO statement for each value in the list\n",
    "for value in values:\n",
    "  sql = \"REPLACE INTO FORMAT (format) VALUES (%s)\"\n",
    "  cursor.execute(sql, (value,))\n"
   ],
   "metadata": {
    "pycharm": {
     "name": "#%%\n"
    },
    "id": "q6hzyO-q0h0T"
   }
  },
  {
   "cell_type": "code",
   "execution_count": 22,
   "outputs": [],
   "source": [
    "# commit the changes to the database\n",
    "db.commit()"
   ],
   "metadata": {
    "pycharm": {
     "name": "#%%\n"
    },
    "id": "_qF0U3j60h0T"
   }
  },
  {
   "cell_type": "code",
   "execution_count": 23,
   "outputs": [],
   "source": [
    "# define the list of values\n",
    "values = books['language_code'].unique().tolist()\n",
    "\n",
    "# execute the REPLACE INTO statement for each value in the list\n",
    "for value in values:\n",
    "  sql = \"REPLACE INTO LANGUAGE (language) VALUES (%s)\"\n",
    "  cursor.execute(sql, (value,))\n"
   ],
   "metadata": {
    "pycharm": {
     "name": "#%%\n"
    },
    "id": "362UZl1f0h0T"
   }
  },
  {
   "cell_type": "code",
   "execution_count": 24,
   "outputs": [],
   "source": [
    "# commit the changes to the database\n",
    "db.commit()"
   ],
   "metadata": {
    "pycharm": {
     "name": "#%%\n"
    },
    "id": "3mHM7DQV0h0T"
   }
  },
  {
   "cell_type": "code",
   "execution_count": 25,
   "outputs": [
    {
     "data": {
      "text/plain": "[(1, 'Audio CD'),\n (2, 'Hardcover'),\n (3, 'Paperback'),\n (4, 'unknown'),\n (5, 'ebook'),\n (6, 'Board Book'),\n (7, 'Audio'),\n (8, 'Paperback Manga'),\n (9, 'Audiobook'),\n (10, 'Mass Market Paperback'),\n (11, 'Trade Paperback'),\n (12, 'Unknown Binding'),\n (13, 'MP3 CD'),\n (14, 'Unbound'),\n (15, 'pbk'),\n (16, 'Library Binding'),\n (17, 'Kindle Edition'),\n (18, 'Board book'),\n (19, 'Inbunden'),\n (20, 'Taschenbuch'),\n (21, 'Wen Ku'),\n (22, 'Boxed Set'),\n (23, 'Novelty Book'),\n (24, 'Audio Cassette'),\n (25, 'paperback'),\n (26, 'Leather Bound'),\n (27, 'hardback'),\n (28, 'hardcover'),\n (29, 'Brossura'),\n (30, 'Spiral-bound'),\n (31, 'Album'),\n (32, 'Tapa blanda con solapas'),\n (33, 'Capa Mole'),\n (34, 'Broche'),\n (35, 'Pamphlet'),\n (36, 'paperfomat'),\n (37, 'Gebunden'),\n (38, 'paperback B format 197mm x 128mm'),\n (39, 'Soft Cover'),\n (40, 'Large print'),\n (41, 'Preloaded Digital Audio Player'),\n (42, 'Audible Audio'),\n (43, 'Hardback'),\n (44, 'Trade'),\n (45, \"Audio CD's\"),\n (46, 'Audio Play'),\n (47, 'mass market'),\n (48, 'Livro de Bolso'),\n (49, 'Library Bound'),\n (50, 'Softcover'),\n (51, 'cloth'),\n (52, 'paper'),\n (53, 'Klappenbroschur'),\n (54, 'Large Print Paperback'),\n (55, 'Sony Reader'),\n (56, 'audio'),\n (57, 'softcover'),\n (58, 'Paperback - Large Print'),\n (59, 'Paper book'),\n (60, 'Hardcover with dust jacket'),\n (61, 'paperbook &amp; ebook'),\n (62, 'Livre ferme comme une boite'),\n (63, 'MP3 Book'),\n (64, 'Tverdyi pereplet (Hardcover)'),\n (65, 'Flexbound'),\n (66, 'newsprint stapled folio'),\n (67, 'Soft Cover Flap'),\n (68, 'PDF'),\n (69, 'Paperback , Ebook'),\n (70, 'trade paperback'),\n (71, 'Papeback'),\n (72, '106x180'),\n (73, 'Bath Book'),\n (74, 'Box'),\n (75, 'Graphic Novels'),\n (76, 'Nook'),\n (77, 'Turtleback'),\n (78, 'audio cassette'),\n (79, 'Gebundene Ausgabe'),\n (80, 'Slipcased Hardcover'),\n (81, 'e-book, digital format'),\n (82, 'E-book'),\n (83, 'Poetry'),\n (84, 'Other Format'),\n (85, 'MP3 Audiobook'),\n (86, 'Audio CD - Narrated by Campbell Scott'),\n (87, 'ePUB'),\n (88, 'HARDCOVER'),\n (89, 'Casebound'),\n (90, 'Online'),\n (91, 'Poche'),\n (92, 'pepabatsuku'),\n (93, 'Perfect Paperback'),\n (94, 'Flexcover'),\n (95, 'wzyry'),\n (96, 'a3'),\n (97, 'Tverdyi pereplet'),\n (98, 'Chapbook'),\n (99, 'Rustica'),\n (100, 'Pocketbook'),\n (101, 'Kindle edition and paperback'),\n (102, 'Saddle stitch'),\n (103, 'Tradepaperback'),\n (104, 'Capa Comum'),\n (105, 'book'),\n (106, 'Kindle Edition, Paperback'),\n (107, 'Planeta'),\n (108, 'Cards'),\n (109, 'Brochura'),\n (110, 'Pocket Paperback'),\n (111, 'Broschiert'),\n (112, 'Dwarsligger'),\n (113, 'CD-ROM'),\n (114, 'Hardcover glyngwr'),\n (115, 'Loose-Leaf'),\n (116, 'Soft cover'),\n (117, 'Tarot Deck &amp; Booklet'),\n (118, 'Bolsillo'),\n (119, 'Glf `dy'),\n (120, 'Tapa dura con sobrecubierta'),\n (121, 'audiobook'),\n (122, 'Flexible con solapas'),\n (123, 'Librino'),\n (124, 'Kindle, Paperback'),\n (125, 'Capa mole'),\n (126, 'Large Paperback'),\n (127, 'Cartone'),\n (128, 'Paperback w/DVD'),\n (129, 'Novelty'),\n (130, 'Paperback Box Set'),\n (131, 'Plastic Comb'),\n (132, 'Large Print'),\n (133, 'Paperback (8x10)'),\n (134, 'Export Trade Paperback'),\n (135, 'Staple bound'),\n (136, 'audio cd'),\n (137, 'Paperback with flaps'),\n (138, 'CreateSpace paperback, Mobipocket eBook, Amazon &quot;Kindle&quot;'),\n (139, 'capa dura'),\n (140, 'MP3 Audio'),\n (141, 'Digital Audio'),\n (142, 'Slipcase'),\n (143, 'Newsprint'),\n (144, 'Paperback + CD'),\n (145, 'Hardbound'),\n (146, 'Hard Cover edition'),\n (147, 'Kindle'),\n (148, 'Special Edition Mass Market Paperback'),\n (149, 'Paperback, 15 x 23 cm'),\n (150, 'Box Set'),\n (151, 'DVD'),\n (152, 'Over-sized Soft-cover'),\n (153, 'Illustrato, brossura'),\n (154, 'Paperback &amp; Hardcover'),\n (155, 'Pocket'),\n (156, 'Paperback and ebook'),\n (157, 'eBook'),\n (158, 'Playaway'),\n (159, 'Mass paperback'),\n (160, 'komitsuku'),\n (161, 'Mass Market'),\n (162, 'Misc. Supplies'),\n (163, 'Da Xing Ben'),\n (164, 'Xin Shu'),\n (165, 'School &amp; Library Binding'),\n (166, 'Library binding'),\n (167, 'Cloth Bound'),\n (168, 'Malaysian stories'),\n (169, 'Tapa flexible con solapas'),\n (170, 'Tarot Deck &amp; Book'),\n (171, 'Flexibound'),\n (172, 'Tapa blanda'),\n (173, 'Inbuden'),\n (174, 'Libro cartaceo'),\n (175, 'Digital Audio (Unabridged)'),\n (176, 'Novel'),\n (177, 'Dan Xing Ben'),\n (178, 'Paperback, e-book'),\n (179, 'E-book, digital format'),\n (180, 'broche'),\n (181, 'Either ebook or paperback'),\n (182, 'Hardcover, Slipcased'),\n (183, 'chapbook'),\n (184, 'Kovakantinen'),\n (185, 'Flexiback'),\n (186, 'Trade paperback'),\n (187, 'MP3'),\n (188, 'Hardcover with CD'),\n (189, 'Perfect Paperback Binding'),\n (190, 'Playaway Audiobook'),\n (191, 'Danskt band'),\n (192, 'Hardcover (Pew Edition)'),\n (193, 'Graphic Novel'),\n (194, 'e-book &amp; print'),\n (195, 'Twelve Audio Cassettes'),\n (196, 'PAPERBACK'),\n (197, 'mass market paperback'),\n (198, 'Book'),\n (199, 'Flipback'),\n (200, 'Picture/Flip Book'),\n (201, 'Reliure Peau'),\n (202, 'Paper'),\n (203, 'Hardcover - Large Print'),\n (204, 'ebook, paperback'),\n (205, 'Stripboek'),\n (206, 'Taskuformaat'),\n (207, 'Paperback &amp; ebook'),\n (208, 'Innbundet'),\n (209, 'Paperback &amp; Ebook'),\n (210, 'Paperback with CD'),\n (211, 'album'),\n (212, 'Paperback, Sewn Binding'),\n (213, 'Paperback, Nook Book, Kindle Edition'),\n (214, 'clouth-binding'),\n (215, 'Audio book'),\n (216, 'Poetry Chapbook'),\n (217, 'Paperback &amp; Hard cover'),\n (218, 'Copertina rigida'),\n (219, 'Magazine'),\n (220, 'Audio Cassette - Abridged'),\n (221, 'trade paper'),\n (222, 'Paperback, Kindle, Ebook, Audio'),\n (223, 'Large Hardcover'),\n (224, 'Paperback or online'),\n (225, 'Capa Dura'),\n (226, 'capa mole'),\n (227, '10 Compact Discs'),\n (228, 'Audio Playaway'),\n (229, 'paperback/e-book'),\n (230, 'Paperback, eBook'),\n (231, 'Leatherette Bound'),\n (232, 'Paperback, Kindle, and other e-book formats'),\n (233, 'soft cover'),\n (234, 'Rustico'),\n (235, 'Epub'),\n (236, 'Scout Book Pamphlet'),\n (237, 'Multiple Formats'),\n (238, 'Rag Book'),\n (239, 'Comic'),\n (240, 'Photobook'),\n (241, 'Broschur'),\n (242, 'rabendabutsukusu'),\n (243, 'Rilegato'),\n (244, 'Trade Paper'),\n (245, 'Paperback and Ebook'),\n (246, 'Ring-bound'),\n (247, 'Audible, USA Download'),\n (248, 'books'),\n (249, 'DVD/Pap/Cr edition'),\n (250, 'Hard cover, Soft cover, e-book'),\n (251, 'Electronic - ktb lktrwny'),\n (252, 'Hard Cover'),\n (253, 'Audiobook Unabridged'),\n (254, 'Copertina morbida con sovraccoperta'),\n (255, 'Paperback, ebook'),\n (256, 'ARC'),\n (257, 'Persian Poetry'),\n (258, 'Loose Leaf'),\n (259, \"Publisher's Binding\"),\n (260, 'Prestige'),\n (261, '(Paperback)'),\n (262, 'digital'),\n (263, 'picture book'),\n (264, 'Paperback and E-Book'),\n (265, 'Hard cover'),\n (266, 'Paperback and eBook'),\n (267, 'pocket'),\n (268, 'Premium Mass Market Paperback'),\n (269, 'Tarot Cards &amp; Booklet'),\n (270, 'poche'),\n (271, 'Hard Cover Novel'),\n (272, 'Book + CD'),\n (273, 'Rustica con solapas'),\n (274, '14x20 cm'),\n (275, 'Papperback'),\n (276, 'ebook, Paperback'),\n (277, 'Padded Hardback'),\n (278, 'Ringbound'),\n (279, 'Hardcover (Large Print)'),\n (280, 'Ruan Jing Zhuang'),\n (281, 'Spiral Bound'),\n (282, 'Hardcover / glyngwr - wzyry'),\n (283, 'Print/Kindle'),\n (284, 'Audible Download'),\n (285, 'Danskt Band'),\n (286, 'Saddle-stitched paperback'),\n (287, 'Paperback in Box'),\n (288, 'Hardback / Pasta dura'),\n (289, 'rq`y shmyz'),\n (290, 'Hardcover, Paperback, Kindle'),\n (291, 'ebook and paperback'),\n (292, 'poetry'),\n (293, 'DVD and coursebook'),\n (294, 'papberback'),\n (295, 'Brochure'),\n (296, 'comic'),\n (297, 'Audio CD - Abr'),\n (298, 'Print on Demand'),\n (299, 'hadokaba'),\n (300, 'Semi-poche'),\n (301, '6 Audio CDs'),\n (302, 'ebook and print'),\n (303, 'Paperback / eBook'),\n (304, 'Hardcover, Paperback'),\n (305, 'Tapa dura'),\n (306, 'Paperback, Kindle'),\n (307, 'Comic Book'),\n (308, 'Audio CD (Unabridged)'),\n (309, 'audio CD, unabridged'),\n (310, 'Paperback; Hardcover'),\n (311, 'Hardcover (Pop-Up Boxed Set)'),\n (312, 'Bookpaper'),\n (313, '20x13'),\n (314, 'Cartonne'),\n (315, 'Library Binding, Hardcover'),\n (316, 'Paperback and Kindle'),\n (317, 'audiobook (unabridged)'),\n (318, 'Digital MP3 Audiobook'),\n (319, 'Audiobook - MP3'),\n (320, 'Glf `dy, 28x20'),\n (321, 'Microsoft Reader'),\n (322, 'Library'),\n (323, 'Three-Ring'),\n (324, 'AudioBook'),\n (325, 'CD Audio'),\n (326, 'Slipcased hardcover (1-3)'),\n (327, 'Trade Paper back'),\n (328, 'paperbacks'),\n (329, 'Paperback and CD'),\n (330, 'Copertina morbida'),\n (331, 'MP3 Audible'),\n (332, 'cd'),\n (333, 'Paperback &amp; eBook'),\n (334, 'cassettes - unabridged'),\n (335, 'audio CD'),\n (336, 'Paperback + CD + DVD'),\n (337, '6x9 soft cover'),\n (338, 'ebook &amp; paperback'),\n (339, 'Paperbaci &amp; Ebook'),\n (340, 'Picture book'),\n (341, 'Hardcover, Large Print'),\n (342, 'OUT OF PRINT'),\n (343, 'Hardcover Slipcase'),\n (344, 'Paperback, kindle &amp; ebook.'),\n (345, 'CHAPBOOK'),\n (346, '6&quot; x 9&quot;, perfect bound'),\n (347, 'pop-up'),\n (348, '6 x 9'),\n (349, 'Audiobook, Unabridged'),\n (350, 'softback'),\n (351, 'softcovers'),\n (352, 'anime'),\n (353, 'Kindle Edition/ Paperback'),\n (354, 'Paperback, Graphic Novel'),\n (355, 'Mass Paper Back'),\n (356, 'kindle'),\n (357, 'Glf `dy, 21x21'),\n (358, 'Over-Sized 12&quot;W x 16&quot;H Hardcover'),\n (359, 'Paperback &amp; Kindle'),\n (360, 'E-book and Print'),\n (361, 'flexcover'),\n (362, 'Hardcover + Audio CD'),\n (363, 'Paperback, Kindle, .pdf ebook'),\n (364, 'Unabridged Audiobook'),\n (365, 'A cookbook with a difference'),\n (366, '2 audio cassettes'),\n (367, 'paper back'),\n (368, 'Paperback/Kindle'),\n (369, 'Trade Cloth'),\n (370, 'paperback and ebook'),\n (371, 'Book Paper'),\n (372, 'Large Print Hardcover'),\n (373, 'hard cover'),\n (374, 'Audio Book'),\n (375, 'Paperback 22.4 x 15.2 x 1.6 cm'),\n (376, 'BD'),\n (377, 'livro de bolso'),\n (378, 'Seeds Of Civilization'),\n (379, 'Kartonnage'),\n (380, '(Pamphlet)'),\n (381, 'DVD, Course Guidebook'),\n (382, 'Paperpack Graphic Novels'),\n (383, 'MultiFormat eBook'),\n (384, 'Paperback with dust jacket'),\n (385, 'US Hardcover Edition'),\n (386, 'postcard book'),\n (387, 'Romance'),\n (388, 'Paperback 130x200'),\n (389, 'paperback perfect bound'),\n (390, 'Soft Cover with Clear Plastic Dust Jacket'),\n (391, 'ebook and Paperback'),\n (392, 'MIRA'),\n (393, '4 Videodiscs'),\n (394, 'Tapa Blanda'),\n (395, 'Tapa blanda sin solapas'),\n (396, 'ktb 10*20'),\n (397, 'miekka (paperback)'),\n (398, 'Paperback, e-Book'),\n (399, 'Deluxe Softcover'),\n (400, 'pop up book'),\n (401, 'Hardcover with DVD'),\n (402, 'Textbook Binding'),\n (403, 'Book + Cassette'),\n (404, 'epub'),\n (405, 'Paperback and e-book'),\n (406, 'Paperback, Audio CD'),\n (407, 'rq`y'),\n (408, 'Hardcover and CD'),\n (409, 'Capa mole - 155 x 235 mm'),\n (410, 'mass market Paperback'),\n (411, 'DVD-ROM'),\n (412, 'e book'),\n (413, 'Audio CD (Abr.)'),\n (414, 'Diary'),\n (415, 'Paperback w/ CD'),\n (416, 'paperback, ebook'),\n (417, 'VHS Tape'),\n (418, 'coloring book'),\n (419, 'Book on CD'),\n (420, 'Pehmeakantinen'),\n (421, 'Open Market Paperback'),\n (422, 'Flash Movie Webcast'),\n (423, 'Hardcover book-plus product'),\n (424, 'eAudiobook'),\n (425, 'PDB'),\n (426, \"4 DVD's and 2 Coursebooks\"),\n (427, 'Paper back'),\n (428, 'Softback'),\n (429, 'PDF DIGITAL EDITION'),\n (430, '824 pp'),\n (431, 'unabridged audio download'),\n (432, 'Bound, Hardcover'),\n (433, 'Fiction Chapbook'),\n (434, 'POche'),\n (435, 'Clothbound'),\n (436, 'Relie'),\n (437, 'handbound perfect binding'),\n (438, 'Soft Cover [Dan Xing Ben ]'),\n (439, 'Paperback, Kindle eBook'),\n (440, 'Leather-finish bound'),\n (441, 'HardCover'),\n (442, 'CBR - Comic Book Reader'),\n (443, 'Spillato'),\n (444, 'Trade Paperbck'),\n (445, 'Pamphlets in sleeve'),\n (446, 'Audio CD - Narrated by Lily Rabe'),\n (447, 'Big Book'),\n (448, 'Spiral Bound Paperback'),\n (449, 'Manga Box'),\n (450, 'Cloth'),\n (451, 'glyngwr'),\n (452, 'Graphic novel'),\n (453, 'Paperback with Cassette'),\n (454, 'Radio Play'),\n (455, 'Hardcover/Paperback'),\n (456, 'Hardcover-LP'),\n (457, 'Special Size'),\n (458, 'Paperback with DVD'),\n (459, 'Hardcover with hidden spiral'),\n (460, 'Paperbook, Ebook'),\n (461, 'Paper Back'),\n (462, 'Paperback, Ebook'),\n (463, 'Hardcover [LARGE PRINT]'),\n (464, 'Radio Drama'),\n (465, 'PDF eBook'),\n (466, 'Ebook with Audio/Video'),\n (467, 'Preloaded Digital Player'),\n (468, 'fiction'),\n (469, 'paperback, Ebook'),\n (470, 'Hardcover Spiral-bound'),\n (471, 'DVD NTSC'),\n (472, '8.5&quot; x 11&quot;, perfect binding, black and white interior ink'),\n (473, 'Flex-Bind'),\n (474, 'Artpaper'),\n (475, 'mass paperback'),\n (476, 'B6'),\n (477, 'Linen-bound Softcover'),\n (478, 'Abriged Audio CD'),\n (479, 'Hardcover &amp; eBook'),\n (480, 'Webtoon'),\n (481, 'frsy nglysy glsh / landScap'),\n (482, 'Audio CD -- Unabridged'),\n (483, 'Audio CD (unabridged)'),\n (484, 'Bolso'),\n (485, 'Artbook'),\n (486, 'brochura'),\n (487, 'Laminated Paperback'),\n (488, 'paper book'),\n (489, 'TruTone'),\n (490, 'Ring binder'),\n (491, 'papel'),\n (492, 'TPB'),\n (493, '16 pp concertina binding'),\n (494, 'Cards accompanied by a booklet'),\n (495, 'Tarot Cards &amp; Book Set'),\n (496, 'Wire-O binding'),\n (497, 'Imitation Leather'),\n (498, 'e-book and trade paperback'),\n (499, 'Softcover album'),\n (500, 'Hard Copy'),\n (501, 'MP3 Download'),\n (502, 'Chapbook/Pamphlet'),\n (503, '10 Audio CDs'),\n (504, 'game'),\n (505, 'comic book'),\n (506, 'Paperback and EBook'),\n (507, 'Board'),\n (508, 'Pop-up'),\n (509, 'Paperback, 21 x 29 cm'),\n (510, 'Covercraft'),\n (511, 'miekka (paperback), 142 x 202 mm'),\n (512, 'Card Book'),\n (513, 'Hardcover/Trade paper'),\n (514, '11x18'),\n (515, 'Storpocket'),\n (516, 'mjlWdn'),\n (517, \"Audio Cassette Narrated by Madeleine L'Engle\"),\n (518, 'Clothbound Hardback'),\n (519, 'school binding'),\n (520, 'rustica'),\n (521, 'Paper &amp; Ebook'),\n (522, 'Paperback &amp; Audio CD'),\n (523, 'compilation'),\n (524, 'tapa blanda'),\n (525, 'Print on Demand Paperback'),\n (526, 'Library Edition'),\n (527, 'Perfect-Bound'),\n (528, 'Hardcover, Sewn Binding, Paper Dust Jacket'),\n (529, 'Hardcover and Paperback'),\n (530, 'Saddle Stitch'),\n (531, 'Book and DVD'),\n (532, 'B Format Paperback'),\n (533, 'Vinyl Cover'),\n (534, 'FC'),\n (535, 'Cloth Hardcover'),\n (536, 'Deluxe Flexicover'),\n (537, 'Paperpack'),\n (538, 'Advance Reader Copy'),\n (539, 'Paperback, photos, color insert'),\n (540, 'pocket paperback'),\n (541, 'Unabriged Audio CD'),\n (542, 'Playaway digital media player'),\n (543, 'Audio CD + ebook'),\n (544, 'Paperback, 13.5 x 21 cm'),\n (545, 'UK paperback'),\n (546, '6 x 9 paperback'),\n (547, '20x12cm'),\n (548, 'Kindle, Nook, and Print'),\n (549, 'Gekartonneerd'),\n (550, 'Vinyl'),\n (551, '13x20 cm'),\n (552, 'Bolsillo con solapas'),\n (553, 'Mass market paperback'),\n (554, 'Audio CD-Narrated by Oliver Wyman'),\n (555, 'Hardcover, ebook'),\n (556, 'Oversized Paperback'),\n (557, 'Large Type'),\n (558, 'Kindle and Paperback'),\n (559, 'Pre-recorded MP3 player'),\n (560, 'Boardbook'),\n (561, 'Paperback, Hardcover'),\n (562, 'Capa mole - 15 x 23 x 3 cm'),\n (563, 'Slipcase Hardcover'),\n (564, 'Print and ebook'),\n (565, 'Econo-clad'),\n (566, 'DVD + paperback'),\n (567, 'NOOKbook/ BN ebook'),\n (568, 'Grapa'),\n (569, 'Hardcover + 2 CDs'),\n (570, 'Paperback graphic novel'),\n (571, 'Paperback Bunko'),\n (572, 'Pdf e-book and Paperback'),\n (573, '15 x 17cm'),\n (574, 'Saddle stitched'),\n (575, '13 x 19 cm'),\n (576, \"Collector's Edition\"),\n (577, 'Bound, Paperback'),\n (578, \"Book and 4 CD's\"),\n (579, 'Storygraph'),\n (580, 'Heftet'),\n (581, 'Hardcover, Paper Dust Jacket'),\n (582, 'Paperback 16/24'),\n (583, 'Paperbound Chapbook'),\n (584, 'Paperback / shwmyz'),\n (585, 'MOBI, EPUB, PDF'),\n (586, 'Paperback, Paper Dust Jacket'),\n (587, 'fydybw'),\n (588, 'box set'),\n (589, 'Bonded Leather'),\n (590, 'Cartone con sobrecubierta'),\n (591, 'Tarot Cards &amp; Book'),\n (592, 'Stapled'),\n (593, 'brochado'),\n (594, 'Unabridged CD'),\n (595, 'Paper, Hardcover'),\n (596, 'Bolso, capa mole (16,8cmx11cm)'),\n (597, 'Paperbacks'),\n (598, 'Capa mole - 16 x 24 x 1,5 cm'),\n (599, 'Mixed media product - Hardcover and CDs'),\n (600, 'Tarot Deck and Booklet'),\n (601, 'Illustrated Book and CD Set'),\n (602, 'novel'),\n (603, 'Boxed Set - Hardcover'),\n (604, 'Hardcover, Multimedia Book &amp; CD Set'),\n (605, 'NOOK Book'),\n (606, 'perfect bound'),\n (607, 'online fiction'),\n (608, 'cetak ulang ganti cover'),\n (609, 'Prebound'),\n (610, 'Paperback, Kindle, Nook, iBook'),\n (611, 'DVD (NTSC)'),\n (612, 'Hardcover + CD'),\n (613, 'Bookprint'),\n (614, 'Pop Up Book'),\n (615, 'Paperback + Audio CD'),\n (616, 'paper back and kindle'),\n (617, 'Saddle-stitched'),\n (618, 'paperback, hardcover, e-book'),\n (619, 'Uncorrected Proof'),\n (620, '17x23'),\n (621, 'zine'),\n (622, '6 Audio Cassettes'),\n (623, 'Hardcover, Paperback, Digital'),\n (624, 'Paperback with Audio CD'),\n (625, 'paperback, kindle'),\n (626, 'Hardcover Boxed Set'),\n (627, 'ePub'),\n (628, 'Laser Disc'),\n (629, 'Book Club Omnibus'),\n (630, 'Paperback with CD Rom'),\n (631, 'Picture Book'),\n (632, 'Music Score'),\n (633, 'Box set with Cards'),\n (634, 'Hardcover Picture Book'),\n (635, 'Grapic Novel'),\n (636, 'Hardcover Box Set'),\n (637, 'Quadrat'),\n (638, 'Nook Edition'),\n (639, 'Paperback Printing'),\n (640, 'Paper-bound Softcover'),\n (641, 'Prestige One-Shot'),\n (642, 'Paperback - UK'),\n (643, 'paperback, e-book'),\n (644, 'Pocket Edition'),\n (645, 'Bolsillo con sobrecubierta'),\n (646, 'paperback, KIndle, ebook pdf'),\n (647, 'Audio CD [Unabridged]'),\n (648, 'Bolsigrapa'),\n (649, 'Pocket Book'),\n (650, 'Bound paperback'),\n (651, 'geheftet'),\n (652, 'Hardcover + CD rom'),\n (653, 'Hardcover in slipcase'),\n (654, '20 Audio CDs'),\n (655, 'Audio  [With Earbuds]'),\n (656, 'Box-Fold-Out'),\n (657, 'Hardcover - Deluxe Illustrated Edition'),\n (658, '[pack].'),\n (659, 'cartonne'),\n (660, 'Ebook'),\n (661, 'Papreback'),\n (662, 'PDF Format'),\n (663, 'Trade Paperback - hardback'),\n (664, 'jacket'),\n (665, 'E - PDF'),\n (666, 'Newspaper'),\n (667, 'Crime and Investigation'),\n (668, 'Demy'),\n (669, 'Zine'),\n (670, 'Kleinoktav-Format'),\n (671, 'Paperback, Perfect Bound'),\n (672, 'Audio CD (Unabr.)'),\n (673, '8&quot; x 10&quot; Softcover'),\n (674, 'audiobook mp3'),\n (675, 'Downloadable Audio File'),\n (676, 'Dutch binding'),\n (677, 'Livro de bolso'),\n (678, 'Brochura (Paperback)'),\n (679, 'Half hardcover'),\n (680, 'teeny tiny hardcover'),\n (681, 'Exhibition Pamphlet'),\n (682, 'Large Format  Magazine'),\n (683, 'PB'),\n (684, 'paperback ARC'),\n (685, 'Boxed set'),\n (686, 'audiocassette'),\n (687, 'B'),\n (688, '14x21 cm'),\n (689, 'Oversized Slipcased Hardcover'),\n (690, 'CD'),\n (691, 'TB 13,1 x 2 x 19 cm'),\n (692, 'Graphic Anthology'),\n (693, 'Print &amp; Ebook'),\n (694, 'Pop-Up Book'),\n (695, 'Saddle Stitch  Chapbook'),\n (696, 'Game'),\n (697, 'Book + Audio Cassette'),\n (698, 'Advance Uncorrected Proof'),\n (699, 'ebook, paperback, Audible audio'),\n (700, 'tascabile'),\n (701, 'Rilegato in seta'),\n (702, 'Flexi-cover binding'),\n (703, 'Perfect Bound'),\n (704, 'bolsillo'),\n (705, 'vazana vazba'),\n (706, 'leatherbound'),\n (707, 'data-CD'),\n (708, 'Pictorial Book'),\n (709, 'online'),\n (710, 'Kindle Edition and Paper Back'),\n (711, 'Book, additional audio'),\n (712, 'Hardcover, eBook'),\n (713, 'board book'),\n (714, 'Trade paperback &amp; ebook'),\n (715, 'eBook, paperback'),\n (716, 'Livre-CD'),\n (717, 'Audiobook - Audible Download'),\n (718, 'ebook, cd or download +30 mb,    17,000 wds'),\n (719, 'Paperback + 1 audio CD'),\n (720, 'Comic book'),\n (721, 'paperback, Kindle'),\n (722, 'dwrh dw jldy'),\n (723, 'Paperback (Large Print)'),\n (724, 'oversized paperback'),\n (725, 'Textbook'),\n (726, 'Trade paperback, ebook'),\n (727, 'Stample bound'),\n (728, '3-ring Binder'),\n (729, 'fq'),\n (730, 'box with loose sheets'),\n (731, 'Foam Book'),\n (732, 'katoniert'),\n (733, 'Article'),\n (734, 'Paperback, Kindle Edition'),\n (735, 'Soft Cover (Flap Cover)'),\n (736, 'Spiral Binding in Hardcover'),\n (737, 'Sheet music'),\n (738, 'hardback, ebook'),\n (739, 'Digital Comic'),\n (740, 'Mixed Media'),\n (741, '2 CD-ROMs'),\n (742, 'Book + cd'),\n (743, 'Binder-Bound'),\n (744, 'Book, DVD, CD, Cards, Glass Healing Crystal'),\n (745, 'Kindle, Paperback, Ebook'),\n (746, 'School And Library Binding'),\n (747, 'Paperback with deck of cards'),\n (748, 'Paperback (Miagkaia oblozhka)'),\n (749, 'Paperback, Kindle, Audio'),\n (750, 'Plastic Comb/Paperback'),\n (751, 'Electronic, Paperback'),\n (752, 'Plastic-comb bound hardcover'),\n (753, 'Print on Demand (Paperback)'),\n (754, 'Bolsillo en tapa dura'),\n (755, 'Paperback / Digital'),\n (756, 'Trade papaerback'),\n (757, 'graphic novel'),\n (758, 'Audio Cassette (Libr.) (Unabr.)'),\n (759, 'Downloadable audio file'),\n (760, 'Full Color Paperback'),\n (761, 'Book and Toy'),\n (762, 'book and kindle'),\n (763, 'Audio CD - Narrated by Bill Bryson'),\n (764, 'Downloadable Audiobook'),\n (765, 'Cofanetto'),\n (766, 'Audio Cassette - Unabridged'),\n (767, 'Playaway edition'),\n (768, 'sew-bound'),\n (769, 'Print'),\n (770, 'Graphic Novel Paperback'),\n (771, 'Hardocover'),\n (772, 'Sewn paperback with dust jacket'),\n (773, 'Paper cover'),\n (774, 'chrome'),\n (775, 'Audio CD [Abridged]'),\n (776, 'Haeftet'),\n (777, 'Audible MP3 Download'),\n (778, 'Perfect paperback'),\n (779, 'Boxed Collection'),\n (780, 'Flexibler Einband'),\n (781, 'paperback,e-book, audio'),\n (782, 'Livro de Bolso: Pocket Book'),\n (783, 'Plastic'),\n (784, 'Paperback + 2 CDs'),\n (785, 'UK Paperback'),\n (786, 'Softback with gatefold'),\n (787, 'Printed'),\n (788, 'tjlyd fny'),\n (789, 'Abridged Board Book'),\n (790, 'print, perfect binding'),\n (791, 'Paperback Guide with 2 Audio CDs'),\n (792, 'brosiran'),\n (793, 'Advanced Reader Copy'),\n (794, 'eBook and softcover'),\n (795, 'Hardcover + Audiobook'),\n (796, 'Paperback School &amp; Library Binding'),\n (797, 'Livro de Bolso (Pocket Book)'),\n (798, 'Playaway audio book'),\n (799, 'e book Print'),\n (800, \"Advance Reader's Copy\"),\n (801, 'Wattpad'),\n (802, 'Economico'),\n (803, 'black bonded leather'),\n (804, 'Graphic Paperback'),\n (805, 'novelty book'),\n (806, 'Abriged Unknown Binding'),\n (807, 'Glf `dy, 21x14'),\n (808, 'Mass-market paperback'),\n (809, 'Abridged Audio CD - Narrated by Deanna Hurst'),\n (810, 'Bande dessinee'),\n (811, 'Tankobon'),\n (812, 'Bound, eBook'),\n (813, 'Plushie'),\n (814, 'Softcover with Flap'),\n (815, 'Hardcover, Paperback, Ebook'),\n (816, 'mjmw`h dstn'),\n (817, 'Grand format'),\n (818, 'paperpack'),\n (819, 'Paperback, Mobipocket and Amazon &quot;Kindle&quot; ebook'),\n (820, 'Paperback and Kindle Edition'),\n (821, 'paper; 448pp'),\n (822, 'Paperback, Kindle, ibook'),\n (823, 'Paperback+CD'),\n (824, 'Abriged Audio Cassette'),\n (825, 'Leinengebunden'),\n (826, 'Hardcover Art and Poetry Gift Book'),\n (827, 'Paperback + DVD set'),\n (828, 'Paperback in Hard Sleeve'),\n (829, 'Hardcover Pop-Up'),\n (830, 'Hardcover 21,4 x 21,4 x 1,4 cm'),\n (831, 'Encuadernacion rustica'),\n (832, 'Custodia'),\n (833, 'Print and Download'),\n (834, 'Audio Download'),\n (835, 'Other'),\n (836, 'Kindle Edition &amp; Paperback'),\n (837, 'Stapled, unpaginated chapbook'),\n (838, 'Text/Workbook'),\n (839, 'Bolsilibro'),\n (840, 'Paperback and Kindle eBook'),\n (841, 'Soft Cover 512 pages'),\n (842, 'Trade Edition'),\n (843, 'Paperback/Hardback'),\n (844, 'Deck of Oracle Cards'),\n (845, 'Paperback+DvD'),\n (846, 'Poetry chapbook'),\n (847, 'Unknown'),\n (848, 'electronic &amp; print'),\n (849, 'eAudio'),\n (850, 'paperback and Kindle'),\n (851, '5 audio cds'),\n (852, '5 audio cassette'),\n (853, 'Paperback, eBook, Audible'),\n (854, '70x90/32'),\n (855, 'kartoniert'),\n (856, 'shwmyz/paperback'),\n (857, 'Hardcover plus bonus VCD'),\n (858, 'Paper-pound Hardcover'),\n (859, 'Tverdyi pereplet/cloth'),\n (860, 'Hardcover im Schuber'),\n (861, 'Graphic Novel Trade Hardcover'),\n (862, 'Kindle Edition and Trade Paperback'),\n (863, 'paperback, Kindle eBook'),\n (864, 'Light Novel'),\n (865, 'eBook and Hardcover'),\n (866, 'Library bound'),\n (867, 'Hardcover w/cd'),\n (868, 'PA'),\n (869, 'Exhibition Catalogue'),\n (870, 'saddle-stitched'),\n (871, '78 Card Tarot Deck'),\n (872, 'Taschenbuch; kindle edition'),\n (873, 'Rilegato Lino'),\n (874, 'Hardcovver'),\n (875, 'historical fiction--young adult'),\n (876, 'eJournal')]"
     },
     "execution_count": 25,
     "metadata": {},
     "output_type": "execute_result"
    }
   ],
   "source": [
    "cursor.execute(\"SELECT idFormat, format FROM FORMAT\")\n",
    "results = cursor.fetchall()\n",
    "results"
   ],
   "metadata": {
    "pycharm": {
     "name": "#%%\n"
    },
    "id": "bXA1JCyc0h0U",
    "outputId": "5f544294-7320-4512-b219-ff575ed351f4"
   }
  },
  {
   "cell_type": "code",
   "execution_count": 26,
   "outputs": [
    {
     "data": {
      "text/plain": "    book_id                                              title        isbn   \n1   1333909                                        Good Harbor  0743509986  \\\n3   6066819                               Best Friends Forever  0743294297   \n5    287141                      The Aeneid for Boys and Girls  1599150603   \n7   6066812  All's Fairy in Love and War (Avalon: Web of Ma...  1934876569   \n9    287149                               The Devil's Notebook  0922915113   \n10  6066814          Crowner Royal (Crowner John Mystery, #13)  184737297X   \n12    89371                                   The Te Of Piglet  0413675106   \n15    89375  90 Minutes in Heaven: A True Story of Death an...  0800759494   \n16    89376                                             Heaven  0842379428   \n17    89377                                  Penny from Heaven  037583687X   \n\n   language_code  is_ebook  average_rating   \n1        unknown       0.0            3.23  \\\n3            eng       0.0            3.49   \n5        unknown       0.0            4.13   \n7        unknown       0.0            4.22   \n9        unknown       0.0            3.81   \n10       unknown       0.0            3.93   \n12       unknown       0.0            3.81   \n15       unknown       0.0            3.91   \n16           eng       0.0            4.26   \n17       unknown       0.0            3.98   \n\n                                        similar_books   \n1   ['8709549', '17074050', '28937', '158816', '22...  \\\n3   ['6604176', '6054190', '2285777', '82641', '75...   \n5                                                  []   \n7   ['948696', '439885', '274955', '12978730', '37...   \n9   ['287151', '1104760', '1172822', '440292', '28...   \n10  ['439108', '522621', '116770', '1275927', '620...   \n12  ['888460', '734023', '147311', '219106', '3139...   \n15  ['299795', '8100288', '7570892', '53817', '121...   \n16  ['45366', '246849', '11096385', '19102466', '7...   \n17  ['614054', '272343', '824934', '581383', '9359...   \n\n                                          description     format   \n1   Anita Diamant's international bestseller \"The ...   Audio CD  \\\n3   Addie Downs and Valerie Adler were eight when ...  Hardcover   \n5   Relates in vigorous prose the tale of Aeneas, ...  Paperback   \n7   To Kara's astonishment, she discovers that a p...  Paperback   \n9   Wisdom, humor, and dark observations by the fo...  Paperback   \n10  London, 1196. At the command of Richard the Li...  Hardcover   \n12  Taoist philosophy explained using examples fro...    unknown   \n15  As he is driving home from a minister's confer...    unknown   \n16  What is Heaven really going to be like? What w...    unknown   \n17  It's 1953 and 11-year-old Penny dreams of a su...  Hardcover   \n\n                                            cover_img                author   \n1   https://s.gr-assets.com/assets/nophoto/book/11...            ['626222']  \\\n3   https://s.gr-assets.com/assets/nophoto/book/11...              ['9212']   \n5   https://s.gr-assets.com/assets/nophoto/book/11...           ['3041852']   \n7   https://images.gr-assets.com/books/1316637798m...             ['19158']   \n9   https://images.gr-assets.com/books/1328768789m...  ['2983296', '40075']   \n10  https://images.gr-assets.com/books/1328724803m...             ['37778']   \n12  https://s.gr-assets.com/assets/nophoto/book/11...             ['27397']   \n15  https://s.gr-assets.com/assets/nophoto/book/11...    ['39054', '11099']   \n16  https://images.gr-assets.com/books/1406508230m...              ['4862']   \n17  https://images.gr-assets.com/books/1320470906m...            ['137561']   \n\n                               publisher  num_pages edition_information   \n1                 Simon & Schuster Audio       -1.0            Abridged  \\\n3                            Atria Books      368.0             unknown   \n5                   Yesterday's Classics      162.0             unknown   \n7                             Seven Seas      216.0             unknown   \n9                            Feral House      147.0             unknown   \n10                   Simon & Schuster UK      400.0             unknown   \n12                               unknown       -1.0             unknown   \n15                               unknown       -1.0             unknown   \n16                               unknown      533.0             unknown   \n17  Random House Books for Young Readers      288.0             unknown   \n\n    publication_year  ratings_count  format_code  \n1             2001.0           10.0            1  \n3             2009.0        51184.0            2  \n5             2006.0           46.0            3  \n7             2009.0           98.0            3  \n9             2000.0          986.0            3  \n10            2009.0          186.0            2  \n12              -1.0           11.0            4  \n15              -1.0        68157.0            4  \n16              -1.0         7345.0            4  \n17            2006.0         6949.0            2  ",
      "text/html": "<div>\n<style scoped>\n    .dataframe tbody tr th:only-of-type {\n        vertical-align: middle;\n    }\n\n    .dataframe tbody tr th {\n        vertical-align: top;\n    }\n\n    .dataframe thead th {\n        text-align: right;\n    }\n</style>\n<table border=\"1\" class=\"dataframe\">\n  <thead>\n    <tr style=\"text-align: right;\">\n      <th></th>\n      <th>book_id</th>\n      <th>title</th>\n      <th>isbn</th>\n      <th>language_code</th>\n      <th>is_ebook</th>\n      <th>average_rating</th>\n      <th>similar_books</th>\n      <th>description</th>\n      <th>format</th>\n      <th>cover_img</th>\n      <th>author</th>\n      <th>publisher</th>\n      <th>num_pages</th>\n      <th>edition_information</th>\n      <th>publication_year</th>\n      <th>ratings_count</th>\n      <th>format_code</th>\n    </tr>\n  </thead>\n  <tbody>\n    <tr>\n      <th>1</th>\n      <td>1333909</td>\n      <td>Good Harbor</td>\n      <td>0743509986</td>\n      <td>unknown</td>\n      <td>0.0</td>\n      <td>3.23</td>\n      <td>['8709549', '17074050', '28937', '158816', '22...</td>\n      <td>Anita Diamant's international bestseller \"The ...</td>\n      <td>Audio CD</td>\n      <td>https://s.gr-assets.com/assets/nophoto/book/11...</td>\n      <td>['626222']</td>\n      <td>Simon &amp; Schuster Audio</td>\n      <td>-1.0</td>\n      <td>Abridged</td>\n      <td>2001.0</td>\n      <td>10.0</td>\n      <td>1</td>\n    </tr>\n    <tr>\n      <th>3</th>\n      <td>6066819</td>\n      <td>Best Friends Forever</td>\n      <td>0743294297</td>\n      <td>eng</td>\n      <td>0.0</td>\n      <td>3.49</td>\n      <td>['6604176', '6054190', '2285777', '82641', '75...</td>\n      <td>Addie Downs and Valerie Adler were eight when ...</td>\n      <td>Hardcover</td>\n      <td>https://s.gr-assets.com/assets/nophoto/book/11...</td>\n      <td>['9212']</td>\n      <td>Atria Books</td>\n      <td>368.0</td>\n      <td>unknown</td>\n      <td>2009.0</td>\n      <td>51184.0</td>\n      <td>2</td>\n    </tr>\n    <tr>\n      <th>5</th>\n      <td>287141</td>\n      <td>The Aeneid for Boys and Girls</td>\n      <td>1599150603</td>\n      <td>unknown</td>\n      <td>0.0</td>\n      <td>4.13</td>\n      <td>[]</td>\n      <td>Relates in vigorous prose the tale of Aeneas, ...</td>\n      <td>Paperback</td>\n      <td>https://s.gr-assets.com/assets/nophoto/book/11...</td>\n      <td>['3041852']</td>\n      <td>Yesterday's Classics</td>\n      <td>162.0</td>\n      <td>unknown</td>\n      <td>2006.0</td>\n      <td>46.0</td>\n      <td>3</td>\n    </tr>\n    <tr>\n      <th>7</th>\n      <td>6066812</td>\n      <td>All's Fairy in Love and War (Avalon: Web of Ma...</td>\n      <td>1934876569</td>\n      <td>unknown</td>\n      <td>0.0</td>\n      <td>4.22</td>\n      <td>['948696', '439885', '274955', '12978730', '37...</td>\n      <td>To Kara's astonishment, she discovers that a p...</td>\n      <td>Paperback</td>\n      <td>https://images.gr-assets.com/books/1316637798m...</td>\n      <td>['19158']</td>\n      <td>Seven Seas</td>\n      <td>216.0</td>\n      <td>unknown</td>\n      <td>2009.0</td>\n      <td>98.0</td>\n      <td>3</td>\n    </tr>\n    <tr>\n      <th>9</th>\n      <td>287149</td>\n      <td>The Devil's Notebook</td>\n      <td>0922915113</td>\n      <td>unknown</td>\n      <td>0.0</td>\n      <td>3.81</td>\n      <td>['287151', '1104760', '1172822', '440292', '28...</td>\n      <td>Wisdom, humor, and dark observations by the fo...</td>\n      <td>Paperback</td>\n      <td>https://images.gr-assets.com/books/1328768789m...</td>\n      <td>['2983296', '40075']</td>\n      <td>Feral House</td>\n      <td>147.0</td>\n      <td>unknown</td>\n      <td>2000.0</td>\n      <td>986.0</td>\n      <td>3</td>\n    </tr>\n    <tr>\n      <th>10</th>\n      <td>6066814</td>\n      <td>Crowner Royal (Crowner John Mystery, #13)</td>\n      <td>184737297X</td>\n      <td>unknown</td>\n      <td>0.0</td>\n      <td>3.93</td>\n      <td>['439108', '522621', '116770', '1275927', '620...</td>\n      <td>London, 1196. At the command of Richard the Li...</td>\n      <td>Hardcover</td>\n      <td>https://images.gr-assets.com/books/1328724803m...</td>\n      <td>['37778']</td>\n      <td>Simon &amp; Schuster UK</td>\n      <td>400.0</td>\n      <td>unknown</td>\n      <td>2009.0</td>\n      <td>186.0</td>\n      <td>2</td>\n    </tr>\n    <tr>\n      <th>12</th>\n      <td>89371</td>\n      <td>The Te Of Piglet</td>\n      <td>0413675106</td>\n      <td>unknown</td>\n      <td>0.0</td>\n      <td>3.81</td>\n      <td>['888460', '734023', '147311', '219106', '3139...</td>\n      <td>Taoist philosophy explained using examples fro...</td>\n      <td>unknown</td>\n      <td>https://s.gr-assets.com/assets/nophoto/book/11...</td>\n      <td>['27397']</td>\n      <td>unknown</td>\n      <td>-1.0</td>\n      <td>unknown</td>\n      <td>-1.0</td>\n      <td>11.0</td>\n      <td>4</td>\n    </tr>\n    <tr>\n      <th>15</th>\n      <td>89375</td>\n      <td>90 Minutes in Heaven: A True Story of Death an...</td>\n      <td>0800759494</td>\n      <td>unknown</td>\n      <td>0.0</td>\n      <td>3.91</td>\n      <td>['299795', '8100288', '7570892', '53817', '121...</td>\n      <td>As he is driving home from a minister's confer...</td>\n      <td>unknown</td>\n      <td>https://s.gr-assets.com/assets/nophoto/book/11...</td>\n      <td>['39054', '11099']</td>\n      <td>unknown</td>\n      <td>-1.0</td>\n      <td>unknown</td>\n      <td>-1.0</td>\n      <td>68157.0</td>\n      <td>4</td>\n    </tr>\n    <tr>\n      <th>16</th>\n      <td>89376</td>\n      <td>Heaven</td>\n      <td>0842379428</td>\n      <td>eng</td>\n      <td>0.0</td>\n      <td>4.26</td>\n      <td>['45366', '246849', '11096385', '19102466', '7...</td>\n      <td>What is Heaven really going to be like? What w...</td>\n      <td>unknown</td>\n      <td>https://images.gr-assets.com/books/1406508230m...</td>\n      <td>['4862']</td>\n      <td>unknown</td>\n      <td>533.0</td>\n      <td>unknown</td>\n      <td>-1.0</td>\n      <td>7345.0</td>\n      <td>4</td>\n    </tr>\n    <tr>\n      <th>17</th>\n      <td>89377</td>\n      <td>Penny from Heaven</td>\n      <td>037583687X</td>\n      <td>unknown</td>\n      <td>0.0</td>\n      <td>3.98</td>\n      <td>['614054', '272343', '824934', '581383', '9359...</td>\n      <td>It's 1953 and 11-year-old Penny dreams of a su...</td>\n      <td>Hardcover</td>\n      <td>https://images.gr-assets.com/books/1320470906m...</td>\n      <td>['137561']</td>\n      <td>Random House Books for Young Readers</td>\n      <td>288.0</td>\n      <td>unknown</td>\n      <td>2006.0</td>\n      <td>6949.0</td>\n      <td>2</td>\n    </tr>\n  </tbody>\n</table>\n</div>"
     },
     "execution_count": 26,
     "metadata": {},
     "output_type": "execute_result"
    }
   ],
   "source": [
    "# create a dictionary mapping each format name to its integer code\n",
    "format_dict = {name: code for code, name in results}\n",
    "\n",
    "# use the map function to encode the 'format' column in your dataframe\n",
    "books['format_code'] = books['format'].map(format_dict)\n",
    "books.head(10)"
   ],
   "metadata": {
    "pycharm": {
     "name": "#%%\n"
    },
    "id": "1hiXQAIE0h0U",
    "outputId": "0d9ce80e-32f5-474b-fd83-9d9b99c73617"
   }
  },
  {
   "cell_type": "code",
   "execution_count": 27,
   "outputs": [
    {
     "data": {
      "text/plain": "[(1, 'unknown'),\n (2, 'eng'),\n (3, 'spa'),\n (4, 'en-US'),\n (5, 'ita'),\n (6, 'mon'),\n (7, 'fre'),\n (8, 'per'),\n (9, 'ara'),\n (10, 'lav'),\n (11, 'jpn'),\n (12, 'ger'),\n (13, 'kor'),\n (14, 'fin'),\n (15, 'en-GB'),\n (16, 'nl'),\n (17, 'tur'),\n (18, 'bul'),\n (19, 'zho'),\n (20, 'fil'),\n (21, 'por'),\n (22, 'nor'),\n (23, 'pol'),\n (24, 'ind'),\n (25, 'dan'),\n (26, 'swe'),\n (27, 'gre'),\n (28, 'en-CA'),\n (29, 'rus'),\n (30, 'slv'),\n (31, 'scr'),\n (32, 'heb'),\n (33, 'nob'),\n (34, 'mar'),\n (35, 'srp'),\n (36, 'pes'),\n (37, 'hun'),\n (38, 'est'),\n (39, 'ben'),\n (40, 'afr'),\n (41, 'mul'),\n (42, 'cze'),\n (43, 'cat'),\n (44, 'msa'),\n (45, 'kat'),\n (46, 'rum'),\n (47, 'mus'),\n (48, 'tam'),\n (49, 'ukr'),\n (50, 'bos'),\n (51, 'lit'),\n (52, 'enm'),\n (53, 'hin'),\n (54, 'isl'),\n (55, 'crh'),\n (56, 'es-MX'),\n (57, 'urd'),\n (58, 'tha'),\n (59, 'vie'),\n (60, 'tel'),\n (61, 'slo'),\n (62, 'nep'),\n (63, 'tgl'),\n (64, 'lat'),\n (65, 'mkd'),\n (66, 'mal'),\n (67, 'grc'),\n (68, 'nno'),\n (69, 'sin'),\n (70, 'glg'),\n (71, 'mlt'),\n (72, 'ada'),\n (73, '--'),\n (74, 'apa'),\n (75, 'dum'),\n (76, 'pt-BR'),\n (77, 'tut'),\n (78, 'frs'),\n (79, 'arg'),\n (80, 'ang'),\n (81, 'hye'),\n (82, 'vls'),\n (83, 'jav'),\n (84, 'tlh'),\n (85, 'aze'),\n (86, 'abk'),\n (87, 'gle'),\n (88, 'wel'),\n (89, 'guj'),\n (90, 'fao'),\n (91, 'kan'),\n (92, 'sqi'),\n (93, 'ace'),\n (94, 'oci'),\n (95, 'ast'),\n (96, 'eus'),\n (97, 'elx'),\n (98, 'dyu'),\n (99, 'sco'),\n (100, 'che'),\n (101, 'nld'),\n (102, 'raj'),\n (103, 'nqo'),\n (104, 'sun'),\n (105, 'cor'),\n (106, 'gsw'),\n (107, 'gmh'),\n (108, 'gla'),\n (109, 'egy'),\n (110, 'fiu'),\n (111, 'phi'),\n (112, 'frm'),\n (113, 'hat'),\n (114, 'awa'),\n (115, 'ava'),\n (116, 'swa'),\n (117, 'krl'),\n (118, 'peo'),\n (119, 'ota'),\n (120, 'dua'),\n (121, 'kur'),\n (122, 'ori'),\n (123, 'en-IN'),\n (124, 'epo'),\n (125, 'wak'),\n (126, 'vec'),\n (127, 'fan'),\n (128, 'yid'),\n (129, 'gem'),\n (130, 'scn'),\n (131, 'dut'),\n (132, 'myv'),\n (133, 'nav'),\n (134, 'roa'),\n (135, 'bam'),\n (136, 'kir'),\n (137, 'ira'),\n (138, 'ale'),\n (139, 'kau'),\n (140, 'bel'),\n (141, 'haw'),\n (142, 'hmn'),\n (143, 'aus'),\n (144, 'iba'),\n (145, 'fro'),\n (146, 'ave'),\n (147, 'ton'),\n (148, 'mya'),\n (149, 'pan'),\n (150, 'sot'),\n (151, 'anp'),\n (152, 'ady'),\n (153, 'ilo'),\n (154, 'zap'),\n (155, 'lao')]"
     },
     "execution_count": 27,
     "metadata": {},
     "output_type": "execute_result"
    }
   ],
   "source": [
    "cursor.execute(\"SELECT idLanguage, language FROM LANGUAGE\")\n",
    "results = cursor.fetchall()\n",
    "results"
   ],
   "metadata": {
    "pycharm": {
     "name": "#%%\n"
    },
    "id": "vbtdZHQl0h0U",
    "outputId": "923c8275-6801-4069-c5f4-870ee7dcc337"
   }
  },
  {
   "cell_type": "code",
   "execution_count": 28,
   "outputs": [
    {
     "data": {
      "text/plain": "    book_id                                              title        isbn   \n1   1333909                                        Good Harbor  0743509986  \\\n3   6066819                               Best Friends Forever  0743294297   \n5    287141                      The Aeneid for Boys and Girls  1599150603   \n7   6066812  All's Fairy in Love and War (Avalon: Web of Ma...  1934876569   \n9    287149                               The Devil's Notebook  0922915113   \n10  6066814          Crowner Royal (Crowner John Mystery, #13)  184737297X   \n12    89371                                   The Te Of Piglet  0413675106   \n15    89375  90 Minutes in Heaven: A True Story of Death an...  0800759494   \n16    89376                                             Heaven  0842379428   \n17    89377                                  Penny from Heaven  037583687X   \n\n   language_code  is_ebook  average_rating   \n1        unknown       0.0            3.23  \\\n3            eng       0.0            3.49   \n5        unknown       0.0            4.13   \n7        unknown       0.0            4.22   \n9        unknown       0.0            3.81   \n10       unknown       0.0            3.93   \n12       unknown       0.0            3.81   \n15       unknown       0.0            3.91   \n16           eng       0.0            4.26   \n17       unknown       0.0            3.98   \n\n                                        similar_books   \n1   ['8709549', '17074050', '28937', '158816', '22...  \\\n3   ['6604176', '6054190', '2285777', '82641', '75...   \n5                                                  []   \n7   ['948696', '439885', '274955', '12978730', '37...   \n9   ['287151', '1104760', '1172822', '440292', '28...   \n10  ['439108', '522621', '116770', '1275927', '620...   \n12  ['888460', '734023', '147311', '219106', '3139...   \n15  ['299795', '8100288', '7570892', '53817', '121...   \n16  ['45366', '246849', '11096385', '19102466', '7...   \n17  ['614054', '272343', '824934', '581383', '9359...   \n\n                                          description     format   \n1   Anita Diamant's international bestseller \"The ...   Audio CD  \\\n3   Addie Downs and Valerie Adler were eight when ...  Hardcover   \n5   Relates in vigorous prose the tale of Aeneas, ...  Paperback   \n7   To Kara's astonishment, she discovers that a p...  Paperback   \n9   Wisdom, humor, and dark observations by the fo...  Paperback   \n10  London, 1196. At the command of Richard the Li...  Hardcover   \n12  Taoist philosophy explained using examples fro...    unknown   \n15  As he is driving home from a minister's confer...    unknown   \n16  What is Heaven really going to be like? What w...    unknown   \n17  It's 1953 and 11-year-old Penny dreams of a su...  Hardcover   \n\n                                            cover_img                author   \n1   https://s.gr-assets.com/assets/nophoto/book/11...            ['626222']  \\\n3   https://s.gr-assets.com/assets/nophoto/book/11...              ['9212']   \n5   https://s.gr-assets.com/assets/nophoto/book/11...           ['3041852']   \n7   https://images.gr-assets.com/books/1316637798m...             ['19158']   \n9   https://images.gr-assets.com/books/1328768789m...  ['2983296', '40075']   \n10  https://images.gr-assets.com/books/1328724803m...             ['37778']   \n12  https://s.gr-assets.com/assets/nophoto/book/11...             ['27397']   \n15  https://s.gr-assets.com/assets/nophoto/book/11...    ['39054', '11099']   \n16  https://images.gr-assets.com/books/1406508230m...              ['4862']   \n17  https://images.gr-assets.com/books/1320470906m...            ['137561']   \n\n                               publisher  num_pages edition_information   \n1                 Simon & Schuster Audio       -1.0            Abridged  \\\n3                            Atria Books      368.0             unknown   \n5                   Yesterday's Classics      162.0             unknown   \n7                             Seven Seas      216.0             unknown   \n9                            Feral House      147.0             unknown   \n10                   Simon & Schuster UK      400.0             unknown   \n12                               unknown       -1.0             unknown   \n15                               unknown       -1.0             unknown   \n16                               unknown      533.0             unknown   \n17  Random House Books for Young Readers      288.0             unknown   \n\n    publication_year  ratings_count  format_code  language_code1  \n1             2001.0           10.0            1               1  \n3             2009.0        51184.0            2               2  \n5             2006.0           46.0            3               1  \n7             2009.0           98.0            3               1  \n9             2000.0          986.0            3               1  \n10            2009.0          186.0            2               1  \n12              -1.0           11.0            4               1  \n15              -1.0        68157.0            4               1  \n16              -1.0         7345.0            4               2  \n17            2006.0         6949.0            2               1  ",
      "text/html": "<div>\n<style scoped>\n    .dataframe tbody tr th:only-of-type {\n        vertical-align: middle;\n    }\n\n    .dataframe tbody tr th {\n        vertical-align: top;\n    }\n\n    .dataframe thead th {\n        text-align: right;\n    }\n</style>\n<table border=\"1\" class=\"dataframe\">\n  <thead>\n    <tr style=\"text-align: right;\">\n      <th></th>\n      <th>book_id</th>\n      <th>title</th>\n      <th>isbn</th>\n      <th>language_code</th>\n      <th>is_ebook</th>\n      <th>average_rating</th>\n      <th>similar_books</th>\n      <th>description</th>\n      <th>format</th>\n      <th>cover_img</th>\n      <th>author</th>\n      <th>publisher</th>\n      <th>num_pages</th>\n      <th>edition_information</th>\n      <th>publication_year</th>\n      <th>ratings_count</th>\n      <th>format_code</th>\n      <th>language_code1</th>\n    </tr>\n  </thead>\n  <tbody>\n    <tr>\n      <th>1</th>\n      <td>1333909</td>\n      <td>Good Harbor</td>\n      <td>0743509986</td>\n      <td>unknown</td>\n      <td>0.0</td>\n      <td>3.23</td>\n      <td>['8709549', '17074050', '28937', '158816', '22...</td>\n      <td>Anita Diamant's international bestseller \"The ...</td>\n      <td>Audio CD</td>\n      <td>https://s.gr-assets.com/assets/nophoto/book/11...</td>\n      <td>['626222']</td>\n      <td>Simon &amp; Schuster Audio</td>\n      <td>-1.0</td>\n      <td>Abridged</td>\n      <td>2001.0</td>\n      <td>10.0</td>\n      <td>1</td>\n      <td>1</td>\n    </tr>\n    <tr>\n      <th>3</th>\n      <td>6066819</td>\n      <td>Best Friends Forever</td>\n      <td>0743294297</td>\n      <td>eng</td>\n      <td>0.0</td>\n      <td>3.49</td>\n      <td>['6604176', '6054190', '2285777', '82641', '75...</td>\n      <td>Addie Downs and Valerie Adler were eight when ...</td>\n      <td>Hardcover</td>\n      <td>https://s.gr-assets.com/assets/nophoto/book/11...</td>\n      <td>['9212']</td>\n      <td>Atria Books</td>\n      <td>368.0</td>\n      <td>unknown</td>\n      <td>2009.0</td>\n      <td>51184.0</td>\n      <td>2</td>\n      <td>2</td>\n    </tr>\n    <tr>\n      <th>5</th>\n      <td>287141</td>\n      <td>The Aeneid for Boys and Girls</td>\n      <td>1599150603</td>\n      <td>unknown</td>\n      <td>0.0</td>\n      <td>4.13</td>\n      <td>[]</td>\n      <td>Relates in vigorous prose the tale of Aeneas, ...</td>\n      <td>Paperback</td>\n      <td>https://s.gr-assets.com/assets/nophoto/book/11...</td>\n      <td>['3041852']</td>\n      <td>Yesterday's Classics</td>\n      <td>162.0</td>\n      <td>unknown</td>\n      <td>2006.0</td>\n      <td>46.0</td>\n      <td>3</td>\n      <td>1</td>\n    </tr>\n    <tr>\n      <th>7</th>\n      <td>6066812</td>\n      <td>All's Fairy in Love and War (Avalon: Web of Ma...</td>\n      <td>1934876569</td>\n      <td>unknown</td>\n      <td>0.0</td>\n      <td>4.22</td>\n      <td>['948696', '439885', '274955', '12978730', '37...</td>\n      <td>To Kara's astonishment, she discovers that a p...</td>\n      <td>Paperback</td>\n      <td>https://images.gr-assets.com/books/1316637798m...</td>\n      <td>['19158']</td>\n      <td>Seven Seas</td>\n      <td>216.0</td>\n      <td>unknown</td>\n      <td>2009.0</td>\n      <td>98.0</td>\n      <td>3</td>\n      <td>1</td>\n    </tr>\n    <tr>\n      <th>9</th>\n      <td>287149</td>\n      <td>The Devil's Notebook</td>\n      <td>0922915113</td>\n      <td>unknown</td>\n      <td>0.0</td>\n      <td>3.81</td>\n      <td>['287151', '1104760', '1172822', '440292', '28...</td>\n      <td>Wisdom, humor, and dark observations by the fo...</td>\n      <td>Paperback</td>\n      <td>https://images.gr-assets.com/books/1328768789m...</td>\n      <td>['2983296', '40075']</td>\n      <td>Feral House</td>\n      <td>147.0</td>\n      <td>unknown</td>\n      <td>2000.0</td>\n      <td>986.0</td>\n      <td>3</td>\n      <td>1</td>\n    </tr>\n    <tr>\n      <th>10</th>\n      <td>6066814</td>\n      <td>Crowner Royal (Crowner John Mystery, #13)</td>\n      <td>184737297X</td>\n      <td>unknown</td>\n      <td>0.0</td>\n      <td>3.93</td>\n      <td>['439108', '522621', '116770', '1275927', '620...</td>\n      <td>London, 1196. At the command of Richard the Li...</td>\n      <td>Hardcover</td>\n      <td>https://images.gr-assets.com/books/1328724803m...</td>\n      <td>['37778']</td>\n      <td>Simon &amp; Schuster UK</td>\n      <td>400.0</td>\n      <td>unknown</td>\n      <td>2009.0</td>\n      <td>186.0</td>\n      <td>2</td>\n      <td>1</td>\n    </tr>\n    <tr>\n      <th>12</th>\n      <td>89371</td>\n      <td>The Te Of Piglet</td>\n      <td>0413675106</td>\n      <td>unknown</td>\n      <td>0.0</td>\n      <td>3.81</td>\n      <td>['888460', '734023', '147311', '219106', '3139...</td>\n      <td>Taoist philosophy explained using examples fro...</td>\n      <td>unknown</td>\n      <td>https://s.gr-assets.com/assets/nophoto/book/11...</td>\n      <td>['27397']</td>\n      <td>unknown</td>\n      <td>-1.0</td>\n      <td>unknown</td>\n      <td>-1.0</td>\n      <td>11.0</td>\n      <td>4</td>\n      <td>1</td>\n    </tr>\n    <tr>\n      <th>15</th>\n      <td>89375</td>\n      <td>90 Minutes in Heaven: A True Story of Death an...</td>\n      <td>0800759494</td>\n      <td>unknown</td>\n      <td>0.0</td>\n      <td>3.91</td>\n      <td>['299795', '8100288', '7570892', '53817', '121...</td>\n      <td>As he is driving home from a minister's confer...</td>\n      <td>unknown</td>\n      <td>https://s.gr-assets.com/assets/nophoto/book/11...</td>\n      <td>['39054', '11099']</td>\n      <td>unknown</td>\n      <td>-1.0</td>\n      <td>unknown</td>\n      <td>-1.0</td>\n      <td>68157.0</td>\n      <td>4</td>\n      <td>1</td>\n    </tr>\n    <tr>\n      <th>16</th>\n      <td>89376</td>\n      <td>Heaven</td>\n      <td>0842379428</td>\n      <td>eng</td>\n      <td>0.0</td>\n      <td>4.26</td>\n      <td>['45366', '246849', '11096385', '19102466', '7...</td>\n      <td>What is Heaven really going to be like? What w...</td>\n      <td>unknown</td>\n      <td>https://images.gr-assets.com/books/1406508230m...</td>\n      <td>['4862']</td>\n      <td>unknown</td>\n      <td>533.0</td>\n      <td>unknown</td>\n      <td>-1.0</td>\n      <td>7345.0</td>\n      <td>4</td>\n      <td>2</td>\n    </tr>\n    <tr>\n      <th>17</th>\n      <td>89377</td>\n      <td>Penny from Heaven</td>\n      <td>037583687X</td>\n      <td>unknown</td>\n      <td>0.0</td>\n      <td>3.98</td>\n      <td>['614054', '272343', '824934', '581383', '9359...</td>\n      <td>It's 1953 and 11-year-old Penny dreams of a su...</td>\n      <td>Hardcover</td>\n      <td>https://images.gr-assets.com/books/1320470906m...</td>\n      <td>['137561']</td>\n      <td>Random House Books for Young Readers</td>\n      <td>288.0</td>\n      <td>unknown</td>\n      <td>2006.0</td>\n      <td>6949.0</td>\n      <td>2</td>\n      <td>1</td>\n    </tr>\n  </tbody>\n</table>\n</div>"
     },
     "execution_count": 28,
     "metadata": {},
     "output_type": "execute_result"
    }
   ],
   "source": [
    "# create a dictionary mapping each format name to its integer code\n",
    "language_dict = {name: code for code, name in results}\n",
    "\n",
    "# use the map function to encode the 'format' column in your dataframe\n",
    "books['language_code1'] = books['language_code'].map(language_dict)\n",
    "books.head(10)"
   ],
   "metadata": {
    "pycharm": {
     "name": "#%%\n"
    },
    "id": "2Kl38Odm0h0U",
    "outputId": "02dc2a13-74e1-48aa-876a-b737600a1861"
   }
  },
  {
   "cell_type": "code",
   "execution_count": 29,
   "outputs": [],
   "source": [
    "for ind in books.index:\n",
    "    title = books.title[ind]\n",
    "    average_rating = books.average_rating[ind]\n",
    "    description = books.description[ind]\n",
    "    isbn = books.isbn[ind]\n",
    "    num_pages = int(books.num_pages[ind])\n",
    "    publication_year = int(books.publication_year[ind])\n",
    "    cover_img = books.cover_img[ind]\n",
    "    ratings_count = int(books.ratings_count[ind])\n",
    "    idLanguage = int(books.language_code1[ind])\n",
    "    edition_info = books.edition_information[ind]\n",
    "    is_ebook = books.is_ebook[ind]\n",
    "    idFormat = int(books.format_code[ind])\n",
    "    publisher = books.publisher[ind]\n",
    "\n",
    "    amount = random.randint(0, 10)\n",
    "    price = round(random.uniform(10, 999.99), 2)\n",
    "\n",
    "    sql = 'INSERT INTO BOOK (title, average_rating, description, isbn, num_pages, publication_year, cover_img, price, ratings_count, ' \\\n",
    "          'amount, Language_idLanguage, edition_information, is_ebook, publisher, Format_idFormat)' \\\n",
    "          ' values ( %s, %s, %s, %s, %s, %s, %s, %s, %s, %s, %s, %s, %s, %s, %s)'\n",
    "    val = (title, average_rating, description, isbn, num_pages, publication_year, cover_img, price, ratings_count, amount, idLanguage, edition_info, is_ebook, publisher, idFormat)\n",
    "    cursor.execute(sql, val)\n",
    "\n",
    "db.commit()"
   ],
   "metadata": {
    "pycharm": {
     "name": "#%%\n"
    },
    "id": "7NFH0D300h0V"
   }
  },
  {
   "cell_type": "code",
   "execution_count": 30,
   "outputs": [],
   "source": [
    "db.close()"
   ],
   "metadata": {
    "pycharm": {
     "name": "#%%\n"
    },
    "id": "L_9tbQ320h0V"
   }
  },
  {
   "cell_type": "code",
   "execution_count": 31,
   "outputs": [],
   "source": [
    "books.to_csv('processed_books.csv', index=False)"
   ],
   "metadata": {
    "pycharm": {
     "name": "#%%\n"
    },
    "id": "Q8NGOC1P0h0V"
   }
  },
  {
   "cell_type": "code",
   "execution_count": null,
   "outputs": [
    {
     "data": {
      "text/plain": "    book_id                                              title        isbn   \n1   1333909                                        Good Harbor  0743509986  \\\n3   6066819                               Best Friends Forever  0743294297   \n5    287141                      The Aeneid for Boys and Girls  1599150603   \n7   6066812  All's Fairy in Love and War (Avalon: Web of Ma...  1934876569   \n9    287149                               The Devil's Notebook  0922915113   \n10  6066814          Crowner Royal (Crowner John Mystery, #13)  184737297X   \n12    89371                                   The Te Of Piglet  0413675106   \n15    89375  90 Minutes in Heaven: A True Story of Death an...  0800759494   \n16    89376                                             Heaven  0842379428   \n17    89377                                  Penny from Heaven  037583687X   \n\n   language_code  is_ebook  average_rating   \n1        unknown       0.0            3.23  \\\n3            eng       0.0            3.49   \n5        unknown       0.0            4.13   \n7        unknown       0.0            4.22   \n9        unknown       0.0            3.81   \n10       unknown       0.0            3.93   \n12       unknown       0.0            3.81   \n15       unknown       0.0            3.91   \n16           eng       0.0            4.26   \n17       unknown       0.0            3.98   \n\n                                        similar_books   \n1   ['8709549', '17074050', '28937', '158816', '22...  \\\n3   ['6604176', '6054190', '2285777', '82641', '75...   \n5                                                  []   \n7   ['948696', '439885', '274955', '12978730', '37...   \n9   ['287151', '1104760', '1172822', '440292', '28...   \n10  ['439108', '522621', '116770', '1275927', '620...   \n12  ['888460', '734023', '147311', '219106', '3139...   \n15  ['299795', '8100288', '7570892', '53817', '121...   \n16  ['45366', '246849', '11096385', '19102466', '7...   \n17  ['614054', '272343', '824934', '581383', '9359...   \n\n                                          description     format   \n1   Anita Diamant's international bestseller \"The ...   Audio CD  \\\n3   Addie Downs and Valerie Adler were eight when ...  Hardcover   \n5   Relates in vigorous prose the tale of Aeneas, ...  Paperback   \n7   To Kara's astonishment, she discovers that a p...  Paperback   \n9   Wisdom, humor, and dark observations by the fo...  Paperback   \n10  London, 1196. At the command of Richard the Li...  Hardcover   \n12  Taoist philosophy explained using examples fro...    unknown   \n15  As he is driving home from a minister's confer...    unknown   \n16  What is Heaven really going to be like? What w...    unknown   \n17  It's 1953 and 11-year-old Penny dreams of a su...  Hardcover   \n\n                                            cover_img                author   \n1   https://s.gr-assets.com/assets/nophoto/book/11...            ['626222']  \\\n3   https://s.gr-assets.com/assets/nophoto/book/11...              ['9212']   \n5   https://s.gr-assets.com/assets/nophoto/book/11...           ['3041852']   \n7   https://images.gr-assets.com/books/1316637798m...             ['19158']   \n9   https://images.gr-assets.com/books/1328768789m...  ['2983296', '40075']   \n10  https://images.gr-assets.com/books/1328724803m...             ['37778']   \n12  https://s.gr-assets.com/assets/nophoto/book/11...             ['27397']   \n15  https://s.gr-assets.com/assets/nophoto/book/11...    ['39054', '11099']   \n16  https://images.gr-assets.com/books/1406508230m...              ['4862']   \n17  https://images.gr-assets.com/books/1320470906m...            ['137561']   \n\n                               publisher  num_pages edition_information   \n1                 Simon & Schuster Audio       -1.0            Abridged  \\\n3                            Atria Books      368.0             unknown   \n5                   Yesterday's Classics      162.0             unknown   \n7                             Seven Seas      216.0             unknown   \n9                            Feral House      147.0             unknown   \n10                   Simon & Schuster UK      400.0             unknown   \n12                               unknown       -1.0             unknown   \n15                               unknown       -1.0             unknown   \n16                               unknown      533.0             unknown   \n17  Random House Books for Young Readers      288.0             unknown   \n\n    publication_year  ratings_count  format_code  language_code1  \n1             2001.0           10.0            1               1  \n3             2009.0        51184.0            2               2  \n5             2006.0           46.0            3               1  \n7             2009.0           98.0            3               1  \n9             2000.0          986.0            3               1  \n10            2009.0          186.0            2               1  \n12              -1.0           11.0            4               1  \n15              -1.0        68157.0            4               1  \n16              -1.0         7345.0            4               2  \n17            2006.0         6949.0            2               1  ",
      "text/html": "<div>\n<style scoped>\n    .dataframe tbody tr th:only-of-type {\n        vertical-align: middle;\n    }\n\n    .dataframe tbody tr th {\n        vertical-align: top;\n    }\n\n    .dataframe thead th {\n        text-align: right;\n    }\n</style>\n<table border=\"1\" class=\"dataframe\">\n  <thead>\n    <tr style=\"text-align: right;\">\n      <th></th>\n      <th>book_id</th>\n      <th>title</th>\n      <th>isbn</th>\n      <th>language_code</th>\n      <th>is_ebook</th>\n      <th>average_rating</th>\n      <th>similar_books</th>\n      <th>description</th>\n      <th>format</th>\n      <th>cover_img</th>\n      <th>author</th>\n      <th>publisher</th>\n      <th>num_pages</th>\n      <th>edition_information</th>\n      <th>publication_year</th>\n      <th>ratings_count</th>\n      <th>format_code</th>\n      <th>language_code1</th>\n    </tr>\n  </thead>\n  <tbody>\n    <tr>\n      <th>1</th>\n      <td>1333909</td>\n      <td>Good Harbor</td>\n      <td>0743509986</td>\n      <td>unknown</td>\n      <td>0.0</td>\n      <td>3.23</td>\n      <td>['8709549', '17074050', '28937', '158816', '22...</td>\n      <td>Anita Diamant's international bestseller \"The ...</td>\n      <td>Audio CD</td>\n      <td>https://s.gr-assets.com/assets/nophoto/book/11...</td>\n      <td>['626222']</td>\n      <td>Simon &amp; Schuster Audio</td>\n      <td>-1.0</td>\n      <td>Abridged</td>\n      <td>2001.0</td>\n      <td>10.0</td>\n      <td>1</td>\n      <td>1</td>\n    </tr>\n    <tr>\n      <th>3</th>\n      <td>6066819</td>\n      <td>Best Friends Forever</td>\n      <td>0743294297</td>\n      <td>eng</td>\n      <td>0.0</td>\n      <td>3.49</td>\n      <td>['6604176', '6054190', '2285777', '82641', '75...</td>\n      <td>Addie Downs and Valerie Adler were eight when ...</td>\n      <td>Hardcover</td>\n      <td>https://s.gr-assets.com/assets/nophoto/book/11...</td>\n      <td>['9212']</td>\n      <td>Atria Books</td>\n      <td>368.0</td>\n      <td>unknown</td>\n      <td>2009.0</td>\n      <td>51184.0</td>\n      <td>2</td>\n      <td>2</td>\n    </tr>\n    <tr>\n      <th>5</th>\n      <td>287141</td>\n      <td>The Aeneid for Boys and Girls</td>\n      <td>1599150603</td>\n      <td>unknown</td>\n      <td>0.0</td>\n      <td>4.13</td>\n      <td>[]</td>\n      <td>Relates in vigorous prose the tale of Aeneas, ...</td>\n      <td>Paperback</td>\n      <td>https://s.gr-assets.com/assets/nophoto/book/11...</td>\n      <td>['3041852']</td>\n      <td>Yesterday's Classics</td>\n      <td>162.0</td>\n      <td>unknown</td>\n      <td>2006.0</td>\n      <td>46.0</td>\n      <td>3</td>\n      <td>1</td>\n    </tr>\n    <tr>\n      <th>7</th>\n      <td>6066812</td>\n      <td>All's Fairy in Love and War (Avalon: Web of Ma...</td>\n      <td>1934876569</td>\n      <td>unknown</td>\n      <td>0.0</td>\n      <td>4.22</td>\n      <td>['948696', '439885', '274955', '12978730', '37...</td>\n      <td>To Kara's astonishment, she discovers that a p...</td>\n      <td>Paperback</td>\n      <td>https://images.gr-assets.com/books/1316637798m...</td>\n      <td>['19158']</td>\n      <td>Seven Seas</td>\n      <td>216.0</td>\n      <td>unknown</td>\n      <td>2009.0</td>\n      <td>98.0</td>\n      <td>3</td>\n      <td>1</td>\n    </tr>\n    <tr>\n      <th>9</th>\n      <td>287149</td>\n      <td>The Devil's Notebook</td>\n      <td>0922915113</td>\n      <td>unknown</td>\n      <td>0.0</td>\n      <td>3.81</td>\n      <td>['287151', '1104760', '1172822', '440292', '28...</td>\n      <td>Wisdom, humor, and dark observations by the fo...</td>\n      <td>Paperback</td>\n      <td>https://images.gr-assets.com/books/1328768789m...</td>\n      <td>['2983296', '40075']</td>\n      <td>Feral House</td>\n      <td>147.0</td>\n      <td>unknown</td>\n      <td>2000.0</td>\n      <td>986.0</td>\n      <td>3</td>\n      <td>1</td>\n    </tr>\n    <tr>\n      <th>10</th>\n      <td>6066814</td>\n      <td>Crowner Royal (Crowner John Mystery, #13)</td>\n      <td>184737297X</td>\n      <td>unknown</td>\n      <td>0.0</td>\n      <td>3.93</td>\n      <td>['439108', '522621', '116770', '1275927', '620...</td>\n      <td>London, 1196. At the command of Richard the Li...</td>\n      <td>Hardcover</td>\n      <td>https://images.gr-assets.com/books/1328724803m...</td>\n      <td>['37778']</td>\n      <td>Simon &amp; Schuster UK</td>\n      <td>400.0</td>\n      <td>unknown</td>\n      <td>2009.0</td>\n      <td>186.0</td>\n      <td>2</td>\n      <td>1</td>\n    </tr>\n    <tr>\n      <th>12</th>\n      <td>89371</td>\n      <td>The Te Of Piglet</td>\n      <td>0413675106</td>\n      <td>unknown</td>\n      <td>0.0</td>\n      <td>3.81</td>\n      <td>['888460', '734023', '147311', '219106', '3139...</td>\n      <td>Taoist philosophy explained using examples fro...</td>\n      <td>unknown</td>\n      <td>https://s.gr-assets.com/assets/nophoto/book/11...</td>\n      <td>['27397']</td>\n      <td>unknown</td>\n      <td>-1.0</td>\n      <td>unknown</td>\n      <td>-1.0</td>\n      <td>11.0</td>\n      <td>4</td>\n      <td>1</td>\n    </tr>\n    <tr>\n      <th>15</th>\n      <td>89375</td>\n      <td>90 Minutes in Heaven: A True Story of Death an...</td>\n      <td>0800759494</td>\n      <td>unknown</td>\n      <td>0.0</td>\n      <td>3.91</td>\n      <td>['299795', '8100288', '7570892', '53817', '121...</td>\n      <td>As he is driving home from a minister's confer...</td>\n      <td>unknown</td>\n      <td>https://s.gr-assets.com/assets/nophoto/book/11...</td>\n      <td>['39054', '11099']</td>\n      <td>unknown</td>\n      <td>-1.0</td>\n      <td>unknown</td>\n      <td>-1.0</td>\n      <td>68157.0</td>\n      <td>4</td>\n      <td>1</td>\n    </tr>\n    <tr>\n      <th>16</th>\n      <td>89376</td>\n      <td>Heaven</td>\n      <td>0842379428</td>\n      <td>eng</td>\n      <td>0.0</td>\n      <td>4.26</td>\n      <td>['45366', '246849', '11096385', '19102466', '7...</td>\n      <td>What is Heaven really going to be like? What w...</td>\n      <td>unknown</td>\n      <td>https://images.gr-assets.com/books/1406508230m...</td>\n      <td>['4862']</td>\n      <td>unknown</td>\n      <td>533.0</td>\n      <td>unknown</td>\n      <td>-1.0</td>\n      <td>7345.0</td>\n      <td>4</td>\n      <td>2</td>\n    </tr>\n    <tr>\n      <th>17</th>\n      <td>89377</td>\n      <td>Penny from Heaven</td>\n      <td>037583687X</td>\n      <td>unknown</td>\n      <td>0.0</td>\n      <td>3.98</td>\n      <td>['614054', '272343', '824934', '581383', '9359...</td>\n      <td>It's 1953 and 11-year-old Penny dreams of a su...</td>\n      <td>Hardcover</td>\n      <td>https://images.gr-assets.com/books/1320470906m...</td>\n      <td>['137561']</td>\n      <td>Random House Books for Young Readers</td>\n      <td>288.0</td>\n      <td>unknown</td>\n      <td>2006.0</td>\n      <td>6949.0</td>\n      <td>2</td>\n      <td>1</td>\n    </tr>\n  </tbody>\n</table>\n</div>"
     },
     "execution_count": 33,
     "metadata": {},
     "output_type": "execute_result"
    }
   ],
   "source": [
    "books.head(10)"
   ],
   "metadata": {
    "pycharm": {
     "name": "#%%\n"
    },
    "id": "OwF9WtgV0h0V",
    "outputId": "fdbbea06-8745-4d50-de40-a58e3eb9c86f"
   }
  },
  {
   "cell_type": "code",
   "execution_count": null,
   "outputs": [],
   "source": [],
   "metadata": {
    "pycharm": {
     "name": "#%%\n"
    },
    "id": "oMsiPJsY0h0W"
   }
  }
 ],
 "metadata": {
  "kernelspec": {
   "display_name": "Python 3",
   "language": "python",
   "name": "python3"
  },
  "language_info": {
   "codemirror_mode": {
    "name": "ipython",
    "version": 2
   },
   "file_extension": ".py",
   "mimetype": "text/x-python",
   "name": "python",
   "nbconvert_exporter": "python",
   "pygments_lexer": "ipython2",
   "version": "2.7.6"
  },
  "colab": {
   "provenance": []
  }
 },
 "nbformat": 4,
 "nbformat_minor": 0
}