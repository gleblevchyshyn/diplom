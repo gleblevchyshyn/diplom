{
 "cells": [
  {
   "cell_type": "code",
   "execution_count": null,
   "outputs": [],
   "source": [
    "import pandas as pd"
   ],
   "metadata": {
    "collapsed": false,
    "pycharm": {
     "name": "#%%\n",
     "is_executing": true
    }
   }
  },
  {
   "cell_type": "code",
   "execution_count": 2,
   "outputs": [],
   "source": [
    "books = pd.read_csv('processed_books.csv')"
   ],
   "metadata": {
    "collapsed": false,
    "pycharm": {
     "name": "#%%\n"
    }
   }
  },
  {
   "cell_type": "code",
   "execution_count": 3,
   "outputs": [
    {
     "data": {
      "text/plain": "Index(['book_id', 'title', 'isbn', 'language_code', 'is_ebook',\n       'average_rating', 'similar_books', 'description', 'format', 'cover_img',\n       'author', 'publisher', 'num_pages', 'edition_information',\n       'publication_year', 'ratings_count', 'format_code', 'language_code1'],\n      dtype='object')"
     },
     "execution_count": 3,
     "metadata": {},
     "output_type": "execute_result"
    }
   ],
   "source": [
    "books.columns"
   ],
   "metadata": {
    "collapsed": false,
    "pycharm": {
     "name": "#%%\n"
    }
   }
  },
  {
   "cell_type": "code",
   "execution_count": 3,
   "outputs": [
    {
     "data": {
      "text/plain": "   book_id                                              title        isbn   \n0  1333909                                        Good Harbor  0743509986  \\\n1  6066819                               Best Friends Forever  0743294297   \n2   287141                      The Aeneid for Boys and Girls  1599150603   \n3  6066812  All's Fairy in Love and War (Avalon: Web of Ma...  1934876569   \n4   287149                               The Devil's Notebook  0922915113   \n5  6066814          Crowner Royal (Crowner John Mystery, #13)  184737297X   \n6    89371                                   The Te Of Piglet  0413675106   \n7    89375  90 Minutes in Heaven: A True Story of Death an...  0800759494   \n8    89376                                             Heaven  0842379428   \n9    89377                                  Penny from Heaven  037583687X   \n\n  language_code  is_ebook  average_rating   \n0       unknown       0.0            3.23  \\\n1           eng       0.0            3.49   \n2       unknown       0.0            4.13   \n3       unknown       0.0            4.22   \n4       unknown       0.0            3.81   \n5       unknown       0.0            3.93   \n6       unknown       0.0            3.81   \n7       unknown       0.0            3.91   \n8           eng       0.0            4.26   \n9       unknown       0.0            3.98   \n\n                                       similar_books   \n0  ['8709549', '17074050', '28937', '158816', '22...  \\\n1  ['6604176', '6054190', '2285777', '82641', '75...   \n2                                                 []   \n3  ['948696', '439885', '274955', '12978730', '37...   \n4  ['287151', '1104760', '1172822', '440292', '28...   \n5  ['439108', '522621', '116770', '1275927', '620...   \n6  ['888460', '734023', '147311', '219106', '3139...   \n7  ['299795', '8100288', '7570892', '53817', '121...   \n8  ['45366', '246849', '11096385', '19102466', '7...   \n9  ['614054', '272343', '824934', '581383', '9359...   \n\n                                         description     format   \n0  Anita Diamant's international bestseller \"The ...   Audio CD  \\\n1  Addie Downs and Valerie Adler were eight when ...  Hardcover   \n2  Relates in vigorous prose the tale of Aeneas, ...  Paperback   \n3  To Kara's astonishment, she discovers that a p...  Paperback   \n4  Wisdom, humor, and dark observations by the fo...  Paperback   \n5  London, 1196. At the command of Richard the Li...  Hardcover   \n6  Taoist philosophy explained using examples fro...    unknown   \n7  As he is driving home from a minister's confer...    unknown   \n8  What is Heaven really going to be like? What w...    unknown   \n9  It's 1953 and 11-year-old Penny dreams of a su...  Hardcover   \n\n                                           cover_img                author   \n0  https://s.gr-assets.com/assets/nophoto/book/11...            ['626222']  \\\n1  https://s.gr-assets.com/assets/nophoto/book/11...              ['9212']   \n2  https://s.gr-assets.com/assets/nophoto/book/11...           ['3041852']   \n3  https://images.gr-assets.com/books/1316637798m...             ['19158']   \n4  https://images.gr-assets.com/books/1328768789m...  ['2983296', '40075']   \n5  https://images.gr-assets.com/books/1328724803m...             ['37778']   \n6  https://s.gr-assets.com/assets/nophoto/book/11...             ['27397']   \n7  https://s.gr-assets.com/assets/nophoto/book/11...    ['39054', '11099']   \n8  https://images.gr-assets.com/books/1406508230m...              ['4862']   \n9  https://images.gr-assets.com/books/1320470906m...            ['137561']   \n\n                              publisher  num_pages edition_information   \n0                Simon & Schuster Audio       -1.0            Abridged  \\\n1                           Atria Books      368.0             unknown   \n2                  Yesterday's Classics      162.0             unknown   \n3                            Seven Seas      216.0             unknown   \n4                           Feral House      147.0             unknown   \n5                   Simon & Schuster UK      400.0             unknown   \n6                               unknown       -1.0             unknown   \n7                               unknown       -1.0             unknown   \n8                               unknown      533.0             unknown   \n9  Random House Books for Young Readers      288.0             unknown   \n\n   publication_year  ratings_count  format_code  language_code1  \n0            2001.0           10.0            1               1  \n1            2009.0        51184.0            2               2  \n2            2006.0           46.0            3               1  \n3            2009.0           98.0            3               1  \n4            2000.0          986.0            3               1  \n5            2009.0          186.0            2               1  \n6              -1.0           11.0            4               1  \n7              -1.0        68157.0            4               1  \n8              -1.0         7345.0            4               2  \n9            2006.0         6949.0            2               1  ",
      "text/html": "<div>\n<style scoped>\n    .dataframe tbody tr th:only-of-type {\n        vertical-align: middle;\n    }\n\n    .dataframe tbody tr th {\n        vertical-align: top;\n    }\n\n    .dataframe thead th {\n        text-align: right;\n    }\n</style>\n<table border=\"1\" class=\"dataframe\">\n  <thead>\n    <tr style=\"text-align: right;\">\n      <th></th>\n      <th>book_id</th>\n      <th>title</th>\n      <th>isbn</th>\n      <th>language_code</th>\n      <th>is_ebook</th>\n      <th>average_rating</th>\n      <th>similar_books</th>\n      <th>description</th>\n      <th>format</th>\n      <th>cover_img</th>\n      <th>author</th>\n      <th>publisher</th>\n      <th>num_pages</th>\n      <th>edition_information</th>\n      <th>publication_year</th>\n      <th>ratings_count</th>\n      <th>format_code</th>\n      <th>language_code1</th>\n    </tr>\n  </thead>\n  <tbody>\n    <tr>\n      <th>0</th>\n      <td>1333909</td>\n      <td>Good Harbor</td>\n      <td>0743509986</td>\n      <td>unknown</td>\n      <td>0.0</td>\n      <td>3.23</td>\n      <td>['8709549', '17074050', '28937', '158816', '22...</td>\n      <td>Anita Diamant's international bestseller \"The ...</td>\n      <td>Audio CD</td>\n      <td>https://s.gr-assets.com/assets/nophoto/book/11...</td>\n      <td>['626222']</td>\n      <td>Simon &amp; Schuster Audio</td>\n      <td>-1.0</td>\n      <td>Abridged</td>\n      <td>2001.0</td>\n      <td>10.0</td>\n      <td>1</td>\n      <td>1</td>\n    </tr>\n    <tr>\n      <th>1</th>\n      <td>6066819</td>\n      <td>Best Friends Forever</td>\n      <td>0743294297</td>\n      <td>eng</td>\n      <td>0.0</td>\n      <td>3.49</td>\n      <td>['6604176', '6054190', '2285777', '82641', '75...</td>\n      <td>Addie Downs and Valerie Adler were eight when ...</td>\n      <td>Hardcover</td>\n      <td>https://s.gr-assets.com/assets/nophoto/book/11...</td>\n      <td>['9212']</td>\n      <td>Atria Books</td>\n      <td>368.0</td>\n      <td>unknown</td>\n      <td>2009.0</td>\n      <td>51184.0</td>\n      <td>2</td>\n      <td>2</td>\n    </tr>\n    <tr>\n      <th>2</th>\n      <td>287141</td>\n      <td>The Aeneid for Boys and Girls</td>\n      <td>1599150603</td>\n      <td>unknown</td>\n      <td>0.0</td>\n      <td>4.13</td>\n      <td>[]</td>\n      <td>Relates in vigorous prose the tale of Aeneas, ...</td>\n      <td>Paperback</td>\n      <td>https://s.gr-assets.com/assets/nophoto/book/11...</td>\n      <td>['3041852']</td>\n      <td>Yesterday's Classics</td>\n      <td>162.0</td>\n      <td>unknown</td>\n      <td>2006.0</td>\n      <td>46.0</td>\n      <td>3</td>\n      <td>1</td>\n    </tr>\n    <tr>\n      <th>3</th>\n      <td>6066812</td>\n      <td>All's Fairy in Love and War (Avalon: Web of Ma...</td>\n      <td>1934876569</td>\n      <td>unknown</td>\n      <td>0.0</td>\n      <td>4.22</td>\n      <td>['948696', '439885', '274955', '12978730', '37...</td>\n      <td>To Kara's astonishment, she discovers that a p...</td>\n      <td>Paperback</td>\n      <td>https://images.gr-assets.com/books/1316637798m...</td>\n      <td>['19158']</td>\n      <td>Seven Seas</td>\n      <td>216.0</td>\n      <td>unknown</td>\n      <td>2009.0</td>\n      <td>98.0</td>\n      <td>3</td>\n      <td>1</td>\n    </tr>\n    <tr>\n      <th>4</th>\n      <td>287149</td>\n      <td>The Devil's Notebook</td>\n      <td>0922915113</td>\n      <td>unknown</td>\n      <td>0.0</td>\n      <td>3.81</td>\n      <td>['287151', '1104760', '1172822', '440292', '28...</td>\n      <td>Wisdom, humor, and dark observations by the fo...</td>\n      <td>Paperback</td>\n      <td>https://images.gr-assets.com/books/1328768789m...</td>\n      <td>['2983296', '40075']</td>\n      <td>Feral House</td>\n      <td>147.0</td>\n      <td>unknown</td>\n      <td>2000.0</td>\n      <td>986.0</td>\n      <td>3</td>\n      <td>1</td>\n    </tr>\n    <tr>\n      <th>5</th>\n      <td>6066814</td>\n      <td>Crowner Royal (Crowner John Mystery, #13)</td>\n      <td>184737297X</td>\n      <td>unknown</td>\n      <td>0.0</td>\n      <td>3.93</td>\n      <td>['439108', '522621', '116770', '1275927', '620...</td>\n      <td>London, 1196. At the command of Richard the Li...</td>\n      <td>Hardcover</td>\n      <td>https://images.gr-assets.com/books/1328724803m...</td>\n      <td>['37778']</td>\n      <td>Simon &amp; Schuster UK</td>\n      <td>400.0</td>\n      <td>unknown</td>\n      <td>2009.0</td>\n      <td>186.0</td>\n      <td>2</td>\n      <td>1</td>\n    </tr>\n    <tr>\n      <th>6</th>\n      <td>89371</td>\n      <td>The Te Of Piglet</td>\n      <td>0413675106</td>\n      <td>unknown</td>\n      <td>0.0</td>\n      <td>3.81</td>\n      <td>['888460', '734023', '147311', '219106', '3139...</td>\n      <td>Taoist philosophy explained using examples fro...</td>\n      <td>unknown</td>\n      <td>https://s.gr-assets.com/assets/nophoto/book/11...</td>\n      <td>['27397']</td>\n      <td>unknown</td>\n      <td>-1.0</td>\n      <td>unknown</td>\n      <td>-1.0</td>\n      <td>11.0</td>\n      <td>4</td>\n      <td>1</td>\n    </tr>\n    <tr>\n      <th>7</th>\n      <td>89375</td>\n      <td>90 Minutes in Heaven: A True Story of Death an...</td>\n      <td>0800759494</td>\n      <td>unknown</td>\n      <td>0.0</td>\n      <td>3.91</td>\n      <td>['299795', '8100288', '7570892', '53817', '121...</td>\n      <td>As he is driving home from a minister's confer...</td>\n      <td>unknown</td>\n      <td>https://s.gr-assets.com/assets/nophoto/book/11...</td>\n      <td>['39054', '11099']</td>\n      <td>unknown</td>\n      <td>-1.0</td>\n      <td>unknown</td>\n      <td>-1.0</td>\n      <td>68157.0</td>\n      <td>4</td>\n      <td>1</td>\n    </tr>\n    <tr>\n      <th>8</th>\n      <td>89376</td>\n      <td>Heaven</td>\n      <td>0842379428</td>\n      <td>eng</td>\n      <td>0.0</td>\n      <td>4.26</td>\n      <td>['45366', '246849', '11096385', '19102466', '7...</td>\n      <td>What is Heaven really going to be like? What w...</td>\n      <td>unknown</td>\n      <td>https://images.gr-assets.com/books/1406508230m...</td>\n      <td>['4862']</td>\n      <td>unknown</td>\n      <td>533.0</td>\n      <td>unknown</td>\n      <td>-1.0</td>\n      <td>7345.0</td>\n      <td>4</td>\n      <td>2</td>\n    </tr>\n    <tr>\n      <th>9</th>\n      <td>89377</td>\n      <td>Penny from Heaven</td>\n      <td>037583687X</td>\n      <td>unknown</td>\n      <td>0.0</td>\n      <td>3.98</td>\n      <td>['614054', '272343', '824934', '581383', '9359...</td>\n      <td>It's 1953 and 11-year-old Penny dreams of a su...</td>\n      <td>Hardcover</td>\n      <td>https://images.gr-assets.com/books/1320470906m...</td>\n      <td>['137561']</td>\n      <td>Random House Books for Young Readers</td>\n      <td>288.0</td>\n      <td>unknown</td>\n      <td>2006.0</td>\n      <td>6949.0</td>\n      <td>2</td>\n      <td>1</td>\n    </tr>\n  </tbody>\n</table>\n</div>"
     },
     "execution_count": 3,
     "metadata": {},
     "output_type": "execute_result"
    }
   ],
   "source": [
    "books.head(10)"
   ],
   "metadata": {
    "collapsed": false,
    "pycharm": {
     "name": "#%%\n"
    }
   }
  },
  {
   "cell_type": "code",
   "execution_count": 4,
   "outputs": [
    {
     "data": {
      "text/plain": "1179966"
     },
     "execution_count": 4,
     "metadata": {},
     "output_type": "execute_result"
    }
   ],
   "source": [
    "books = books[books['ratings_count'] != 0]\n",
    "len(books)"
   ],
   "metadata": {
    "collapsed": false,
    "pycharm": {
     "name": "#%%\n"
    }
   }
  },
  {
   "cell_type": "code",
   "execution_count": 9,
   "outputs": [],
   "source": [
    "import string\n",
    "import re\n",
    "from nltk.corpus import stopwords\n",
    "from nltk.stem import WordNetLemmatizer\n",
    "from nltk import word_tokenize\n",
    "\n",
    "lemmatizer = WordNetLemmatizer()\n",
    "stopwords = stopwords.words('english')\n",
    "\n",
    "\n",
    "def clean_text(text):\n",
    "    # Convert to lowercase\n",
    "    text = text.lower()\n",
    "    # Remove URLs\n",
    "    text = re.sub(r'http\\S+', '', text)\n",
    "    # Remove HTML tags\n",
    "    text = re.sub(r'<.*?>', '', text)\n",
    "    # Remove punctuation\n",
    "    text = text.translate(str.maketrans('', '', string.punctuation))\n",
    "    # Remove numbers\n",
    "    text = re.sub(r'\\d+', '', text)\n",
    "    # Tokenize into words\n",
    "    words = text.split()\n",
    "    text = ' '.join([lemmatizer.lemmatize(w) for w in words if not w in stopwords])\n",
    "    return text"
   ],
   "metadata": {
    "collapsed": false,
    "pycharm": {
     "name": "#%%\n"
    }
   }
  },
  {
   "cell_type": "code",
   "execution_count": 6,
   "outputs": [
    {
     "ename": "KeyboardInterrupt",
     "evalue": "",
     "output_type": "error",
     "traceback": [
      "\u001B[1;31m---------------------------------------------------------------------------\u001B[0m",
      "\u001B[1;31mKeyboardInterrupt\u001B[0m                         Traceback (most recent call last)",
      "File \u001B[1;32m~\\PycharmProjects\\diplom\\DIPLOM_VENV\\lib\\site-packages\\pandas\\core\\apply.py:1076\u001B[0m, in \u001B[0;36mSeriesApply.apply_standard\u001B[1;34m(self)\u001B[0m\n\u001B[0;32m   1075\u001B[0m         values \u001B[38;5;241m=\u001B[39m obj\u001B[38;5;241m.\u001B[39mastype(\u001B[38;5;28mobject\u001B[39m)\u001B[38;5;241m.\u001B[39m_values\n\u001B[1;32m-> 1076\u001B[0m         mapped \u001B[38;5;241m=\u001B[39m \u001B[43mlib\u001B[49m\u001B[38;5;241;43m.\u001B[39;49m\u001B[43mmap_infer\u001B[49m\u001B[43m(\u001B[49m\n\u001B[0;32m   1077\u001B[0m \u001B[43m            \u001B[49m\u001B[43mvalues\u001B[49m\u001B[43m,\u001B[49m\n\u001B[0;32m   1078\u001B[0m \u001B[43m            \u001B[49m\u001B[43mf\u001B[49m\u001B[43m,\u001B[49m\n\u001B[0;32m   1079\u001B[0m \u001B[43m            \u001B[49m\u001B[43mconvert\u001B[49m\u001B[38;5;241;43m=\u001B[39;49m\u001B[38;5;28;43mself\u001B[39;49m\u001B[38;5;241;43m.\u001B[39;49m\u001B[43mconvert_dtype\u001B[49m\u001B[43m,\u001B[49m\n\u001B[0;32m   1080\u001B[0m \u001B[43m        \u001B[49m\u001B[43m)\u001B[49m\n\u001B[0;32m   1082\u001B[0m \u001B[38;5;28;01mif\u001B[39;00m \u001B[38;5;28mlen\u001B[39m(mapped) \u001B[38;5;129;01mand\u001B[39;00m \u001B[38;5;28misinstance\u001B[39m(mapped[\u001B[38;5;241m0\u001B[39m], ABCSeries):\n\u001B[0;32m   1083\u001B[0m     \u001B[38;5;66;03m# GH#43986 Need to do list(mapped) in order to get treated as nested\u001B[39;00m\n\u001B[0;32m   1084\u001B[0m     \u001B[38;5;66;03m#  See also GH#25959 regarding EA support\u001B[39;00m\n",
      "File \u001B[1;32m~\\PycharmProjects\\diplom\\DIPLOM_VENV\\lib\\site-packages\\pandas\\_libs\\lib.pyx:2834\u001B[0m, in \u001B[0;36mpandas._libs.lib.map_infer\u001B[1;34m()\u001B[0m\n",
      "Cell \u001B[1;32mIn[6], line 1\u001B[0m, in \u001B[0;36m<lambda>\u001B[1;34m(x)\u001B[0m\n\u001B[1;32m----> 1\u001B[0m books[\u001B[38;5;124m'\u001B[39m\u001B[38;5;124mprocessed_description\u001B[39m\u001B[38;5;124m'\u001B[39m] \u001B[38;5;241m=\u001B[39m books[\u001B[38;5;124m'\u001B[39m\u001B[38;5;124mdescription\u001B[39m\u001B[38;5;124m'\u001B[39m]\u001B[38;5;241m.\u001B[39mapply(\u001B[38;5;28;01mlambda\u001B[39;00m x: \u001B[43mclean_text\u001B[49m\u001B[43m(\u001B[49m\u001B[43mx\u001B[49m\u001B[43m)\u001B[49m)\n",
      "Cell \u001B[1;32mIn[5], line 24\u001B[0m, in \u001B[0;36mclean_text\u001B[1;34m(text)\u001B[0m\n\u001B[0;32m     23\u001B[0m words \u001B[38;5;241m=\u001B[39m text\u001B[38;5;241m.\u001B[39msplit()\n\u001B[1;32m---> 24\u001B[0m text \u001B[38;5;241m=\u001B[39m \u001B[38;5;124m'\u001B[39m\u001B[38;5;124m \u001B[39m\u001B[38;5;124m'\u001B[39m\u001B[38;5;241m.\u001B[39mjoin([lemmatizer\u001B[38;5;241m.\u001B[39mlemmatize(w) \u001B[38;5;28;01mfor\u001B[39;00m w \u001B[38;5;129;01min\u001B[39;00m words \u001B[38;5;28;01mif\u001B[39;00m \u001B[38;5;129;01mnot\u001B[39;00m w \u001B[38;5;129;01min\u001B[39;00m stopwords])\n\u001B[0;32m     25\u001B[0m \u001B[38;5;28;01mreturn\u001B[39;00m text\n",
      "Cell \u001B[1;32mIn[5], line 24\u001B[0m, in \u001B[0;36m<listcomp>\u001B[1;34m(.0)\u001B[0m\n\u001B[0;32m     23\u001B[0m words \u001B[38;5;241m=\u001B[39m text\u001B[38;5;241m.\u001B[39msplit()\n\u001B[1;32m---> 24\u001B[0m text \u001B[38;5;241m=\u001B[39m \u001B[38;5;124m'\u001B[39m\u001B[38;5;124m \u001B[39m\u001B[38;5;124m'\u001B[39m\u001B[38;5;241m.\u001B[39mjoin([\u001B[43mlemmatizer\u001B[49m\u001B[38;5;241;43m.\u001B[39;49m\u001B[43mlemmatize\u001B[49m\u001B[43m(\u001B[49m\u001B[43mw\u001B[49m\u001B[43m)\u001B[49m \u001B[38;5;28;01mfor\u001B[39;00m w \u001B[38;5;129;01min\u001B[39;00m words \u001B[38;5;28;01mif\u001B[39;00m \u001B[38;5;129;01mnot\u001B[39;00m w \u001B[38;5;129;01min\u001B[39;00m stopwords])\n\u001B[0;32m     25\u001B[0m \u001B[38;5;28;01mreturn\u001B[39;00m text\n",
      "File \u001B[1;32m~\\PycharmProjects\\diplom\\DIPLOM_VENV\\lib\\site-packages\\nltk\\stem\\wordnet.py:45\u001B[0m, in \u001B[0;36mWordNetLemmatizer.lemmatize\u001B[1;34m(self, word, pos)\u001B[0m\n\u001B[0;32m     34\u001B[0m \u001B[38;5;250m\u001B[39m\u001B[38;5;124;03m\"\"\"Lemmatize `word` using WordNet's built-in morphy function.\u001B[39;00m\n\u001B[0;32m     35\u001B[0m \u001B[38;5;124;03mReturns the input word unchanged if it cannot be found in WordNet.\u001B[39;00m\n\u001B[0;32m     36\u001B[0m \n\u001B[1;32m   (...)\u001B[0m\n\u001B[0;32m     43\u001B[0m \u001B[38;5;124;03m:return: The lemma of `word`, for the given `pos`.\u001B[39;00m\n\u001B[0;32m     44\u001B[0m \u001B[38;5;124;03m\"\"\"\u001B[39;00m\n\u001B[1;32m---> 45\u001B[0m lemmas \u001B[38;5;241m=\u001B[39m \u001B[43mwn\u001B[49m\u001B[38;5;241;43m.\u001B[39;49m\u001B[43m_morphy\u001B[49m\u001B[43m(\u001B[49m\u001B[43mword\u001B[49m\u001B[43m,\u001B[49m\u001B[43m \u001B[49m\u001B[43mpos\u001B[49m\u001B[43m)\u001B[49m\n\u001B[0;32m     46\u001B[0m \u001B[38;5;28;01mreturn\u001B[39;00m \u001B[38;5;28mmin\u001B[39m(lemmas, key\u001B[38;5;241m=\u001B[39m\u001B[38;5;28mlen\u001B[39m) \u001B[38;5;28;01mif\u001B[39;00m lemmas \u001B[38;5;28;01melse\u001B[39;00m word\n",
      "File \u001B[1;32m~\\PycharmProjects\\diplom\\DIPLOM_VENV\\lib\\site-packages\\nltk\\corpus\\reader\\wordnet.py:2064\u001B[0m, in \u001B[0;36mWordNetCorpusReader._morphy\u001B[1;34m(self, form, pos, check_exceptions)\u001B[0m\n\u001B[0;32m   2062\u001B[0m MORPHOLOGICAL_SUBSTITUTIONS[ADJ_SAT] \u001B[38;5;241m=\u001B[39m MORPHOLOGICAL_SUBSTITUTIONS[ADJ]\n\u001B[1;32m-> 2064\u001B[0m \u001B[38;5;28;01mdef\u001B[39;00m \u001B[38;5;21m_morphy\u001B[39m(\u001B[38;5;28mself\u001B[39m, form, pos, check_exceptions\u001B[38;5;241m=\u001B[39m\u001B[38;5;28;01mTrue\u001B[39;00m):\n\u001B[0;32m   2065\u001B[0m     \u001B[38;5;66;03m# from jordanbg:\u001B[39;00m\n\u001B[0;32m   2066\u001B[0m     \u001B[38;5;66;03m# Given an original string x\u001B[39;00m\n\u001B[0;32m   2067\u001B[0m     \u001B[38;5;66;03m# 1. Apply rules once to the input to get y1, y2, y3, etc.\u001B[39;00m\n\u001B[0;32m   2068\u001B[0m     \u001B[38;5;66;03m# 2. Return all that are in the database\u001B[39;00m\n\u001B[0;32m   2069\u001B[0m     \u001B[38;5;66;03m# 3. If there are no matches, keep applying rules until you either\u001B[39;00m\n\u001B[0;32m   2070\u001B[0m     \u001B[38;5;66;03m#    find a match or you can't go any further\u001B[39;00m\n\u001B[0;32m   2072\u001B[0m     exceptions \u001B[38;5;241m=\u001B[39m \u001B[38;5;28mself\u001B[39m\u001B[38;5;241m.\u001B[39m_exception_map[pos]\n",
      "\u001B[1;31mKeyboardInterrupt\u001B[0m: ",
      "\nDuring handling of the above exception, another exception occurred:\n",
      "\u001B[1;31mKeyboardInterrupt\u001B[0m                         Traceback (most recent call last)",
      "Cell \u001B[1;32mIn[6], line 1\u001B[0m\n\u001B[1;32m----> 1\u001B[0m books[\u001B[38;5;124m'\u001B[39m\u001B[38;5;124mprocessed_description\u001B[39m\u001B[38;5;124m'\u001B[39m] \u001B[38;5;241m=\u001B[39m \u001B[43mbooks\u001B[49m\u001B[43m[\u001B[49m\u001B[38;5;124;43m'\u001B[39;49m\u001B[38;5;124;43mdescription\u001B[39;49m\u001B[38;5;124;43m'\u001B[39;49m\u001B[43m]\u001B[49m\u001B[38;5;241;43m.\u001B[39;49m\u001B[43mapply\u001B[49m\u001B[43m(\u001B[49m\u001B[38;5;28;43;01mlambda\u001B[39;49;00m\u001B[43m \u001B[49m\u001B[43mx\u001B[49m\u001B[43m:\u001B[49m\u001B[43m \u001B[49m\u001B[43mclean_text\u001B[49m\u001B[43m(\u001B[49m\u001B[43mx\u001B[49m\u001B[43m)\u001B[49m\u001B[43m)\u001B[49m\n",
      "File \u001B[1;32m~\\PycharmProjects\\diplom\\DIPLOM_VENV\\lib\\site-packages\\pandas\\core\\series.py:4631\u001B[0m, in \u001B[0;36mSeries.apply\u001B[1;34m(self, func, convert_dtype, args, **kwargs)\u001B[0m\n\u001B[0;32m   4521\u001B[0m \u001B[38;5;28;01mdef\u001B[39;00m \u001B[38;5;21mapply\u001B[39m(\n\u001B[0;32m   4522\u001B[0m     \u001B[38;5;28mself\u001B[39m,\n\u001B[0;32m   4523\u001B[0m     func: AggFuncType,\n\u001B[1;32m   (...)\u001B[0m\n\u001B[0;32m   4526\u001B[0m     \u001B[38;5;241m*\u001B[39m\u001B[38;5;241m*\u001B[39mkwargs,\n\u001B[0;32m   4527\u001B[0m ) \u001B[38;5;241m-\u001B[39m\u001B[38;5;241m>\u001B[39m DataFrame \u001B[38;5;241m|\u001B[39m Series:\n\u001B[0;32m   4528\u001B[0m \u001B[38;5;250m    \u001B[39m\u001B[38;5;124;03m\"\"\"\u001B[39;00m\n\u001B[0;32m   4529\u001B[0m \u001B[38;5;124;03m    Invoke function on values of Series.\u001B[39;00m\n\u001B[0;32m   4530\u001B[0m \n\u001B[1;32m   (...)\u001B[0m\n\u001B[0;32m   4629\u001B[0m \u001B[38;5;124;03m    dtype: float64\u001B[39;00m\n\u001B[0;32m   4630\u001B[0m \u001B[38;5;124;03m    \"\"\"\u001B[39;00m\n\u001B[1;32m-> 4631\u001B[0m     \u001B[38;5;28;01mreturn\u001B[39;00m \u001B[43mSeriesApply\u001B[49m\u001B[43m(\u001B[49m\u001B[38;5;28;43mself\u001B[39;49m\u001B[43m,\u001B[49m\u001B[43m \u001B[49m\u001B[43mfunc\u001B[49m\u001B[43m,\u001B[49m\u001B[43m \u001B[49m\u001B[43mconvert_dtype\u001B[49m\u001B[43m,\u001B[49m\u001B[43m \u001B[49m\u001B[43margs\u001B[49m\u001B[43m,\u001B[49m\u001B[43m \u001B[49m\u001B[43mkwargs\u001B[49m\u001B[43m)\u001B[49m\u001B[38;5;241;43m.\u001B[39;49m\u001B[43mapply\u001B[49m\u001B[43m(\u001B[49m\u001B[43m)\u001B[49m\n",
      "File \u001B[1;32m~\\PycharmProjects\\diplom\\DIPLOM_VENV\\lib\\site-packages\\pandas\\core\\apply.py:1025\u001B[0m, in \u001B[0;36mSeriesApply.apply\u001B[1;34m(self)\u001B[0m\n\u001B[0;32m   1022\u001B[0m     \u001B[38;5;28;01mreturn\u001B[39;00m \u001B[38;5;28mself\u001B[39m\u001B[38;5;241m.\u001B[39mapply_str()\n\u001B[0;32m   1024\u001B[0m \u001B[38;5;66;03m# self.f is Callable\u001B[39;00m\n\u001B[1;32m-> 1025\u001B[0m \u001B[38;5;28;01mreturn\u001B[39;00m \u001B[38;5;28;43mself\u001B[39;49m\u001B[38;5;241;43m.\u001B[39;49m\u001B[43mapply_standard\u001B[49m\u001B[43m(\u001B[49m\u001B[43m)\u001B[49m\n",
      "File \u001B[1;32m~\\PycharmProjects\\diplom\\DIPLOM_VENV\\lib\\site-packages\\pandas\\core\\apply.py:1066\u001B[0m, in \u001B[0;36mSeriesApply.apply_standard\u001B[1;34m(self)\u001B[0m\n\u001B[0;32m   1063\u001B[0m f \u001B[38;5;241m=\u001B[39m cast(Callable, \u001B[38;5;28mself\u001B[39m\u001B[38;5;241m.\u001B[39mf)\n\u001B[0;32m   1064\u001B[0m obj \u001B[38;5;241m=\u001B[39m \u001B[38;5;28mself\u001B[39m\u001B[38;5;241m.\u001B[39mobj\n\u001B[1;32m-> 1066\u001B[0m \u001B[38;5;28;01mwith\u001B[39;00m np\u001B[38;5;241m.\u001B[39merrstate(\u001B[38;5;28mall\u001B[39m\u001B[38;5;241m=\u001B[39m\u001B[38;5;124m\"\u001B[39m\u001B[38;5;124mignore\u001B[39m\u001B[38;5;124m\"\u001B[39m):\n\u001B[0;32m   1067\u001B[0m     \u001B[38;5;28;01mif\u001B[39;00m \u001B[38;5;28misinstance\u001B[39m(f, np\u001B[38;5;241m.\u001B[39mufunc):\n\u001B[0;32m   1068\u001B[0m         \u001B[38;5;28;01mreturn\u001B[39;00m f(obj)\n",
      "File \u001B[1;32m~\\PycharmProjects\\diplom\\DIPLOM_VENV\\lib\\site-packages\\numpy\\core\\_ufunc_config.py:434\u001B[0m, in \u001B[0;36merrstate.__exit__\u001B[1;34m(self, *exc_info)\u001B[0m\n\u001B[0;32m    431\u001B[0m     \u001B[38;5;28;01mif\u001B[39;00m \u001B[38;5;28mself\u001B[39m\u001B[38;5;241m.\u001B[39mcall \u001B[38;5;129;01mis\u001B[39;00m \u001B[38;5;129;01mnot\u001B[39;00m _Unspecified:\n\u001B[0;32m    432\u001B[0m         \u001B[38;5;28mself\u001B[39m\u001B[38;5;241m.\u001B[39moldcall \u001B[38;5;241m=\u001B[39m seterrcall(\u001B[38;5;28mself\u001B[39m\u001B[38;5;241m.\u001B[39mcall)\n\u001B[1;32m--> 434\u001B[0m \u001B[38;5;28;01mdef\u001B[39;00m \u001B[38;5;21m__exit__\u001B[39m(\u001B[38;5;28mself\u001B[39m, \u001B[38;5;241m*\u001B[39mexc_info):\n\u001B[0;32m    435\u001B[0m     seterr(\u001B[38;5;241m*\u001B[39m\u001B[38;5;241m*\u001B[39m\u001B[38;5;28mself\u001B[39m\u001B[38;5;241m.\u001B[39moldstate)\n\u001B[0;32m    436\u001B[0m     \u001B[38;5;28;01mif\u001B[39;00m \u001B[38;5;28mself\u001B[39m\u001B[38;5;241m.\u001B[39mcall \u001B[38;5;129;01mis\u001B[39;00m \u001B[38;5;129;01mnot\u001B[39;00m _Unspecified:\n",
      "\u001B[1;31mKeyboardInterrupt\u001B[0m: "
     ]
    }
   ],
   "source": [
    "books['processed_description'] = books['description'].apply(lambda x: clean_text(x))"
   ],
   "metadata": {
    "collapsed": false,
    "pycharm": {
     "name": "#%%\n"
    }
   }
  },
  {
   "cell_type": "code",
   "execution_count": null,
   "outputs": [],
   "source": [
    "books.head(10)"
   ],
   "metadata": {
    "collapsed": false,
    "pycharm": {
     "name": "#%%\n"
    }
   }
  },
  {
   "cell_type": "code",
   "execution_count": 9,
   "outputs": [],
   "source": [
    "books.to_pickle('processed_books_v2.pkl')"
   ],
   "metadata": {
    "collapsed": false,
    "pycharm": {
     "name": "#%%\n"
    }
   }
  },
  {
   "cell_type": "code",
   "execution_count": 5,
   "outputs": [
    {
     "data": {
      "text/plain": "   Unnamed: 0  book_id                                              title   \n0           0  1333909                                        Good Harbor  \\\n1           1  6066819                               Best Friends Forever   \n2           2   287141                      The Aeneid for Boys and Girls   \n3           3  6066812  All's Fairy in Love and War (Avalon: Web of Ma...   \n4           4   287149                               The Devil's Notebook   \n5           5  6066814          Crowner Royal (Crowner John Mystery, #13)   \n6           6    89371                                   The Te Of Piglet   \n7           7    89375  90 Minutes in Heaven: A True Story of Death an...   \n8           8    89376                                             Heaven   \n9           9    89377                                  Penny from Heaven   \n\n         isbn language_code  is_ebook  average_rating   \n0  0743509986       unknown       0.0            3.23  \\\n1  0743294297           eng       0.0            3.49   \n2  1599150603       unknown       0.0            4.13   \n3  1934876569       unknown       0.0            4.22   \n4  0922915113       unknown       0.0            3.81   \n5  184737297X       unknown       0.0            3.93   \n6  0413675106       unknown       0.0            3.81   \n7  0800759494       unknown       0.0            3.91   \n8  0842379428           eng       0.0            4.26   \n9  037583687X       unknown       0.0            3.98   \n\n                                       similar_books   \n0  ['8709549', '17074050', '28937', '158816', '22...  \\\n1  ['6604176', '6054190', '2285777', '82641', '75...   \n2                                                 []   \n3  ['948696', '439885', '274955', '12978730', '37...   \n4  ['287151', '1104760', '1172822', '440292', '28...   \n5  ['439108', '522621', '116770', '1275927', '620...   \n6  ['888460', '734023', '147311', '219106', '3139...   \n7  ['299795', '8100288', '7570892', '53817', '121...   \n8  ['45366', '246849', '11096385', '19102466', '7...   \n9  ['614054', '272343', '824934', '581383', '9359...   \n\n                                         description     format   \n0  Anita Diamant's international bestseller \"The ...   Audio CD  \\\n1  Addie Downs and Valerie Adler were eight when ...  Hardcover   \n2  Relates in vigorous prose the tale of Aeneas, ...  Paperback   \n3  To Kara's astonishment, she discovers that a p...  Paperback   \n4  Wisdom, humor, and dark observations by the fo...  Paperback   \n5  London, 1196. At the command of Richard the Li...  Hardcover   \n6  Taoist philosophy explained using examples fro...    unknown   \n7  As he is driving home from a minister's confer...    unknown   \n8  What is Heaven really going to be like? What w...    unknown   \n9  It's 1953 and 11-year-old Penny dreams of a su...  Hardcover   \n\n                                           cover_img                author   \n0  https://s.gr-assets.com/assets/nophoto/book/11...            ['626222']  \\\n1  https://s.gr-assets.com/assets/nophoto/book/11...              ['9212']   \n2  https://s.gr-assets.com/assets/nophoto/book/11...           ['3041852']   \n3  https://images.gr-assets.com/books/1316637798m...             ['19158']   \n4  https://images.gr-assets.com/books/1328768789m...  ['2983296', '40075']   \n5  https://images.gr-assets.com/books/1328724803m...             ['37778']   \n6  https://s.gr-assets.com/assets/nophoto/book/11...             ['27397']   \n7  https://s.gr-assets.com/assets/nophoto/book/11...    ['39054', '11099']   \n8  https://images.gr-assets.com/books/1406508230m...              ['4862']   \n9  https://images.gr-assets.com/books/1320470906m...            ['137561']   \n\n                              publisher  num_pages edition_information   \n0                Simon & Schuster Audio       -1.0            Abridged  \\\n1                           Atria Books      368.0             unknown   \n2                  Yesterday's Classics      162.0             unknown   \n3                            Seven Seas      216.0             unknown   \n4                           Feral House      147.0             unknown   \n5                   Simon & Schuster UK      400.0             unknown   \n6                               unknown       -1.0             unknown   \n7                               unknown       -1.0             unknown   \n8                               unknown      533.0             unknown   \n9  Random House Books for Young Readers      288.0             unknown   \n\n   publication_year  ratings_count  format_code  language_code1   \n0            2001.0           10.0            1               1  \\\n1            2009.0        51184.0            2               2   \n2            2006.0           46.0            3               1   \n3            2009.0           98.0            3               1   \n4            2000.0          986.0            3               1   \n5            2009.0          186.0            2               1   \n6              -1.0           11.0            4               1   \n7              -1.0        68157.0            4               1   \n8              -1.0         7345.0            4               2   \n9            2006.0         6949.0            2               1   \n\n                               processed_description  \n0  anita diamants international bestseller red te...  \n1  addie down valerie adler eight first met decid...  \n2  relates vigorous prose tale aeneas legendary a...  \n3  karas astonishment discovers portal opened bed...  \n4  wisdom humor dark observation founder church s...  \n5  london command richard lionheart sir john de w...  \n6  taoist philosophy explained using example miln...  \n7  driving home minister conference baptist minis...  \n8  heaven really going like look like wont heaven...  \n9  yearold penny dream summer butter pecan ice cr...  ",
      "text/html": "<div>\n<style scoped>\n    .dataframe tbody tr th:only-of-type {\n        vertical-align: middle;\n    }\n\n    .dataframe tbody tr th {\n        vertical-align: top;\n    }\n\n    .dataframe thead th {\n        text-align: right;\n    }\n</style>\n<table border=\"1\" class=\"dataframe\">\n  <thead>\n    <tr style=\"text-align: right;\">\n      <th></th>\n      <th>Unnamed: 0</th>\n      <th>book_id</th>\n      <th>title</th>\n      <th>isbn</th>\n      <th>language_code</th>\n      <th>is_ebook</th>\n      <th>average_rating</th>\n      <th>similar_books</th>\n      <th>description</th>\n      <th>format</th>\n      <th>cover_img</th>\n      <th>author</th>\n      <th>publisher</th>\n      <th>num_pages</th>\n      <th>edition_information</th>\n      <th>publication_year</th>\n      <th>ratings_count</th>\n      <th>format_code</th>\n      <th>language_code1</th>\n      <th>processed_description</th>\n    </tr>\n  </thead>\n  <tbody>\n    <tr>\n      <th>0</th>\n      <td>0</td>\n      <td>1333909</td>\n      <td>Good Harbor</td>\n      <td>0743509986</td>\n      <td>unknown</td>\n      <td>0.0</td>\n      <td>3.23</td>\n      <td>['8709549', '17074050', '28937', '158816', '22...</td>\n      <td>Anita Diamant's international bestseller \"The ...</td>\n      <td>Audio CD</td>\n      <td>https://s.gr-assets.com/assets/nophoto/book/11...</td>\n      <td>['626222']</td>\n      <td>Simon &amp; Schuster Audio</td>\n      <td>-1.0</td>\n      <td>Abridged</td>\n      <td>2001.0</td>\n      <td>10.0</td>\n      <td>1</td>\n      <td>1</td>\n      <td>anita diamants international bestseller red te...</td>\n    </tr>\n    <tr>\n      <th>1</th>\n      <td>1</td>\n      <td>6066819</td>\n      <td>Best Friends Forever</td>\n      <td>0743294297</td>\n      <td>eng</td>\n      <td>0.0</td>\n      <td>3.49</td>\n      <td>['6604176', '6054190', '2285777', '82641', '75...</td>\n      <td>Addie Downs and Valerie Adler were eight when ...</td>\n      <td>Hardcover</td>\n      <td>https://s.gr-assets.com/assets/nophoto/book/11...</td>\n      <td>['9212']</td>\n      <td>Atria Books</td>\n      <td>368.0</td>\n      <td>unknown</td>\n      <td>2009.0</td>\n      <td>51184.0</td>\n      <td>2</td>\n      <td>2</td>\n      <td>addie down valerie adler eight first met decid...</td>\n    </tr>\n    <tr>\n      <th>2</th>\n      <td>2</td>\n      <td>287141</td>\n      <td>The Aeneid for Boys and Girls</td>\n      <td>1599150603</td>\n      <td>unknown</td>\n      <td>0.0</td>\n      <td>4.13</td>\n      <td>[]</td>\n      <td>Relates in vigorous prose the tale of Aeneas, ...</td>\n      <td>Paperback</td>\n      <td>https://s.gr-assets.com/assets/nophoto/book/11...</td>\n      <td>['3041852']</td>\n      <td>Yesterday's Classics</td>\n      <td>162.0</td>\n      <td>unknown</td>\n      <td>2006.0</td>\n      <td>46.0</td>\n      <td>3</td>\n      <td>1</td>\n      <td>relates vigorous prose tale aeneas legendary a...</td>\n    </tr>\n    <tr>\n      <th>3</th>\n      <td>3</td>\n      <td>6066812</td>\n      <td>All's Fairy in Love and War (Avalon: Web of Ma...</td>\n      <td>1934876569</td>\n      <td>unknown</td>\n      <td>0.0</td>\n      <td>4.22</td>\n      <td>['948696', '439885', '274955', '12978730', '37...</td>\n      <td>To Kara's astonishment, she discovers that a p...</td>\n      <td>Paperback</td>\n      <td>https://images.gr-assets.com/books/1316637798m...</td>\n      <td>['19158']</td>\n      <td>Seven Seas</td>\n      <td>216.0</td>\n      <td>unknown</td>\n      <td>2009.0</td>\n      <td>98.0</td>\n      <td>3</td>\n      <td>1</td>\n      <td>karas astonishment discovers portal opened bed...</td>\n    </tr>\n    <tr>\n      <th>4</th>\n      <td>4</td>\n      <td>287149</td>\n      <td>The Devil's Notebook</td>\n      <td>0922915113</td>\n      <td>unknown</td>\n      <td>0.0</td>\n      <td>3.81</td>\n      <td>['287151', '1104760', '1172822', '440292', '28...</td>\n      <td>Wisdom, humor, and dark observations by the fo...</td>\n      <td>Paperback</td>\n      <td>https://images.gr-assets.com/books/1328768789m...</td>\n      <td>['2983296', '40075']</td>\n      <td>Feral House</td>\n      <td>147.0</td>\n      <td>unknown</td>\n      <td>2000.0</td>\n      <td>986.0</td>\n      <td>3</td>\n      <td>1</td>\n      <td>wisdom humor dark observation founder church s...</td>\n    </tr>\n    <tr>\n      <th>5</th>\n      <td>5</td>\n      <td>6066814</td>\n      <td>Crowner Royal (Crowner John Mystery, #13)</td>\n      <td>184737297X</td>\n      <td>unknown</td>\n      <td>0.0</td>\n      <td>3.93</td>\n      <td>['439108', '522621', '116770', '1275927', '620...</td>\n      <td>London, 1196. At the command of Richard the Li...</td>\n      <td>Hardcover</td>\n      <td>https://images.gr-assets.com/books/1328724803m...</td>\n      <td>['37778']</td>\n      <td>Simon &amp; Schuster UK</td>\n      <td>400.0</td>\n      <td>unknown</td>\n      <td>2009.0</td>\n      <td>186.0</td>\n      <td>2</td>\n      <td>1</td>\n      <td>london command richard lionheart sir john de w...</td>\n    </tr>\n    <tr>\n      <th>6</th>\n      <td>6</td>\n      <td>89371</td>\n      <td>The Te Of Piglet</td>\n      <td>0413675106</td>\n      <td>unknown</td>\n      <td>0.0</td>\n      <td>3.81</td>\n      <td>['888460', '734023', '147311', '219106', '3139...</td>\n      <td>Taoist philosophy explained using examples fro...</td>\n      <td>unknown</td>\n      <td>https://s.gr-assets.com/assets/nophoto/book/11...</td>\n      <td>['27397']</td>\n      <td>unknown</td>\n      <td>-1.0</td>\n      <td>unknown</td>\n      <td>-1.0</td>\n      <td>11.0</td>\n      <td>4</td>\n      <td>1</td>\n      <td>taoist philosophy explained using example miln...</td>\n    </tr>\n    <tr>\n      <th>7</th>\n      <td>7</td>\n      <td>89375</td>\n      <td>90 Minutes in Heaven: A True Story of Death an...</td>\n      <td>0800759494</td>\n      <td>unknown</td>\n      <td>0.0</td>\n      <td>3.91</td>\n      <td>['299795', '8100288', '7570892', '53817', '121...</td>\n      <td>As he is driving home from a minister's confer...</td>\n      <td>unknown</td>\n      <td>https://s.gr-assets.com/assets/nophoto/book/11...</td>\n      <td>['39054', '11099']</td>\n      <td>unknown</td>\n      <td>-1.0</td>\n      <td>unknown</td>\n      <td>-1.0</td>\n      <td>68157.0</td>\n      <td>4</td>\n      <td>1</td>\n      <td>driving home minister conference baptist minis...</td>\n    </tr>\n    <tr>\n      <th>8</th>\n      <td>8</td>\n      <td>89376</td>\n      <td>Heaven</td>\n      <td>0842379428</td>\n      <td>eng</td>\n      <td>0.0</td>\n      <td>4.26</td>\n      <td>['45366', '246849', '11096385', '19102466', '7...</td>\n      <td>What is Heaven really going to be like? What w...</td>\n      <td>unknown</td>\n      <td>https://images.gr-assets.com/books/1406508230m...</td>\n      <td>['4862']</td>\n      <td>unknown</td>\n      <td>533.0</td>\n      <td>unknown</td>\n      <td>-1.0</td>\n      <td>7345.0</td>\n      <td>4</td>\n      <td>2</td>\n      <td>heaven really going like look like wont heaven...</td>\n    </tr>\n    <tr>\n      <th>9</th>\n      <td>9</td>\n      <td>89377</td>\n      <td>Penny from Heaven</td>\n      <td>037583687X</td>\n      <td>unknown</td>\n      <td>0.0</td>\n      <td>3.98</td>\n      <td>['614054', '272343', '824934', '581383', '9359...</td>\n      <td>It's 1953 and 11-year-old Penny dreams of a su...</td>\n      <td>Hardcover</td>\n      <td>https://images.gr-assets.com/books/1320470906m...</td>\n      <td>['137561']</td>\n      <td>Random House Books for Young Readers</td>\n      <td>288.0</td>\n      <td>unknown</td>\n      <td>2006.0</td>\n      <td>6949.0</td>\n      <td>2</td>\n      <td>1</td>\n      <td>yearold penny dream summer butter pecan ice cr...</td>\n    </tr>\n  </tbody>\n</table>\n</div>"
     },
     "execution_count": 5,
     "metadata": {},
     "output_type": "execute_result"
    }
   ],
   "source": [
    "books.head(10)"
   ],
   "metadata": {
    "collapsed": false,
    "pycharm": {
     "name": "#%%\n"
    }
   }
  },
  {
   "cell_type": "code",
   "execution_count": null,
   "outputs": [],
   "source": [
    "import gensim.downloader as api\n",
    "import numpy as np\n",
    "# Load pre-trained GloVe model\n",
    "model = api.load(\"glove-wiki-gigaword-300\")\n",
    "\n",
    "# Define a function to convert a string into GloVe embeddings\n",
    "def string_to_glove(line):\n",
    "    # Tokenize the string into words\n",
    "    tokens = line.lower().split()\n",
    "    # Look up the GloVe embedding for each word\n",
    "    embeddings = [model.get_vector(word) for word in tokens if word in model.key_to_index]\n",
    "    # Combine the embeddings into a single vector\n",
    "    if len(embeddings) > 0:\n",
    "        glove = np.mean(embeddings, axis=0)\n",
    "    else:\n",
    "        glove = np.zeros(model.vector_size)\n",
    "    return glove\n"
   ],
   "metadata": {
    "collapsed": false,
    "pycharm": {
     "name": "#%%\n"
    }
   }
  },
  {
   "cell_type": "code",
   "execution_count": 2,
   "outputs": [],
   "source": [
    "# Save model to file\n",
    "model.save(\"glove-wiki-gigaword-300.model\")"
   ],
   "metadata": {
    "collapsed": false,
    "pycharm": {
     "name": "#%%\n"
    }
   }
  },
  {
   "cell_type": "code",
   "execution_count": null,
   "outputs": [],
   "source": [
    "books['glove_description'] = books['processed_description'].apply(lambda x:string_to_glove(x))"
   ],
   "metadata": {
    "collapsed": false,
    "pycharm": {
     "name": "#%%\n"
    }
   }
  },
  {
   "cell_type": "code",
   "execution_count": 11,
   "outputs": [
    {
     "data": {
      "text/plain": "   book_id                                              title        isbn   \n0  1333909                                        Good Harbor  0743509986  \\\n1  6066819                               Best Friends Forever  0743294297   \n2   287141                      The Aeneid for Boys and Girls  1599150603   \n3  6066812  All's Fairy in Love and War (Avalon: Web of Ma...  1934876569   \n4   287149                               The Devil's Notebook  0922915113   \n5  6066814          Crowner Royal (Crowner John Mystery, #13)  184737297X   \n6    89371                                   The Te Of Piglet  0413675106   \n7    89375  90 Minutes in Heaven: A True Story of Death an...  0800759494   \n8    89376                                             Heaven  0842379428   \n9    89377                                  Penny from Heaven  037583687X   \n\n  language_code  is_ebook  average_rating   \n0       unknown       0.0            3.23  \\\n1           eng       0.0            3.49   \n2       unknown       0.0            4.13   \n3       unknown       0.0            4.22   \n4       unknown       0.0            3.81   \n5       unknown       0.0            3.93   \n6       unknown       0.0            3.81   \n7       unknown       0.0            3.91   \n8           eng       0.0            4.26   \n9       unknown       0.0            3.98   \n\n                                       similar_books   \n0  ['8709549', '17074050', '28937', '158816', '22...  \\\n1  ['6604176', '6054190', '2285777', '82641', '75...   \n2                                                 []   \n3  ['948696', '439885', '274955', '12978730', '37...   \n4  ['287151', '1104760', '1172822', '440292', '28...   \n5  ['439108', '522621', '116770', '1275927', '620...   \n6  ['888460', '734023', '147311', '219106', '3139...   \n7  ['299795', '8100288', '7570892', '53817', '121...   \n8  ['45366', '246849', '11096385', '19102466', '7...   \n9  ['614054', '272343', '824934', '581383', '9359...   \n\n                                         description     format   \n0  Anita Diamant's international bestseller \"The ...   Audio CD  \\\n1  Addie Downs and Valerie Adler were eight when ...  Hardcover   \n2  Relates in vigorous prose the tale of Aeneas, ...  Paperback   \n3  To Kara's astonishment, she discovers that a p...  Paperback   \n4  Wisdom, humor, and dark observations by the fo...  Paperback   \n5  London, 1196. At the command of Richard the Li...  Hardcover   \n6  Taoist philosophy explained using examples fro...    unknown   \n7  As he is driving home from a minister's confer...    unknown   \n8  What is Heaven really going to be like? What w...    unknown   \n9  It's 1953 and 11-year-old Penny dreams of a su...  Hardcover   \n\n                                           cover_img                author   \n0  https://s.gr-assets.com/assets/nophoto/book/11...            ['626222']  \\\n1  https://s.gr-assets.com/assets/nophoto/book/11...              ['9212']   \n2  https://s.gr-assets.com/assets/nophoto/book/11...           ['3041852']   \n3  https://images.gr-assets.com/books/1316637798m...             ['19158']   \n4  https://images.gr-assets.com/books/1328768789m...  ['2983296', '40075']   \n5  https://images.gr-assets.com/books/1328724803m...             ['37778']   \n6  https://s.gr-assets.com/assets/nophoto/book/11...             ['27397']   \n7  https://s.gr-assets.com/assets/nophoto/book/11...    ['39054', '11099']   \n8  https://images.gr-assets.com/books/1406508230m...              ['4862']   \n9  https://images.gr-assets.com/books/1320470906m...            ['137561']   \n\n                              publisher  num_pages edition_information   \n0                Simon & Schuster Audio       -1.0            Abridged  \\\n1                           Atria Books      368.0             unknown   \n2                  Yesterday's Classics      162.0             unknown   \n3                            Seven Seas      216.0             unknown   \n4                           Feral House      147.0             unknown   \n5                   Simon & Schuster UK      400.0             unknown   \n6                               unknown       -1.0             unknown   \n7                               unknown       -1.0             unknown   \n8                               unknown      533.0             unknown   \n9  Random House Books for Young Readers      288.0             unknown   \n\n   publication_year  ratings_count  format_code  language_code1   \n0            2001.0           10.0            1               1  \\\n1            2009.0        51184.0            2               2   \n2            2006.0           46.0            3               1   \n3            2009.0           98.0            3               1   \n4            2000.0          986.0            3               1   \n5            2009.0          186.0            2               1   \n6              -1.0           11.0            4               1   \n7              -1.0        68157.0            4               1   \n8              -1.0         7345.0            4               2   \n9            2006.0         6949.0            2               1   \n\n                               processed_description   \n0  anita diamants international bestseller red te...  \\\n1  addie down valerie adler eight first met decid...   \n2  relates vigorous prose tale aeneas legendary a...   \n3  karas astonishment discovers portal opened bed...   \n4  wisdom humor dark observation founder church s...   \n5  london command richard lionheart sir john de w...   \n6  taoist philosophy explained using example miln...   \n7  driving home minister conference baptist minis...   \n8  heaven really going like look like wont heaven...   \n9  yearold penny dream summer butter pecan ice cr...   \n\n                                   glove_description  \n0  [-0.109194554, -0.02343459, -0.00643954, -0.11...  \n1  [-0.09596572, 0.110401616, -0.050980728, -0.08...  \n2  [0.08972758, -0.07232258, 0.06552754, 0.069813...  \n3  [-0.17288154, 0.020485822, 0.01281396, -0.1110...  \n4  [-0.016083162, -0.080028355, 0.051149257, -0.1...  \n5  [-0.008410563, -0.09311661, 0.08472941, -0.046...  \n6  [-0.09883666, -0.048887495, 0.044787, -0.07557...  \n7  [-0.070356965, 0.0033260754, -0.06084435, -0.0...  \n8  [-0.10637292, -0.055722836, -0.06527442, -0.04...  \n9  [0.029615425, 0.08949813, -0.03935328, -0.0058...  ",
      "text/html": "<div>\n<style scoped>\n    .dataframe tbody tr th:only-of-type {\n        vertical-align: middle;\n    }\n\n    .dataframe tbody tr th {\n        vertical-align: top;\n    }\n\n    .dataframe thead th {\n        text-align: right;\n    }\n</style>\n<table border=\"1\" class=\"dataframe\">\n  <thead>\n    <tr style=\"text-align: right;\">\n      <th></th>\n      <th>book_id</th>\n      <th>title</th>\n      <th>isbn</th>\n      <th>language_code</th>\n      <th>is_ebook</th>\n      <th>average_rating</th>\n      <th>similar_books</th>\n      <th>description</th>\n      <th>format</th>\n      <th>cover_img</th>\n      <th>author</th>\n      <th>publisher</th>\n      <th>num_pages</th>\n      <th>edition_information</th>\n      <th>publication_year</th>\n      <th>ratings_count</th>\n      <th>format_code</th>\n      <th>language_code1</th>\n      <th>processed_description</th>\n      <th>glove_description</th>\n    </tr>\n  </thead>\n  <tbody>\n    <tr>\n      <th>0</th>\n      <td>1333909</td>\n      <td>Good Harbor</td>\n      <td>0743509986</td>\n      <td>unknown</td>\n      <td>0.0</td>\n      <td>3.23</td>\n      <td>['8709549', '17074050', '28937', '158816', '22...</td>\n      <td>Anita Diamant's international bestseller \"The ...</td>\n      <td>Audio CD</td>\n      <td>https://s.gr-assets.com/assets/nophoto/book/11...</td>\n      <td>['626222']</td>\n      <td>Simon &amp; Schuster Audio</td>\n      <td>-1.0</td>\n      <td>Abridged</td>\n      <td>2001.0</td>\n      <td>10.0</td>\n      <td>1</td>\n      <td>1</td>\n      <td>anita diamants international bestseller red te...</td>\n      <td>[-0.109194554, -0.02343459, -0.00643954, -0.11...</td>\n    </tr>\n    <tr>\n      <th>1</th>\n      <td>6066819</td>\n      <td>Best Friends Forever</td>\n      <td>0743294297</td>\n      <td>eng</td>\n      <td>0.0</td>\n      <td>3.49</td>\n      <td>['6604176', '6054190', '2285777', '82641', '75...</td>\n      <td>Addie Downs and Valerie Adler were eight when ...</td>\n      <td>Hardcover</td>\n      <td>https://s.gr-assets.com/assets/nophoto/book/11...</td>\n      <td>['9212']</td>\n      <td>Atria Books</td>\n      <td>368.0</td>\n      <td>unknown</td>\n      <td>2009.0</td>\n      <td>51184.0</td>\n      <td>2</td>\n      <td>2</td>\n      <td>addie down valerie adler eight first met decid...</td>\n      <td>[-0.09596572, 0.110401616, -0.050980728, -0.08...</td>\n    </tr>\n    <tr>\n      <th>2</th>\n      <td>287141</td>\n      <td>The Aeneid for Boys and Girls</td>\n      <td>1599150603</td>\n      <td>unknown</td>\n      <td>0.0</td>\n      <td>4.13</td>\n      <td>[]</td>\n      <td>Relates in vigorous prose the tale of Aeneas, ...</td>\n      <td>Paperback</td>\n      <td>https://s.gr-assets.com/assets/nophoto/book/11...</td>\n      <td>['3041852']</td>\n      <td>Yesterday's Classics</td>\n      <td>162.0</td>\n      <td>unknown</td>\n      <td>2006.0</td>\n      <td>46.0</td>\n      <td>3</td>\n      <td>1</td>\n      <td>relates vigorous prose tale aeneas legendary a...</td>\n      <td>[0.08972758, -0.07232258, 0.06552754, 0.069813...</td>\n    </tr>\n    <tr>\n      <th>3</th>\n      <td>6066812</td>\n      <td>All's Fairy in Love and War (Avalon: Web of Ma...</td>\n      <td>1934876569</td>\n      <td>unknown</td>\n      <td>0.0</td>\n      <td>4.22</td>\n      <td>['948696', '439885', '274955', '12978730', '37...</td>\n      <td>To Kara's astonishment, she discovers that a p...</td>\n      <td>Paperback</td>\n      <td>https://images.gr-assets.com/books/1316637798m...</td>\n      <td>['19158']</td>\n      <td>Seven Seas</td>\n      <td>216.0</td>\n      <td>unknown</td>\n      <td>2009.0</td>\n      <td>98.0</td>\n      <td>3</td>\n      <td>1</td>\n      <td>karas astonishment discovers portal opened bed...</td>\n      <td>[-0.17288154, 0.020485822, 0.01281396, -0.1110...</td>\n    </tr>\n    <tr>\n      <th>4</th>\n      <td>287149</td>\n      <td>The Devil's Notebook</td>\n      <td>0922915113</td>\n      <td>unknown</td>\n      <td>0.0</td>\n      <td>3.81</td>\n      <td>['287151', '1104760', '1172822', '440292', '28...</td>\n      <td>Wisdom, humor, and dark observations by the fo...</td>\n      <td>Paperback</td>\n      <td>https://images.gr-assets.com/books/1328768789m...</td>\n      <td>['2983296', '40075']</td>\n      <td>Feral House</td>\n      <td>147.0</td>\n      <td>unknown</td>\n      <td>2000.0</td>\n      <td>986.0</td>\n      <td>3</td>\n      <td>1</td>\n      <td>wisdom humor dark observation founder church s...</td>\n      <td>[-0.016083162, -0.080028355, 0.051149257, -0.1...</td>\n    </tr>\n    <tr>\n      <th>5</th>\n      <td>6066814</td>\n      <td>Crowner Royal (Crowner John Mystery, #13)</td>\n      <td>184737297X</td>\n      <td>unknown</td>\n      <td>0.0</td>\n      <td>3.93</td>\n      <td>['439108', '522621', '116770', '1275927', '620...</td>\n      <td>London, 1196. At the command of Richard the Li...</td>\n      <td>Hardcover</td>\n      <td>https://images.gr-assets.com/books/1328724803m...</td>\n      <td>['37778']</td>\n      <td>Simon &amp; Schuster UK</td>\n      <td>400.0</td>\n      <td>unknown</td>\n      <td>2009.0</td>\n      <td>186.0</td>\n      <td>2</td>\n      <td>1</td>\n      <td>london command richard lionheart sir john de w...</td>\n      <td>[-0.008410563, -0.09311661, 0.08472941, -0.046...</td>\n    </tr>\n    <tr>\n      <th>6</th>\n      <td>89371</td>\n      <td>The Te Of Piglet</td>\n      <td>0413675106</td>\n      <td>unknown</td>\n      <td>0.0</td>\n      <td>3.81</td>\n      <td>['888460', '734023', '147311', '219106', '3139...</td>\n      <td>Taoist philosophy explained using examples fro...</td>\n      <td>unknown</td>\n      <td>https://s.gr-assets.com/assets/nophoto/book/11...</td>\n      <td>['27397']</td>\n      <td>unknown</td>\n      <td>-1.0</td>\n      <td>unknown</td>\n      <td>-1.0</td>\n      <td>11.0</td>\n      <td>4</td>\n      <td>1</td>\n      <td>taoist philosophy explained using example miln...</td>\n      <td>[-0.09883666, -0.048887495, 0.044787, -0.07557...</td>\n    </tr>\n    <tr>\n      <th>7</th>\n      <td>89375</td>\n      <td>90 Minutes in Heaven: A True Story of Death an...</td>\n      <td>0800759494</td>\n      <td>unknown</td>\n      <td>0.0</td>\n      <td>3.91</td>\n      <td>['299795', '8100288', '7570892', '53817', '121...</td>\n      <td>As he is driving home from a minister's confer...</td>\n      <td>unknown</td>\n      <td>https://s.gr-assets.com/assets/nophoto/book/11...</td>\n      <td>['39054', '11099']</td>\n      <td>unknown</td>\n      <td>-1.0</td>\n      <td>unknown</td>\n      <td>-1.0</td>\n      <td>68157.0</td>\n      <td>4</td>\n      <td>1</td>\n      <td>driving home minister conference baptist minis...</td>\n      <td>[-0.070356965, 0.0033260754, -0.06084435, -0.0...</td>\n    </tr>\n    <tr>\n      <th>8</th>\n      <td>89376</td>\n      <td>Heaven</td>\n      <td>0842379428</td>\n      <td>eng</td>\n      <td>0.0</td>\n      <td>4.26</td>\n      <td>['45366', '246849', '11096385', '19102466', '7...</td>\n      <td>What is Heaven really going to be like? What w...</td>\n      <td>unknown</td>\n      <td>https://images.gr-assets.com/books/1406508230m...</td>\n      <td>['4862']</td>\n      <td>unknown</td>\n      <td>533.0</td>\n      <td>unknown</td>\n      <td>-1.0</td>\n      <td>7345.0</td>\n      <td>4</td>\n      <td>2</td>\n      <td>heaven really going like look like wont heaven...</td>\n      <td>[-0.10637292, -0.055722836, -0.06527442, -0.04...</td>\n    </tr>\n    <tr>\n      <th>9</th>\n      <td>89377</td>\n      <td>Penny from Heaven</td>\n      <td>037583687X</td>\n      <td>unknown</td>\n      <td>0.0</td>\n      <td>3.98</td>\n      <td>['614054', '272343', '824934', '581383', '9359...</td>\n      <td>It's 1953 and 11-year-old Penny dreams of a su...</td>\n      <td>Hardcover</td>\n      <td>https://images.gr-assets.com/books/1320470906m...</td>\n      <td>['137561']</td>\n      <td>Random House Books for Young Readers</td>\n      <td>288.0</td>\n      <td>unknown</td>\n      <td>2006.0</td>\n      <td>6949.0</td>\n      <td>2</td>\n      <td>1</td>\n      <td>yearold penny dream summer butter pecan ice cr...</td>\n      <td>[0.029615425, 0.08949813, -0.03935328, -0.0058...</td>\n    </tr>\n  </tbody>\n</table>\n</div>"
     },
     "execution_count": 11,
     "metadata": {},
     "output_type": "execute_result"
    }
   ],
   "source": [
    "books.head(10)"
   ],
   "metadata": {
    "collapsed": false,
    "pycharm": {
     "name": "#%%\n"
    }
   }
  },
  {
   "cell_type": "code",
   "execution_count": 24,
   "outputs": [
    {
     "data": {
      "text/plain": "(300,)"
     },
     "execution_count": 24,
     "metadata": {},
     "output_type": "execute_result"
    }
   ],
   "source": [
    "books.iloc[0].glove_description.shape"
   ],
   "metadata": {
    "collapsed": false,
    "pycharm": {
     "name": "#%%\n"
    }
   }
  },
  {
   "cell_type": "code",
   "execution_count": 14,
   "outputs": [],
   "source": [
    "books.to_pickle('glove_books.pkl')"
   ],
   "metadata": {
    "collapsed": false,
    "pycharm": {
     "name": "#%%\n"
    }
   }
  },
  {
   "cell_type": "code",
   "execution_count": 4,
   "outputs": [],
   "source": [
    "books = pd.read_pickle('glove_books.pkl')"
   ],
   "metadata": {
    "collapsed": false,
    "pycharm": {
     "name": "#%%\n"
    }
   }
  },
  {
   "cell_type": "code",
   "execution_count": 5,
   "outputs": [
    {
     "data": {
      "text/plain": "   book_id                                              title        isbn   \n0  1333909                                        Good Harbor  0743509986  \\\n1  6066819                               Best Friends Forever  0743294297   \n2   287141                      The Aeneid for Boys and Girls  1599150603   \n3  6066812  All's Fairy in Love and War (Avalon: Web of Ma...  1934876569   \n4   287149                               The Devil's Notebook  0922915113   \n5  6066814          Crowner Royal (Crowner John Mystery, #13)  184737297X   \n6    89371                                   The Te Of Piglet  0413675106   \n7    89375  90 Minutes in Heaven: A True Story of Death an...  0800759494   \n8    89376                                             Heaven  0842379428   \n9    89377                                  Penny from Heaven  037583687X   \n\n  language_code  is_ebook  average_rating   \n0       unknown       0.0            3.23  \\\n1           eng       0.0            3.49   \n2       unknown       0.0            4.13   \n3       unknown       0.0            4.22   \n4       unknown       0.0            3.81   \n5       unknown       0.0            3.93   \n6       unknown       0.0            3.81   \n7       unknown       0.0            3.91   \n8           eng       0.0            4.26   \n9       unknown       0.0            3.98   \n\n                                       similar_books   \n0  ['8709549', '17074050', '28937', '158816', '22...  \\\n1  ['6604176', '6054190', '2285777', '82641', '75...   \n2                                                 []   \n3  ['948696', '439885', '274955', '12978730', '37...   \n4  ['287151', '1104760', '1172822', '440292', '28...   \n5  ['439108', '522621', '116770', '1275927', '620...   \n6  ['888460', '734023', '147311', '219106', '3139...   \n7  ['299795', '8100288', '7570892', '53817', '121...   \n8  ['45366', '246849', '11096385', '19102466', '7...   \n9  ['614054', '272343', '824934', '581383', '9359...   \n\n                                         description     format   \n0  Anita Diamant's international bestseller \"The ...   Audio CD  \\\n1  Addie Downs and Valerie Adler were eight when ...  Hardcover   \n2  Relates in vigorous prose the tale of Aeneas, ...  Paperback   \n3  To Kara's astonishment, she discovers that a p...  Paperback   \n4  Wisdom, humor, and dark observations by the fo...  Paperback   \n5  London, 1196. At the command of Richard the Li...  Hardcover   \n6  Taoist philosophy explained using examples fro...    unknown   \n7  As he is driving home from a minister's confer...    unknown   \n8  What is Heaven really going to be like? What w...    unknown   \n9  It's 1953 and 11-year-old Penny dreams of a su...  Hardcover   \n\n                                           cover_img                author   \n0  https://s.gr-assets.com/assets/nophoto/book/11...            ['626222']  \\\n1  https://s.gr-assets.com/assets/nophoto/book/11...              ['9212']   \n2  https://s.gr-assets.com/assets/nophoto/book/11...           ['3041852']   \n3  https://images.gr-assets.com/books/1316637798m...             ['19158']   \n4  https://images.gr-assets.com/books/1328768789m...  ['2983296', '40075']   \n5  https://images.gr-assets.com/books/1328724803m...             ['37778']   \n6  https://s.gr-assets.com/assets/nophoto/book/11...             ['27397']   \n7  https://s.gr-assets.com/assets/nophoto/book/11...    ['39054', '11099']   \n8  https://images.gr-assets.com/books/1406508230m...              ['4862']   \n9  https://images.gr-assets.com/books/1320470906m...            ['137561']   \n\n                              publisher  num_pages edition_information   \n0                Simon & Schuster Audio       -1.0            Abridged  \\\n1                           Atria Books      368.0             unknown   \n2                  Yesterday's Classics      162.0             unknown   \n3                            Seven Seas      216.0             unknown   \n4                           Feral House      147.0             unknown   \n5                   Simon & Schuster UK      400.0             unknown   \n6                               unknown       -1.0             unknown   \n7                               unknown       -1.0             unknown   \n8                               unknown      533.0             unknown   \n9  Random House Books for Young Readers      288.0             unknown   \n\n   publication_year  ratings_count  format_code  language_code1   \n0            2001.0           10.0            1               1  \\\n1            2009.0        51184.0            2               2   \n2            2006.0           46.0            3               1   \n3            2009.0           98.0            3               1   \n4            2000.0          986.0            3               1   \n5            2009.0          186.0            2               1   \n6              -1.0           11.0            4               1   \n7              -1.0        68157.0            4               1   \n8              -1.0         7345.0            4               2   \n9            2006.0         6949.0            2               1   \n\n                               processed_description   \n0  anita diamants international bestseller red te...  \\\n1  addie down valerie adler eight first met decid...   \n2  relates vigorous prose tale aeneas legendary a...   \n3  karas astonishment discovers portal opened bed...   \n4  wisdom humor dark observation founder church s...   \n5  london command richard lionheart sir john de w...   \n6  taoist philosophy explained using example miln...   \n7  driving home minister conference baptist minis...   \n8  heaven really going like look like wont heaven...   \n9  yearold penny dream summer butter pecan ice cr...   \n\n                                   glove_description  \n0  [-0.109194554, -0.02343459, -0.00643954, -0.11...  \n1  [-0.09596572, 0.110401616, -0.050980728, -0.08...  \n2  [0.08972758, -0.07232258, 0.06552754, 0.069813...  \n3  [-0.17288154, 0.020485822, 0.01281396, -0.1110...  \n4  [-0.016083162, -0.080028355, 0.051149257, -0.1...  \n5  [-0.008410563, -0.09311661, 0.08472941, -0.046...  \n6  [-0.09883666, -0.048887495, 0.044787, -0.07557...  \n7  [-0.070356965, 0.0033260754, -0.06084435, -0.0...  \n8  [-0.10637292, -0.055722836, -0.06527442, -0.04...  \n9  [0.029615425, 0.08949813, -0.03935328, -0.0058...  ",
      "text/html": "<div>\n<style scoped>\n    .dataframe tbody tr th:only-of-type {\n        vertical-align: middle;\n    }\n\n    .dataframe tbody tr th {\n        vertical-align: top;\n    }\n\n    .dataframe thead th {\n        text-align: right;\n    }\n</style>\n<table border=\"1\" class=\"dataframe\">\n  <thead>\n    <tr style=\"text-align: right;\">\n      <th></th>\n      <th>book_id</th>\n      <th>title</th>\n      <th>isbn</th>\n      <th>language_code</th>\n      <th>is_ebook</th>\n      <th>average_rating</th>\n      <th>similar_books</th>\n      <th>description</th>\n      <th>format</th>\n      <th>cover_img</th>\n      <th>author</th>\n      <th>publisher</th>\n      <th>num_pages</th>\n      <th>edition_information</th>\n      <th>publication_year</th>\n      <th>ratings_count</th>\n      <th>format_code</th>\n      <th>language_code1</th>\n      <th>processed_description</th>\n      <th>glove_description</th>\n    </tr>\n  </thead>\n  <tbody>\n    <tr>\n      <th>0</th>\n      <td>1333909</td>\n      <td>Good Harbor</td>\n      <td>0743509986</td>\n      <td>unknown</td>\n      <td>0.0</td>\n      <td>3.23</td>\n      <td>['8709549', '17074050', '28937', '158816', '22...</td>\n      <td>Anita Diamant's international bestseller \"The ...</td>\n      <td>Audio CD</td>\n      <td>https://s.gr-assets.com/assets/nophoto/book/11...</td>\n      <td>['626222']</td>\n      <td>Simon &amp; Schuster Audio</td>\n      <td>-1.0</td>\n      <td>Abridged</td>\n      <td>2001.0</td>\n      <td>10.0</td>\n      <td>1</td>\n      <td>1</td>\n      <td>anita diamants international bestseller red te...</td>\n      <td>[-0.109194554, -0.02343459, -0.00643954, -0.11...</td>\n    </tr>\n    <tr>\n      <th>1</th>\n      <td>6066819</td>\n      <td>Best Friends Forever</td>\n      <td>0743294297</td>\n      <td>eng</td>\n      <td>0.0</td>\n      <td>3.49</td>\n      <td>['6604176', '6054190', '2285777', '82641', '75...</td>\n      <td>Addie Downs and Valerie Adler were eight when ...</td>\n      <td>Hardcover</td>\n      <td>https://s.gr-assets.com/assets/nophoto/book/11...</td>\n      <td>['9212']</td>\n      <td>Atria Books</td>\n      <td>368.0</td>\n      <td>unknown</td>\n      <td>2009.0</td>\n      <td>51184.0</td>\n      <td>2</td>\n      <td>2</td>\n      <td>addie down valerie adler eight first met decid...</td>\n      <td>[-0.09596572, 0.110401616, -0.050980728, -0.08...</td>\n    </tr>\n    <tr>\n      <th>2</th>\n      <td>287141</td>\n      <td>The Aeneid for Boys and Girls</td>\n      <td>1599150603</td>\n      <td>unknown</td>\n      <td>0.0</td>\n      <td>4.13</td>\n      <td>[]</td>\n      <td>Relates in vigorous prose the tale of Aeneas, ...</td>\n      <td>Paperback</td>\n      <td>https://s.gr-assets.com/assets/nophoto/book/11...</td>\n      <td>['3041852']</td>\n      <td>Yesterday's Classics</td>\n      <td>162.0</td>\n      <td>unknown</td>\n      <td>2006.0</td>\n      <td>46.0</td>\n      <td>3</td>\n      <td>1</td>\n      <td>relates vigorous prose tale aeneas legendary a...</td>\n      <td>[0.08972758, -0.07232258, 0.06552754, 0.069813...</td>\n    </tr>\n    <tr>\n      <th>3</th>\n      <td>6066812</td>\n      <td>All's Fairy in Love and War (Avalon: Web of Ma...</td>\n      <td>1934876569</td>\n      <td>unknown</td>\n      <td>0.0</td>\n      <td>4.22</td>\n      <td>['948696', '439885', '274955', '12978730', '37...</td>\n      <td>To Kara's astonishment, she discovers that a p...</td>\n      <td>Paperback</td>\n      <td>https://images.gr-assets.com/books/1316637798m...</td>\n      <td>['19158']</td>\n      <td>Seven Seas</td>\n      <td>216.0</td>\n      <td>unknown</td>\n      <td>2009.0</td>\n      <td>98.0</td>\n      <td>3</td>\n      <td>1</td>\n      <td>karas astonishment discovers portal opened bed...</td>\n      <td>[-0.17288154, 0.020485822, 0.01281396, -0.1110...</td>\n    </tr>\n    <tr>\n      <th>4</th>\n      <td>287149</td>\n      <td>The Devil's Notebook</td>\n      <td>0922915113</td>\n      <td>unknown</td>\n      <td>0.0</td>\n      <td>3.81</td>\n      <td>['287151', '1104760', '1172822', '440292', '28...</td>\n      <td>Wisdom, humor, and dark observations by the fo...</td>\n      <td>Paperback</td>\n      <td>https://images.gr-assets.com/books/1328768789m...</td>\n      <td>['2983296', '40075']</td>\n      <td>Feral House</td>\n      <td>147.0</td>\n      <td>unknown</td>\n      <td>2000.0</td>\n      <td>986.0</td>\n      <td>3</td>\n      <td>1</td>\n      <td>wisdom humor dark observation founder church s...</td>\n      <td>[-0.016083162, -0.080028355, 0.051149257, -0.1...</td>\n    </tr>\n    <tr>\n      <th>5</th>\n      <td>6066814</td>\n      <td>Crowner Royal (Crowner John Mystery, #13)</td>\n      <td>184737297X</td>\n      <td>unknown</td>\n      <td>0.0</td>\n      <td>3.93</td>\n      <td>['439108', '522621', '116770', '1275927', '620...</td>\n      <td>London, 1196. At the command of Richard the Li...</td>\n      <td>Hardcover</td>\n      <td>https://images.gr-assets.com/books/1328724803m...</td>\n      <td>['37778']</td>\n      <td>Simon &amp; Schuster UK</td>\n      <td>400.0</td>\n      <td>unknown</td>\n      <td>2009.0</td>\n      <td>186.0</td>\n      <td>2</td>\n      <td>1</td>\n      <td>london command richard lionheart sir john de w...</td>\n      <td>[-0.008410563, -0.09311661, 0.08472941, -0.046...</td>\n    </tr>\n    <tr>\n      <th>6</th>\n      <td>89371</td>\n      <td>The Te Of Piglet</td>\n      <td>0413675106</td>\n      <td>unknown</td>\n      <td>0.0</td>\n      <td>3.81</td>\n      <td>['888460', '734023', '147311', '219106', '3139...</td>\n      <td>Taoist philosophy explained using examples fro...</td>\n      <td>unknown</td>\n      <td>https://s.gr-assets.com/assets/nophoto/book/11...</td>\n      <td>['27397']</td>\n      <td>unknown</td>\n      <td>-1.0</td>\n      <td>unknown</td>\n      <td>-1.0</td>\n      <td>11.0</td>\n      <td>4</td>\n      <td>1</td>\n      <td>taoist philosophy explained using example miln...</td>\n      <td>[-0.09883666, -0.048887495, 0.044787, -0.07557...</td>\n    </tr>\n    <tr>\n      <th>7</th>\n      <td>89375</td>\n      <td>90 Minutes in Heaven: A True Story of Death an...</td>\n      <td>0800759494</td>\n      <td>unknown</td>\n      <td>0.0</td>\n      <td>3.91</td>\n      <td>['299795', '8100288', '7570892', '53817', '121...</td>\n      <td>As he is driving home from a minister's confer...</td>\n      <td>unknown</td>\n      <td>https://s.gr-assets.com/assets/nophoto/book/11...</td>\n      <td>['39054', '11099']</td>\n      <td>unknown</td>\n      <td>-1.0</td>\n      <td>unknown</td>\n      <td>-1.0</td>\n      <td>68157.0</td>\n      <td>4</td>\n      <td>1</td>\n      <td>driving home minister conference baptist minis...</td>\n      <td>[-0.070356965, 0.0033260754, -0.06084435, -0.0...</td>\n    </tr>\n    <tr>\n      <th>8</th>\n      <td>89376</td>\n      <td>Heaven</td>\n      <td>0842379428</td>\n      <td>eng</td>\n      <td>0.0</td>\n      <td>4.26</td>\n      <td>['45366', '246849', '11096385', '19102466', '7...</td>\n      <td>What is Heaven really going to be like? What w...</td>\n      <td>unknown</td>\n      <td>https://images.gr-assets.com/books/1406508230m...</td>\n      <td>['4862']</td>\n      <td>unknown</td>\n      <td>533.0</td>\n      <td>unknown</td>\n      <td>-1.0</td>\n      <td>7345.0</td>\n      <td>4</td>\n      <td>2</td>\n      <td>heaven really going like look like wont heaven...</td>\n      <td>[-0.10637292, -0.055722836, -0.06527442, -0.04...</td>\n    </tr>\n    <tr>\n      <th>9</th>\n      <td>89377</td>\n      <td>Penny from Heaven</td>\n      <td>037583687X</td>\n      <td>unknown</td>\n      <td>0.0</td>\n      <td>3.98</td>\n      <td>['614054', '272343', '824934', '581383', '9359...</td>\n      <td>It's 1953 and 11-year-old Penny dreams of a su...</td>\n      <td>Hardcover</td>\n      <td>https://images.gr-assets.com/books/1320470906m...</td>\n      <td>['137561']</td>\n      <td>Random House Books for Young Readers</td>\n      <td>288.0</td>\n      <td>unknown</td>\n      <td>2006.0</td>\n      <td>6949.0</td>\n      <td>2</td>\n      <td>1</td>\n      <td>yearold penny dream summer butter pecan ice cr...</td>\n      <td>[0.029615425, 0.08949813, -0.03935328, -0.0058...</td>\n    </tr>\n  </tbody>\n</table>\n</div>"
     },
     "execution_count": 5,
     "metadata": {},
     "output_type": "execute_result"
    }
   ],
   "source": [
    "books.head(10)"
   ],
   "metadata": {
    "collapsed": false,
    "pycharm": {
     "name": "#%%\n"
    }
   }
  },
  {
   "cell_type": "code",
   "execution_count": 15,
   "outputs": [
    {
     "data": {
      "text/plain": "numpy.ndarray"
     },
     "execution_count": 15,
     "metadata": {},
     "output_type": "execute_result"
    }
   ],
   "source": [
    "type(books.iloc[0].glove_description)"
   ],
   "metadata": {
    "collapsed": false,
    "pycharm": {
     "name": "#%%\n"
    }
   }
  },
  {
   "cell_type": "code",
   "execution_count": null,
   "outputs": [],
   "source": [
    "import numpy as np"
   ],
   "metadata": {
    "collapsed": false,
    "pycharm": {
     "name": "#%%\n"
    }
   }
  },
  {
   "cell_type": "code",
   "execution_count": null,
   "outputs": [],
   "source": [
    "# Load the book embeddings\n",
    "embeddings = np.array(books['glove_description'].tolist())"
   ],
   "metadata": {
    "collapsed": false,
    "pycharm": {
     "name": "#%%\n"
    }
   }
  },
  {
   "cell_type": "code",
   "execution_count": null,
   "outputs": [],
   "source": [
    "embeddings"
   ],
   "metadata": {
    "collapsed": false,
    "pycharm": {
     "name": "#%%\n"
    }
   }
  },
  {
   "cell_type": "code",
   "execution_count": null,
   "outputs": [],
   "source": [
    "embeddings.shape"
   ],
   "metadata": {
    "collapsed": false,
    "pycharm": {
     "name": "#%%\n"
    }
   }
  },
  {
   "cell_type": "code",
   "execution_count": null,
   "outputs": [],
   "source": [
    "from sklearn.metrics.pairwise import cosine_similarity\n",
    "import re\n",
    "\n",
    "def search(query):\n",
    "  processed = re.sub(\"[^a-zA-Z0-9 ]\", \"\", query.lower())\n",
    "  query_vec = string_to_glove(processed).reshape(1,-1)\n",
    "  similarity = cosine_similarity(query_vec, embeddings).flatten()\n",
    "  indices = np.argpartition(similarity, -50)[-50:]\n",
    "  results = books.iloc[indices]\n",
    "  return results[['book_id', 'title']].head(5)\n"
   ],
   "metadata": {
    "collapsed": false,
    "pycharm": {
     "name": "#%%\n"
    }
   }
  },
  {
   "cell_type": "code",
   "execution_count": 13,
   "outputs": [
    {
     "data": {
      "text/plain": "         book_id                                              title\n547362   8882909  Packing for Mars: The Curious Science of Life ...\n973228   2565275                              Inside the Spaceships\n844534    175433  Too Far From Home: A Story of Life and Death i...\n462477  29526297                            Dreams of the Space Age\n9701    27804936                                    Robots in Space",
      "text/html": "<div>\n<style scoped>\n    .dataframe tbody tr th:only-of-type {\n        vertical-align: middle;\n    }\n\n    .dataframe tbody tr th {\n        vertical-align: top;\n    }\n\n    .dataframe thead th {\n        text-align: right;\n    }\n</style>\n<table border=\"1\" class=\"dataframe\">\n  <thead>\n    <tr style=\"text-align: right;\">\n      <th></th>\n      <th>book_id</th>\n      <th>title</th>\n    </tr>\n  </thead>\n  <tbody>\n    <tr>\n      <th>547362</th>\n      <td>8882909</td>\n      <td>Packing for Mars: The Curious Science of Life ...</td>\n    </tr>\n    <tr>\n      <th>973228</th>\n      <td>2565275</td>\n      <td>Inside the Spaceships</td>\n    </tr>\n    <tr>\n      <th>844534</th>\n      <td>175433</td>\n      <td>Too Far From Home: A Story of Life and Death i...</td>\n    </tr>\n    <tr>\n      <th>462477</th>\n      <td>29526297</td>\n      <td>Dreams of the Space Age</td>\n    </tr>\n    <tr>\n      <th>9701</th>\n      <td>27804936</td>\n      <td>Robots in Space</td>\n    </tr>\n  </tbody>\n</table>\n</div>"
     },
     "execution_count": 13,
     "metadata": {},
     "output_type": "execute_result"
    }
   ],
   "source": [
    "search(\"Space Travelling\")"
   ],
   "metadata": {
    "collapsed": false,
    "pycharm": {
     "name": "#%%\n"
    }
   }
  },
  {
   "cell_type": "markdown",
   "source": [
    "## Collaborative Filtering"
   ],
   "metadata": {
    "collapsed": false,
    "pycharm": {
     "name": "#%% md\n"
    }
   }
  },
  {
   "cell_type": "code",
   "execution_count": 2,
   "outputs": [],
   "source": [
    "ratings = pd.read_csv('goodreads_reviews.csv')"
   ],
   "metadata": {
    "collapsed": false,
    "pycharm": {
     "name": "#%%\n"
    }
   }
  },
  {
   "cell_type": "code",
   "execution_count": 3,
   "outputs": [],
   "source": [
    "ratings.dropna(axis=0, inplace=True)"
   ],
   "metadata": {
    "collapsed": false,
    "pycharm": {
     "name": "#%%\n"
    }
   }
  },
  {
   "cell_type": "code",
   "execution_count": 4,
   "outputs": [
    {
     "data": {
      "text/plain": "Index(['user_id', 'book_id', 'rating', 'text', 'n_votes', 'date_added'], dtype='object')"
     },
     "execution_count": 4,
     "metadata": {},
     "output_type": "execute_result"
    }
   ],
   "source": [
    "ratings.columns"
   ],
   "metadata": {
    "collapsed": false,
    "pycharm": {
     "name": "#%%\n"
    }
   }
  },
  {
   "cell_type": "code",
   "execution_count": 5,
   "outputs": [],
   "source": [
    "# Count the number of ratings per book and user\n",
    "book_ratings = ratings.groupby('book_id').size()\n",
    "user_ratings = ratings.groupby('user_id').size()\n",
    "\n",
    "# Define the minimum number of ratings per book and user to keep\n",
    "min_book_ratings = 10\n",
    "min_user_ratings = 5\n",
    "\n",
    "# Filter out books with fewer than min_book_ratings ratings\n",
    "reviews = ratings[ratings['book_id'].isin(book_ratings[book_ratings >= min_book_ratings].index)]\n",
    "\n",
    "# Filter out users with fewer than min_user_ratings ratings\n",
    "reviews = reviews[reviews['user_id'].isin(user_ratings[user_ratings >= min_user_ratings].index)]"
   ],
   "metadata": {
    "collapsed": false,
    "pycharm": {
     "name": "#%%\n"
    }
   }
  },
  {
   "cell_type": "code",
   "execution_count": 6,
   "outputs": [],
   "source": [
    "df = reviews.sample(frac=0.2)"
   ],
   "metadata": {
    "collapsed": false,
    "pycharm": {
     "name": "#%%\n"
    }
   }
  },
  {
   "cell_type": "code",
   "execution_count": 10,
   "outputs": [],
   "source": [
    "df['text'] = df['text'].apply(lambda x: clean_text(x))"
   ],
   "metadata": {
    "collapsed": false,
    "pycharm": {
     "name": "#%%\n"
    }
   }
  },
  {
   "cell_type": "code",
   "execution_count": 11,
   "outputs": [],
   "source": [
    "from textblob import TextBlob\n",
    "# Define a function to convert sentiment polarity to rating\n",
    "def get_rating(polarity):\n",
    "    if polarity > 0:\n",
    "        return 4 * polarity + 1\n",
    "    elif polarity < 0:\n",
    "        return 4 * abs(polarity) + 2\n",
    "    else:\n",
    "        return 3\n",
    "\n",
    "# Define a function to extract sentiment polarity using TextBlob\n",
    "def get_sentiment(text):\n",
    "    blob = TextBlob(text)\n",
    "    polarity = blob.sentiment.polarity\n",
    "    return get_rating(polarity)"
   ],
   "metadata": {
    "collapsed": false,
    "pycharm": {
     "name": "#%%\n"
    }
   }
  },
  {
   "cell_type": "code",
   "execution_count": 12,
   "outputs": [],
   "source": [
    "# apply the sentiment analysis function only to rows with 0 rating\n",
    "mask = df['rating'] == 0\n",
    "df.loc[mask, 'rating'] = df.loc[mask, 'text'].apply(get_sentiment)"
   ],
   "metadata": {
    "collapsed": false,
    "pycharm": {
     "name": "#%%\n"
    }
   }
  },
  {
   "cell_type": "code",
   "execution_count": 13,
   "outputs": [
    {
     "data": {
      "text/plain": "Empty DataFrame\nColumns: [user_id, book_id, rating, text, n_votes, date_added]\nIndex: []",
      "text/html": "<div>\n<style scoped>\n    .dataframe tbody tr th:only-of-type {\n        vertical-align: middle;\n    }\n\n    .dataframe tbody tr th {\n        vertical-align: top;\n    }\n\n    .dataframe thead th {\n        text-align: right;\n    }\n</style>\n<table border=\"1\" class=\"dataframe\">\n  <thead>\n    <tr style=\"text-align: right;\">\n      <th></th>\n      <th>user_id</th>\n      <th>book_id</th>\n      <th>rating</th>\n      <th>text</th>\n      <th>n_votes</th>\n      <th>date_added</th>\n    </tr>\n  </thead>\n  <tbody>\n  </tbody>\n</table>\n</div>"
     },
     "execution_count": 13,
     "metadata": {},
     "output_type": "execute_result"
    }
   ],
   "source": [
    "df[df.rating == 0]"
   ],
   "metadata": {
    "collapsed": false,
    "pycharm": {
     "name": "#%%\n"
    }
   }
  },
  {
   "cell_type": "code",
   "execution_count": 18,
   "outputs": [
    {
     "data": {
      "text/plain": "rating\n5.000000    779000\n4.000000    770428\n3.000000    468242\n2.000000    159676\n1.000000     63738\n             ...  \n2.037681         1\n2.695238         1\n1.195238         1\n1.251600         1\n2.127967         1\nName: count, Length: 13557, dtype: int64"
     },
     "execution_count": 18,
     "metadata": {},
     "output_type": "execute_result"
    }
   ],
   "source": [
    "df.rating.value_counts()"
   ],
   "metadata": {
    "collapsed": false,
    "pycharm": {
     "name": "#%%\n"
    }
   }
  },
  {
   "cell_type": "code",
   "execution_count": 13,
   "outputs": [],
   "source": [
    "df.rating = df.rating.round().astype(int)\n",
    "# clip the ratings to the range [1, 5]\n",
    "df.rating = df.rating.clip(1, 5)"
   ],
   "metadata": {
    "collapsed": false,
    "pycharm": {
     "name": "#%%\n"
    }
   }
  },
  {
   "cell_type": "code",
   "execution_count": 20,
   "outputs": [
    {
     "data": {
      "text/plain": "                                   user_id   book_id  rating   \n10013867  0c9946a8d30b767c2c7c7805b5d62684    270807       5  \\\n3115658   662d1a843a4294fc16fa5a1fa18b99ea  16087681       4   \n3494850   4e3db23e570386ad2fb37c541c5b7551  17336849       5   \n929275    3036b58cf6bd05405c61411779bfcc0c    895185       4   \n12965229  2770a21ddf1f3a901726a965282c745a     37338       1   \n5789722   de6dd5aab1e5277ccf23c3af2c00054f  31944977       5   \n11910210  2c76507b238613f58cb080ae76af4dc4   6363322       3   \n2478840   c95712840943c4505d39a10570934727  30763910       4   \n2284640   83744ffb2612a55db0ba1d873f21ea14     49628       3   \n8938927   fda7ff055a1dfaf7f0b3e100e4d3923b    597790       3   \n\n                                                       text  n_votes   \n10013867  burned intense read make emotional close tie r...        3  \\\n3115658   vivid writing almost see movie imaginative wel...        1   \n3494850   well love book nicole williams far eden serie ...        2   \n929275    splendid exciting enjoyable read star tension ...        7   \n12965229  spoiler alert dont know high hope book dashed ...        0   \n5789722   thank netgalley animal medium group llc hilary...        0   \n11910210  liked wasnt overwhelmed nice read would liked ...        0   \n2478840   read part motherson book club crime thriller n...        0   \n2284640   jednim z motivu atlasu mraku je ze lide nemaji...        0   \n8938927   got information overload commonly associated t...        1   \n\n                              date_added  \n10013867  Fri Nov 18 14:22:10 -0800 2016  \n3115658   Wed Oct 15 22:21:17 -0700 2014  \n3494850   Tue May 14 11:53:23 -0700 2013  \n929275    Tue Dec 13 08:19:24 -0800 2016  \n12965229  Sun Oct 21 18:10:17 -0700 2012  \n5789722   Fri May 19 08:20:56 -0700 2017  \n11910210  Sat Nov 13 13:07:14 -0800 2010  \n2478840   Mon May 29 12:39:50 -0700 2017  \n2284640   Fri Dec 14 15:48:54 -0800 2012  \n8938927   Mon Sep 03 17:45:13 -0700 2012  ",
      "text/html": "<div>\n<style scoped>\n    .dataframe tbody tr th:only-of-type {\n        vertical-align: middle;\n    }\n\n    .dataframe tbody tr th {\n        vertical-align: top;\n    }\n\n    .dataframe thead th {\n        text-align: right;\n    }\n</style>\n<table border=\"1\" class=\"dataframe\">\n  <thead>\n    <tr style=\"text-align: right;\">\n      <th></th>\n      <th>user_id</th>\n      <th>book_id</th>\n      <th>rating</th>\n      <th>text</th>\n      <th>n_votes</th>\n      <th>date_added</th>\n    </tr>\n  </thead>\n  <tbody>\n    <tr>\n      <th>10013867</th>\n      <td>0c9946a8d30b767c2c7c7805b5d62684</td>\n      <td>270807</td>\n      <td>5</td>\n      <td>burned intense read make emotional close tie r...</td>\n      <td>3</td>\n      <td>Fri Nov 18 14:22:10 -0800 2016</td>\n    </tr>\n    <tr>\n      <th>3115658</th>\n      <td>662d1a843a4294fc16fa5a1fa18b99ea</td>\n      <td>16087681</td>\n      <td>4</td>\n      <td>vivid writing almost see movie imaginative wel...</td>\n      <td>1</td>\n      <td>Wed Oct 15 22:21:17 -0700 2014</td>\n    </tr>\n    <tr>\n      <th>3494850</th>\n      <td>4e3db23e570386ad2fb37c541c5b7551</td>\n      <td>17336849</td>\n      <td>5</td>\n      <td>well love book nicole williams far eden serie ...</td>\n      <td>2</td>\n      <td>Tue May 14 11:53:23 -0700 2013</td>\n    </tr>\n    <tr>\n      <th>929275</th>\n      <td>3036b58cf6bd05405c61411779bfcc0c</td>\n      <td>895185</td>\n      <td>4</td>\n      <td>splendid exciting enjoyable read star tension ...</td>\n      <td>7</td>\n      <td>Tue Dec 13 08:19:24 -0800 2016</td>\n    </tr>\n    <tr>\n      <th>12965229</th>\n      <td>2770a21ddf1f3a901726a965282c745a</td>\n      <td>37338</td>\n      <td>1</td>\n      <td>spoiler alert dont know high hope book dashed ...</td>\n      <td>0</td>\n      <td>Sun Oct 21 18:10:17 -0700 2012</td>\n    </tr>\n    <tr>\n      <th>5789722</th>\n      <td>de6dd5aab1e5277ccf23c3af2c00054f</td>\n      <td>31944977</td>\n      <td>5</td>\n      <td>thank netgalley animal medium group llc hilary...</td>\n      <td>0</td>\n      <td>Fri May 19 08:20:56 -0700 2017</td>\n    </tr>\n    <tr>\n      <th>11910210</th>\n      <td>2c76507b238613f58cb080ae76af4dc4</td>\n      <td>6363322</td>\n      <td>3</td>\n      <td>liked wasnt overwhelmed nice read would liked ...</td>\n      <td>0</td>\n      <td>Sat Nov 13 13:07:14 -0800 2010</td>\n    </tr>\n    <tr>\n      <th>2478840</th>\n      <td>c95712840943c4505d39a10570934727</td>\n      <td>30763910</td>\n      <td>4</td>\n      <td>read part motherson book club crime thriller n...</td>\n      <td>0</td>\n      <td>Mon May 29 12:39:50 -0700 2017</td>\n    </tr>\n    <tr>\n      <th>2284640</th>\n      <td>83744ffb2612a55db0ba1d873f21ea14</td>\n      <td>49628</td>\n      <td>3</td>\n      <td>jednim z motivu atlasu mraku je ze lide nemaji...</td>\n      <td>0</td>\n      <td>Fri Dec 14 15:48:54 -0800 2012</td>\n    </tr>\n    <tr>\n      <th>8938927</th>\n      <td>fda7ff055a1dfaf7f0b3e100e4d3923b</td>\n      <td>597790</td>\n      <td>3</td>\n      <td>got information overload commonly associated t...</td>\n      <td>1</td>\n      <td>Mon Sep 03 17:45:13 -0700 2012</td>\n    </tr>\n  </tbody>\n</table>\n</div>"
     },
     "execution_count": 20,
     "metadata": {},
     "output_type": "execute_result"
    }
   ],
   "source": [
    "df.head(10)"
   ],
   "metadata": {
    "collapsed": false,
    "pycharm": {
     "name": "#%%\n"
    }
   }
  },
  {
   "cell_type": "code",
   "execution_count": 21,
   "outputs": [
    {
     "data": {
      "text/plain": "rating\n5    779578\n4    773672\n3    477866\n2    183760\n1     72690\nName: count, dtype: int64"
     },
     "execution_count": 21,
     "metadata": {},
     "output_type": "execute_result"
    }
   ],
   "source": [
    "df.rating.value_counts()"
   ],
   "metadata": {
    "collapsed": false,
    "pycharm": {
     "name": "#%%\n"
    }
   }
  },
  {
   "cell_type": "markdown",
   "source": [
    "### Matrix Factorization"
   ],
   "metadata": {
    "collapsed": false,
    "pycharm": {
     "name": "#%% md\n"
    }
   }
  },
  {
   "cell_type": "code",
   "execution_count": 30,
   "outputs": [
    {
     "name": "stdout",
     "output_type": "stream",
     "text": [
      "Evaluating RMSE of algorithm SVD on 5 split(s).\n",
      "\n",
      "                  Fold 1  Fold 2  Fold 3  Fold 4  Fold 5  Mean    Std     \n",
      "RMSE (testset)    0.9771  0.9755  0.9766  0.9717  0.9746  0.9751  0.0019  \n",
      "Fit time          19.59   16.85   17.71   17.46   17.73   17.87   0.92    \n",
      "Test time         2.48    1.48    2.08    1.42    2.27    1.95    0.43    \n",
      "Mean RMSE: 0.9751017924647007\n"
     ]
    }
   ],
   "source": [
    "from surprise import SVD\n",
    "from surprise import Dataset\n",
    "from surprise import Reader\n",
    "from surprise.model_selection import cross_validate\n",
    "\n",
    "# Load the data\n",
    "reader = Reader(rating_scale=(1, 5))\n",
    "data = Dataset.load_from_df(df[['user_id', 'book_id', 'rating']], reader)\n",
    "\n",
    "# Define the algorithm\n",
    "algo = SVD()\n",
    "\n",
    "# Evaluate the algorithm using 5-fold cross-validation\n",
    "results = cross_validate(algo, data, measures=['RMSE'], cv=5, verbose=True)\n",
    "\n",
    "# Print the mean RMSE score\n",
    "print('Mean RMSE:', results['test_rmse'].mean())\n"
   ],
   "metadata": {
    "collapsed": false,
    "pycharm": {
     "name": "#%%\n"
    }
   }
  },
  {
   "cell_type": "code",
   "execution_count": 31,
   "outputs": [
    {
     "name": "stdout",
     "output_type": "stream",
     "text": [
      "NMF Mean RMSE: 1.1622606740106707\n"
     ]
    }
   ],
   "source": [
    "from surprise import NMF\n",
    "\n",
    "# NMF algorithm\n",
    "algo_nmf = NMF()\n",
    "results_nmf = cross_validate(algo_nmf, data, measures=['RMSE'], cv=5, verbose=True)\n",
    "print('NMF Mean RMSE:', results_nmf['test_rmse'].mean())"
   ],
   "metadata": {
    "collapsed": false,
    "pycharm": {
     "name": "#%%\n"
    }
   }
  },
  {
   "cell_type": "markdown",
   "source": [
    "## Content-based collaborative filtering"
   ],
   "metadata": {
    "collapsed": false,
    "pycharm": {
     "name": "#%% md\n"
    }
   }
  },
  {
   "cell_type": "code",
   "execution_count": 10,
   "outputs": [],
   "source": [
    "books = pd.read_pickle('glove_books.pkl')"
   ],
   "metadata": {
    "collapsed": false,
    "pycharm": {
     "name": "#%%\n"
    }
   }
  },
  {
   "cell_type": "code",
   "execution_count": 11,
   "outputs": [
    {
     "data": {
      "text/plain": "   book_id                                              title        isbn   \n0  1333909                                        Good Harbor  0743509986  \\\n1  6066819                               Best Friends Forever  0743294297   \n2   287141                      The Aeneid for Boys and Girls  1599150603   \n3  6066812  All's Fairy in Love and War (Avalon: Web of Ma...  1934876569   \n4   287149                               The Devil's Notebook  0922915113   \n\n  language_code  is_ebook  average_rating   \n0       unknown       0.0            3.23  \\\n1           eng       0.0            3.49   \n2       unknown       0.0            4.13   \n3       unknown       0.0            4.22   \n4       unknown       0.0            3.81   \n\n                                       similar_books   \n0  ['8709549', '17074050', '28937', '158816', '22...  \\\n1  ['6604176', '6054190', '2285777', '82641', '75...   \n2                                                 []   \n3  ['948696', '439885', '274955', '12978730', '37...   \n4  ['287151', '1104760', '1172822', '440292', '28...   \n\n                                         description     format   \n0  Anita Diamant's international bestseller \"The ...   Audio CD  \\\n1  Addie Downs and Valerie Adler were eight when ...  Hardcover   \n2  Relates in vigorous prose the tale of Aeneas, ...  Paperback   \n3  To Kara's astonishment, she discovers that a p...  Paperback   \n4  Wisdom, humor, and dark observations by the fo...  Paperback   \n\n                                           cover_img                author   \n0  https://s.gr-assets.com/assets/nophoto/book/11...            ['626222']  \\\n1  https://s.gr-assets.com/assets/nophoto/book/11...              ['9212']   \n2  https://s.gr-assets.com/assets/nophoto/book/11...           ['3041852']   \n3  https://images.gr-assets.com/books/1316637798m...             ['19158']   \n4  https://images.gr-assets.com/books/1328768789m...  ['2983296', '40075']   \n\n                publisher  num_pages edition_information  publication_year   \n0  Simon & Schuster Audio       -1.0            Abridged            2001.0  \\\n1             Atria Books      368.0             unknown            2009.0   \n2    Yesterday's Classics      162.0             unknown            2006.0   \n3              Seven Seas      216.0             unknown            2009.0   \n4             Feral House      147.0             unknown            2000.0   \n\n   ratings_count  format_code  language_code1   \n0           10.0            1               1  \\\n1        51184.0            2               2   \n2           46.0            3               1   \n3           98.0            3               1   \n4          986.0            3               1   \n\n                               processed_description   \n0  anita diamants international bestseller red te...  \\\n1  addie down valerie adler eight first met decid...   \n2  relates vigorous prose tale aeneas legendary a...   \n3  karas astonishment discovers portal opened bed...   \n4  wisdom humor dark observation founder church s...   \n\n                                   glove_description  \n0  [-0.109194554, -0.02343459, -0.00643954, -0.11...  \n1  [-0.09596572, 0.110401616, -0.050980728, -0.08...  \n2  [0.08972758, -0.07232258, 0.06552754, 0.069813...  \n3  [-0.17288154, 0.020485822, 0.01281396, -0.1110...  \n4  [-0.016083162, -0.080028355, 0.051149257, -0.1...  ",
      "text/html": "<div>\n<style scoped>\n    .dataframe tbody tr th:only-of-type {\n        vertical-align: middle;\n    }\n\n    .dataframe tbody tr th {\n        vertical-align: top;\n    }\n\n    .dataframe thead th {\n        text-align: right;\n    }\n</style>\n<table border=\"1\" class=\"dataframe\">\n  <thead>\n    <tr style=\"text-align: right;\">\n      <th></th>\n      <th>book_id</th>\n      <th>title</th>\n      <th>isbn</th>\n      <th>language_code</th>\n      <th>is_ebook</th>\n      <th>average_rating</th>\n      <th>similar_books</th>\n      <th>description</th>\n      <th>format</th>\n      <th>cover_img</th>\n      <th>author</th>\n      <th>publisher</th>\n      <th>num_pages</th>\n      <th>edition_information</th>\n      <th>publication_year</th>\n      <th>ratings_count</th>\n      <th>format_code</th>\n      <th>language_code1</th>\n      <th>processed_description</th>\n      <th>glove_description</th>\n    </tr>\n  </thead>\n  <tbody>\n    <tr>\n      <th>0</th>\n      <td>1333909</td>\n      <td>Good Harbor</td>\n      <td>0743509986</td>\n      <td>unknown</td>\n      <td>0.0</td>\n      <td>3.23</td>\n      <td>['8709549', '17074050', '28937', '158816', '22...</td>\n      <td>Anita Diamant's international bestseller \"The ...</td>\n      <td>Audio CD</td>\n      <td>https://s.gr-assets.com/assets/nophoto/book/11...</td>\n      <td>['626222']</td>\n      <td>Simon &amp; Schuster Audio</td>\n      <td>-1.0</td>\n      <td>Abridged</td>\n      <td>2001.0</td>\n      <td>10.0</td>\n      <td>1</td>\n      <td>1</td>\n      <td>anita diamants international bestseller red te...</td>\n      <td>[-0.109194554, -0.02343459, -0.00643954, -0.11...</td>\n    </tr>\n    <tr>\n      <th>1</th>\n      <td>6066819</td>\n      <td>Best Friends Forever</td>\n      <td>0743294297</td>\n      <td>eng</td>\n      <td>0.0</td>\n      <td>3.49</td>\n      <td>['6604176', '6054190', '2285777', '82641', '75...</td>\n      <td>Addie Downs and Valerie Adler were eight when ...</td>\n      <td>Hardcover</td>\n      <td>https://s.gr-assets.com/assets/nophoto/book/11...</td>\n      <td>['9212']</td>\n      <td>Atria Books</td>\n      <td>368.0</td>\n      <td>unknown</td>\n      <td>2009.0</td>\n      <td>51184.0</td>\n      <td>2</td>\n      <td>2</td>\n      <td>addie down valerie adler eight first met decid...</td>\n      <td>[-0.09596572, 0.110401616, -0.050980728, -0.08...</td>\n    </tr>\n    <tr>\n      <th>2</th>\n      <td>287141</td>\n      <td>The Aeneid for Boys and Girls</td>\n      <td>1599150603</td>\n      <td>unknown</td>\n      <td>0.0</td>\n      <td>4.13</td>\n      <td>[]</td>\n      <td>Relates in vigorous prose the tale of Aeneas, ...</td>\n      <td>Paperback</td>\n      <td>https://s.gr-assets.com/assets/nophoto/book/11...</td>\n      <td>['3041852']</td>\n      <td>Yesterday's Classics</td>\n      <td>162.0</td>\n      <td>unknown</td>\n      <td>2006.0</td>\n      <td>46.0</td>\n      <td>3</td>\n      <td>1</td>\n      <td>relates vigorous prose tale aeneas legendary a...</td>\n      <td>[0.08972758, -0.07232258, 0.06552754, 0.069813...</td>\n    </tr>\n    <tr>\n      <th>3</th>\n      <td>6066812</td>\n      <td>All's Fairy in Love and War (Avalon: Web of Ma...</td>\n      <td>1934876569</td>\n      <td>unknown</td>\n      <td>0.0</td>\n      <td>4.22</td>\n      <td>['948696', '439885', '274955', '12978730', '37...</td>\n      <td>To Kara's astonishment, she discovers that a p...</td>\n      <td>Paperback</td>\n      <td>https://images.gr-assets.com/books/1316637798m...</td>\n      <td>['19158']</td>\n      <td>Seven Seas</td>\n      <td>216.0</td>\n      <td>unknown</td>\n      <td>2009.0</td>\n      <td>98.0</td>\n      <td>3</td>\n      <td>1</td>\n      <td>karas astonishment discovers portal opened bed...</td>\n      <td>[-0.17288154, 0.020485822, 0.01281396, -0.1110...</td>\n    </tr>\n    <tr>\n      <th>4</th>\n      <td>287149</td>\n      <td>The Devil's Notebook</td>\n      <td>0922915113</td>\n      <td>unknown</td>\n      <td>0.0</td>\n      <td>3.81</td>\n      <td>['287151', '1104760', '1172822', '440292', '28...</td>\n      <td>Wisdom, humor, and dark observations by the fo...</td>\n      <td>Paperback</td>\n      <td>https://images.gr-assets.com/books/1328768789m...</td>\n      <td>['2983296', '40075']</td>\n      <td>Feral House</td>\n      <td>147.0</td>\n      <td>unknown</td>\n      <td>2000.0</td>\n      <td>986.0</td>\n      <td>3</td>\n      <td>1</td>\n      <td>wisdom humor dark observation founder church s...</td>\n      <td>[-0.016083162, -0.080028355, 0.051149257, -0.1...</td>\n    </tr>\n  </tbody>\n</table>\n</div>"
     },
     "execution_count": 11,
     "metadata": {},
     "output_type": "execute_result"
    }
   ],
   "source": [
    "books.head(5)"
   ],
   "metadata": {
    "collapsed": false,
    "pycharm": {
     "name": "#%%\n"
    }
   }
  },
  {
   "cell_type": "code",
   "execution_count": 4,
   "outputs": [
    {
     "data": {
      "text/plain": "Index(['book_id', 'title', 'isbn', 'language_code', 'is_ebook',\n       'average_rating', 'similar_books', 'description', 'format', 'cover_img',\n       'author', 'publisher', 'num_pages', 'edition_information',\n       'publication_year', 'ratings_count', 'format_code', 'language_code1',\n       'processed_description', 'glove_description'],\n      dtype='object')"
     },
     "execution_count": 4,
     "metadata": {},
     "output_type": "execute_result"
    }
   ],
   "source": [
    "books.columns"
   ],
   "metadata": {
    "collapsed": false,
    "pycharm": {
     "name": "#%%\n"
    }
   }
  },
  {
   "cell_type": "code",
   "execution_count": 13,
   "outputs": [],
   "source": [
    "books['author_ids'] = books['author'].apply(lambda x: ';'.join(str(i) for i in eval(x)))\n"
   ],
   "metadata": {
    "collapsed": false,
    "pycharm": {
     "name": "#%%\n"
    }
   }
  },
  {
   "cell_type": "code",
   "execution_count": 16,
   "outputs": [
    {
     "data": {
      "text/plain": "   book_id                                              title        isbn   \n0  1333909                                        Good Harbor  0743509986  \\\n1  6066819                               Best Friends Forever  0743294297   \n2   287141                      The Aeneid for Boys and Girls  1599150603   \n3  6066812  All's Fairy in Love and War (Avalon: Web of Ma...  1934876569   \n4   287149                               The Devil's Notebook  0922915113   \n5  6066814          Crowner Royal (Crowner John Mystery, #13)  184737297X   \n6    89371                                   The Te Of Piglet  0413675106   \n7    89375  90 Minutes in Heaven: A True Story of Death an...  0800759494   \n8    89376                                             Heaven  0842379428   \n9    89377                                  Penny from Heaven  037583687X   \n\n  language_code  is_ebook  average_rating   \n0       unknown       0.0            3.23  \\\n1           eng       0.0            3.49   \n2       unknown       0.0            4.13   \n3       unknown       0.0            4.22   \n4       unknown       0.0            3.81   \n5       unknown       0.0            3.93   \n6       unknown       0.0            3.81   \n7       unknown       0.0            3.91   \n8           eng       0.0            4.26   \n9       unknown       0.0            3.98   \n\n                                       similar_books   \n0  ['8709549', '17074050', '28937', '158816', '22...  \\\n1  ['6604176', '6054190', '2285777', '82641', '75...   \n2                                                 []   \n3  ['948696', '439885', '274955', '12978730', '37...   \n4  ['287151', '1104760', '1172822', '440292', '28...   \n5  ['439108', '522621', '116770', '1275927', '620...   \n6  ['888460', '734023', '147311', '219106', '3139...   \n7  ['299795', '8100288', '7570892', '53817', '121...   \n8  ['45366', '246849', '11096385', '19102466', '7...   \n9  ['614054', '272343', '824934', '581383', '9359...   \n\n                                         description     format   \n0  Anita Diamant's international bestseller \"The ...   Audio CD  \\\n1  Addie Downs and Valerie Adler were eight when ...  Hardcover   \n2  Relates in vigorous prose the tale of Aeneas, ...  Paperback   \n3  To Kara's astonishment, she discovers that a p...  Paperback   \n4  Wisdom, humor, and dark observations by the fo...  Paperback   \n5  London, 1196. At the command of Richard the Li...  Hardcover   \n6  Taoist philosophy explained using examples fro...    unknown   \n7  As he is driving home from a minister's confer...    unknown   \n8  What is Heaven really going to be like? What w...    unknown   \n9  It's 1953 and 11-year-old Penny dreams of a su...  Hardcover   \n\n                                           cover_img  ... num_pages   \n0  https://s.gr-assets.com/assets/nophoto/book/11...  ...      -1.0  \\\n1  https://s.gr-assets.com/assets/nophoto/book/11...  ...     368.0   \n2  https://s.gr-assets.com/assets/nophoto/book/11...  ...     162.0   \n3  https://images.gr-assets.com/books/1316637798m...  ...     216.0   \n4  https://images.gr-assets.com/books/1328768789m...  ...     147.0   \n5  https://images.gr-assets.com/books/1328724803m...  ...     400.0   \n6  https://s.gr-assets.com/assets/nophoto/book/11...  ...      -1.0   \n7  https://s.gr-assets.com/assets/nophoto/book/11...  ...      -1.0   \n8  https://images.gr-assets.com/books/1406508230m...  ...     533.0   \n9  https://images.gr-assets.com/books/1320470906m...  ...     288.0   \n\n  edition_information  publication_year ratings_count  format_code   \n0            Abridged            2001.0          10.0            1  \\\n1             unknown            2009.0       51184.0            2   \n2             unknown            2006.0          46.0            3   \n3             unknown            2009.0          98.0            3   \n4             unknown            2000.0         986.0            3   \n5             unknown            2009.0         186.0            2   \n6             unknown              -1.0          11.0            4   \n7             unknown              -1.0       68157.0            4   \n8             unknown              -1.0        7345.0            4   \n9             unknown            2006.0        6949.0            2   \n\n   language_code1                              processed_description   \n0               1  anita diamants international bestseller red te...  \\\n1               2  addie down valerie adler eight first met decid...   \n2               1  relates vigorous prose tale aeneas legendary a...   \n3               1  karas astonishment discovers portal opened bed...   \n4               1  wisdom humor dark observation founder church s...   \n5               1  london command richard lionheart sir john de w...   \n6               1  taoist philosophy explained using example miln...   \n7               1  driving home minister conference baptist minis...   \n8               2  heaven really going like look like wont heaven...   \n9               1  yearold penny dream summer butter pecan ice cr...   \n\n                                   glove_description     author_ids   \n0  [-0.109194554, -0.02343459, -0.00643954, -0.11...         626222  \\\n1  [-0.09596572, 0.110401616, -0.050980728, -0.08...           9212   \n2  [0.08972758, -0.07232258, 0.06552754, 0.069813...        3041852   \n3  [-0.17288154, 0.020485822, 0.01281396, -0.1110...          19158   \n4  [-0.016083162, -0.080028355, 0.051149257, -0.1...  2983296;40075   \n5  [-0.008410563, -0.09311661, 0.08472941, -0.046...          37778   \n6  [-0.09883666, -0.048887495, 0.044787, -0.07557...          27397   \n7  [-0.070356965, 0.0033260754, -0.06084435, -0.0...    39054;11099   \n8  [-0.10637292, -0.055722836, -0.06527442, -0.04...           4862   \n9  [0.029615425, 0.08949813, -0.03935328, -0.0058...         137561   \n\n                                                text  \n0  Anita Diamant's international bestseller \"The ...  \n1  Addie Downs and Valerie Adler were eight when ...  \n2  Relates in vigorous prose the tale of Aeneas, ...  \n3  To Kara's astonishment, she discovers that a p...  \n4  Wisdom, humor, and dark observations by the fo...  \n5  London, 1196. At the command of Richard the Li...  \n6  Taoist philosophy explained using examples fro...  \n7  As he is driving home from a minister's confer...  \n8  What is Heaven really going to be like? What w...  \n9  It's 1953 and 11-year-old Penny dreams of a su...  \n\n[10 rows x 22 columns]",
      "text/html": "<div>\n<style scoped>\n    .dataframe tbody tr th:only-of-type {\n        vertical-align: middle;\n    }\n\n    .dataframe tbody tr th {\n        vertical-align: top;\n    }\n\n    .dataframe thead th {\n        text-align: right;\n    }\n</style>\n<table border=\"1\" class=\"dataframe\">\n  <thead>\n    <tr style=\"text-align: right;\">\n      <th></th>\n      <th>book_id</th>\n      <th>title</th>\n      <th>isbn</th>\n      <th>language_code</th>\n      <th>is_ebook</th>\n      <th>average_rating</th>\n      <th>similar_books</th>\n      <th>description</th>\n      <th>format</th>\n      <th>cover_img</th>\n      <th>...</th>\n      <th>num_pages</th>\n      <th>edition_information</th>\n      <th>publication_year</th>\n      <th>ratings_count</th>\n      <th>format_code</th>\n      <th>language_code1</th>\n      <th>processed_description</th>\n      <th>glove_description</th>\n      <th>author_ids</th>\n      <th>text</th>\n    </tr>\n  </thead>\n  <tbody>\n    <tr>\n      <th>0</th>\n      <td>1333909</td>\n      <td>Good Harbor</td>\n      <td>0743509986</td>\n      <td>unknown</td>\n      <td>0.0</td>\n      <td>3.23</td>\n      <td>['8709549', '17074050', '28937', '158816', '22...</td>\n      <td>Anita Diamant's international bestseller \"The ...</td>\n      <td>Audio CD</td>\n      <td>https://s.gr-assets.com/assets/nophoto/book/11...</td>\n      <td>...</td>\n      <td>-1.0</td>\n      <td>Abridged</td>\n      <td>2001.0</td>\n      <td>10.0</td>\n      <td>1</td>\n      <td>1</td>\n      <td>anita diamants international bestseller red te...</td>\n      <td>[-0.109194554, -0.02343459, -0.00643954, -0.11...</td>\n      <td>626222</td>\n      <td>Anita Diamant's international bestseller \"The ...</td>\n    </tr>\n    <tr>\n      <th>1</th>\n      <td>6066819</td>\n      <td>Best Friends Forever</td>\n      <td>0743294297</td>\n      <td>eng</td>\n      <td>0.0</td>\n      <td>3.49</td>\n      <td>['6604176', '6054190', '2285777', '82641', '75...</td>\n      <td>Addie Downs and Valerie Adler were eight when ...</td>\n      <td>Hardcover</td>\n      <td>https://s.gr-assets.com/assets/nophoto/book/11...</td>\n      <td>...</td>\n      <td>368.0</td>\n      <td>unknown</td>\n      <td>2009.0</td>\n      <td>51184.0</td>\n      <td>2</td>\n      <td>2</td>\n      <td>addie down valerie adler eight first met decid...</td>\n      <td>[-0.09596572, 0.110401616, -0.050980728, -0.08...</td>\n      <td>9212</td>\n      <td>Addie Downs and Valerie Adler were eight when ...</td>\n    </tr>\n    <tr>\n      <th>2</th>\n      <td>287141</td>\n      <td>The Aeneid for Boys and Girls</td>\n      <td>1599150603</td>\n      <td>unknown</td>\n      <td>0.0</td>\n      <td>4.13</td>\n      <td>[]</td>\n      <td>Relates in vigorous prose the tale of Aeneas, ...</td>\n      <td>Paperback</td>\n      <td>https://s.gr-assets.com/assets/nophoto/book/11...</td>\n      <td>...</td>\n      <td>162.0</td>\n      <td>unknown</td>\n      <td>2006.0</td>\n      <td>46.0</td>\n      <td>3</td>\n      <td>1</td>\n      <td>relates vigorous prose tale aeneas legendary a...</td>\n      <td>[0.08972758, -0.07232258, 0.06552754, 0.069813...</td>\n      <td>3041852</td>\n      <td>Relates in vigorous prose the tale of Aeneas, ...</td>\n    </tr>\n    <tr>\n      <th>3</th>\n      <td>6066812</td>\n      <td>All's Fairy in Love and War (Avalon: Web of Ma...</td>\n      <td>1934876569</td>\n      <td>unknown</td>\n      <td>0.0</td>\n      <td>4.22</td>\n      <td>['948696', '439885', '274955', '12978730', '37...</td>\n      <td>To Kara's astonishment, she discovers that a p...</td>\n      <td>Paperback</td>\n      <td>https://images.gr-assets.com/books/1316637798m...</td>\n      <td>...</td>\n      <td>216.0</td>\n      <td>unknown</td>\n      <td>2009.0</td>\n      <td>98.0</td>\n      <td>3</td>\n      <td>1</td>\n      <td>karas astonishment discovers portal opened bed...</td>\n      <td>[-0.17288154, 0.020485822, 0.01281396, -0.1110...</td>\n      <td>19158</td>\n      <td>To Kara's astonishment, she discovers that a p...</td>\n    </tr>\n    <tr>\n      <th>4</th>\n      <td>287149</td>\n      <td>The Devil's Notebook</td>\n      <td>0922915113</td>\n      <td>unknown</td>\n      <td>0.0</td>\n      <td>3.81</td>\n      <td>['287151', '1104760', '1172822', '440292', '28...</td>\n      <td>Wisdom, humor, and dark observations by the fo...</td>\n      <td>Paperback</td>\n      <td>https://images.gr-assets.com/books/1328768789m...</td>\n      <td>...</td>\n      <td>147.0</td>\n      <td>unknown</td>\n      <td>2000.0</td>\n      <td>986.0</td>\n      <td>3</td>\n      <td>1</td>\n      <td>wisdom humor dark observation founder church s...</td>\n      <td>[-0.016083162, -0.080028355, 0.051149257, -0.1...</td>\n      <td>2983296;40075</td>\n      <td>Wisdom, humor, and dark observations by the fo...</td>\n    </tr>\n    <tr>\n      <th>5</th>\n      <td>6066814</td>\n      <td>Crowner Royal (Crowner John Mystery, #13)</td>\n      <td>184737297X</td>\n      <td>unknown</td>\n      <td>0.0</td>\n      <td>3.93</td>\n      <td>['439108', '522621', '116770', '1275927', '620...</td>\n      <td>London, 1196. At the command of Richard the Li...</td>\n      <td>Hardcover</td>\n      <td>https://images.gr-assets.com/books/1328724803m...</td>\n      <td>...</td>\n      <td>400.0</td>\n      <td>unknown</td>\n      <td>2009.0</td>\n      <td>186.0</td>\n      <td>2</td>\n      <td>1</td>\n      <td>london command richard lionheart sir john de w...</td>\n      <td>[-0.008410563, -0.09311661, 0.08472941, -0.046...</td>\n      <td>37778</td>\n      <td>London, 1196. At the command of Richard the Li...</td>\n    </tr>\n    <tr>\n      <th>6</th>\n      <td>89371</td>\n      <td>The Te Of Piglet</td>\n      <td>0413675106</td>\n      <td>unknown</td>\n      <td>0.0</td>\n      <td>3.81</td>\n      <td>['888460', '734023', '147311', '219106', '3139...</td>\n      <td>Taoist philosophy explained using examples fro...</td>\n      <td>unknown</td>\n      <td>https://s.gr-assets.com/assets/nophoto/book/11...</td>\n      <td>...</td>\n      <td>-1.0</td>\n      <td>unknown</td>\n      <td>-1.0</td>\n      <td>11.0</td>\n      <td>4</td>\n      <td>1</td>\n      <td>taoist philosophy explained using example miln...</td>\n      <td>[-0.09883666, -0.048887495, 0.044787, -0.07557...</td>\n      <td>27397</td>\n      <td>Taoist philosophy explained using examples fro...</td>\n    </tr>\n    <tr>\n      <th>7</th>\n      <td>89375</td>\n      <td>90 Minutes in Heaven: A True Story of Death an...</td>\n      <td>0800759494</td>\n      <td>unknown</td>\n      <td>0.0</td>\n      <td>3.91</td>\n      <td>['299795', '8100288', '7570892', '53817', '121...</td>\n      <td>As he is driving home from a minister's confer...</td>\n      <td>unknown</td>\n      <td>https://s.gr-assets.com/assets/nophoto/book/11...</td>\n      <td>...</td>\n      <td>-1.0</td>\n      <td>unknown</td>\n      <td>-1.0</td>\n      <td>68157.0</td>\n      <td>4</td>\n      <td>1</td>\n      <td>driving home minister conference baptist minis...</td>\n      <td>[-0.070356965, 0.0033260754, -0.06084435, -0.0...</td>\n      <td>39054;11099</td>\n      <td>As he is driving home from a minister's confer...</td>\n    </tr>\n    <tr>\n      <th>8</th>\n      <td>89376</td>\n      <td>Heaven</td>\n      <td>0842379428</td>\n      <td>eng</td>\n      <td>0.0</td>\n      <td>4.26</td>\n      <td>['45366', '246849', '11096385', '19102466', '7...</td>\n      <td>What is Heaven really going to be like? What w...</td>\n      <td>unknown</td>\n      <td>https://images.gr-assets.com/books/1406508230m...</td>\n      <td>...</td>\n      <td>533.0</td>\n      <td>unknown</td>\n      <td>-1.0</td>\n      <td>7345.0</td>\n      <td>4</td>\n      <td>2</td>\n      <td>heaven really going like look like wont heaven...</td>\n      <td>[-0.10637292, -0.055722836, -0.06527442, -0.04...</td>\n      <td>4862</td>\n      <td>What is Heaven really going to be like? What w...</td>\n    </tr>\n    <tr>\n      <th>9</th>\n      <td>89377</td>\n      <td>Penny from Heaven</td>\n      <td>037583687X</td>\n      <td>unknown</td>\n      <td>0.0</td>\n      <td>3.98</td>\n      <td>['614054', '272343', '824934', '581383', '9359...</td>\n      <td>It's 1953 and 11-year-old Penny dreams of a su...</td>\n      <td>Hardcover</td>\n      <td>https://images.gr-assets.com/books/1320470906m...</td>\n      <td>...</td>\n      <td>288.0</td>\n      <td>unknown</td>\n      <td>2006.0</td>\n      <td>6949.0</td>\n      <td>2</td>\n      <td>1</td>\n      <td>yearold penny dream summer butter pecan ice cr...</td>\n      <td>[0.029615425, 0.08949813, -0.03935328, -0.0058...</td>\n      <td>137561</td>\n      <td>It's 1953 and 11-year-old Penny dreams of a su...</td>\n    </tr>\n  </tbody>\n</table>\n<p>10 rows × 22 columns</p>\n</div>"
     },
     "execution_count": 16,
     "metadata": {},
     "output_type": "execute_result"
    }
   ],
   "source": [
    "books.head(10)"
   ],
   "metadata": {
    "collapsed": false,
    "pycharm": {
     "name": "#%%\n"
    }
   }
  },
  {
   "cell_type": "code",
   "execution_count": 21,
   "outputs": [],
   "source": [
    "# define the features to be included in the TF-IDF matrix\n",
    "features = ['processed_description', 'author_ids', 'publisher', 'format', 'language_code', 'title', 'num_pages', 'publication_year']\n",
    "\n",
    "books['text'] = books['title'] + ' ' + books['processed_description'] + ' ' + books['author_ids'] + ' ' + books['publisher'] + ' ' + books['format'] + ' ' + books['language_code'] + ' ' + books['num_pages'].astype(str) + ' ' + books['publication_year'].astype(str)"
   ],
   "metadata": {
    "collapsed": false,
    "pycharm": {
     "name": "#%%\n"
    }
   }
  },
  {
   "cell_type": "code",
   "execution_count": 22,
   "outputs": [
    {
     "data": {
      "text/plain": "   book_id                                              title        isbn   \n0  1333909                                        Good Harbor  0743509986  \\\n1  6066819                               Best Friends Forever  0743294297   \n2   287141                      The Aeneid for Boys and Girls  1599150603   \n3  6066812  All's Fairy in Love and War (Avalon: Web of Ma...  1934876569   \n4   287149                               The Devil's Notebook  0922915113   \n\n  language_code  is_ebook  average_rating   \n0       unknown       0.0            3.23  \\\n1           eng       0.0            3.49   \n2       unknown       0.0            4.13   \n3       unknown       0.0            4.22   \n4       unknown       0.0            3.81   \n\n                                       similar_books   \n0  ['8709549', '17074050', '28937', '158816', '22...  \\\n1  ['6604176', '6054190', '2285777', '82641', '75...   \n2                                                 []   \n3  ['948696', '439885', '274955', '12978730', '37...   \n4  ['287151', '1104760', '1172822', '440292', '28...   \n\n                                         description     format   \n0  Anita Diamant's international bestseller \"The ...   Audio CD  \\\n1  Addie Downs and Valerie Adler were eight when ...  Hardcover   \n2  Relates in vigorous prose the tale of Aeneas, ...  Paperback   \n3  To Kara's astonishment, she discovers that a p...  Paperback   \n4  Wisdom, humor, and dark observations by the fo...  Paperback   \n\n                                           cover_img  ... num_pages   \n0  https://s.gr-assets.com/assets/nophoto/book/11...  ...      -1.0  \\\n1  https://s.gr-assets.com/assets/nophoto/book/11...  ...     368.0   \n2  https://s.gr-assets.com/assets/nophoto/book/11...  ...     162.0   \n3  https://images.gr-assets.com/books/1316637798m...  ...     216.0   \n4  https://images.gr-assets.com/books/1328768789m...  ...     147.0   \n\n  edition_information  publication_year ratings_count  format_code   \n0            Abridged            2001.0          10.0            1  \\\n1             unknown            2009.0       51184.0            2   \n2             unknown            2006.0          46.0            3   \n3             unknown            2009.0          98.0            3   \n4             unknown            2000.0         986.0            3   \n\n   language_code1                              processed_description   \n0               1  anita diamants international bestseller red te...  \\\n1               2  addie down valerie adler eight first met decid...   \n2               1  relates vigorous prose tale aeneas legendary a...   \n3               1  karas astonishment discovers portal opened bed...   \n4               1  wisdom humor dark observation founder church s...   \n\n                                   glove_description     author_ids   \n0  [-0.109194554, -0.02343459, -0.00643954, -0.11...         626222  \\\n1  [-0.09596572, 0.110401616, -0.050980728, -0.08...           9212   \n2  [0.08972758, -0.07232258, 0.06552754, 0.069813...        3041852   \n3  [-0.17288154, 0.020485822, 0.01281396, -0.1110...          19158   \n4  [-0.016083162, -0.080028355, 0.051149257, -0.1...  2983296;40075   \n\n                                                text  \n0  Good Harbor anita diamants international bests...  \n1  Best Friends Forever addie down valerie adler ...  \n2  The Aeneid for Boys and Girls relates vigorous...  \n3  All's Fairy in Love and War (Avalon: Web of Ma...  \n4  The Devil's Notebook wisdom humor dark observa...  \n\n[5 rows x 22 columns]",
      "text/html": "<div>\n<style scoped>\n    .dataframe tbody tr th:only-of-type {\n        vertical-align: middle;\n    }\n\n    .dataframe tbody tr th {\n        vertical-align: top;\n    }\n\n    .dataframe thead th {\n        text-align: right;\n    }\n</style>\n<table border=\"1\" class=\"dataframe\">\n  <thead>\n    <tr style=\"text-align: right;\">\n      <th></th>\n      <th>book_id</th>\n      <th>title</th>\n      <th>isbn</th>\n      <th>language_code</th>\n      <th>is_ebook</th>\n      <th>average_rating</th>\n      <th>similar_books</th>\n      <th>description</th>\n      <th>format</th>\n      <th>cover_img</th>\n      <th>...</th>\n      <th>num_pages</th>\n      <th>edition_information</th>\n      <th>publication_year</th>\n      <th>ratings_count</th>\n      <th>format_code</th>\n      <th>language_code1</th>\n      <th>processed_description</th>\n      <th>glove_description</th>\n      <th>author_ids</th>\n      <th>text</th>\n    </tr>\n  </thead>\n  <tbody>\n    <tr>\n      <th>0</th>\n      <td>1333909</td>\n      <td>Good Harbor</td>\n      <td>0743509986</td>\n      <td>unknown</td>\n      <td>0.0</td>\n      <td>3.23</td>\n      <td>['8709549', '17074050', '28937', '158816', '22...</td>\n      <td>Anita Diamant's international bestseller \"The ...</td>\n      <td>Audio CD</td>\n      <td>https://s.gr-assets.com/assets/nophoto/book/11...</td>\n      <td>...</td>\n      <td>-1.0</td>\n      <td>Abridged</td>\n      <td>2001.0</td>\n      <td>10.0</td>\n      <td>1</td>\n      <td>1</td>\n      <td>anita diamants international bestseller red te...</td>\n      <td>[-0.109194554, -0.02343459, -0.00643954, -0.11...</td>\n      <td>626222</td>\n      <td>Good Harbor anita diamants international bests...</td>\n    </tr>\n    <tr>\n      <th>1</th>\n      <td>6066819</td>\n      <td>Best Friends Forever</td>\n      <td>0743294297</td>\n      <td>eng</td>\n      <td>0.0</td>\n      <td>3.49</td>\n      <td>['6604176', '6054190', '2285777', '82641', '75...</td>\n      <td>Addie Downs and Valerie Adler were eight when ...</td>\n      <td>Hardcover</td>\n      <td>https://s.gr-assets.com/assets/nophoto/book/11...</td>\n      <td>...</td>\n      <td>368.0</td>\n      <td>unknown</td>\n      <td>2009.0</td>\n      <td>51184.0</td>\n      <td>2</td>\n      <td>2</td>\n      <td>addie down valerie adler eight first met decid...</td>\n      <td>[-0.09596572, 0.110401616, -0.050980728, -0.08...</td>\n      <td>9212</td>\n      <td>Best Friends Forever addie down valerie adler ...</td>\n    </tr>\n    <tr>\n      <th>2</th>\n      <td>287141</td>\n      <td>The Aeneid for Boys and Girls</td>\n      <td>1599150603</td>\n      <td>unknown</td>\n      <td>0.0</td>\n      <td>4.13</td>\n      <td>[]</td>\n      <td>Relates in vigorous prose the tale of Aeneas, ...</td>\n      <td>Paperback</td>\n      <td>https://s.gr-assets.com/assets/nophoto/book/11...</td>\n      <td>...</td>\n      <td>162.0</td>\n      <td>unknown</td>\n      <td>2006.0</td>\n      <td>46.0</td>\n      <td>3</td>\n      <td>1</td>\n      <td>relates vigorous prose tale aeneas legendary a...</td>\n      <td>[0.08972758, -0.07232258, 0.06552754, 0.069813...</td>\n      <td>3041852</td>\n      <td>The Aeneid for Boys and Girls relates vigorous...</td>\n    </tr>\n    <tr>\n      <th>3</th>\n      <td>6066812</td>\n      <td>All's Fairy in Love and War (Avalon: Web of Ma...</td>\n      <td>1934876569</td>\n      <td>unknown</td>\n      <td>0.0</td>\n      <td>4.22</td>\n      <td>['948696', '439885', '274955', '12978730', '37...</td>\n      <td>To Kara's astonishment, she discovers that a p...</td>\n      <td>Paperback</td>\n      <td>https://images.gr-assets.com/books/1316637798m...</td>\n      <td>...</td>\n      <td>216.0</td>\n      <td>unknown</td>\n      <td>2009.0</td>\n      <td>98.0</td>\n      <td>3</td>\n      <td>1</td>\n      <td>karas astonishment discovers portal opened bed...</td>\n      <td>[-0.17288154, 0.020485822, 0.01281396, -0.1110...</td>\n      <td>19158</td>\n      <td>All's Fairy in Love and War (Avalon: Web of Ma...</td>\n    </tr>\n    <tr>\n      <th>4</th>\n      <td>287149</td>\n      <td>The Devil's Notebook</td>\n      <td>0922915113</td>\n      <td>unknown</td>\n      <td>0.0</td>\n      <td>3.81</td>\n      <td>['287151', '1104760', '1172822', '440292', '28...</td>\n      <td>Wisdom, humor, and dark observations by the fo...</td>\n      <td>Paperback</td>\n      <td>https://images.gr-assets.com/books/1328768789m...</td>\n      <td>...</td>\n      <td>147.0</td>\n      <td>unknown</td>\n      <td>2000.0</td>\n      <td>986.0</td>\n      <td>3</td>\n      <td>1</td>\n      <td>wisdom humor dark observation founder church s...</td>\n      <td>[-0.016083162, -0.080028355, 0.051149257, -0.1...</td>\n      <td>2983296;40075</td>\n      <td>The Devil's Notebook wisdom humor dark observa...</td>\n    </tr>\n  </tbody>\n</table>\n<p>5 rows × 22 columns</p>\n</div>"
     },
     "execution_count": 22,
     "metadata": {},
     "output_type": "execute_result"
    }
   ],
   "source": [
    "books.head(5)"
   ],
   "metadata": {
    "collapsed": false,
    "pycharm": {
     "name": "#%%\n"
    }
   }
  },
  {
   "cell_type": "code",
   "execution_count": 23,
   "outputs": [],
   "source": [
    "from sklearn.feature_extraction.text import TfidfVectorizer\n",
    "\n",
    "# initialize the vectorizer\n",
    "tfidf = TfidfVectorizer()\n",
    "\n",
    "# fit and transform the text data\n",
    "tfidf_matrix = tfidf.fit_transform(books['text'])"
   ],
   "metadata": {
    "collapsed": false,
    "pycharm": {
     "name": "#%%\n"
    }
   }
  },
  {
   "cell_type": "code",
   "execution_count": 29,
   "outputs": [],
   "source": [
    "from sklearn.metrics.pairwise import cosine_similarity\n",
    "def get_similar_books(book_id, num_books=20):\n",
    "    # get the index of the given book\n",
    "    idx = books[books['book_id'] == book_id].index\n",
    "\n",
    "    # calculate the cosine similarity between the given book and all other books\n",
    "    cosine_sim = cosine_similarity(tfidf_matrix[idx], tfidf_matrix)\n",
    "\n",
    "\n",
    "    # get the cosine similarity scores between the given book and all other books\n",
    "    sim_scores = list(enumerate(cosine_sim[0]))\n",
    "\n",
    "    # sort the scores in descending order\n",
    "    sim_scores = sorted(sim_scores, key=lambda x: x[1], reverse=True)\n",
    "\n",
    "    # get the indices of the top similar books\n",
    "    sim_indices = [i[0] for i in sim_scores[1:num_books+1]]\n",
    "\n",
    "    # return the titles of the top similar books\n",
    "    return books['title'].iloc[sim_indices]"
   ],
   "metadata": {
    "collapsed": false,
    "pycharm": {
     "name": "#%%\n"
    }
   }
  },
  {
   "cell_type": "code",
   "execution_count": 32,
   "outputs": [
    {
     "data": {
      "text/plain": "1172267                                          Good Harbor\n74832                                            Good Harbor\n805644                                          Good Harbour\n849444                                       Day After Night\n1183366                                           Friendship\n751629                         The Friendship Dance Of Women\n1155687    The HerStories Project: Women Explore the Joy,...\n1091789                              The House in South Road\n503197                                              Re Joyce\n130291                                       Day After Night\n707788     Joyce's Book of Memory: The Mnemotechnic of Ul...\n330656     James Joyce: The Years of Growth, 1882-1915:  ...\n173852     The Friends We Keep: A Woman's Quest for the S...\n416420     The Company We Keep: In Search of Biblical Fri...\n473346                             The Meaning of Friendship\n481998                                       The Boston Girl\n532724                              The Last Days of Dogtown\n253184                              The Last Days Of Dogtown\n83615      Joyce, Bakhtin, and Popular Literature: Chroni...\n687265     Pound-Joyce: The Letters of Ezra Pound to Jame...\nName: title, dtype: object"
     },
     "execution_count": 32,
     "metadata": {},
     "output_type": "execute_result"
    }
   ],
   "source": [
    "get_similar_books(1333909)"
   ],
   "metadata": {
    "collapsed": false,
    "pycharm": {
     "name": "#%%\n"
    }
   }
  },
  {
   "cell_type": "code",
   "execution_count": 28,
   "outputs": [
    {
     "data": {
      "text/plain": "\"['8709549', '17074050', '28937', '158816', '228563', '11296581', '1073987', '7298465', '1274862', '18290554', '86382', '343067', '2774907', '663892', '1233981', '298912', '401091', '307575']\""
     },
     "execution_count": 28,
     "metadata": {},
     "output_type": "execute_result"
    }
   ],
   "source": [
    "books.similar_books.iloc[0]"
   ],
   "metadata": {
    "collapsed": false,
    "pycharm": {
     "name": "#%%\n"
    }
   }
  },
  {
   "cell_type": "code",
   "execution_count": 33,
   "outputs": [],
   "source": [
    "books.to_pickle('final_result_book.pkl')"
   ],
   "metadata": {
    "collapsed": false,
    "pycharm": {
     "name": "#%%\n"
    }
   }
  },
  {
   "cell_type": "markdown",
   "source": [
    "### NEURAL COLLABORATIVE FILTERING"
   ],
   "metadata": {
    "collapsed": false,
    "pycharm": {
     "name": "#%% md\n"
    }
   }
  },
  {
   "cell_type": "code",
   "execution_count": 24,
   "outputs": [
    {
     "name": "stdout",
     "output_type": "stream",
     "text": [
      "<class 'pandas.core.frame.DataFrame'>\n",
      "Index: 2287566 entries, 10013867 to 6593545\n",
      "Data columns (total 6 columns):\n",
      " #   Column      Dtype \n",
      "---  ------      ----- \n",
      " 0   user_id     object\n",
      " 1   book_id     int64 \n",
      " 2   rating      int32 \n",
      " 3   text        object\n",
      " 4   n_votes     int64 \n",
      " 5   date_added  object\n",
      "dtypes: int32(1), int64(2), object(3)\n",
      "memory usage: 177.9+ MB\n"
     ]
    }
   ],
   "source": [
    "df.info()"
   ],
   "metadata": {
    "collapsed": false,
    "pycharm": {
     "name": "#%%\n"
    }
   }
  },
  {
   "cell_type": "code",
   "execution_count": null,
   "outputs": [],
   "source": [],
   "metadata": {
    "collapsed": false,
    "pycharm": {
     "name": "#%%\n"
    }
   }
  },
  {
   "cell_type": "code",
   "execution_count": 14,
   "outputs": [
    {
     "data": {
      "text/plain": "          user_id  book_id  rating   \n2992409     87745    55841       3  \\\n5740439    187517    94812       4   \n3126832     89523    29978       4   \n1777390    224839    32494       5   \n10815793   112265   220167       3   \n3368021    198499    24196       5   \n6587741    119657    55622       1   \n9004093    139130    30902       2   \n11399372   193711    53715       3   \n9297539    204387    76757       4   \n\n                                                       text  n_votes   \n2992409   jml fyh hw n bd lrwy trf kthr n lfrq byn lknys...        0  \\\n5740439   enjoyed story jazz musician wwii berlin paris ...        0   \n3126832   library interactive ebook version sound effect...        0   \n1777390   mo willems vancouver week ago lucky enough go ...        0   \n10815793  un de tenia bastante interes en el libro porqu...        0   \n3368021   val within win especially shes caught battle s...        0   \n6587741                                              monere        0   \n9004093   historical romance didnt seem realistic couldn...        0   \n11399372  yktb mhmwd drwysh l hdhh ljdry lkhdr qsyd twyl...        1   \n9297539                                     fun informative        3   \n\n                              date_added  \n2992409   Thu Aug 15 02:06:41 -0700 2013  \n5740439   Sun Apr 01 13:08:33 -0700 2012  \n3126832   Tue Dec 27 20:09:09 -0800 2016  \n1777390   Mon May 05 11:51:58 -0700 2008  \n10815793  Tue Oct 10 11:23:43 -0700 2017  \n3368021   Wed Apr 28 15:44:34 -0700 2010  \n6587741   Fri Nov 13 17:45:37 -0800 2009  \n9004093   Mon Oct 10 18:48:34 -0700 2011  \n11399372  Sun May 19 11:02:29 -0700 2013  \n9297539   Mon May 29 02:40:25 -0700 2017  ",
      "text/html": "<div>\n<style scoped>\n    .dataframe tbody tr th:only-of-type {\n        vertical-align: middle;\n    }\n\n    .dataframe tbody tr th {\n        vertical-align: top;\n    }\n\n    .dataframe thead th {\n        text-align: right;\n    }\n</style>\n<table border=\"1\" class=\"dataframe\">\n  <thead>\n    <tr style=\"text-align: right;\">\n      <th></th>\n      <th>user_id</th>\n      <th>book_id</th>\n      <th>rating</th>\n      <th>text</th>\n      <th>n_votes</th>\n      <th>date_added</th>\n    </tr>\n  </thead>\n  <tbody>\n    <tr>\n      <th>2992409</th>\n      <td>87745</td>\n      <td>55841</td>\n      <td>3</td>\n      <td>jml fyh hw n bd lrwy trf kthr n lfrq byn lknys...</td>\n      <td>0</td>\n      <td>Thu Aug 15 02:06:41 -0700 2013</td>\n    </tr>\n    <tr>\n      <th>5740439</th>\n      <td>187517</td>\n      <td>94812</td>\n      <td>4</td>\n      <td>enjoyed story jazz musician wwii berlin paris ...</td>\n      <td>0</td>\n      <td>Sun Apr 01 13:08:33 -0700 2012</td>\n    </tr>\n    <tr>\n      <th>3126832</th>\n      <td>89523</td>\n      <td>29978</td>\n      <td>4</td>\n      <td>library interactive ebook version sound effect...</td>\n      <td>0</td>\n      <td>Tue Dec 27 20:09:09 -0800 2016</td>\n    </tr>\n    <tr>\n      <th>1777390</th>\n      <td>224839</td>\n      <td>32494</td>\n      <td>5</td>\n      <td>mo willems vancouver week ago lucky enough go ...</td>\n      <td>0</td>\n      <td>Mon May 05 11:51:58 -0700 2008</td>\n    </tr>\n    <tr>\n      <th>10815793</th>\n      <td>112265</td>\n      <td>220167</td>\n      <td>3</td>\n      <td>un de tenia bastante interes en el libro porqu...</td>\n      <td>0</td>\n      <td>Tue Oct 10 11:23:43 -0700 2017</td>\n    </tr>\n    <tr>\n      <th>3368021</th>\n      <td>198499</td>\n      <td>24196</td>\n      <td>5</td>\n      <td>val within win especially shes caught battle s...</td>\n      <td>0</td>\n      <td>Wed Apr 28 15:44:34 -0700 2010</td>\n    </tr>\n    <tr>\n      <th>6587741</th>\n      <td>119657</td>\n      <td>55622</td>\n      <td>1</td>\n      <td>monere</td>\n      <td>0</td>\n      <td>Fri Nov 13 17:45:37 -0800 2009</td>\n    </tr>\n    <tr>\n      <th>9004093</th>\n      <td>139130</td>\n      <td>30902</td>\n      <td>2</td>\n      <td>historical romance didnt seem realistic couldn...</td>\n      <td>0</td>\n      <td>Mon Oct 10 18:48:34 -0700 2011</td>\n    </tr>\n    <tr>\n      <th>11399372</th>\n      <td>193711</td>\n      <td>53715</td>\n      <td>3</td>\n      <td>yktb mhmwd drwysh l hdhh ljdry lkhdr qsyd twyl...</td>\n      <td>1</td>\n      <td>Sun May 19 11:02:29 -0700 2013</td>\n    </tr>\n    <tr>\n      <th>9297539</th>\n      <td>204387</td>\n      <td>76757</td>\n      <td>4</td>\n      <td>fun informative</td>\n      <td>3</td>\n      <td>Mon May 29 02:40:25 -0700 2017</td>\n    </tr>\n  </tbody>\n</table>\n</div>"
     },
     "execution_count": 14,
     "metadata": {},
     "output_type": "execute_result"
    }
   ],
   "source": [
    "from sklearn.preprocessing import LabelEncoder\n",
    "\n",
    "le1 = LabelEncoder()\n",
    "le2 = LabelEncoder()\n",
    "df['user_id'] = le1.fit_transform(df['user_id'])\n",
    "df['book_id'] = le2.fit_transform(df['book_id'])\n",
    "df.head(10)"
   ],
   "metadata": {
    "collapsed": false,
    "pycharm": {
     "name": "#%%\n"
    }
   }
  },
  {
   "cell_type": "code",
   "execution_count": 15,
   "outputs": [
    {
     "name": "stdout",
     "output_type": "stream",
     "text": [
      "Epoch 1/10\n",
      "57190/57190 [==============================] - 8870s 155ms/step - loss: 0.9885\n",
      "Epoch 2/10\n",
      "  347/57190 [..............................] - ETA: 2:25:57 - loss: 0.7688"
     ]
    },
    {
     "ename": "KeyboardInterrupt",
     "evalue": "",
     "output_type": "error",
     "traceback": [
      "\u001B[1;31m---------------------------------------------------------------------------\u001B[0m",
      "\u001B[1;31mKeyboardInterrupt\u001B[0m                         Traceback (most recent call last)",
      "Cell \u001B[1;32mIn[15], line 50\u001B[0m\n\u001B[0;32m     47\u001B[0m train_ratings \u001B[38;5;241m=\u001B[39m train_data[\u001B[38;5;124m'\u001B[39m\u001B[38;5;124mrating\u001B[39m\u001B[38;5;124m'\u001B[39m]\u001B[38;5;241m.\u001B[39mvalues\n\u001B[0;32m     49\u001B[0m \u001B[38;5;66;03m# Train the NCF model\u001B[39;00m\n\u001B[1;32m---> 50\u001B[0m history_1 \u001B[38;5;241m=\u001B[39m \u001B[43mncf_model\u001B[49m\u001B[38;5;241;43m.\u001B[39;49m\u001B[43mfit\u001B[49m\u001B[43m(\u001B[49m\u001B[43m[\u001B[49m\u001B[43mtrain_users\u001B[49m\u001B[43m,\u001B[49m\u001B[43m \u001B[49m\u001B[43mtrain_books\u001B[49m\u001B[43m]\u001B[49m\u001B[43m,\u001B[49m\u001B[43m \u001B[49m\u001B[43mtrain_ratings\u001B[49m\u001B[43m,\u001B[49m\u001B[43m \u001B[49m\u001B[43mepochs\u001B[49m\u001B[38;5;241;43m=\u001B[39;49m\u001B[38;5;241;43m10\u001B[39;49m\u001B[43m,\u001B[49m\u001B[43m \u001B[49m\u001B[43mbatch_size\u001B[49m\u001B[38;5;241;43m=\u001B[39;49m\u001B[38;5;241;43m32\u001B[39;49m\u001B[43m)\u001B[49m\n\u001B[0;32m     52\u001B[0m \u001B[38;5;66;03m# Prepare the testing data\u001B[39;00m\n\u001B[0;32m     53\u001B[0m test_users \u001B[38;5;241m=\u001B[39m test_data[\u001B[38;5;124m'\u001B[39m\u001B[38;5;124muser_id\u001B[39m\u001B[38;5;124m'\u001B[39m]\u001B[38;5;241m.\u001B[39mvalues\n",
      "File \u001B[1;32m~\\PycharmProjects\\diplom\\DIPLOM_VENV\\lib\\site-packages\\keras\\utils\\traceback_utils.py:65\u001B[0m, in \u001B[0;36mfilter_traceback.<locals>.error_handler\u001B[1;34m(*args, **kwargs)\u001B[0m\n\u001B[0;32m     63\u001B[0m filtered_tb \u001B[38;5;241m=\u001B[39m \u001B[38;5;28;01mNone\u001B[39;00m\n\u001B[0;32m     64\u001B[0m \u001B[38;5;28;01mtry\u001B[39;00m:\n\u001B[1;32m---> 65\u001B[0m     \u001B[38;5;28;01mreturn\u001B[39;00m fn(\u001B[38;5;241m*\u001B[39margs, \u001B[38;5;241m*\u001B[39m\u001B[38;5;241m*\u001B[39mkwargs)\n\u001B[0;32m     66\u001B[0m \u001B[38;5;28;01mexcept\u001B[39;00m \u001B[38;5;167;01mException\u001B[39;00m \u001B[38;5;28;01mas\u001B[39;00m e:\n\u001B[0;32m     67\u001B[0m     filtered_tb \u001B[38;5;241m=\u001B[39m _process_traceback_frames(e\u001B[38;5;241m.\u001B[39m__traceback__)\n",
      "File \u001B[1;32m~\\PycharmProjects\\diplom\\DIPLOM_VENV\\lib\\site-packages\\keras\\engine\\training.py:1685\u001B[0m, in \u001B[0;36mModel.fit\u001B[1;34m(self, x, y, batch_size, epochs, verbose, callbacks, validation_split, validation_data, shuffle, class_weight, sample_weight, initial_epoch, steps_per_epoch, validation_steps, validation_batch_size, validation_freq, max_queue_size, workers, use_multiprocessing)\u001B[0m\n\u001B[0;32m   1677\u001B[0m \u001B[38;5;28;01mwith\u001B[39;00m tf\u001B[38;5;241m.\u001B[39mprofiler\u001B[38;5;241m.\u001B[39mexperimental\u001B[38;5;241m.\u001B[39mTrace(\n\u001B[0;32m   1678\u001B[0m     \u001B[38;5;124m\"\u001B[39m\u001B[38;5;124mtrain\u001B[39m\u001B[38;5;124m\"\u001B[39m,\n\u001B[0;32m   1679\u001B[0m     epoch_num\u001B[38;5;241m=\u001B[39mepoch,\n\u001B[1;32m   (...)\u001B[0m\n\u001B[0;32m   1682\u001B[0m     _r\u001B[38;5;241m=\u001B[39m\u001B[38;5;241m1\u001B[39m,\n\u001B[0;32m   1683\u001B[0m ):\n\u001B[0;32m   1684\u001B[0m     callbacks\u001B[38;5;241m.\u001B[39mon_train_batch_begin(step)\n\u001B[1;32m-> 1685\u001B[0m     tmp_logs \u001B[38;5;241m=\u001B[39m \u001B[38;5;28;43mself\u001B[39;49m\u001B[38;5;241;43m.\u001B[39;49m\u001B[43mtrain_function\u001B[49m\u001B[43m(\u001B[49m\u001B[43miterator\u001B[49m\u001B[43m)\u001B[49m\n\u001B[0;32m   1686\u001B[0m     \u001B[38;5;28;01mif\u001B[39;00m data_handler\u001B[38;5;241m.\u001B[39mshould_sync:\n\u001B[0;32m   1687\u001B[0m         context\u001B[38;5;241m.\u001B[39masync_wait()\n",
      "File \u001B[1;32m~\\PycharmProjects\\diplom\\DIPLOM_VENV\\lib\\site-packages\\tensorflow\\python\\util\\traceback_utils.py:150\u001B[0m, in \u001B[0;36mfilter_traceback.<locals>.error_handler\u001B[1;34m(*args, **kwargs)\u001B[0m\n\u001B[0;32m    148\u001B[0m filtered_tb \u001B[38;5;241m=\u001B[39m \u001B[38;5;28;01mNone\u001B[39;00m\n\u001B[0;32m    149\u001B[0m \u001B[38;5;28;01mtry\u001B[39;00m:\n\u001B[1;32m--> 150\u001B[0m   \u001B[38;5;28;01mreturn\u001B[39;00m fn(\u001B[38;5;241m*\u001B[39margs, \u001B[38;5;241m*\u001B[39m\u001B[38;5;241m*\u001B[39mkwargs)\n\u001B[0;32m    151\u001B[0m \u001B[38;5;28;01mexcept\u001B[39;00m \u001B[38;5;167;01mException\u001B[39;00m \u001B[38;5;28;01mas\u001B[39;00m e:\n\u001B[0;32m    152\u001B[0m   filtered_tb \u001B[38;5;241m=\u001B[39m _process_traceback_frames(e\u001B[38;5;241m.\u001B[39m__traceback__)\n",
      "File \u001B[1;32m~\\PycharmProjects\\diplom\\DIPLOM_VENV\\lib\\site-packages\\tensorflow\\python\\eager\\polymorphic_function\\polymorphic_function.py:894\u001B[0m, in \u001B[0;36mFunction.__call__\u001B[1;34m(self, *args, **kwds)\u001B[0m\n\u001B[0;32m    891\u001B[0m compiler \u001B[38;5;241m=\u001B[39m \u001B[38;5;124m\"\u001B[39m\u001B[38;5;124mxla\u001B[39m\u001B[38;5;124m\"\u001B[39m \u001B[38;5;28;01mif\u001B[39;00m \u001B[38;5;28mself\u001B[39m\u001B[38;5;241m.\u001B[39m_jit_compile \u001B[38;5;28;01melse\u001B[39;00m \u001B[38;5;124m\"\u001B[39m\u001B[38;5;124mnonXla\u001B[39m\u001B[38;5;124m\"\u001B[39m\n\u001B[0;32m    893\u001B[0m \u001B[38;5;28;01mwith\u001B[39;00m OptionalXlaContext(\u001B[38;5;28mself\u001B[39m\u001B[38;5;241m.\u001B[39m_jit_compile):\n\u001B[1;32m--> 894\u001B[0m   result \u001B[38;5;241m=\u001B[39m \u001B[38;5;28mself\u001B[39m\u001B[38;5;241m.\u001B[39m_call(\u001B[38;5;241m*\u001B[39margs, \u001B[38;5;241m*\u001B[39m\u001B[38;5;241m*\u001B[39mkwds)\n\u001B[0;32m    896\u001B[0m new_tracing_count \u001B[38;5;241m=\u001B[39m \u001B[38;5;28mself\u001B[39m\u001B[38;5;241m.\u001B[39mexperimental_get_tracing_count()\n\u001B[0;32m    897\u001B[0m without_tracing \u001B[38;5;241m=\u001B[39m (tracing_count \u001B[38;5;241m==\u001B[39m new_tracing_count)\n",
      "File \u001B[1;32m~\\PycharmProjects\\diplom\\DIPLOM_VENV\\lib\\site-packages\\tensorflow\\python\\eager\\polymorphic_function\\polymorphic_function.py:926\u001B[0m, in \u001B[0;36mFunction._call\u001B[1;34m(self, *args, **kwds)\u001B[0m\n\u001B[0;32m    923\u001B[0m   \u001B[38;5;28mself\u001B[39m\u001B[38;5;241m.\u001B[39m_lock\u001B[38;5;241m.\u001B[39mrelease()\n\u001B[0;32m    924\u001B[0m   \u001B[38;5;66;03m# In this case we have created variables on the first call, so we run the\u001B[39;00m\n\u001B[0;32m    925\u001B[0m   \u001B[38;5;66;03m# defunned version which is guaranteed to never create variables.\u001B[39;00m\n\u001B[1;32m--> 926\u001B[0m   \u001B[38;5;28;01mreturn\u001B[39;00m \u001B[38;5;28mself\u001B[39m\u001B[38;5;241m.\u001B[39m_no_variable_creation_fn(\u001B[38;5;241m*\u001B[39margs, \u001B[38;5;241m*\u001B[39m\u001B[38;5;241m*\u001B[39mkwds)  \u001B[38;5;66;03m# pylint: disable=not-callable\u001B[39;00m\n\u001B[0;32m    927\u001B[0m \u001B[38;5;28;01melif\u001B[39;00m \u001B[38;5;28mself\u001B[39m\u001B[38;5;241m.\u001B[39m_variable_creation_fn \u001B[38;5;129;01mis\u001B[39;00m \u001B[38;5;129;01mnot\u001B[39;00m \u001B[38;5;28;01mNone\u001B[39;00m:\n\u001B[0;32m    928\u001B[0m   \u001B[38;5;66;03m# Release the lock early so that multiple threads can perform the call\u001B[39;00m\n\u001B[0;32m    929\u001B[0m   \u001B[38;5;66;03m# in parallel.\u001B[39;00m\n\u001B[0;32m    930\u001B[0m   \u001B[38;5;28mself\u001B[39m\u001B[38;5;241m.\u001B[39m_lock\u001B[38;5;241m.\u001B[39mrelease()\n",
      "File \u001B[1;32m~\\PycharmProjects\\diplom\\DIPLOM_VENV\\lib\\site-packages\\tensorflow\\python\\eager\\polymorphic_function\\tracing_compiler.py:143\u001B[0m, in \u001B[0;36mTracingCompiler.__call__\u001B[1;34m(self, *args, **kwargs)\u001B[0m\n\u001B[0;32m    140\u001B[0m \u001B[38;5;28;01mwith\u001B[39;00m \u001B[38;5;28mself\u001B[39m\u001B[38;5;241m.\u001B[39m_lock:\n\u001B[0;32m    141\u001B[0m   (concrete_function,\n\u001B[0;32m    142\u001B[0m    filtered_flat_args) \u001B[38;5;241m=\u001B[39m \u001B[38;5;28mself\u001B[39m\u001B[38;5;241m.\u001B[39m_maybe_define_function(args, kwargs)\n\u001B[1;32m--> 143\u001B[0m \u001B[38;5;28;01mreturn\u001B[39;00m \u001B[43mconcrete_function\u001B[49m\u001B[38;5;241;43m.\u001B[39;49m\u001B[43m_call_flat\u001B[49m\u001B[43m(\u001B[49m\n\u001B[0;32m    144\u001B[0m \u001B[43m    \u001B[49m\u001B[43mfiltered_flat_args\u001B[49m\u001B[43m,\u001B[49m\u001B[43m \u001B[49m\u001B[43mcaptured_inputs\u001B[49m\u001B[38;5;241;43m=\u001B[39;49m\u001B[43mconcrete_function\u001B[49m\u001B[38;5;241;43m.\u001B[39;49m\u001B[43mcaptured_inputs\u001B[49m\u001B[43m)\u001B[49m\n",
      "File \u001B[1;32m~\\PycharmProjects\\diplom\\DIPLOM_VENV\\lib\\site-packages\\tensorflow\\python\\eager\\polymorphic_function\\monomorphic_function.py:1757\u001B[0m, in \u001B[0;36mConcreteFunction._call_flat\u001B[1;34m(self, args, captured_inputs, cancellation_manager)\u001B[0m\n\u001B[0;32m   1753\u001B[0m possible_gradient_type \u001B[38;5;241m=\u001B[39m gradients_util\u001B[38;5;241m.\u001B[39mPossibleTapeGradientTypes(args)\n\u001B[0;32m   1754\u001B[0m \u001B[38;5;28;01mif\u001B[39;00m (possible_gradient_type \u001B[38;5;241m==\u001B[39m gradients_util\u001B[38;5;241m.\u001B[39mPOSSIBLE_GRADIENT_TYPES_NONE\n\u001B[0;32m   1755\u001B[0m     \u001B[38;5;129;01mand\u001B[39;00m executing_eagerly):\n\u001B[0;32m   1756\u001B[0m   \u001B[38;5;66;03m# No tape is watching; skip to running the function.\u001B[39;00m\n\u001B[1;32m-> 1757\u001B[0m   \u001B[38;5;28;01mreturn\u001B[39;00m \u001B[38;5;28mself\u001B[39m\u001B[38;5;241m.\u001B[39m_build_call_outputs(\u001B[38;5;28;43mself\u001B[39;49m\u001B[38;5;241;43m.\u001B[39;49m\u001B[43m_inference_function\u001B[49m\u001B[38;5;241;43m.\u001B[39;49m\u001B[43mcall\u001B[49m\u001B[43m(\u001B[49m\n\u001B[0;32m   1758\u001B[0m \u001B[43m      \u001B[49m\u001B[43mctx\u001B[49m\u001B[43m,\u001B[49m\u001B[43m \u001B[49m\u001B[43margs\u001B[49m\u001B[43m,\u001B[49m\u001B[43m \u001B[49m\u001B[43mcancellation_manager\u001B[49m\u001B[38;5;241;43m=\u001B[39;49m\u001B[43mcancellation_manager\u001B[49m\u001B[43m)\u001B[49m)\n\u001B[0;32m   1759\u001B[0m forward_backward \u001B[38;5;241m=\u001B[39m \u001B[38;5;28mself\u001B[39m\u001B[38;5;241m.\u001B[39m_select_forward_and_backward_functions(\n\u001B[0;32m   1760\u001B[0m     args,\n\u001B[0;32m   1761\u001B[0m     possible_gradient_type,\n\u001B[0;32m   1762\u001B[0m     executing_eagerly)\n\u001B[0;32m   1763\u001B[0m forward_function, args_with_tangents \u001B[38;5;241m=\u001B[39m forward_backward\u001B[38;5;241m.\u001B[39mforward()\n",
      "File \u001B[1;32m~\\PycharmProjects\\diplom\\DIPLOM_VENV\\lib\\site-packages\\tensorflow\\python\\eager\\polymorphic_function\\monomorphic_function.py:381\u001B[0m, in \u001B[0;36m_EagerDefinedFunction.call\u001B[1;34m(self, ctx, args, cancellation_manager)\u001B[0m\n\u001B[0;32m    379\u001B[0m \u001B[38;5;28;01mwith\u001B[39;00m _InterpolateFunctionError(\u001B[38;5;28mself\u001B[39m):\n\u001B[0;32m    380\u001B[0m   \u001B[38;5;28;01mif\u001B[39;00m cancellation_manager \u001B[38;5;129;01mis\u001B[39;00m \u001B[38;5;28;01mNone\u001B[39;00m:\n\u001B[1;32m--> 381\u001B[0m     outputs \u001B[38;5;241m=\u001B[39m \u001B[43mexecute\u001B[49m\u001B[38;5;241;43m.\u001B[39;49m\u001B[43mexecute\u001B[49m\u001B[43m(\u001B[49m\n\u001B[0;32m    382\u001B[0m \u001B[43m        \u001B[49m\u001B[38;5;28;43mstr\u001B[39;49m\u001B[43m(\u001B[49m\u001B[38;5;28;43mself\u001B[39;49m\u001B[38;5;241;43m.\u001B[39;49m\u001B[43msignature\u001B[49m\u001B[38;5;241;43m.\u001B[39;49m\u001B[43mname\u001B[49m\u001B[43m)\u001B[49m\u001B[43m,\u001B[49m\n\u001B[0;32m    383\u001B[0m \u001B[43m        \u001B[49m\u001B[43mnum_outputs\u001B[49m\u001B[38;5;241;43m=\u001B[39;49m\u001B[38;5;28;43mself\u001B[39;49m\u001B[38;5;241;43m.\u001B[39;49m\u001B[43m_num_outputs\u001B[49m\u001B[43m,\u001B[49m\n\u001B[0;32m    384\u001B[0m \u001B[43m        \u001B[49m\u001B[43minputs\u001B[49m\u001B[38;5;241;43m=\u001B[39;49m\u001B[43margs\u001B[49m\u001B[43m,\u001B[49m\n\u001B[0;32m    385\u001B[0m \u001B[43m        \u001B[49m\u001B[43mattrs\u001B[49m\u001B[38;5;241;43m=\u001B[39;49m\u001B[43mattrs\u001B[49m\u001B[43m,\u001B[49m\n\u001B[0;32m    386\u001B[0m \u001B[43m        \u001B[49m\u001B[43mctx\u001B[49m\u001B[38;5;241;43m=\u001B[39;49m\u001B[43mctx\u001B[49m\u001B[43m)\u001B[49m\n\u001B[0;32m    387\u001B[0m   \u001B[38;5;28;01melse\u001B[39;00m:\n\u001B[0;32m    388\u001B[0m     outputs \u001B[38;5;241m=\u001B[39m execute\u001B[38;5;241m.\u001B[39mexecute_with_cancellation(\n\u001B[0;32m    389\u001B[0m         \u001B[38;5;28mstr\u001B[39m(\u001B[38;5;28mself\u001B[39m\u001B[38;5;241m.\u001B[39msignature\u001B[38;5;241m.\u001B[39mname),\n\u001B[0;32m    390\u001B[0m         num_outputs\u001B[38;5;241m=\u001B[39m\u001B[38;5;28mself\u001B[39m\u001B[38;5;241m.\u001B[39m_num_outputs,\n\u001B[1;32m   (...)\u001B[0m\n\u001B[0;32m    393\u001B[0m         ctx\u001B[38;5;241m=\u001B[39mctx,\n\u001B[0;32m    394\u001B[0m         cancellation_manager\u001B[38;5;241m=\u001B[39mcancellation_manager)\n",
      "File \u001B[1;32m~\\PycharmProjects\\diplom\\DIPLOM_VENV\\lib\\site-packages\\tensorflow\\python\\eager\\execute.py:52\u001B[0m, in \u001B[0;36mquick_execute\u001B[1;34m(op_name, num_outputs, inputs, attrs, ctx, name)\u001B[0m\n\u001B[0;32m     50\u001B[0m \u001B[38;5;28;01mtry\u001B[39;00m:\n\u001B[0;32m     51\u001B[0m   ctx\u001B[38;5;241m.\u001B[39mensure_initialized()\n\u001B[1;32m---> 52\u001B[0m   tensors \u001B[38;5;241m=\u001B[39m \u001B[43mpywrap_tfe\u001B[49m\u001B[38;5;241;43m.\u001B[39;49m\u001B[43mTFE_Py_Execute\u001B[49m\u001B[43m(\u001B[49m\u001B[43mctx\u001B[49m\u001B[38;5;241;43m.\u001B[39;49m\u001B[43m_handle\u001B[49m\u001B[43m,\u001B[49m\u001B[43m \u001B[49m\u001B[43mdevice_name\u001B[49m\u001B[43m,\u001B[49m\u001B[43m \u001B[49m\u001B[43mop_name\u001B[49m\u001B[43m,\u001B[49m\n\u001B[0;32m     53\u001B[0m \u001B[43m                                      \u001B[49m\u001B[43minputs\u001B[49m\u001B[43m,\u001B[49m\u001B[43m \u001B[49m\u001B[43mattrs\u001B[49m\u001B[43m,\u001B[49m\u001B[43m \u001B[49m\u001B[43mnum_outputs\u001B[49m\u001B[43m)\u001B[49m\n\u001B[0;32m     54\u001B[0m \u001B[38;5;28;01mexcept\u001B[39;00m core\u001B[38;5;241m.\u001B[39m_NotOkStatusException \u001B[38;5;28;01mas\u001B[39;00m e:\n\u001B[0;32m     55\u001B[0m   \u001B[38;5;28;01mif\u001B[39;00m name \u001B[38;5;129;01mis\u001B[39;00m \u001B[38;5;129;01mnot\u001B[39;00m \u001B[38;5;28;01mNone\u001B[39;00m:\n",
      "\u001B[1;31mKeyboardInterrupt\u001B[0m: "
     ]
    }
   ],
   "source": [
    "import numpy as np\n",
    "import pandas as pd\n",
    "import tensorflow as tf\n",
    "from keras.models import Model\n",
    "from keras.layers import Embedding, Flatten, Dense, Concatenate\n",
    "\n",
    "# preprocess your dataset (assuming you have it in a pandas DataFrame)\n",
    "num_users = df['user_id'].nunique()\n",
    "num_books = df['book_id'].nunique()\n",
    "\n",
    "# Split the data into train and test sets\n",
    "train_data = df.sample(frac=0.8, random_state=42)\n",
    "test_data = df.drop(train_data.index)\n",
    "\n",
    "# Define the NCF model\n",
    "def create_ncf_model(num_users, num_books, embedding_dim, hidden_units):\n",
    "    user_input = tf.keras.Input(shape=(1,))\n",
    "    book_input = tf.keras.Input(shape=(1,))\n",
    "\n",
    "    user_embedding = Embedding(num_users, embedding_dim)(user_input)\n",
    "    user_flatten = Flatten()(user_embedding)\n",
    "\n",
    "    book_embedding = Embedding(num_books, embedding_dim)(book_input)\n",
    "    book_flatten = Flatten()(book_embedding)\n",
    "\n",
    "    concatenated = Concatenate()([user_flatten, book_flatten])\n",
    "\n",
    "    for units in hidden_units:\n",
    "        concatenated = Dense(units, activation='relu')(concatenated)\n",
    "\n",
    "    output = Dense(1)(concatenated)\n",
    "\n",
    "    model = Model(inputs=[user_input, book_input], outputs=output)\n",
    "    return model\n",
    "\n",
    "# Set hyperparameters\n",
    "embedding_dim = 32\n",
    "hidden_units = [64, 32, 16]\n",
    "\n",
    "# Create and compile the NCF model\n",
    "ncf_model = create_ncf_model(num_users, num_books, embedding_dim, hidden_units)\n",
    "ncf_model.compile(loss='mean_squared_error', optimizer='adam')\n",
    "\n",
    "# Prepare the training data\n",
    "train_users = train_data['user_id'].values\n",
    "train_books = train_data['book_id'].values\n",
    "train_ratings = train_data['rating'].values\n",
    "\n",
    "# Train the NCF model\n",
    "history_1 = ncf_model.fit([train_users, train_books], train_ratings, epochs=10, batch_size=32)\n",
    "\n",
    "# Prepare the testing data\n",
    "test_users = test_data['user_id'].values\n",
    "test_books = test_data['book_id'].values\n",
    "test_ratings = test_data['rating'].values\n",
    "\n",
    "# Evaluate the NCF model on the testing set\n",
    "loss = ncf_model.evaluate([test_users, test_books], test_ratings)\n",
    "print('Test loss:', loss)"
   ],
   "metadata": {
    "collapsed": false,
    "pycharm": {
     "name": "#%%\n"
    }
   }
  },
  {
   "cell_type": "code",
   "execution_count": null,
   "outputs": [],
   "source": [],
   "metadata": {
    "collapsed": false,
    "pycharm": {
     "name": "#%%\n"
    }
   }
  },
  {
   "cell_type": "code",
   "execution_count": null,
   "outputs": [],
   "source": [],
   "metadata": {
    "collapsed": false,
    "pycharm": {
     "name": "#%%\n"
    }
   }
  }
 ],
 "metadata": {
  "kernelspec": {
   "display_name": "Python 3",
   "language": "python",
   "name": "python3"
  },
  "language_info": {
   "codemirror_mode": {
    "name": "ipython",
    "version": 2
   },
   "file_extension": ".py",
   "mimetype": "text/x-python",
   "name": "python",
   "nbconvert_exporter": "python",
   "pygments_lexer": "ipython2",
   "version": "2.7.6"
  }
 },
 "nbformat": 4,
 "nbformat_minor": 0
}