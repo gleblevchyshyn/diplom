{
 "cells": [
  {
   "cell_type": "code",
   "execution_count": 1,
   "outputs": [],
   "source": [
    "import pandas as pd"
   ],
   "metadata": {
    "collapsed": false,
    "pycharm": {
     "name": "#%%\n"
    }
   }
  },
  {
   "cell_type": "code",
   "execution_count": 2,
   "outputs": [],
   "source": [
    "books = pd.read_csv('processed_books.csv')"
   ],
   "metadata": {
    "collapsed": false,
    "pycharm": {
     "name": "#%%\n"
    }
   }
  },
  {
   "cell_type": "code",
   "execution_count": 3,
   "outputs": [
    {
     "data": {
      "text/plain": "Index(['book_id', 'title', 'isbn', 'language_code', 'is_ebook',\n       'average_rating', 'similar_books', 'description', 'format', 'cover_img',\n       'author', 'publisher', 'num_pages', 'edition_information',\n       'publication_year', 'ratings_count', 'format_code', 'language_code1'],\n      dtype='object')"
     },
     "execution_count": 3,
     "metadata": {},
     "output_type": "execute_result"
    }
   ],
   "source": [
    "books.columns"
   ],
   "metadata": {
    "collapsed": false,
    "pycharm": {
     "name": "#%%\n"
    }
   }
  },
  {
   "cell_type": "code",
   "execution_count": 4,
   "outputs": [
    {
     "data": {
      "text/plain": "   book_id                                              title        isbn   \n0  1333909                                        Good Harbor  0743509986  \\\n1  6066819                               Best Friends Forever  0743294297   \n2   287141                      The Aeneid for Boys and Girls  1599150603   \n3  6066812  All's Fairy in Love and War (Avalon: Web of Ma...  1934876569   \n4   287149                               The Devil's Notebook  0922915113   \n5  6066814          Crowner Royal (Crowner John Mystery, #13)  184737297X   \n6    89371                                   The Te Of Piglet  0413675106   \n7    89375  90 Minutes in Heaven: A True Story of Death an...  0800759494   \n8    89376                                             Heaven  0842379428   \n9    89377                                  Penny from Heaven  037583687X   \n\n  language_code  is_ebook  average_rating   \n0       unknown       0.0            3.23  \\\n1           eng       0.0            3.49   \n2       unknown       0.0            4.13   \n3       unknown       0.0            4.22   \n4       unknown       0.0            3.81   \n5       unknown       0.0            3.93   \n6       unknown       0.0            3.81   \n7       unknown       0.0            3.91   \n8           eng       0.0            4.26   \n9       unknown       0.0            3.98   \n\n                                       similar_books   \n0  ['8709549', '17074050', '28937', '158816', '22...  \\\n1  ['6604176', '6054190', '2285777', '82641', '75...   \n2                                                 []   \n3  ['948696', '439885', '274955', '12978730', '37...   \n4  ['287151', '1104760', '1172822', '440292', '28...   \n5  ['439108', '522621', '116770', '1275927', '620...   \n6  ['888460', '734023', '147311', '219106', '3139...   \n7  ['299795', '8100288', '7570892', '53817', '121...   \n8  ['45366', '246849', '11096385', '19102466', '7...   \n9  ['614054', '272343', '824934', '581383', '9359...   \n\n                                         description     format   \n0  Anita Diamant's international bestseller \"The ...   Audio CD  \\\n1  Addie Downs and Valerie Adler were eight when ...  Hardcover   \n2  Relates in vigorous prose the tale of Aeneas, ...  Paperback   \n3  To Kara's astonishment, she discovers that a p...  Paperback   \n4  Wisdom, humor, and dark observations by the fo...  Paperback   \n5  London, 1196. At the command of Richard the Li...  Hardcover   \n6  Taoist philosophy explained using examples fro...    unknown   \n7  As he is driving home from a minister's confer...    unknown   \n8  What is Heaven really going to be like? What w...    unknown   \n9  It's 1953 and 11-year-old Penny dreams of a su...  Hardcover   \n\n                                           cover_img                author   \n0  https://s.gr-assets.com/assets/nophoto/book/11...            ['626222']  \\\n1  https://s.gr-assets.com/assets/nophoto/book/11...              ['9212']   \n2  https://s.gr-assets.com/assets/nophoto/book/11...           ['3041852']   \n3  https://images.gr-assets.com/books/1316637798m...             ['19158']   \n4  https://images.gr-assets.com/books/1328768789m...  ['2983296', '40075']   \n5  https://images.gr-assets.com/books/1328724803m...             ['37778']   \n6  https://s.gr-assets.com/assets/nophoto/book/11...             ['27397']   \n7  https://s.gr-assets.com/assets/nophoto/book/11...    ['39054', '11099']   \n8  https://images.gr-assets.com/books/1406508230m...              ['4862']   \n9  https://images.gr-assets.com/books/1320470906m...            ['137561']   \n\n                              publisher  num_pages edition_information   \n0                Simon & Schuster Audio       -1.0            Abridged  \\\n1                           Atria Books      368.0             unknown   \n2                  Yesterday's Classics      162.0             unknown   \n3                            Seven Seas      216.0             unknown   \n4                           Feral House      147.0             unknown   \n5                   Simon & Schuster UK      400.0             unknown   \n6                               unknown       -1.0             unknown   \n7                               unknown       -1.0             unknown   \n8                               unknown      533.0             unknown   \n9  Random House Books for Young Readers      288.0             unknown   \n\n   publication_year  ratings_count  format_code  language_code1  \n0            2001.0           10.0            1               1  \n1            2009.0        51184.0            2               2  \n2            2006.0           46.0            3               1  \n3            2009.0           98.0            3               1  \n4            2000.0          986.0            3               1  \n5            2009.0          186.0            2               1  \n6              -1.0           11.0            4               1  \n7              -1.0        68157.0            4               1  \n8              -1.0         7345.0            4               2  \n9            2006.0         6949.0            2               1  ",
      "text/html": "<div>\n<style scoped>\n    .dataframe tbody tr th:only-of-type {\n        vertical-align: middle;\n    }\n\n    .dataframe tbody tr th {\n        vertical-align: top;\n    }\n\n    .dataframe thead th {\n        text-align: right;\n    }\n</style>\n<table border=\"1\" class=\"dataframe\">\n  <thead>\n    <tr style=\"text-align: right;\">\n      <th></th>\n      <th>book_id</th>\n      <th>title</th>\n      <th>isbn</th>\n      <th>language_code</th>\n      <th>is_ebook</th>\n      <th>average_rating</th>\n      <th>similar_books</th>\n      <th>description</th>\n      <th>format</th>\n      <th>cover_img</th>\n      <th>author</th>\n      <th>publisher</th>\n      <th>num_pages</th>\n      <th>edition_information</th>\n      <th>publication_year</th>\n      <th>ratings_count</th>\n      <th>format_code</th>\n      <th>language_code1</th>\n    </tr>\n  </thead>\n  <tbody>\n    <tr>\n      <th>0</th>\n      <td>1333909</td>\n      <td>Good Harbor</td>\n      <td>0743509986</td>\n      <td>unknown</td>\n      <td>0.0</td>\n      <td>3.23</td>\n      <td>['8709549', '17074050', '28937', '158816', '22...</td>\n      <td>Anita Diamant's international bestseller \"The ...</td>\n      <td>Audio CD</td>\n      <td>https://s.gr-assets.com/assets/nophoto/book/11...</td>\n      <td>['626222']</td>\n      <td>Simon &amp; Schuster Audio</td>\n      <td>-1.0</td>\n      <td>Abridged</td>\n      <td>2001.0</td>\n      <td>10.0</td>\n      <td>1</td>\n      <td>1</td>\n    </tr>\n    <tr>\n      <th>1</th>\n      <td>6066819</td>\n      <td>Best Friends Forever</td>\n      <td>0743294297</td>\n      <td>eng</td>\n      <td>0.0</td>\n      <td>3.49</td>\n      <td>['6604176', '6054190', '2285777', '82641', '75...</td>\n      <td>Addie Downs and Valerie Adler were eight when ...</td>\n      <td>Hardcover</td>\n      <td>https://s.gr-assets.com/assets/nophoto/book/11...</td>\n      <td>['9212']</td>\n      <td>Atria Books</td>\n      <td>368.0</td>\n      <td>unknown</td>\n      <td>2009.0</td>\n      <td>51184.0</td>\n      <td>2</td>\n      <td>2</td>\n    </tr>\n    <tr>\n      <th>2</th>\n      <td>287141</td>\n      <td>The Aeneid for Boys and Girls</td>\n      <td>1599150603</td>\n      <td>unknown</td>\n      <td>0.0</td>\n      <td>4.13</td>\n      <td>[]</td>\n      <td>Relates in vigorous prose the tale of Aeneas, ...</td>\n      <td>Paperback</td>\n      <td>https://s.gr-assets.com/assets/nophoto/book/11...</td>\n      <td>['3041852']</td>\n      <td>Yesterday's Classics</td>\n      <td>162.0</td>\n      <td>unknown</td>\n      <td>2006.0</td>\n      <td>46.0</td>\n      <td>3</td>\n      <td>1</td>\n    </tr>\n    <tr>\n      <th>3</th>\n      <td>6066812</td>\n      <td>All's Fairy in Love and War (Avalon: Web of Ma...</td>\n      <td>1934876569</td>\n      <td>unknown</td>\n      <td>0.0</td>\n      <td>4.22</td>\n      <td>['948696', '439885', '274955', '12978730', '37...</td>\n      <td>To Kara's astonishment, she discovers that a p...</td>\n      <td>Paperback</td>\n      <td>https://images.gr-assets.com/books/1316637798m...</td>\n      <td>['19158']</td>\n      <td>Seven Seas</td>\n      <td>216.0</td>\n      <td>unknown</td>\n      <td>2009.0</td>\n      <td>98.0</td>\n      <td>3</td>\n      <td>1</td>\n    </tr>\n    <tr>\n      <th>4</th>\n      <td>287149</td>\n      <td>The Devil's Notebook</td>\n      <td>0922915113</td>\n      <td>unknown</td>\n      <td>0.0</td>\n      <td>3.81</td>\n      <td>['287151', '1104760', '1172822', '440292', '28...</td>\n      <td>Wisdom, humor, and dark observations by the fo...</td>\n      <td>Paperback</td>\n      <td>https://images.gr-assets.com/books/1328768789m...</td>\n      <td>['2983296', '40075']</td>\n      <td>Feral House</td>\n      <td>147.0</td>\n      <td>unknown</td>\n      <td>2000.0</td>\n      <td>986.0</td>\n      <td>3</td>\n      <td>1</td>\n    </tr>\n    <tr>\n      <th>5</th>\n      <td>6066814</td>\n      <td>Crowner Royal (Crowner John Mystery, #13)</td>\n      <td>184737297X</td>\n      <td>unknown</td>\n      <td>0.0</td>\n      <td>3.93</td>\n      <td>['439108', '522621', '116770', '1275927', '620...</td>\n      <td>London, 1196. At the command of Richard the Li...</td>\n      <td>Hardcover</td>\n      <td>https://images.gr-assets.com/books/1328724803m...</td>\n      <td>['37778']</td>\n      <td>Simon &amp; Schuster UK</td>\n      <td>400.0</td>\n      <td>unknown</td>\n      <td>2009.0</td>\n      <td>186.0</td>\n      <td>2</td>\n      <td>1</td>\n    </tr>\n    <tr>\n      <th>6</th>\n      <td>89371</td>\n      <td>The Te Of Piglet</td>\n      <td>0413675106</td>\n      <td>unknown</td>\n      <td>0.0</td>\n      <td>3.81</td>\n      <td>['888460', '734023', '147311', '219106', '3139...</td>\n      <td>Taoist philosophy explained using examples fro...</td>\n      <td>unknown</td>\n      <td>https://s.gr-assets.com/assets/nophoto/book/11...</td>\n      <td>['27397']</td>\n      <td>unknown</td>\n      <td>-1.0</td>\n      <td>unknown</td>\n      <td>-1.0</td>\n      <td>11.0</td>\n      <td>4</td>\n      <td>1</td>\n    </tr>\n    <tr>\n      <th>7</th>\n      <td>89375</td>\n      <td>90 Minutes in Heaven: A True Story of Death an...</td>\n      <td>0800759494</td>\n      <td>unknown</td>\n      <td>0.0</td>\n      <td>3.91</td>\n      <td>['299795', '8100288', '7570892', '53817', '121...</td>\n      <td>As he is driving home from a minister's confer...</td>\n      <td>unknown</td>\n      <td>https://s.gr-assets.com/assets/nophoto/book/11...</td>\n      <td>['39054', '11099']</td>\n      <td>unknown</td>\n      <td>-1.0</td>\n      <td>unknown</td>\n      <td>-1.0</td>\n      <td>68157.0</td>\n      <td>4</td>\n      <td>1</td>\n    </tr>\n    <tr>\n      <th>8</th>\n      <td>89376</td>\n      <td>Heaven</td>\n      <td>0842379428</td>\n      <td>eng</td>\n      <td>0.0</td>\n      <td>4.26</td>\n      <td>['45366', '246849', '11096385', '19102466', '7...</td>\n      <td>What is Heaven really going to be like? What w...</td>\n      <td>unknown</td>\n      <td>https://images.gr-assets.com/books/1406508230m...</td>\n      <td>['4862']</td>\n      <td>unknown</td>\n      <td>533.0</td>\n      <td>unknown</td>\n      <td>-1.0</td>\n      <td>7345.0</td>\n      <td>4</td>\n      <td>2</td>\n    </tr>\n    <tr>\n      <th>9</th>\n      <td>89377</td>\n      <td>Penny from Heaven</td>\n      <td>037583687X</td>\n      <td>unknown</td>\n      <td>0.0</td>\n      <td>3.98</td>\n      <td>['614054', '272343', '824934', '581383', '9359...</td>\n      <td>It's 1953 and 11-year-old Penny dreams of a su...</td>\n      <td>Hardcover</td>\n      <td>https://images.gr-assets.com/books/1320470906m...</td>\n      <td>['137561']</td>\n      <td>Random House Books for Young Readers</td>\n      <td>288.0</td>\n      <td>unknown</td>\n      <td>2006.0</td>\n      <td>6949.0</td>\n      <td>2</td>\n      <td>1</td>\n    </tr>\n  </tbody>\n</table>\n</div>"
     },
     "execution_count": 4,
     "metadata": {},
     "output_type": "execute_result"
    }
   ],
   "source": [
    "books.head(10)"
   ],
   "metadata": {
    "collapsed": false,
    "pycharm": {
     "name": "#%%\n"
    }
   }
  },
  {
   "cell_type": "code",
   "execution_count": 5,
   "outputs": [
    {
     "data": {
      "text/plain": "1179966"
     },
     "execution_count": 5,
     "metadata": {},
     "output_type": "execute_result"
    }
   ],
   "source": [
    "books = books[books['ratings_count'] != 0]\n",
    "len(books)"
   ],
   "metadata": {
    "collapsed": false,
    "pycharm": {
     "name": "#%%\n"
    }
   }
  },
  {
   "cell_type": "code",
   "execution_count": 11,
   "outputs": [],
   "source": [
    "import string\n",
    "import re\n",
    "from nltk.corpus import stopwords\n",
    "from nltk.stem import WordNetLemmatizer\n",
    "from nltk import word_tokenize\n",
    "\n",
    "lemmatizer = WordNetLemmatizer()\n",
    "stopwords = stopwords.words('english')\n",
    "\n",
    "\n",
    "def clean_text(text):\n",
    "    # Convert to lowercase\n",
    "    text = text.lower()\n",
    "    # Remove URLs\n",
    "    text = re.sub(r'http\\S+', '', text)\n",
    "    # Remove HTML tags\n",
    "    text = re.sub(r'<.*?>', '', text)\n",
    "    # Remove punctuation\n",
    "    text = text.translate(str.maketrans('', '', string.punctuation))\n",
    "    # Remove numbers\n",
    "    text = re.sub(r'\\d+', '', text)\n",
    "    # Tokenize into words\n",
    "    words = text.split()\n",
    "    text = ' '.join([lemmatizer.lemmatize(w) for w in words if not w in stopwords])\n",
    "    return text"
   ],
   "metadata": {
    "collapsed": false,
    "pycharm": {
     "name": "#%%\n"
    }
   }
  },
  {
   "cell_type": "code",
   "execution_count": 7,
   "outputs": [],
   "source": [
    "books['processed_description'] = books['description'].apply(lambda x: clean_text(x))"
   ],
   "metadata": {
    "collapsed": false,
    "pycharm": {
     "name": "#%%\n"
    }
   }
  },
  {
   "cell_type": "code",
   "execution_count": 8,
   "outputs": [
    {
     "data": {
      "text/plain": "   book_id                                              title        isbn   \n0  1333909                                        Good Harbor  0743509986  \\\n1  6066819                               Best Friends Forever  0743294297   \n2   287141                      The Aeneid for Boys and Girls  1599150603   \n3  6066812  All's Fairy in Love and War (Avalon: Web of Ma...  1934876569   \n4   287149                               The Devil's Notebook  0922915113   \n5  6066814          Crowner Royal (Crowner John Mystery, #13)  184737297X   \n6    89371                                   The Te Of Piglet  0413675106   \n7    89375  90 Minutes in Heaven: A True Story of Death an...  0800759494   \n8    89376                                             Heaven  0842379428   \n9    89377                                  Penny from Heaven  037583687X   \n\n  language_code  is_ebook  average_rating   \n0       unknown       0.0            3.23  \\\n1           eng       0.0            3.49   \n2       unknown       0.0            4.13   \n3       unknown       0.0            4.22   \n4       unknown       0.0            3.81   \n5       unknown       0.0            3.93   \n6       unknown       0.0            3.81   \n7       unknown       0.0            3.91   \n8           eng       0.0            4.26   \n9       unknown       0.0            3.98   \n\n                                       similar_books   \n0  ['8709549', '17074050', '28937', '158816', '22...  \\\n1  ['6604176', '6054190', '2285777', '82641', '75...   \n2                                                 []   \n3  ['948696', '439885', '274955', '12978730', '37...   \n4  ['287151', '1104760', '1172822', '440292', '28...   \n5  ['439108', '522621', '116770', '1275927', '620...   \n6  ['888460', '734023', '147311', '219106', '3139...   \n7  ['299795', '8100288', '7570892', '53817', '121...   \n8  ['45366', '246849', '11096385', '19102466', '7...   \n9  ['614054', '272343', '824934', '581383', '9359...   \n\n                                         description     format   \n0  Anita Diamant's international bestseller \"The ...   Audio CD  \\\n1  Addie Downs and Valerie Adler were eight when ...  Hardcover   \n2  Relates in vigorous prose the tale of Aeneas, ...  Paperback   \n3  To Kara's astonishment, she discovers that a p...  Paperback   \n4  Wisdom, humor, and dark observations by the fo...  Paperback   \n5  London, 1196. At the command of Richard the Li...  Hardcover   \n6  Taoist philosophy explained using examples fro...    unknown   \n7  As he is driving home from a minister's confer...    unknown   \n8  What is Heaven really going to be like? What w...    unknown   \n9  It's 1953 and 11-year-old Penny dreams of a su...  Hardcover   \n\n                                           cover_img                author   \n0  https://s.gr-assets.com/assets/nophoto/book/11...            ['626222']  \\\n1  https://s.gr-assets.com/assets/nophoto/book/11...              ['9212']   \n2  https://s.gr-assets.com/assets/nophoto/book/11...           ['3041852']   \n3  https://images.gr-assets.com/books/1316637798m...             ['19158']   \n4  https://images.gr-assets.com/books/1328768789m...  ['2983296', '40075']   \n5  https://images.gr-assets.com/books/1328724803m...             ['37778']   \n6  https://s.gr-assets.com/assets/nophoto/book/11...             ['27397']   \n7  https://s.gr-assets.com/assets/nophoto/book/11...    ['39054', '11099']   \n8  https://images.gr-assets.com/books/1406508230m...              ['4862']   \n9  https://images.gr-assets.com/books/1320470906m...            ['137561']   \n\n                              publisher  num_pages edition_information   \n0                Simon & Schuster Audio       -1.0            Abridged  \\\n1                           Atria Books      368.0             unknown   \n2                  Yesterday's Classics      162.0             unknown   \n3                            Seven Seas      216.0             unknown   \n4                           Feral House      147.0             unknown   \n5                   Simon & Schuster UK      400.0             unknown   \n6                               unknown       -1.0             unknown   \n7                               unknown       -1.0             unknown   \n8                               unknown      533.0             unknown   \n9  Random House Books for Young Readers      288.0             unknown   \n\n   publication_year  ratings_count  format_code  language_code1   \n0            2001.0           10.0            1               1  \\\n1            2009.0        51184.0            2               2   \n2            2006.0           46.0            3               1   \n3            2009.0           98.0            3               1   \n4            2000.0          986.0            3               1   \n5            2009.0          186.0            2               1   \n6              -1.0           11.0            4               1   \n7              -1.0        68157.0            4               1   \n8              -1.0         7345.0            4               2   \n9            2006.0         6949.0            2               1   \n\n                               processed_description  \n0  anita diamants international bestseller red te...  \n1  addie down valerie adler eight first met decid...  \n2  relates vigorous prose tale aeneas legendary a...  \n3  karas astonishment discovers portal opened bed...  \n4  wisdom humor dark observation founder church s...  \n5  london command richard lionheart sir john de w...  \n6  taoist philosophy explained using example miln...  \n7  driving home minister conference baptist minis...  \n8  heaven really going like look like wont heaven...  \n9  yearold penny dream summer butter pecan ice cr...  ",
      "text/html": "<div>\n<style scoped>\n    .dataframe tbody tr th:only-of-type {\n        vertical-align: middle;\n    }\n\n    .dataframe tbody tr th {\n        vertical-align: top;\n    }\n\n    .dataframe thead th {\n        text-align: right;\n    }\n</style>\n<table border=\"1\" class=\"dataframe\">\n  <thead>\n    <tr style=\"text-align: right;\">\n      <th></th>\n      <th>book_id</th>\n      <th>title</th>\n      <th>isbn</th>\n      <th>language_code</th>\n      <th>is_ebook</th>\n      <th>average_rating</th>\n      <th>similar_books</th>\n      <th>description</th>\n      <th>format</th>\n      <th>cover_img</th>\n      <th>author</th>\n      <th>publisher</th>\n      <th>num_pages</th>\n      <th>edition_information</th>\n      <th>publication_year</th>\n      <th>ratings_count</th>\n      <th>format_code</th>\n      <th>language_code1</th>\n      <th>processed_description</th>\n    </tr>\n  </thead>\n  <tbody>\n    <tr>\n      <th>0</th>\n      <td>1333909</td>\n      <td>Good Harbor</td>\n      <td>0743509986</td>\n      <td>unknown</td>\n      <td>0.0</td>\n      <td>3.23</td>\n      <td>['8709549', '17074050', '28937', '158816', '22...</td>\n      <td>Anita Diamant's international bestseller \"The ...</td>\n      <td>Audio CD</td>\n      <td>https://s.gr-assets.com/assets/nophoto/book/11...</td>\n      <td>['626222']</td>\n      <td>Simon &amp; Schuster Audio</td>\n      <td>-1.0</td>\n      <td>Abridged</td>\n      <td>2001.0</td>\n      <td>10.0</td>\n      <td>1</td>\n      <td>1</td>\n      <td>anita diamants international bestseller red te...</td>\n    </tr>\n    <tr>\n      <th>1</th>\n      <td>6066819</td>\n      <td>Best Friends Forever</td>\n      <td>0743294297</td>\n      <td>eng</td>\n      <td>0.0</td>\n      <td>3.49</td>\n      <td>['6604176', '6054190', '2285777', '82641', '75...</td>\n      <td>Addie Downs and Valerie Adler were eight when ...</td>\n      <td>Hardcover</td>\n      <td>https://s.gr-assets.com/assets/nophoto/book/11...</td>\n      <td>['9212']</td>\n      <td>Atria Books</td>\n      <td>368.0</td>\n      <td>unknown</td>\n      <td>2009.0</td>\n      <td>51184.0</td>\n      <td>2</td>\n      <td>2</td>\n      <td>addie down valerie adler eight first met decid...</td>\n    </tr>\n    <tr>\n      <th>2</th>\n      <td>287141</td>\n      <td>The Aeneid for Boys and Girls</td>\n      <td>1599150603</td>\n      <td>unknown</td>\n      <td>0.0</td>\n      <td>4.13</td>\n      <td>[]</td>\n      <td>Relates in vigorous prose the tale of Aeneas, ...</td>\n      <td>Paperback</td>\n      <td>https://s.gr-assets.com/assets/nophoto/book/11...</td>\n      <td>['3041852']</td>\n      <td>Yesterday's Classics</td>\n      <td>162.0</td>\n      <td>unknown</td>\n      <td>2006.0</td>\n      <td>46.0</td>\n      <td>3</td>\n      <td>1</td>\n      <td>relates vigorous prose tale aeneas legendary a...</td>\n    </tr>\n    <tr>\n      <th>3</th>\n      <td>6066812</td>\n      <td>All's Fairy in Love and War (Avalon: Web of Ma...</td>\n      <td>1934876569</td>\n      <td>unknown</td>\n      <td>0.0</td>\n      <td>4.22</td>\n      <td>['948696', '439885', '274955', '12978730', '37...</td>\n      <td>To Kara's astonishment, she discovers that a p...</td>\n      <td>Paperback</td>\n      <td>https://images.gr-assets.com/books/1316637798m...</td>\n      <td>['19158']</td>\n      <td>Seven Seas</td>\n      <td>216.0</td>\n      <td>unknown</td>\n      <td>2009.0</td>\n      <td>98.0</td>\n      <td>3</td>\n      <td>1</td>\n      <td>karas astonishment discovers portal opened bed...</td>\n    </tr>\n    <tr>\n      <th>4</th>\n      <td>287149</td>\n      <td>The Devil's Notebook</td>\n      <td>0922915113</td>\n      <td>unknown</td>\n      <td>0.0</td>\n      <td>3.81</td>\n      <td>['287151', '1104760', '1172822', '440292', '28...</td>\n      <td>Wisdom, humor, and dark observations by the fo...</td>\n      <td>Paperback</td>\n      <td>https://images.gr-assets.com/books/1328768789m...</td>\n      <td>['2983296', '40075']</td>\n      <td>Feral House</td>\n      <td>147.0</td>\n      <td>unknown</td>\n      <td>2000.0</td>\n      <td>986.0</td>\n      <td>3</td>\n      <td>1</td>\n      <td>wisdom humor dark observation founder church s...</td>\n    </tr>\n    <tr>\n      <th>5</th>\n      <td>6066814</td>\n      <td>Crowner Royal (Crowner John Mystery, #13)</td>\n      <td>184737297X</td>\n      <td>unknown</td>\n      <td>0.0</td>\n      <td>3.93</td>\n      <td>['439108', '522621', '116770', '1275927', '620...</td>\n      <td>London, 1196. At the command of Richard the Li...</td>\n      <td>Hardcover</td>\n      <td>https://images.gr-assets.com/books/1328724803m...</td>\n      <td>['37778']</td>\n      <td>Simon &amp; Schuster UK</td>\n      <td>400.0</td>\n      <td>unknown</td>\n      <td>2009.0</td>\n      <td>186.0</td>\n      <td>2</td>\n      <td>1</td>\n      <td>london command richard lionheart sir john de w...</td>\n    </tr>\n    <tr>\n      <th>6</th>\n      <td>89371</td>\n      <td>The Te Of Piglet</td>\n      <td>0413675106</td>\n      <td>unknown</td>\n      <td>0.0</td>\n      <td>3.81</td>\n      <td>['888460', '734023', '147311', '219106', '3139...</td>\n      <td>Taoist philosophy explained using examples fro...</td>\n      <td>unknown</td>\n      <td>https://s.gr-assets.com/assets/nophoto/book/11...</td>\n      <td>['27397']</td>\n      <td>unknown</td>\n      <td>-1.0</td>\n      <td>unknown</td>\n      <td>-1.0</td>\n      <td>11.0</td>\n      <td>4</td>\n      <td>1</td>\n      <td>taoist philosophy explained using example miln...</td>\n    </tr>\n    <tr>\n      <th>7</th>\n      <td>89375</td>\n      <td>90 Minutes in Heaven: A True Story of Death an...</td>\n      <td>0800759494</td>\n      <td>unknown</td>\n      <td>0.0</td>\n      <td>3.91</td>\n      <td>['299795', '8100288', '7570892', '53817', '121...</td>\n      <td>As he is driving home from a minister's confer...</td>\n      <td>unknown</td>\n      <td>https://s.gr-assets.com/assets/nophoto/book/11...</td>\n      <td>['39054', '11099']</td>\n      <td>unknown</td>\n      <td>-1.0</td>\n      <td>unknown</td>\n      <td>-1.0</td>\n      <td>68157.0</td>\n      <td>4</td>\n      <td>1</td>\n      <td>driving home minister conference baptist minis...</td>\n    </tr>\n    <tr>\n      <th>8</th>\n      <td>89376</td>\n      <td>Heaven</td>\n      <td>0842379428</td>\n      <td>eng</td>\n      <td>0.0</td>\n      <td>4.26</td>\n      <td>['45366', '246849', '11096385', '19102466', '7...</td>\n      <td>What is Heaven really going to be like? What w...</td>\n      <td>unknown</td>\n      <td>https://images.gr-assets.com/books/1406508230m...</td>\n      <td>['4862']</td>\n      <td>unknown</td>\n      <td>533.0</td>\n      <td>unknown</td>\n      <td>-1.0</td>\n      <td>7345.0</td>\n      <td>4</td>\n      <td>2</td>\n      <td>heaven really going like look like wont heaven...</td>\n    </tr>\n    <tr>\n      <th>9</th>\n      <td>89377</td>\n      <td>Penny from Heaven</td>\n      <td>037583687X</td>\n      <td>unknown</td>\n      <td>0.0</td>\n      <td>3.98</td>\n      <td>['614054', '272343', '824934', '581383', '9359...</td>\n      <td>It's 1953 and 11-year-old Penny dreams of a su...</td>\n      <td>Hardcover</td>\n      <td>https://images.gr-assets.com/books/1320470906m...</td>\n      <td>['137561']</td>\n      <td>Random House Books for Young Readers</td>\n      <td>288.0</td>\n      <td>unknown</td>\n      <td>2006.0</td>\n      <td>6949.0</td>\n      <td>2</td>\n      <td>1</td>\n      <td>yearold penny dream summer butter pecan ice cr...</td>\n    </tr>\n  </tbody>\n</table>\n</div>"
     },
     "execution_count": 8,
     "metadata": {},
     "output_type": "execute_result"
    }
   ],
   "source": [
    "books.head(10)"
   ],
   "metadata": {
    "collapsed": false,
    "pycharm": {
     "name": "#%%\n"
    }
   }
  },
  {
   "cell_type": "code",
   "execution_count": 9,
   "outputs": [],
   "source": [
    "books.to_pickle('processed_books_v2.pkl')"
   ],
   "metadata": {
    "collapsed": false,
    "pycharm": {
     "name": "#%%\n"
    }
   }
  },
  {
   "cell_type": "code",
   "execution_count": 5,
   "outputs": [
    {
     "data": {
      "text/plain": "   Unnamed: 0  book_id                                              title   \n0           0  1333909                                        Good Harbor  \\\n1           1  6066819                               Best Friends Forever   \n2           2   287141                      The Aeneid for Boys and Girls   \n3           3  6066812  All's Fairy in Love and War (Avalon: Web of Ma...   \n4           4   287149                               The Devil's Notebook   \n5           5  6066814          Crowner Royal (Crowner John Mystery, #13)   \n6           6    89371                                   The Te Of Piglet   \n7           7    89375  90 Minutes in Heaven: A True Story of Death an...   \n8           8    89376                                             Heaven   \n9           9    89377                                  Penny from Heaven   \n\n         isbn language_code  is_ebook  average_rating   \n0  0743509986       unknown       0.0            3.23  \\\n1  0743294297           eng       0.0            3.49   \n2  1599150603       unknown       0.0            4.13   \n3  1934876569       unknown       0.0            4.22   \n4  0922915113       unknown       0.0            3.81   \n5  184737297X       unknown       0.0            3.93   \n6  0413675106       unknown       0.0            3.81   \n7  0800759494       unknown       0.0            3.91   \n8  0842379428           eng       0.0            4.26   \n9  037583687X       unknown       0.0            3.98   \n\n                                       similar_books   \n0  ['8709549', '17074050', '28937', '158816', '22...  \\\n1  ['6604176', '6054190', '2285777', '82641', '75...   \n2                                                 []   \n3  ['948696', '439885', '274955', '12978730', '37...   \n4  ['287151', '1104760', '1172822', '440292', '28...   \n5  ['439108', '522621', '116770', '1275927', '620...   \n6  ['888460', '734023', '147311', '219106', '3139...   \n7  ['299795', '8100288', '7570892', '53817', '121...   \n8  ['45366', '246849', '11096385', '19102466', '7...   \n9  ['614054', '272343', '824934', '581383', '9359...   \n\n                                         description     format   \n0  Anita Diamant's international bestseller \"The ...   Audio CD  \\\n1  Addie Downs and Valerie Adler were eight when ...  Hardcover   \n2  Relates in vigorous prose the tale of Aeneas, ...  Paperback   \n3  To Kara's astonishment, she discovers that a p...  Paperback   \n4  Wisdom, humor, and dark observations by the fo...  Paperback   \n5  London, 1196. At the command of Richard the Li...  Hardcover   \n6  Taoist philosophy explained using examples fro...    unknown   \n7  As he is driving home from a minister's confer...    unknown   \n8  What is Heaven really going to be like? What w...    unknown   \n9  It's 1953 and 11-year-old Penny dreams of a su...  Hardcover   \n\n                                           cover_img                author   \n0  https://s.gr-assets.com/assets/nophoto/book/11...            ['626222']  \\\n1  https://s.gr-assets.com/assets/nophoto/book/11...              ['9212']   \n2  https://s.gr-assets.com/assets/nophoto/book/11...           ['3041852']   \n3  https://images.gr-assets.com/books/1316637798m...             ['19158']   \n4  https://images.gr-assets.com/books/1328768789m...  ['2983296', '40075']   \n5  https://images.gr-assets.com/books/1328724803m...             ['37778']   \n6  https://s.gr-assets.com/assets/nophoto/book/11...             ['27397']   \n7  https://s.gr-assets.com/assets/nophoto/book/11...    ['39054', '11099']   \n8  https://images.gr-assets.com/books/1406508230m...              ['4862']   \n9  https://images.gr-assets.com/books/1320470906m...            ['137561']   \n\n                              publisher  num_pages edition_information   \n0                Simon & Schuster Audio       -1.0            Abridged  \\\n1                           Atria Books      368.0             unknown   \n2                  Yesterday's Classics      162.0             unknown   \n3                            Seven Seas      216.0             unknown   \n4                           Feral House      147.0             unknown   \n5                   Simon & Schuster UK      400.0             unknown   \n6                               unknown       -1.0             unknown   \n7                               unknown       -1.0             unknown   \n8                               unknown      533.0             unknown   \n9  Random House Books for Young Readers      288.0             unknown   \n\n   publication_year  ratings_count  format_code  language_code1   \n0            2001.0           10.0            1               1  \\\n1            2009.0        51184.0            2               2   \n2            2006.0           46.0            3               1   \n3            2009.0           98.0            3               1   \n4            2000.0          986.0            3               1   \n5            2009.0          186.0            2               1   \n6              -1.0           11.0            4               1   \n7              -1.0        68157.0            4               1   \n8              -1.0         7345.0            4               2   \n9            2006.0         6949.0            2               1   \n\n                               processed_description  \n0  anita diamants international bestseller red te...  \n1  addie down valerie adler eight first met decid...  \n2  relates vigorous prose tale aeneas legendary a...  \n3  karas astonishment discovers portal opened bed...  \n4  wisdom humor dark observation founder church s...  \n5  london command richard lionheart sir john de w...  \n6  taoist philosophy explained using example miln...  \n7  driving home minister conference baptist minis...  \n8  heaven really going like look like wont heaven...  \n9  yearold penny dream summer butter pecan ice cr...  ",
      "text/html": "<div>\n<style scoped>\n    .dataframe tbody tr th:only-of-type {\n        vertical-align: middle;\n    }\n\n    .dataframe tbody tr th {\n        vertical-align: top;\n    }\n\n    .dataframe thead th {\n        text-align: right;\n    }\n</style>\n<table border=\"1\" class=\"dataframe\">\n  <thead>\n    <tr style=\"text-align: right;\">\n      <th></th>\n      <th>Unnamed: 0</th>\n      <th>book_id</th>\n      <th>title</th>\n      <th>isbn</th>\n      <th>language_code</th>\n      <th>is_ebook</th>\n      <th>average_rating</th>\n      <th>similar_books</th>\n      <th>description</th>\n      <th>format</th>\n      <th>cover_img</th>\n      <th>author</th>\n      <th>publisher</th>\n      <th>num_pages</th>\n      <th>edition_information</th>\n      <th>publication_year</th>\n      <th>ratings_count</th>\n      <th>format_code</th>\n      <th>language_code1</th>\n      <th>processed_description</th>\n    </tr>\n  </thead>\n  <tbody>\n    <tr>\n      <th>0</th>\n      <td>0</td>\n      <td>1333909</td>\n      <td>Good Harbor</td>\n      <td>0743509986</td>\n      <td>unknown</td>\n      <td>0.0</td>\n      <td>3.23</td>\n      <td>['8709549', '17074050', '28937', '158816', '22...</td>\n      <td>Anita Diamant's international bestseller \"The ...</td>\n      <td>Audio CD</td>\n      <td>https://s.gr-assets.com/assets/nophoto/book/11...</td>\n      <td>['626222']</td>\n      <td>Simon &amp; Schuster Audio</td>\n      <td>-1.0</td>\n      <td>Abridged</td>\n      <td>2001.0</td>\n      <td>10.0</td>\n      <td>1</td>\n      <td>1</td>\n      <td>anita diamants international bestseller red te...</td>\n    </tr>\n    <tr>\n      <th>1</th>\n      <td>1</td>\n      <td>6066819</td>\n      <td>Best Friends Forever</td>\n      <td>0743294297</td>\n      <td>eng</td>\n      <td>0.0</td>\n      <td>3.49</td>\n      <td>['6604176', '6054190', '2285777', '82641', '75...</td>\n      <td>Addie Downs and Valerie Adler were eight when ...</td>\n      <td>Hardcover</td>\n      <td>https://s.gr-assets.com/assets/nophoto/book/11...</td>\n      <td>['9212']</td>\n      <td>Atria Books</td>\n      <td>368.0</td>\n      <td>unknown</td>\n      <td>2009.0</td>\n      <td>51184.0</td>\n      <td>2</td>\n      <td>2</td>\n      <td>addie down valerie adler eight first met decid...</td>\n    </tr>\n    <tr>\n      <th>2</th>\n      <td>2</td>\n      <td>287141</td>\n      <td>The Aeneid for Boys and Girls</td>\n      <td>1599150603</td>\n      <td>unknown</td>\n      <td>0.0</td>\n      <td>4.13</td>\n      <td>[]</td>\n      <td>Relates in vigorous prose the tale of Aeneas, ...</td>\n      <td>Paperback</td>\n      <td>https://s.gr-assets.com/assets/nophoto/book/11...</td>\n      <td>['3041852']</td>\n      <td>Yesterday's Classics</td>\n      <td>162.0</td>\n      <td>unknown</td>\n      <td>2006.0</td>\n      <td>46.0</td>\n      <td>3</td>\n      <td>1</td>\n      <td>relates vigorous prose tale aeneas legendary a...</td>\n    </tr>\n    <tr>\n      <th>3</th>\n      <td>3</td>\n      <td>6066812</td>\n      <td>All's Fairy in Love and War (Avalon: Web of Ma...</td>\n      <td>1934876569</td>\n      <td>unknown</td>\n      <td>0.0</td>\n      <td>4.22</td>\n      <td>['948696', '439885', '274955', '12978730', '37...</td>\n      <td>To Kara's astonishment, she discovers that a p...</td>\n      <td>Paperback</td>\n      <td>https://images.gr-assets.com/books/1316637798m...</td>\n      <td>['19158']</td>\n      <td>Seven Seas</td>\n      <td>216.0</td>\n      <td>unknown</td>\n      <td>2009.0</td>\n      <td>98.0</td>\n      <td>3</td>\n      <td>1</td>\n      <td>karas astonishment discovers portal opened bed...</td>\n    </tr>\n    <tr>\n      <th>4</th>\n      <td>4</td>\n      <td>287149</td>\n      <td>The Devil's Notebook</td>\n      <td>0922915113</td>\n      <td>unknown</td>\n      <td>0.0</td>\n      <td>3.81</td>\n      <td>['287151', '1104760', '1172822', '440292', '28...</td>\n      <td>Wisdom, humor, and dark observations by the fo...</td>\n      <td>Paperback</td>\n      <td>https://images.gr-assets.com/books/1328768789m...</td>\n      <td>['2983296', '40075']</td>\n      <td>Feral House</td>\n      <td>147.0</td>\n      <td>unknown</td>\n      <td>2000.0</td>\n      <td>986.0</td>\n      <td>3</td>\n      <td>1</td>\n      <td>wisdom humor dark observation founder church s...</td>\n    </tr>\n    <tr>\n      <th>5</th>\n      <td>5</td>\n      <td>6066814</td>\n      <td>Crowner Royal (Crowner John Mystery, #13)</td>\n      <td>184737297X</td>\n      <td>unknown</td>\n      <td>0.0</td>\n      <td>3.93</td>\n      <td>['439108', '522621', '116770', '1275927', '620...</td>\n      <td>London, 1196. At the command of Richard the Li...</td>\n      <td>Hardcover</td>\n      <td>https://images.gr-assets.com/books/1328724803m...</td>\n      <td>['37778']</td>\n      <td>Simon &amp; Schuster UK</td>\n      <td>400.0</td>\n      <td>unknown</td>\n      <td>2009.0</td>\n      <td>186.0</td>\n      <td>2</td>\n      <td>1</td>\n      <td>london command richard lionheart sir john de w...</td>\n    </tr>\n    <tr>\n      <th>6</th>\n      <td>6</td>\n      <td>89371</td>\n      <td>The Te Of Piglet</td>\n      <td>0413675106</td>\n      <td>unknown</td>\n      <td>0.0</td>\n      <td>3.81</td>\n      <td>['888460', '734023', '147311', '219106', '3139...</td>\n      <td>Taoist philosophy explained using examples fro...</td>\n      <td>unknown</td>\n      <td>https://s.gr-assets.com/assets/nophoto/book/11...</td>\n      <td>['27397']</td>\n      <td>unknown</td>\n      <td>-1.0</td>\n      <td>unknown</td>\n      <td>-1.0</td>\n      <td>11.0</td>\n      <td>4</td>\n      <td>1</td>\n      <td>taoist philosophy explained using example miln...</td>\n    </tr>\n    <tr>\n      <th>7</th>\n      <td>7</td>\n      <td>89375</td>\n      <td>90 Minutes in Heaven: A True Story of Death an...</td>\n      <td>0800759494</td>\n      <td>unknown</td>\n      <td>0.0</td>\n      <td>3.91</td>\n      <td>['299795', '8100288', '7570892', '53817', '121...</td>\n      <td>As he is driving home from a minister's confer...</td>\n      <td>unknown</td>\n      <td>https://s.gr-assets.com/assets/nophoto/book/11...</td>\n      <td>['39054', '11099']</td>\n      <td>unknown</td>\n      <td>-1.0</td>\n      <td>unknown</td>\n      <td>-1.0</td>\n      <td>68157.0</td>\n      <td>4</td>\n      <td>1</td>\n      <td>driving home minister conference baptist minis...</td>\n    </tr>\n    <tr>\n      <th>8</th>\n      <td>8</td>\n      <td>89376</td>\n      <td>Heaven</td>\n      <td>0842379428</td>\n      <td>eng</td>\n      <td>0.0</td>\n      <td>4.26</td>\n      <td>['45366', '246849', '11096385', '19102466', '7...</td>\n      <td>What is Heaven really going to be like? What w...</td>\n      <td>unknown</td>\n      <td>https://images.gr-assets.com/books/1406508230m...</td>\n      <td>['4862']</td>\n      <td>unknown</td>\n      <td>533.0</td>\n      <td>unknown</td>\n      <td>-1.0</td>\n      <td>7345.0</td>\n      <td>4</td>\n      <td>2</td>\n      <td>heaven really going like look like wont heaven...</td>\n    </tr>\n    <tr>\n      <th>9</th>\n      <td>9</td>\n      <td>89377</td>\n      <td>Penny from Heaven</td>\n      <td>037583687X</td>\n      <td>unknown</td>\n      <td>0.0</td>\n      <td>3.98</td>\n      <td>['614054', '272343', '824934', '581383', '9359...</td>\n      <td>It's 1953 and 11-year-old Penny dreams of a su...</td>\n      <td>Hardcover</td>\n      <td>https://images.gr-assets.com/books/1320470906m...</td>\n      <td>['137561']</td>\n      <td>Random House Books for Young Readers</td>\n      <td>288.0</td>\n      <td>unknown</td>\n      <td>2006.0</td>\n      <td>6949.0</td>\n      <td>2</td>\n      <td>1</td>\n      <td>yearold penny dream summer butter pecan ice cr...</td>\n    </tr>\n  </tbody>\n</table>\n</div>"
     },
     "execution_count": 5,
     "metadata": {},
     "output_type": "execute_result"
    }
   ],
   "source": [
    "books.head(10)"
   ],
   "metadata": {
    "collapsed": false,
    "pycharm": {
     "name": "#%%\n"
    }
   }
  },
  {
   "cell_type": "code",
   "execution_count": 9,
   "outputs": [],
   "source": [
    "import gensim.downloader as api\n",
    "import numpy as np\n",
    "# Load pre-trained GloVe model\n",
    "model = api.load(\"glove-wiki-gigaword-300\")\n",
    "\n",
    "# Define a function to convert a string into GloVe embeddings\n",
    "def string_to_glove(line):\n",
    "    # Tokenize the string into words\n",
    "    tokens = line.lower().split()\n",
    "    # Look up the GloVe embedding for each word\n",
    "    embeddings = [model.get_vector(word) for word in tokens if word in model.key_to_index]\n",
    "    # Combine the embeddings into a single vector\n",
    "    if len(embeddings) > 0:\n",
    "        glove = np.mean(embeddings, axis=0)\n",
    "    else:\n",
    "        glove = np.zeros(model.vector_size)\n",
    "    return glove\n"
   ],
   "metadata": {
    "collapsed": false,
    "pycharm": {
     "name": "#%%\n"
    }
   }
  },
  {
   "cell_type": "code",
   "execution_count": 2,
   "outputs": [],
   "source": [
    "# Save model to file\n",
    "model.save(\"glove-wiki-gigaword-300.model\")"
   ],
   "metadata": {
    "collapsed": false,
    "pycharm": {
     "name": "#%%\n"
    }
   }
  },
  {
   "cell_type": "code",
   "execution_count": 10,
   "outputs": [],
   "source": [
    "books['glove_description'] = books['processed_description'].apply(lambda x:string_to_glove(x))"
   ],
   "metadata": {
    "collapsed": false,
    "pycharm": {
     "name": "#%%\n"
    }
   }
  },
  {
   "cell_type": "code",
   "execution_count": 11,
   "outputs": [
    {
     "data": {
      "text/plain": "   book_id                                              title        isbn   \n0  1333909                                        Good Harbor  0743509986  \\\n1  6066819                               Best Friends Forever  0743294297   \n2   287141                      The Aeneid for Boys and Girls  1599150603   \n3  6066812  All's Fairy in Love and War (Avalon: Web of Ma...  1934876569   \n4   287149                               The Devil's Notebook  0922915113   \n5  6066814          Crowner Royal (Crowner John Mystery, #13)  184737297X   \n6    89371                                   The Te Of Piglet  0413675106   \n7    89375  90 Minutes in Heaven: A True Story of Death an...  0800759494   \n8    89376                                             Heaven  0842379428   \n9    89377                                  Penny from Heaven  037583687X   \n\n  language_code  is_ebook  average_rating   \n0       unknown       0.0            3.23  \\\n1           eng       0.0            3.49   \n2       unknown       0.0            4.13   \n3       unknown       0.0            4.22   \n4       unknown       0.0            3.81   \n5       unknown       0.0            3.93   \n6       unknown       0.0            3.81   \n7       unknown       0.0            3.91   \n8           eng       0.0            4.26   \n9       unknown       0.0            3.98   \n\n                                       similar_books   \n0  ['8709549', '17074050', '28937', '158816', '22...  \\\n1  ['6604176', '6054190', '2285777', '82641', '75...   \n2                                                 []   \n3  ['948696', '439885', '274955', '12978730', '37...   \n4  ['287151', '1104760', '1172822', '440292', '28...   \n5  ['439108', '522621', '116770', '1275927', '620...   \n6  ['888460', '734023', '147311', '219106', '3139...   \n7  ['299795', '8100288', '7570892', '53817', '121...   \n8  ['45366', '246849', '11096385', '19102466', '7...   \n9  ['614054', '272343', '824934', '581383', '9359...   \n\n                                         description     format   \n0  Anita Diamant's international bestseller \"The ...   Audio CD  \\\n1  Addie Downs and Valerie Adler were eight when ...  Hardcover   \n2  Relates in vigorous prose the tale of Aeneas, ...  Paperback   \n3  To Kara's astonishment, she discovers that a p...  Paperback   \n4  Wisdom, humor, and dark observations by the fo...  Paperback   \n5  London, 1196. At the command of Richard the Li...  Hardcover   \n6  Taoist philosophy explained using examples fro...    unknown   \n7  As he is driving home from a minister's confer...    unknown   \n8  What is Heaven really going to be like? What w...    unknown   \n9  It's 1953 and 11-year-old Penny dreams of a su...  Hardcover   \n\n                                           cover_img                author   \n0  https://s.gr-assets.com/assets/nophoto/book/11...            ['626222']  \\\n1  https://s.gr-assets.com/assets/nophoto/book/11...              ['9212']   \n2  https://s.gr-assets.com/assets/nophoto/book/11...           ['3041852']   \n3  https://images.gr-assets.com/books/1316637798m...             ['19158']   \n4  https://images.gr-assets.com/books/1328768789m...  ['2983296', '40075']   \n5  https://images.gr-assets.com/books/1328724803m...             ['37778']   \n6  https://s.gr-assets.com/assets/nophoto/book/11...             ['27397']   \n7  https://s.gr-assets.com/assets/nophoto/book/11...    ['39054', '11099']   \n8  https://images.gr-assets.com/books/1406508230m...              ['4862']   \n9  https://images.gr-assets.com/books/1320470906m...            ['137561']   \n\n                              publisher  num_pages edition_information   \n0                Simon & Schuster Audio       -1.0            Abridged  \\\n1                           Atria Books      368.0             unknown   \n2                  Yesterday's Classics      162.0             unknown   \n3                            Seven Seas      216.0             unknown   \n4                           Feral House      147.0             unknown   \n5                   Simon & Schuster UK      400.0             unknown   \n6                               unknown       -1.0             unknown   \n7                               unknown       -1.0             unknown   \n8                               unknown      533.0             unknown   \n9  Random House Books for Young Readers      288.0             unknown   \n\n   publication_year  ratings_count  format_code  language_code1   \n0            2001.0           10.0            1               1  \\\n1            2009.0        51184.0            2               2   \n2            2006.0           46.0            3               1   \n3            2009.0           98.0            3               1   \n4            2000.0          986.0            3               1   \n5            2009.0          186.0            2               1   \n6              -1.0           11.0            4               1   \n7              -1.0        68157.0            4               1   \n8              -1.0         7345.0            4               2   \n9            2006.0         6949.0            2               1   \n\n                               processed_description   \n0  anita diamants international bestseller red te...  \\\n1  addie down valerie adler eight first met decid...   \n2  relates vigorous prose tale aeneas legendary a...   \n3  karas astonishment discovers portal opened bed...   \n4  wisdom humor dark observation founder church s...   \n5  london command richard lionheart sir john de w...   \n6  taoist philosophy explained using example miln...   \n7  driving home minister conference baptist minis...   \n8  heaven really going like look like wont heaven...   \n9  yearold penny dream summer butter pecan ice cr...   \n\n                                   glove_description  \n0  [-0.109194554, -0.02343459, -0.00643954, -0.11...  \n1  [-0.09596572, 0.110401616, -0.050980728, -0.08...  \n2  [0.08972758, -0.07232258, 0.06552754, 0.069813...  \n3  [-0.17288154, 0.020485822, 0.01281396, -0.1110...  \n4  [-0.016083162, -0.080028355, 0.051149257, -0.1...  \n5  [-0.008410563, -0.09311661, 0.08472941, -0.046...  \n6  [-0.09883666, -0.048887495, 0.044787, -0.07557...  \n7  [-0.070356965, 0.0033260754, -0.06084435, -0.0...  \n8  [-0.10637292, -0.055722836, -0.06527442, -0.04...  \n9  [0.029615425, 0.08949813, -0.03935328, -0.0058...  ",
      "text/html": "<div>\n<style scoped>\n    .dataframe tbody tr th:only-of-type {\n        vertical-align: middle;\n    }\n\n    .dataframe tbody tr th {\n        vertical-align: top;\n    }\n\n    .dataframe thead th {\n        text-align: right;\n    }\n</style>\n<table border=\"1\" class=\"dataframe\">\n  <thead>\n    <tr style=\"text-align: right;\">\n      <th></th>\n      <th>book_id</th>\n      <th>title</th>\n      <th>isbn</th>\n      <th>language_code</th>\n      <th>is_ebook</th>\n      <th>average_rating</th>\n      <th>similar_books</th>\n      <th>description</th>\n      <th>format</th>\n      <th>cover_img</th>\n      <th>author</th>\n      <th>publisher</th>\n      <th>num_pages</th>\n      <th>edition_information</th>\n      <th>publication_year</th>\n      <th>ratings_count</th>\n      <th>format_code</th>\n      <th>language_code1</th>\n      <th>processed_description</th>\n      <th>glove_description</th>\n    </tr>\n  </thead>\n  <tbody>\n    <tr>\n      <th>0</th>\n      <td>1333909</td>\n      <td>Good Harbor</td>\n      <td>0743509986</td>\n      <td>unknown</td>\n      <td>0.0</td>\n      <td>3.23</td>\n      <td>['8709549', '17074050', '28937', '158816', '22...</td>\n      <td>Anita Diamant's international bestseller \"The ...</td>\n      <td>Audio CD</td>\n      <td>https://s.gr-assets.com/assets/nophoto/book/11...</td>\n      <td>['626222']</td>\n      <td>Simon &amp; Schuster Audio</td>\n      <td>-1.0</td>\n      <td>Abridged</td>\n      <td>2001.0</td>\n      <td>10.0</td>\n      <td>1</td>\n      <td>1</td>\n      <td>anita diamants international bestseller red te...</td>\n      <td>[-0.109194554, -0.02343459, -0.00643954, -0.11...</td>\n    </tr>\n    <tr>\n      <th>1</th>\n      <td>6066819</td>\n      <td>Best Friends Forever</td>\n      <td>0743294297</td>\n      <td>eng</td>\n      <td>0.0</td>\n      <td>3.49</td>\n      <td>['6604176', '6054190', '2285777', '82641', '75...</td>\n      <td>Addie Downs and Valerie Adler were eight when ...</td>\n      <td>Hardcover</td>\n      <td>https://s.gr-assets.com/assets/nophoto/book/11...</td>\n      <td>['9212']</td>\n      <td>Atria Books</td>\n      <td>368.0</td>\n      <td>unknown</td>\n      <td>2009.0</td>\n      <td>51184.0</td>\n      <td>2</td>\n      <td>2</td>\n      <td>addie down valerie adler eight first met decid...</td>\n      <td>[-0.09596572, 0.110401616, -0.050980728, -0.08...</td>\n    </tr>\n    <tr>\n      <th>2</th>\n      <td>287141</td>\n      <td>The Aeneid for Boys and Girls</td>\n      <td>1599150603</td>\n      <td>unknown</td>\n      <td>0.0</td>\n      <td>4.13</td>\n      <td>[]</td>\n      <td>Relates in vigorous prose the tale of Aeneas, ...</td>\n      <td>Paperback</td>\n      <td>https://s.gr-assets.com/assets/nophoto/book/11...</td>\n      <td>['3041852']</td>\n      <td>Yesterday's Classics</td>\n      <td>162.0</td>\n      <td>unknown</td>\n      <td>2006.0</td>\n      <td>46.0</td>\n      <td>3</td>\n      <td>1</td>\n      <td>relates vigorous prose tale aeneas legendary a...</td>\n      <td>[0.08972758, -0.07232258, 0.06552754, 0.069813...</td>\n    </tr>\n    <tr>\n      <th>3</th>\n      <td>6066812</td>\n      <td>All's Fairy in Love and War (Avalon: Web of Ma...</td>\n      <td>1934876569</td>\n      <td>unknown</td>\n      <td>0.0</td>\n      <td>4.22</td>\n      <td>['948696', '439885', '274955', '12978730', '37...</td>\n      <td>To Kara's astonishment, she discovers that a p...</td>\n      <td>Paperback</td>\n      <td>https://images.gr-assets.com/books/1316637798m...</td>\n      <td>['19158']</td>\n      <td>Seven Seas</td>\n      <td>216.0</td>\n      <td>unknown</td>\n      <td>2009.0</td>\n      <td>98.0</td>\n      <td>3</td>\n      <td>1</td>\n      <td>karas astonishment discovers portal opened bed...</td>\n      <td>[-0.17288154, 0.020485822, 0.01281396, -0.1110...</td>\n    </tr>\n    <tr>\n      <th>4</th>\n      <td>287149</td>\n      <td>The Devil's Notebook</td>\n      <td>0922915113</td>\n      <td>unknown</td>\n      <td>0.0</td>\n      <td>3.81</td>\n      <td>['287151', '1104760', '1172822', '440292', '28...</td>\n      <td>Wisdom, humor, and dark observations by the fo...</td>\n      <td>Paperback</td>\n      <td>https://images.gr-assets.com/books/1328768789m...</td>\n      <td>['2983296', '40075']</td>\n      <td>Feral House</td>\n      <td>147.0</td>\n      <td>unknown</td>\n      <td>2000.0</td>\n      <td>986.0</td>\n      <td>3</td>\n      <td>1</td>\n      <td>wisdom humor dark observation founder church s...</td>\n      <td>[-0.016083162, -0.080028355, 0.051149257, -0.1...</td>\n    </tr>\n    <tr>\n      <th>5</th>\n      <td>6066814</td>\n      <td>Crowner Royal (Crowner John Mystery, #13)</td>\n      <td>184737297X</td>\n      <td>unknown</td>\n      <td>0.0</td>\n      <td>3.93</td>\n      <td>['439108', '522621', '116770', '1275927', '620...</td>\n      <td>London, 1196. At the command of Richard the Li...</td>\n      <td>Hardcover</td>\n      <td>https://images.gr-assets.com/books/1328724803m...</td>\n      <td>['37778']</td>\n      <td>Simon &amp; Schuster UK</td>\n      <td>400.0</td>\n      <td>unknown</td>\n      <td>2009.0</td>\n      <td>186.0</td>\n      <td>2</td>\n      <td>1</td>\n      <td>london command richard lionheart sir john de w...</td>\n      <td>[-0.008410563, -0.09311661, 0.08472941, -0.046...</td>\n    </tr>\n    <tr>\n      <th>6</th>\n      <td>89371</td>\n      <td>The Te Of Piglet</td>\n      <td>0413675106</td>\n      <td>unknown</td>\n      <td>0.0</td>\n      <td>3.81</td>\n      <td>['888460', '734023', '147311', '219106', '3139...</td>\n      <td>Taoist philosophy explained using examples fro...</td>\n      <td>unknown</td>\n      <td>https://s.gr-assets.com/assets/nophoto/book/11...</td>\n      <td>['27397']</td>\n      <td>unknown</td>\n      <td>-1.0</td>\n      <td>unknown</td>\n      <td>-1.0</td>\n      <td>11.0</td>\n      <td>4</td>\n      <td>1</td>\n      <td>taoist philosophy explained using example miln...</td>\n      <td>[-0.09883666, -0.048887495, 0.044787, -0.07557...</td>\n    </tr>\n    <tr>\n      <th>7</th>\n      <td>89375</td>\n      <td>90 Minutes in Heaven: A True Story of Death an...</td>\n      <td>0800759494</td>\n      <td>unknown</td>\n      <td>0.0</td>\n      <td>3.91</td>\n      <td>['299795', '8100288', '7570892', '53817', '121...</td>\n      <td>As he is driving home from a minister's confer...</td>\n      <td>unknown</td>\n      <td>https://s.gr-assets.com/assets/nophoto/book/11...</td>\n      <td>['39054', '11099']</td>\n      <td>unknown</td>\n      <td>-1.0</td>\n      <td>unknown</td>\n      <td>-1.0</td>\n      <td>68157.0</td>\n      <td>4</td>\n      <td>1</td>\n      <td>driving home minister conference baptist minis...</td>\n      <td>[-0.070356965, 0.0033260754, -0.06084435, -0.0...</td>\n    </tr>\n    <tr>\n      <th>8</th>\n      <td>89376</td>\n      <td>Heaven</td>\n      <td>0842379428</td>\n      <td>eng</td>\n      <td>0.0</td>\n      <td>4.26</td>\n      <td>['45366', '246849', '11096385', '19102466', '7...</td>\n      <td>What is Heaven really going to be like? What w...</td>\n      <td>unknown</td>\n      <td>https://images.gr-assets.com/books/1406508230m...</td>\n      <td>['4862']</td>\n      <td>unknown</td>\n      <td>533.0</td>\n      <td>unknown</td>\n      <td>-1.0</td>\n      <td>7345.0</td>\n      <td>4</td>\n      <td>2</td>\n      <td>heaven really going like look like wont heaven...</td>\n      <td>[-0.10637292, -0.055722836, -0.06527442, -0.04...</td>\n    </tr>\n    <tr>\n      <th>9</th>\n      <td>89377</td>\n      <td>Penny from Heaven</td>\n      <td>037583687X</td>\n      <td>unknown</td>\n      <td>0.0</td>\n      <td>3.98</td>\n      <td>['614054', '272343', '824934', '581383', '9359...</td>\n      <td>It's 1953 and 11-year-old Penny dreams of a su...</td>\n      <td>Hardcover</td>\n      <td>https://images.gr-assets.com/books/1320470906m...</td>\n      <td>['137561']</td>\n      <td>Random House Books for Young Readers</td>\n      <td>288.0</td>\n      <td>unknown</td>\n      <td>2006.0</td>\n      <td>6949.0</td>\n      <td>2</td>\n      <td>1</td>\n      <td>yearold penny dream summer butter pecan ice cr...</td>\n      <td>[0.029615425, 0.08949813, -0.03935328, -0.0058...</td>\n    </tr>\n  </tbody>\n</table>\n</div>"
     },
     "execution_count": 11,
     "metadata": {},
     "output_type": "execute_result"
    }
   ],
   "source": [
    "books.head(10)"
   ],
   "metadata": {
    "collapsed": false,
    "pycharm": {
     "name": "#%%\n"
    }
   }
  },
  {
   "cell_type": "code",
   "execution_count": 24,
   "outputs": [
    {
     "data": {
      "text/plain": "(300,)"
     },
     "execution_count": 24,
     "metadata": {},
     "output_type": "execute_result"
    }
   ],
   "source": [
    "books.iloc[0].glove_description.shape"
   ],
   "metadata": {
    "collapsed": false,
    "pycharm": {
     "name": "#%%\n"
    }
   }
  },
  {
   "cell_type": "code",
   "execution_count": 14,
   "outputs": [],
   "source": [
    "books.to_pickle('glove_books.pkl')"
   ],
   "metadata": {
    "collapsed": false,
    "pycharm": {
     "name": "#%%\n"
    }
   }
  },
  {
   "cell_type": "code",
   "execution_count": 2,
   "outputs": [],
   "source": [
    "books = pd.read_csv('glove_books.csv')"
   ],
   "metadata": {
    "collapsed": false,
    "pycharm": {
     "name": "#%%\n"
    }
   }
  },
  {
   "cell_type": "code",
   "execution_count": 3,
   "outputs": [
    {
     "data": {
      "text/plain": "   book_id                                              title        isbn   \n0  1333909                                        Good Harbor  0743509986  \\\n1  6066819                               Best Friends Forever  0743294297   \n2   287141                      The Aeneid for Boys and Girls  1599150603   \n3  6066812  All's Fairy in Love and War (Avalon: Web of Ma...  1934876569   \n4   287149                               The Devil's Notebook  0922915113   \n5  6066814          Crowner Royal (Crowner John Mystery, #13)  184737297X   \n6    89371                                   The Te Of Piglet  0413675106   \n7    89375  90 Minutes in Heaven: A True Story of Death an...  0800759494   \n8    89376                                             Heaven  0842379428   \n9    89377                                  Penny from Heaven  037583687X   \n\n  language_code  is_ebook  average_rating   \n0       unknown       0.0            3.23  \\\n1           eng       0.0            3.49   \n2       unknown       0.0            4.13   \n3       unknown       0.0            4.22   \n4       unknown       0.0            3.81   \n5       unknown       0.0            3.93   \n6       unknown       0.0            3.81   \n7       unknown       0.0            3.91   \n8           eng       0.0            4.26   \n9       unknown       0.0            3.98   \n\n                                       similar_books   \n0  ['8709549', '17074050', '28937', '158816', '22...  \\\n1  ['6604176', '6054190', '2285777', '82641', '75...   \n2                                                 []   \n3  ['948696', '439885', '274955', '12978730', '37...   \n4  ['287151', '1104760', '1172822', '440292', '28...   \n5  ['439108', '522621', '116770', '1275927', '620...   \n6  ['888460', '734023', '147311', '219106', '3139...   \n7  ['299795', '8100288', '7570892', '53817', '121...   \n8  ['45366', '246849', '11096385', '19102466', '7...   \n9  ['614054', '272343', '824934', '581383', '9359...   \n\n                                         description     format   \n0  Anita Diamant's international bestseller \"The ...   Audio CD  \\\n1  Addie Downs and Valerie Adler were eight when ...  Hardcover   \n2  Relates in vigorous prose the tale of Aeneas, ...  Paperback   \n3  To Kara's astonishment, she discovers that a p...  Paperback   \n4  Wisdom, humor, and dark observations by the fo...  Paperback   \n5  London, 1196. At the command of Richard the Li...  Hardcover   \n6  Taoist philosophy explained using examples fro...    unknown   \n7  As he is driving home from a minister's confer...    unknown   \n8  What is Heaven really going to be like? What w...    unknown   \n9  It's 1953 and 11-year-old Penny dreams of a su...  Hardcover   \n\n                                           cover_img                author   \n0  https://s.gr-assets.com/assets/nophoto/book/11...            ['626222']  \\\n1  https://s.gr-assets.com/assets/nophoto/book/11...              ['9212']   \n2  https://s.gr-assets.com/assets/nophoto/book/11...           ['3041852']   \n3  https://images.gr-assets.com/books/1316637798m...             ['19158']   \n4  https://images.gr-assets.com/books/1328768789m...  ['2983296', '40075']   \n5  https://images.gr-assets.com/books/1328724803m...             ['37778']   \n6  https://s.gr-assets.com/assets/nophoto/book/11...             ['27397']   \n7  https://s.gr-assets.com/assets/nophoto/book/11...    ['39054', '11099']   \n8  https://images.gr-assets.com/books/1406508230m...              ['4862']   \n9  https://images.gr-assets.com/books/1320470906m...            ['137561']   \n\n                              publisher  num_pages edition_information   \n0                Simon & Schuster Audio       -1.0            Abridged  \\\n1                           Atria Books      368.0             unknown   \n2                  Yesterday's Classics      162.0             unknown   \n3                            Seven Seas      216.0             unknown   \n4                           Feral House      147.0             unknown   \n5                   Simon & Schuster UK      400.0             unknown   \n6                               unknown       -1.0             unknown   \n7                               unknown       -1.0             unknown   \n8                               unknown      533.0             unknown   \n9  Random House Books for Young Readers      288.0             unknown   \n\n   publication_year  ratings_count  format_code  language_code1   \n0            2001.0           10.0            1               1  \\\n1            2009.0        51184.0            2               2   \n2            2006.0           46.0            3               1   \n3            2009.0           98.0            3               1   \n4            2000.0          986.0            3               1   \n5            2009.0          186.0            2               1   \n6              -1.0           11.0            4               1   \n7              -1.0        68157.0            4               1   \n8              -1.0         7345.0            4               2   \n9            2006.0         6949.0            2               1   \n\n                               processed_description   \n0  anita diamants international bestseller red te...  \\\n1  addie down valerie adler eight first met decid...   \n2  relates vigorous prose tale aeneas legendary a...   \n3  karas astonishment discovers portal opened bed...   \n4  wisdom humor dark observation founder church s...   \n5  london command richard lionheart sir john de w...   \n6  taoist philosophy explained using example miln...   \n7  driving home minister conference baptist minis...   \n8  heaven really going like look like wont heaven...   \n9  yearold penny dream summer butter pecan ice cr...   \n\n                                   glove_description  \n0  [-1.09194554e-01 -2.34345905e-02 -6.43954007e-...  \n1  [-9.59657207e-02  1.10401616e-01 -5.09807281e-...  \n2  [ 8.97275805e-02 -7.23225772e-02  6.55275434e-...  \n3  [-1.72881544e-01  2.04858221e-02  1.28139602e-...  \n4  [-1.60831623e-02 -8.00283551e-02  5.11492565e-...  \n5  [-8.41056276e-03 -9.31166112e-02  8.47294107e-...  \n6  [-0.09883666 -0.04888749  0.044787   -0.075579...  \n7  [-7.03569651e-02  3.32607538e-03 -6.08443506e-...  \n8  [-1.06372923e-01 -5.57228364e-02 -6.52744174e-...  \n9  [ 2.96154246e-02  8.94981325e-02 -3.93532813e-...  ",
      "text/html": "<div>\n<style scoped>\n    .dataframe tbody tr th:only-of-type {\n        vertical-align: middle;\n    }\n\n    .dataframe tbody tr th {\n        vertical-align: top;\n    }\n\n    .dataframe thead th {\n        text-align: right;\n    }\n</style>\n<table border=\"1\" class=\"dataframe\">\n  <thead>\n    <tr style=\"text-align: right;\">\n      <th></th>\n      <th>book_id</th>\n      <th>title</th>\n      <th>isbn</th>\n      <th>language_code</th>\n      <th>is_ebook</th>\n      <th>average_rating</th>\n      <th>similar_books</th>\n      <th>description</th>\n      <th>format</th>\n      <th>cover_img</th>\n      <th>author</th>\n      <th>publisher</th>\n      <th>num_pages</th>\n      <th>edition_information</th>\n      <th>publication_year</th>\n      <th>ratings_count</th>\n      <th>format_code</th>\n      <th>language_code1</th>\n      <th>processed_description</th>\n      <th>glove_description</th>\n    </tr>\n  </thead>\n  <tbody>\n    <tr>\n      <th>0</th>\n      <td>1333909</td>\n      <td>Good Harbor</td>\n      <td>0743509986</td>\n      <td>unknown</td>\n      <td>0.0</td>\n      <td>3.23</td>\n      <td>['8709549', '17074050', '28937', '158816', '22...</td>\n      <td>Anita Diamant's international bestseller \"The ...</td>\n      <td>Audio CD</td>\n      <td>https://s.gr-assets.com/assets/nophoto/book/11...</td>\n      <td>['626222']</td>\n      <td>Simon &amp; Schuster Audio</td>\n      <td>-1.0</td>\n      <td>Abridged</td>\n      <td>2001.0</td>\n      <td>10.0</td>\n      <td>1</td>\n      <td>1</td>\n      <td>anita diamants international bestseller red te...</td>\n      <td>[-1.09194554e-01 -2.34345905e-02 -6.43954007e-...</td>\n    </tr>\n    <tr>\n      <th>1</th>\n      <td>6066819</td>\n      <td>Best Friends Forever</td>\n      <td>0743294297</td>\n      <td>eng</td>\n      <td>0.0</td>\n      <td>3.49</td>\n      <td>['6604176', '6054190', '2285777', '82641', '75...</td>\n      <td>Addie Downs and Valerie Adler were eight when ...</td>\n      <td>Hardcover</td>\n      <td>https://s.gr-assets.com/assets/nophoto/book/11...</td>\n      <td>['9212']</td>\n      <td>Atria Books</td>\n      <td>368.0</td>\n      <td>unknown</td>\n      <td>2009.0</td>\n      <td>51184.0</td>\n      <td>2</td>\n      <td>2</td>\n      <td>addie down valerie adler eight first met decid...</td>\n      <td>[-9.59657207e-02  1.10401616e-01 -5.09807281e-...</td>\n    </tr>\n    <tr>\n      <th>2</th>\n      <td>287141</td>\n      <td>The Aeneid for Boys and Girls</td>\n      <td>1599150603</td>\n      <td>unknown</td>\n      <td>0.0</td>\n      <td>4.13</td>\n      <td>[]</td>\n      <td>Relates in vigorous prose the tale of Aeneas, ...</td>\n      <td>Paperback</td>\n      <td>https://s.gr-assets.com/assets/nophoto/book/11...</td>\n      <td>['3041852']</td>\n      <td>Yesterday's Classics</td>\n      <td>162.0</td>\n      <td>unknown</td>\n      <td>2006.0</td>\n      <td>46.0</td>\n      <td>3</td>\n      <td>1</td>\n      <td>relates vigorous prose tale aeneas legendary a...</td>\n      <td>[ 8.97275805e-02 -7.23225772e-02  6.55275434e-...</td>\n    </tr>\n    <tr>\n      <th>3</th>\n      <td>6066812</td>\n      <td>All's Fairy in Love and War (Avalon: Web of Ma...</td>\n      <td>1934876569</td>\n      <td>unknown</td>\n      <td>0.0</td>\n      <td>4.22</td>\n      <td>['948696', '439885', '274955', '12978730', '37...</td>\n      <td>To Kara's astonishment, she discovers that a p...</td>\n      <td>Paperback</td>\n      <td>https://images.gr-assets.com/books/1316637798m...</td>\n      <td>['19158']</td>\n      <td>Seven Seas</td>\n      <td>216.0</td>\n      <td>unknown</td>\n      <td>2009.0</td>\n      <td>98.0</td>\n      <td>3</td>\n      <td>1</td>\n      <td>karas astonishment discovers portal opened bed...</td>\n      <td>[-1.72881544e-01  2.04858221e-02  1.28139602e-...</td>\n    </tr>\n    <tr>\n      <th>4</th>\n      <td>287149</td>\n      <td>The Devil's Notebook</td>\n      <td>0922915113</td>\n      <td>unknown</td>\n      <td>0.0</td>\n      <td>3.81</td>\n      <td>['287151', '1104760', '1172822', '440292', '28...</td>\n      <td>Wisdom, humor, and dark observations by the fo...</td>\n      <td>Paperback</td>\n      <td>https://images.gr-assets.com/books/1328768789m...</td>\n      <td>['2983296', '40075']</td>\n      <td>Feral House</td>\n      <td>147.0</td>\n      <td>unknown</td>\n      <td>2000.0</td>\n      <td>986.0</td>\n      <td>3</td>\n      <td>1</td>\n      <td>wisdom humor dark observation founder church s...</td>\n      <td>[-1.60831623e-02 -8.00283551e-02  5.11492565e-...</td>\n    </tr>\n    <tr>\n      <th>5</th>\n      <td>6066814</td>\n      <td>Crowner Royal (Crowner John Mystery, #13)</td>\n      <td>184737297X</td>\n      <td>unknown</td>\n      <td>0.0</td>\n      <td>3.93</td>\n      <td>['439108', '522621', '116770', '1275927', '620...</td>\n      <td>London, 1196. At the command of Richard the Li...</td>\n      <td>Hardcover</td>\n      <td>https://images.gr-assets.com/books/1328724803m...</td>\n      <td>['37778']</td>\n      <td>Simon &amp; Schuster UK</td>\n      <td>400.0</td>\n      <td>unknown</td>\n      <td>2009.0</td>\n      <td>186.0</td>\n      <td>2</td>\n      <td>1</td>\n      <td>london command richard lionheart sir john de w...</td>\n      <td>[-8.41056276e-03 -9.31166112e-02  8.47294107e-...</td>\n    </tr>\n    <tr>\n      <th>6</th>\n      <td>89371</td>\n      <td>The Te Of Piglet</td>\n      <td>0413675106</td>\n      <td>unknown</td>\n      <td>0.0</td>\n      <td>3.81</td>\n      <td>['888460', '734023', '147311', '219106', '3139...</td>\n      <td>Taoist philosophy explained using examples fro...</td>\n      <td>unknown</td>\n      <td>https://s.gr-assets.com/assets/nophoto/book/11...</td>\n      <td>['27397']</td>\n      <td>unknown</td>\n      <td>-1.0</td>\n      <td>unknown</td>\n      <td>-1.0</td>\n      <td>11.0</td>\n      <td>4</td>\n      <td>1</td>\n      <td>taoist philosophy explained using example miln...</td>\n      <td>[-0.09883666 -0.04888749  0.044787   -0.075579...</td>\n    </tr>\n    <tr>\n      <th>7</th>\n      <td>89375</td>\n      <td>90 Minutes in Heaven: A True Story of Death an...</td>\n      <td>0800759494</td>\n      <td>unknown</td>\n      <td>0.0</td>\n      <td>3.91</td>\n      <td>['299795', '8100288', '7570892', '53817', '121...</td>\n      <td>As he is driving home from a minister's confer...</td>\n      <td>unknown</td>\n      <td>https://s.gr-assets.com/assets/nophoto/book/11...</td>\n      <td>['39054', '11099']</td>\n      <td>unknown</td>\n      <td>-1.0</td>\n      <td>unknown</td>\n      <td>-1.0</td>\n      <td>68157.0</td>\n      <td>4</td>\n      <td>1</td>\n      <td>driving home minister conference baptist minis...</td>\n      <td>[-7.03569651e-02  3.32607538e-03 -6.08443506e-...</td>\n    </tr>\n    <tr>\n      <th>8</th>\n      <td>89376</td>\n      <td>Heaven</td>\n      <td>0842379428</td>\n      <td>eng</td>\n      <td>0.0</td>\n      <td>4.26</td>\n      <td>['45366', '246849', '11096385', '19102466', '7...</td>\n      <td>What is Heaven really going to be like? What w...</td>\n      <td>unknown</td>\n      <td>https://images.gr-assets.com/books/1406508230m...</td>\n      <td>['4862']</td>\n      <td>unknown</td>\n      <td>533.0</td>\n      <td>unknown</td>\n      <td>-1.0</td>\n      <td>7345.0</td>\n      <td>4</td>\n      <td>2</td>\n      <td>heaven really going like look like wont heaven...</td>\n      <td>[-1.06372923e-01 -5.57228364e-02 -6.52744174e-...</td>\n    </tr>\n    <tr>\n      <th>9</th>\n      <td>89377</td>\n      <td>Penny from Heaven</td>\n      <td>037583687X</td>\n      <td>unknown</td>\n      <td>0.0</td>\n      <td>3.98</td>\n      <td>['614054', '272343', '824934', '581383', '9359...</td>\n      <td>It's 1953 and 11-year-old Penny dreams of a su...</td>\n      <td>Hardcover</td>\n      <td>https://images.gr-assets.com/books/1320470906m...</td>\n      <td>['137561']</td>\n      <td>Random House Books for Young Readers</td>\n      <td>288.0</td>\n      <td>unknown</td>\n      <td>2006.0</td>\n      <td>6949.0</td>\n      <td>2</td>\n      <td>1</td>\n      <td>yearold penny dream summer butter pecan ice cr...</td>\n      <td>[ 2.96154246e-02  8.94981325e-02 -3.93532813e-...</td>\n    </tr>\n  </tbody>\n</table>\n</div>"
     },
     "execution_count": 3,
     "metadata": {},
     "output_type": "execute_result"
    }
   ],
   "source": [
    "books.head(10)"
   ],
   "metadata": {
    "collapsed": false,
    "pycharm": {
     "name": "#%%\n"
    }
   }
  },
  {
   "cell_type": "code",
   "execution_count": 15,
   "outputs": [
    {
     "data": {
      "text/plain": "numpy.ndarray"
     },
     "execution_count": 15,
     "metadata": {},
     "output_type": "execute_result"
    }
   ],
   "source": [
    "type(books.iloc[0].glove_description)"
   ],
   "metadata": {
    "collapsed": false,
    "pycharm": {
     "name": "#%%\n"
    }
   }
  },
  {
   "cell_type": "code",
   "execution_count": 11,
   "outputs": [],
   "source": [
    "import numpy as np\n",
    "from sklearn.cluster import KMeans\n",
    "from hnswlib import Index as HNSWIndex\n",
    "from annoy import AnnoyIndex"
   ],
   "metadata": {
    "collapsed": false,
    "pycharm": {
     "name": "#%%\n"
    }
   }
  },
  {
   "cell_type": "code",
   "execution_count": 12,
   "outputs": [],
   "source": [
    "# Load the book embeddings\n",
    "embeddings = np.array(books['glove_description'].tolist())"
   ],
   "metadata": {
    "collapsed": false,
    "pycharm": {
     "name": "#%%\n"
    }
   }
  },
  {
   "cell_type": "code",
   "execution_count": 25,
   "outputs": [
    {
     "data": {
      "text/plain": "array([[-0.10919455, -0.02343459, -0.00643954, ...,  0.03146792,\n        -0.0421937 ,  0.08803389],\n       [-0.09596572,  0.11040162, -0.05098073, ..., -0.04011154,\n        -0.09535343,  0.10487367],\n       [ 0.08972758, -0.07232258,  0.06552754, ...,  0.17364138,\n        -0.21904832,  0.04898636],\n       ...,\n       [-0.05641479, -0.00359509,  0.01899788, ...,  0.05731812,\n        -0.04028753,  0.03385803],\n       [-0.09751933, -0.14533287,  0.03406224, ...,  0.10873859,\n        -0.32390204,  0.13627405],\n       [-0.07544973,  0.00174252, -0.06134135, ..., -0.09464269,\n        -0.00740749,  0.12118626]])"
     },
     "execution_count": 25,
     "metadata": {},
     "output_type": "execute_result"
    }
   ],
   "source": [
    "embeddings"
   ],
   "metadata": {
    "collapsed": false,
    "pycharm": {
     "name": "#%%\n"
    }
   }
  },
  {
   "cell_type": "code",
   "execution_count": 31,
   "outputs": [
    {
     "data": {
      "text/plain": "(1179966, 300)"
     },
     "execution_count": 31,
     "metadata": {},
     "output_type": "execute_result"
    }
   ],
   "source": [
    "embeddings.shape"
   ],
   "metadata": {
    "collapsed": false,
    "pycharm": {
     "name": "#%%\n"
    }
   }
  },
  {
   "cell_type": "code",
   "execution_count": 13,
   "outputs": [],
   "source": [
    "from sklearn.metrics.pairwise import cosine_similarity\n",
    "\n",
    "\n",
    "def search(query):\n",
    "  processed = re.sub(\"[^a-zA-Z0-9 ]\", \"\", query.lower())\n",
    "  query_vec = string_to_glove(processed).reshape(1,-1)\n",
    "  similarity = cosine_similarity(query_vec, embeddings).flatten()\n",
    "  indices = np.argpartition(similarity, -50)[-50:]\n",
    "  results = books.iloc[indices]\n",
    "  return results[['book_id', 'title']].head(5)\n"
   ],
   "metadata": {
    "collapsed": false,
    "pycharm": {
     "name": "#%%\n"
    }
   }
  },
  {
   "cell_type": "code",
   "execution_count": 15,
   "outputs": [
    {
     "data": {
      "text/plain": "          book_id                                              title\n332592     276598             The Backlash Mission (Blackcollar, #2)\n221796    6643898  The Speed Handbook: Velocity, Pleasure, Modernism\n239116    7690201                Born to Fly Born to Fly Born to Fly\n917196   16270758  Hamfist Over the Trail: The Air Combat Adventu...\n1017251  29844204  Fighters Over the Fleet: Naval Air Defence fro...",
      "text/html": "<div>\n<style scoped>\n    .dataframe tbody tr th:only-of-type {\n        vertical-align: middle;\n    }\n\n    .dataframe tbody tr th {\n        vertical-align: top;\n    }\n\n    .dataframe thead th {\n        text-align: right;\n    }\n</style>\n<table border=\"1\" class=\"dataframe\">\n  <thead>\n    <tr style=\"text-align: right;\">\n      <th></th>\n      <th>book_id</th>\n      <th>title</th>\n    </tr>\n  </thead>\n  <tbody>\n    <tr>\n      <th>332592</th>\n      <td>276598</td>\n      <td>The Backlash Mission (Blackcollar, #2)</td>\n    </tr>\n    <tr>\n      <th>221796</th>\n      <td>6643898</td>\n      <td>The Speed Handbook: Velocity, Pleasure, Modernism</td>\n    </tr>\n    <tr>\n      <th>239116</th>\n      <td>7690201</td>\n      <td>Born to Fly Born to Fly Born to Fly</td>\n    </tr>\n    <tr>\n      <th>917196</th>\n      <td>16270758</td>\n      <td>Hamfist Over the Trail: The Air Combat Adventu...</td>\n    </tr>\n    <tr>\n      <th>1017251</th>\n      <td>29844204</td>\n      <td>Fighters Over the Fleet: Naval Air Defence fro...</td>\n    </tr>\n  </tbody>\n</table>\n</div>"
     },
     "execution_count": 15,
     "metadata": {},
     "output_type": "execute_result"
    }
   ],
   "source": [
    "search(\"Speed force\")"
   ],
   "metadata": {
    "collapsed": false,
    "pycharm": {
     "name": "#%%\n"
    }
   }
  },
  {
   "cell_type": "markdown",
   "source": [
    "## Collaborative Filtering"
   ],
   "metadata": {
    "collapsed": false,
    "pycharm": {
     "name": "#%% md\n"
    }
   }
  },
  {
   "cell_type": "code",
   "execution_count": 2,
   "outputs": [],
   "source": [
    "ratings = pd.read_csv('goodreads_reviews.csv')"
   ],
   "metadata": {
    "collapsed": false,
    "pycharm": {
     "name": "#%%\n"
    }
   }
  },
  {
   "cell_type": "code",
   "execution_count": 3,
   "outputs": [],
   "source": [
    "ratings.dropna(axis=0, inplace=True)"
   ],
   "metadata": {
    "collapsed": false,
    "pycharm": {
     "name": "#%%\n"
    }
   }
  },
  {
   "cell_type": "code",
   "execution_count": 4,
   "outputs": [
    {
     "data": {
      "text/plain": "Index(['user_id', 'book_id', 'rating', 'text', 'n_votes', 'date_added'], dtype='object')"
     },
     "execution_count": 4,
     "metadata": {},
     "output_type": "execute_result"
    }
   ],
   "source": [
    "ratings.columns"
   ],
   "metadata": {
    "collapsed": false,
    "pycharm": {
     "name": "#%%\n"
    }
   }
  },
  {
   "cell_type": "code",
   "execution_count": 4,
   "outputs": [],
   "source": [
    "# Count the number of ratings per book and user\n",
    "book_ratings = ratings.groupby('book_id').size()\n",
    "user_ratings = ratings.groupby('user_id').size()\n",
    "\n",
    "# Define the minimum number of ratings per book and user to keep\n",
    "min_book_ratings = 10\n",
    "min_user_ratings = 5\n",
    "\n",
    "# Filter out books with fewer than min_book_ratings ratings\n",
    "reviews = ratings[ratings['book_id'].isin(book_ratings[book_ratings >= min_book_ratings].index)]\n",
    "\n",
    "# Filter out users with fewer than min_user_ratings ratings\n",
    "reviews = reviews[reviews['user_id'].isin(user_ratings[user_ratings >= min_user_ratings].index)]"
   ],
   "metadata": {
    "collapsed": false,
    "pycharm": {
     "name": "#%%\n"
    }
   }
  },
  {
   "cell_type": "code",
   "execution_count": 5,
   "outputs": [],
   "source": [
    "data0_1 = reviews.sample(frac=0.1)\n",
    "data0_2 = reviews.sample(frac=0.2)\n",
    "data0_3 = reviews.sample(frac=0.3)\n",
    "data0_4 = reviews.sample(frac=0.4)\n",
    "data0_5 = reviews.sample(frac=0.5)"
   ],
   "metadata": {
    "collapsed": false,
    "pycharm": {
     "name": "#%%\n"
    }
   }
  },
  {
   "cell_type": "code",
   "execution_count": 6,
   "outputs": [],
   "source": [
    "data0_1.to_csv(\"data0_1.csv\", index=False)\n",
    "data0_2.to_csv(\"data0_2.csv\", index=False)\n",
    "data0_3.to_csv(\"data0_3.csv\", index=False)\n",
    "data0_4.to_csv(\"data0_4.csv\", index=False)\n",
    "data0_5.to_csv(\"data0_5.csv\", index=False)"
   ],
   "metadata": {
    "collapsed": false,
    "pycharm": {
     "name": "#%%\n"
    }
   }
  },
  {
   "cell_type": "code",
   "execution_count": 10,
   "outputs": [
    {
     "data": {
      "text/plain": "                                   user_id   book_id  rating   \n15111853  846d24beef469f8b39df8599eb5a7ddc    547866       0  \\\n3295400   3e345d9b8bc004f0971440f0b3bf7dd2    820517       0   \n5189639   a2acd23a22c2c769444676b4d67eeea6  18053264       0   \n10841346  949bcc5d7c61e805ffe74a7a1d127de5  15704285       0   \n8751220   2f93920282ec4c32f0dc8ec3c5cf9b7d  25323888       0   \n...                                    ...       ...     ...   \n2007293   ff432425d6ae1b7589eb917cb5639a34       475       0   \n6015173   452484bffdeb29ad1b1d53d91fa57ec8   5957313       0   \n10887480  4dd952c7593f047644a7868cba0f021d     38447       0   \n12732844  620a4cbf83826fb93f3f308a0821705d  12664864       0   \n8895904   fe2e54aecd97f41b5e4a369e20780964     45541       0   \n\n                                                       text  n_votes   \n15111853                           this book is halarious!!        0  \\\n3295400   This book was super funny. I recommend it to a...        0   \n5189639   this was a fine ending to the trilogy. It is a...        0   \n10841346                                    Did not finish.        0   \n8751220   So Sinful! \\n I mean what can I say Lauren Bla...        0   \n...                                                     ...      ...   \n2007293   I have read half of this but I feel like I hav...        0   \n6015173   \"Sleep well, and stay where I put you.\" caught...        0   \n10887480  NPR 100 Best Science Fiction/Fantasy Books, #2...        0   \n12732844  En el mundo de Charlaina (Charlie para los ami...        0   \n8895904   Ugh, this book was terrible. I was expecting a...        0   \n\n                              date_added  \n15111853  Sat May 16 20:27:55 -0700 2009  \n3295400   Sun Jan 11 14:35:00 -0800 2009  \n5189639   Mon Apr 21 14:15:40 -0700 2014  \n10841346  Wed Jun 27 08:02:03 -0700 2012  \n8751220   Fri Jul 03 12:10:28 -0700 2015  \n...                                  ...  \n2007293   Tue Nov 08 16:58:48 -0800 2016  \n6015173   Sun Jun 19 21:05:09 -0700 2011  \n10887480  Tue May 24 06:06:08 -0700 2016  \n12732844  Thu Oct 27 01:32:41 -0700 2011  \n8895904   Sun Jul 16 13:38:40 -0700 2017  \n\n[35671 rows x 6 columns]",
      "text/html": "<div>\n<style scoped>\n    .dataframe tbody tr th:only-of-type {\n        vertical-align: middle;\n    }\n\n    .dataframe tbody tr th {\n        vertical-align: top;\n    }\n\n    .dataframe thead th {\n        text-align: right;\n    }\n</style>\n<table border=\"1\" class=\"dataframe\">\n  <thead>\n    <tr style=\"text-align: right;\">\n      <th></th>\n      <th>user_id</th>\n      <th>book_id</th>\n      <th>rating</th>\n      <th>text</th>\n      <th>n_votes</th>\n      <th>date_added</th>\n    </tr>\n  </thead>\n  <tbody>\n    <tr>\n      <th>15111853</th>\n      <td>846d24beef469f8b39df8599eb5a7ddc</td>\n      <td>547866</td>\n      <td>0</td>\n      <td>this book is halarious!!</td>\n      <td>0</td>\n      <td>Sat May 16 20:27:55 -0700 2009</td>\n    </tr>\n    <tr>\n      <th>3295400</th>\n      <td>3e345d9b8bc004f0971440f0b3bf7dd2</td>\n      <td>820517</td>\n      <td>0</td>\n      <td>This book was super funny. I recommend it to a...</td>\n      <td>0</td>\n      <td>Sun Jan 11 14:35:00 -0800 2009</td>\n    </tr>\n    <tr>\n      <th>5189639</th>\n      <td>a2acd23a22c2c769444676b4d67eeea6</td>\n      <td>18053264</td>\n      <td>0</td>\n      <td>this was a fine ending to the trilogy. It is a...</td>\n      <td>0</td>\n      <td>Mon Apr 21 14:15:40 -0700 2014</td>\n    </tr>\n    <tr>\n      <th>10841346</th>\n      <td>949bcc5d7c61e805ffe74a7a1d127de5</td>\n      <td>15704285</td>\n      <td>0</td>\n      <td>Did not finish.</td>\n      <td>0</td>\n      <td>Wed Jun 27 08:02:03 -0700 2012</td>\n    </tr>\n    <tr>\n      <th>8751220</th>\n      <td>2f93920282ec4c32f0dc8ec3c5cf9b7d</td>\n      <td>25323888</td>\n      <td>0</td>\n      <td>So Sinful! \\n I mean what can I say Lauren Bla...</td>\n      <td>0</td>\n      <td>Fri Jul 03 12:10:28 -0700 2015</td>\n    </tr>\n    <tr>\n      <th>...</th>\n      <td>...</td>\n      <td>...</td>\n      <td>...</td>\n      <td>...</td>\n      <td>...</td>\n      <td>...</td>\n    </tr>\n    <tr>\n      <th>2007293</th>\n      <td>ff432425d6ae1b7589eb917cb5639a34</td>\n      <td>475</td>\n      <td>0</td>\n      <td>I have read half of this but I feel like I hav...</td>\n      <td>0</td>\n      <td>Tue Nov 08 16:58:48 -0800 2016</td>\n    </tr>\n    <tr>\n      <th>6015173</th>\n      <td>452484bffdeb29ad1b1d53d91fa57ec8</td>\n      <td>5957313</td>\n      <td>0</td>\n      <td>\"Sleep well, and stay where I put you.\" caught...</td>\n      <td>0</td>\n      <td>Sun Jun 19 21:05:09 -0700 2011</td>\n    </tr>\n    <tr>\n      <th>10887480</th>\n      <td>4dd952c7593f047644a7868cba0f021d</td>\n      <td>38447</td>\n      <td>0</td>\n      <td>NPR 100 Best Science Fiction/Fantasy Books, #2...</td>\n      <td>0</td>\n      <td>Tue May 24 06:06:08 -0700 2016</td>\n    </tr>\n    <tr>\n      <th>12732844</th>\n      <td>620a4cbf83826fb93f3f308a0821705d</td>\n      <td>12664864</td>\n      <td>0</td>\n      <td>En el mundo de Charlaina (Charlie para los ami...</td>\n      <td>0</td>\n      <td>Thu Oct 27 01:32:41 -0700 2011</td>\n    </tr>\n    <tr>\n      <th>8895904</th>\n      <td>fe2e54aecd97f41b5e4a369e20780964</td>\n      <td>45541</td>\n      <td>0</td>\n      <td>Ugh, this book was terrible. I was expecting a...</td>\n      <td>0</td>\n      <td>Sun Jul 16 13:38:40 -0700 2017</td>\n    </tr>\n  </tbody>\n</table>\n<p>35671 rows × 6 columns</p>\n</div>"
     },
     "execution_count": 10,
     "metadata": {},
     "output_type": "execute_result"
    }
   ],
   "source": [
    "data0_1[data0_1.rating == 0]"
   ],
   "metadata": {
    "collapsed": false,
    "pycharm": {
     "name": "#%%\n"
    }
   }
  },
  {
   "cell_type": "code",
   "execution_count": 12,
   "outputs": [],
   "source": [
    "data0_1['text'] = data0_1['text'].apply(lambda x: clean_text(x))"
   ],
   "metadata": {
    "collapsed": false,
    "pycharm": {
     "name": "#%%\n"
    }
   }
  },
  {
   "cell_type": "code",
   "execution_count": 13,
   "outputs": [],
   "source": [
    "from textblob import TextBlob\n",
    "# Define a function to convert sentiment polarity to rating\n",
    "def get_rating(polarity):\n",
    "    if polarity > 0:\n",
    "        return 4 * polarity + 1\n",
    "    elif polarity < 0:\n",
    "        return 4 * abs(polarity) + 2\n",
    "    else:\n",
    "        return 3\n",
    "\n",
    "# Define a function to extract sentiment polarity using TextBlob\n",
    "def get_sentiment(text):\n",
    "    blob = TextBlob(text)\n",
    "    polarity = blob.sentiment.polarity\n",
    "    return get_rating(polarity)"
   ],
   "metadata": {
    "collapsed": false,
    "pycharm": {
     "name": "#%%\n"
    }
   }
  },
  {
   "cell_type": "code",
   "execution_count": 22,
   "outputs": [
    {
     "data": {
      "text/plain": "                                   user_id   book_id  rating   \n10873874  b676745b04b12084ef4e8fdae365692e   3321252     4.0  \\\n1348313   8617680ab8f48339188829146704c565   7649340     5.0   \n3638948   e84419f7ef1b27b7c65b75d0370a8ba4  11108988     4.0   \n1867049   6a40a6e696954220a00ba8734b3d599b  12585568     5.0   \n3604183   30a0f19b16dd2d3773dc71cb15bf09a5  24938311     4.0   \n2087976   781f613348a8a8760f4ac728d6ada681     91981     5.0   \n3845964   7c63f036bdbed8cf819a4e8ae12b97f4  23200006     2.0   \n825079    95a1585c5a7df785f85363d22f63da03  10866624     3.0   \n172787    210931d31d277ffea3771c82e4e3b241  27405547     1.0   \n15144930  dcc4ae587d724f4c87acb3dbd2be25dc       320     5.0   \n\n                                                       text  n_votes   \n10873874  really enjoyed book decided read loved butterf...        0  \\\n1348313   ever read series liked much read bought audibl...        0   \n3638948   thoughtprovoking story war state author show s...        0   \n1867049   oh book ever read historical fiction think mus...        0   \n3604183   gavin king top game one bad injury may ended c...        0   \n2087976   series end seriously cant believe took long re...        0   \n3845964   story alright artwork wasnt really cup tea fro...        0   \n825079    unspoken cute gothic tale journalistwannabe hi...        1   \n172787              really like artwork nothing liked story        2   \n15144930  amazing beautiful everyone read heartbreaking ...        0   \n\n                              date_added  \n10873874  Tue Dec 15 01:05:52 -0800 2015  \n1348313   Mon Jul 04 16:41:08 -0700 2016  \n3638948   Sun Mar 03 15:59:07 -0800 2013  \n1867049   Wed Jun 18 17:16:06 -0700 2014  \n3604183   Tue Jun 30 20:46:21 -0700 2015  \n2087976   Mon Jan 20 16:09:08 -0800 2014  \n3845964   Sat Jul 09 17:52:18 -0700 2016  \n825079    Tue Dec 25 17:13:42 -0800 2012  \n172787    Tue Jan 10 12:44:52 -0800 2017  \n15144930  Tue Dec 01 15:43:23 -0800 2009  ",
      "text/html": "<div>\n<style scoped>\n    .dataframe tbody tr th:only-of-type {\n        vertical-align: middle;\n    }\n\n    .dataframe tbody tr th {\n        vertical-align: top;\n    }\n\n    .dataframe thead th {\n        text-align: right;\n    }\n</style>\n<table border=\"1\" class=\"dataframe\">\n  <thead>\n    <tr style=\"text-align: right;\">\n      <th></th>\n      <th>user_id</th>\n      <th>book_id</th>\n      <th>rating</th>\n      <th>text</th>\n      <th>n_votes</th>\n      <th>date_added</th>\n    </tr>\n  </thead>\n  <tbody>\n    <tr>\n      <th>10873874</th>\n      <td>b676745b04b12084ef4e8fdae365692e</td>\n      <td>3321252</td>\n      <td>4.0</td>\n      <td>really enjoyed book decided read loved butterf...</td>\n      <td>0</td>\n      <td>Tue Dec 15 01:05:52 -0800 2015</td>\n    </tr>\n    <tr>\n      <th>1348313</th>\n      <td>8617680ab8f48339188829146704c565</td>\n      <td>7649340</td>\n      <td>5.0</td>\n      <td>ever read series liked much read bought audibl...</td>\n      <td>0</td>\n      <td>Mon Jul 04 16:41:08 -0700 2016</td>\n    </tr>\n    <tr>\n      <th>3638948</th>\n      <td>e84419f7ef1b27b7c65b75d0370a8ba4</td>\n      <td>11108988</td>\n      <td>4.0</td>\n      <td>thoughtprovoking story war state author show s...</td>\n      <td>0</td>\n      <td>Sun Mar 03 15:59:07 -0800 2013</td>\n    </tr>\n    <tr>\n      <th>1867049</th>\n      <td>6a40a6e696954220a00ba8734b3d599b</td>\n      <td>12585568</td>\n      <td>5.0</td>\n      <td>oh book ever read historical fiction think mus...</td>\n      <td>0</td>\n      <td>Wed Jun 18 17:16:06 -0700 2014</td>\n    </tr>\n    <tr>\n      <th>3604183</th>\n      <td>30a0f19b16dd2d3773dc71cb15bf09a5</td>\n      <td>24938311</td>\n      <td>4.0</td>\n      <td>gavin king top game one bad injury may ended c...</td>\n      <td>0</td>\n      <td>Tue Jun 30 20:46:21 -0700 2015</td>\n    </tr>\n    <tr>\n      <th>2087976</th>\n      <td>781f613348a8a8760f4ac728d6ada681</td>\n      <td>91981</td>\n      <td>5.0</td>\n      <td>series end seriously cant believe took long re...</td>\n      <td>0</td>\n      <td>Mon Jan 20 16:09:08 -0800 2014</td>\n    </tr>\n    <tr>\n      <th>3845964</th>\n      <td>7c63f036bdbed8cf819a4e8ae12b97f4</td>\n      <td>23200006</td>\n      <td>2.0</td>\n      <td>story alright artwork wasnt really cup tea fro...</td>\n      <td>0</td>\n      <td>Sat Jul 09 17:52:18 -0700 2016</td>\n    </tr>\n    <tr>\n      <th>825079</th>\n      <td>95a1585c5a7df785f85363d22f63da03</td>\n      <td>10866624</td>\n      <td>3.0</td>\n      <td>unspoken cute gothic tale journalistwannabe hi...</td>\n      <td>1</td>\n      <td>Tue Dec 25 17:13:42 -0800 2012</td>\n    </tr>\n    <tr>\n      <th>172787</th>\n      <td>210931d31d277ffea3771c82e4e3b241</td>\n      <td>27405547</td>\n      <td>1.0</td>\n      <td>really like artwork nothing liked story</td>\n      <td>2</td>\n      <td>Tue Jan 10 12:44:52 -0800 2017</td>\n    </tr>\n    <tr>\n      <th>15144930</th>\n      <td>dcc4ae587d724f4c87acb3dbd2be25dc</td>\n      <td>320</td>\n      <td>5.0</td>\n      <td>amazing beautiful everyone read heartbreaking ...</td>\n      <td>0</td>\n      <td>Tue Dec 01 15:43:23 -0800 2009</td>\n    </tr>\n  </tbody>\n</table>\n</div>"
     },
     "execution_count": 22,
     "metadata": {},
     "output_type": "execute_result"
    }
   ],
   "source": [
    "data0_1.head(10)"
   ],
   "metadata": {
    "collapsed": false,
    "pycharm": {
     "name": "#%%\n"
    }
   }
  },
  {
   "cell_type": "code",
   "execution_count": 21,
   "outputs": [],
   "source": [
    "# apply the sentiment analysis function only to rows with 0 rating\n",
    "mask = data0_1['rating'] == 0\n",
    "data0_1.loc[mask, 'rating'] = data0_1.loc[mask, 'text'].apply(get_sentiment)"
   ],
   "metadata": {
    "collapsed": false,
    "pycharm": {
     "name": "#%%\n"
    }
   }
  },
  {
   "cell_type": "code",
   "execution_count": 23,
   "outputs": [
    {
     "data": {
      "text/plain": "Empty DataFrame\nColumns: [user_id, book_id, rating, text, n_votes, date_added]\nIndex: []",
      "text/html": "<div>\n<style scoped>\n    .dataframe tbody tr th:only-of-type {\n        vertical-align: middle;\n    }\n\n    .dataframe tbody tr th {\n        vertical-align: top;\n    }\n\n    .dataframe thead th {\n        text-align: right;\n    }\n</style>\n<table border=\"1\" class=\"dataframe\">\n  <thead>\n    <tr style=\"text-align: right;\">\n      <th></th>\n      <th>user_id</th>\n      <th>book_id</th>\n      <th>rating</th>\n      <th>text</th>\n      <th>n_votes</th>\n      <th>date_added</th>\n    </tr>\n  </thead>\n  <tbody>\n  </tbody>\n</table>\n</div>"
     },
     "execution_count": 23,
     "metadata": {},
     "output_type": "execute_result"
    }
   ],
   "source": [
    "data0_1[data0_1.rating == 0]"
   ],
   "metadata": {
    "collapsed": false,
    "pycharm": {
     "name": "#%%\n"
    }
   }
  },
  {
   "cell_type": "code",
   "execution_count": 24,
   "outputs": [
    {
     "data": {
      "text/plain": "rating\n5.000000    389018\n4.000000    386436\n3.000000    233394\n2.000000     79719\n1.000000     32008\n             ...  \n1.542440         1\n1.877273         1\n1.819108         1\n1.160318         1\n4.347222         1\nName: count, Length: 7725, dtype: int64"
     },
     "execution_count": 24,
     "metadata": {},
     "output_type": "execute_result"
    }
   ],
   "source": [
    "data0_1.rating.value_counts()"
   ],
   "metadata": {
    "collapsed": false,
    "pycharm": {
     "name": "#%%\n"
    }
   }
  },
  {
   "cell_type": "code",
   "execution_count": 25,
   "outputs": [],
   "source": [
    "data0_1.rating = data0_1.rating.round().astype(int)\n",
    "# clip the ratings to the range [1, 5]\n",
    "data0_1.rating = data0_1.rating.clip(1, 5)"
   ],
   "metadata": {
    "collapsed": false,
    "pycharm": {
     "name": "#%%\n"
    }
   }
  },
  {
   "cell_type": "code",
   "execution_count": 26,
   "outputs": [
    {
     "data": {
      "text/plain": "                                   user_id   book_id  rating   \n10873874  b676745b04b12084ef4e8fdae365692e   3321252       4  \\\n1348313   8617680ab8f48339188829146704c565   7649340       5   \n3638948   e84419f7ef1b27b7c65b75d0370a8ba4  11108988       4   \n1867049   6a40a6e696954220a00ba8734b3d599b  12585568       5   \n3604183   30a0f19b16dd2d3773dc71cb15bf09a5  24938311       4   \n2087976   781f613348a8a8760f4ac728d6ada681     91981       5   \n3845964   7c63f036bdbed8cf819a4e8ae12b97f4  23200006       2   \n825079    95a1585c5a7df785f85363d22f63da03  10866624       3   \n172787    210931d31d277ffea3771c82e4e3b241  27405547       1   \n15144930  dcc4ae587d724f4c87acb3dbd2be25dc       320       5   \n\n                                                       text  n_votes   \n10873874  really enjoyed book decided read loved butterf...        0  \\\n1348313   ever read series liked much read bought audibl...        0   \n3638948   thoughtprovoking story war state author show s...        0   \n1867049   oh book ever read historical fiction think mus...        0   \n3604183   gavin king top game one bad injury may ended c...        0   \n2087976   series end seriously cant believe took long re...        0   \n3845964   story alright artwork wasnt really cup tea fro...        0   \n825079    unspoken cute gothic tale journalistwannabe hi...        1   \n172787              really like artwork nothing liked story        2   \n15144930  amazing beautiful everyone read heartbreaking ...        0   \n\n                              date_added  \n10873874  Tue Dec 15 01:05:52 -0800 2015  \n1348313   Mon Jul 04 16:41:08 -0700 2016  \n3638948   Sun Mar 03 15:59:07 -0800 2013  \n1867049   Wed Jun 18 17:16:06 -0700 2014  \n3604183   Tue Jun 30 20:46:21 -0700 2015  \n2087976   Mon Jan 20 16:09:08 -0800 2014  \n3845964   Sat Jul 09 17:52:18 -0700 2016  \n825079    Tue Dec 25 17:13:42 -0800 2012  \n172787    Tue Jan 10 12:44:52 -0800 2017  \n15144930  Tue Dec 01 15:43:23 -0800 2009  ",
      "text/html": "<div>\n<style scoped>\n    .dataframe tbody tr th:only-of-type {\n        vertical-align: middle;\n    }\n\n    .dataframe tbody tr th {\n        vertical-align: top;\n    }\n\n    .dataframe thead th {\n        text-align: right;\n    }\n</style>\n<table border=\"1\" class=\"dataframe\">\n  <thead>\n    <tr style=\"text-align: right;\">\n      <th></th>\n      <th>user_id</th>\n      <th>book_id</th>\n      <th>rating</th>\n      <th>text</th>\n      <th>n_votes</th>\n      <th>date_added</th>\n    </tr>\n  </thead>\n  <tbody>\n    <tr>\n      <th>10873874</th>\n      <td>b676745b04b12084ef4e8fdae365692e</td>\n      <td>3321252</td>\n      <td>4</td>\n      <td>really enjoyed book decided read loved butterf...</td>\n      <td>0</td>\n      <td>Tue Dec 15 01:05:52 -0800 2015</td>\n    </tr>\n    <tr>\n      <th>1348313</th>\n      <td>8617680ab8f48339188829146704c565</td>\n      <td>7649340</td>\n      <td>5</td>\n      <td>ever read series liked much read bought audibl...</td>\n      <td>0</td>\n      <td>Mon Jul 04 16:41:08 -0700 2016</td>\n    </tr>\n    <tr>\n      <th>3638948</th>\n      <td>e84419f7ef1b27b7c65b75d0370a8ba4</td>\n      <td>11108988</td>\n      <td>4</td>\n      <td>thoughtprovoking story war state author show s...</td>\n      <td>0</td>\n      <td>Sun Mar 03 15:59:07 -0800 2013</td>\n    </tr>\n    <tr>\n      <th>1867049</th>\n      <td>6a40a6e696954220a00ba8734b3d599b</td>\n      <td>12585568</td>\n      <td>5</td>\n      <td>oh book ever read historical fiction think mus...</td>\n      <td>0</td>\n      <td>Wed Jun 18 17:16:06 -0700 2014</td>\n    </tr>\n    <tr>\n      <th>3604183</th>\n      <td>30a0f19b16dd2d3773dc71cb15bf09a5</td>\n      <td>24938311</td>\n      <td>4</td>\n      <td>gavin king top game one bad injury may ended c...</td>\n      <td>0</td>\n      <td>Tue Jun 30 20:46:21 -0700 2015</td>\n    </tr>\n    <tr>\n      <th>2087976</th>\n      <td>781f613348a8a8760f4ac728d6ada681</td>\n      <td>91981</td>\n      <td>5</td>\n      <td>series end seriously cant believe took long re...</td>\n      <td>0</td>\n      <td>Mon Jan 20 16:09:08 -0800 2014</td>\n    </tr>\n    <tr>\n      <th>3845964</th>\n      <td>7c63f036bdbed8cf819a4e8ae12b97f4</td>\n      <td>23200006</td>\n      <td>2</td>\n      <td>story alright artwork wasnt really cup tea fro...</td>\n      <td>0</td>\n      <td>Sat Jul 09 17:52:18 -0700 2016</td>\n    </tr>\n    <tr>\n      <th>825079</th>\n      <td>95a1585c5a7df785f85363d22f63da03</td>\n      <td>10866624</td>\n      <td>3</td>\n      <td>unspoken cute gothic tale journalistwannabe hi...</td>\n      <td>1</td>\n      <td>Tue Dec 25 17:13:42 -0800 2012</td>\n    </tr>\n    <tr>\n      <th>172787</th>\n      <td>210931d31d277ffea3771c82e4e3b241</td>\n      <td>27405547</td>\n      <td>1</td>\n      <td>really like artwork nothing liked story</td>\n      <td>2</td>\n      <td>Tue Jan 10 12:44:52 -0800 2017</td>\n    </tr>\n    <tr>\n      <th>15144930</th>\n      <td>dcc4ae587d724f4c87acb3dbd2be25dc</td>\n      <td>320</td>\n      <td>5</td>\n      <td>amazing beautiful everyone read heartbreaking ...</td>\n      <td>0</td>\n      <td>Tue Dec 01 15:43:23 -0800 2009</td>\n    </tr>\n  </tbody>\n</table>\n</div>"
     },
     "execution_count": 26,
     "metadata": {},
     "output_type": "execute_result"
    }
   ],
   "source": [
    "data0_1.head(10)"
   ],
   "metadata": {
    "collapsed": false,
    "pycharm": {
     "name": "#%%\n"
    }
   }
  },
  {
   "cell_type": "code",
   "execution_count": 27,
   "outputs": [
    {
     "data": {
      "text/plain": "rating\n5    389260\n4    388097\n3    238273\n2     91766\n1     36387\nName: count, dtype: int64"
     },
     "execution_count": 27,
     "metadata": {},
     "output_type": "execute_result"
    }
   ],
   "source": [
    "data0_1.rating.value_counts()"
   ],
   "metadata": {
    "collapsed": false,
    "pycharm": {
     "name": "#%%\n"
    }
   }
  },
  {
   "cell_type": "markdown",
   "source": [
    "### Matrix Factorization"
   ],
   "metadata": {
    "collapsed": false,
    "pycharm": {
     "name": "#%% md\n"
    }
   }
  },
  {
   "cell_type": "code",
   "execution_count": 30,
   "outputs": [
    {
     "name": "stdout",
     "output_type": "stream",
     "text": [
      "Evaluating RMSE of algorithm SVD on 5 split(s).\n",
      "\n",
      "                  Fold 1  Fold 2  Fold 3  Fold 4  Fold 5  Mean    Std     \n",
      "RMSE (testset)    0.9771  0.9755  0.9766  0.9717  0.9746  0.9751  0.0019  \n",
      "Fit time          19.59   16.85   17.71   17.46   17.73   17.87   0.92    \n",
      "Test time         2.48    1.48    2.08    1.42    2.27    1.95    0.43    \n",
      "Mean RMSE: 0.9751017924647007\n"
     ]
    }
   ],
   "source": [
    "from surprise import SVD\n",
    "from surprise import Dataset\n",
    "from surprise import Reader\n",
    "from surprise.model_selection import cross_validate\n",
    "\n",
    "# Load the data\n",
    "reader = Reader(rating_scale=(1, 5))\n",
    "data = Dataset.load_from_df(data0_1[['user_id', 'book_id', 'rating']], reader)\n",
    "\n",
    "# Define the algorithm\n",
    "algo = SVD()\n",
    "\n",
    "# Evaluate the algorithm using 5-fold cross-validation\n",
    "results = cross_validate(algo, data, measures=['RMSE'], cv=5, verbose=True)\n",
    "\n",
    "# Print the mean RMSE score\n",
    "print('Mean RMSE:', results['test_rmse'].mean())\n"
   ],
   "metadata": {
    "collapsed": false,
    "pycharm": {
     "name": "#%%\n"
    }
   }
  },
  {
   "cell_type": "code",
   "execution_count": 31,
   "outputs": [
    {
     "name": "stdout",
     "output_type": "stream",
     "text": [
      "NMF Mean RMSE: 1.1622606740106707\n"
     ]
    }
   ],
   "source": [
    "from surprise import NMF\n",
    "\n",
    "# NMF algorithm\n",
    "algo_nmf = NMF()\n",
    "results_nmf = cross_validate(algo_nmf, data, measures=['RMSE'], cv=5, verbose=False)\n",
    "print('NMF Mean RMSE:', results_nmf['test_rmse'].mean())"
   ],
   "metadata": {
    "collapsed": false,
    "pycharm": {
     "name": "#%%\n"
    }
   }
  },
  {
   "cell_type": "markdown",
   "source": [
    "## Content-based collaborative filtering"
   ],
   "metadata": {
    "collapsed": false,
    "pycharm": {
     "name": "#%% md\n"
    }
   }
  },
  {
   "cell_type": "code",
   "execution_count": 10,
   "outputs": [],
   "source": [
    "books = pd.read_pickle('glove_books.pkl')"
   ],
   "metadata": {
    "collapsed": false,
    "pycharm": {
     "name": "#%%\n"
    }
   }
  },
  {
   "cell_type": "code",
   "execution_count": 11,
   "outputs": [
    {
     "data": {
      "text/plain": "   book_id                                              title        isbn   \n0  1333909                                        Good Harbor  0743509986  \\\n1  6066819                               Best Friends Forever  0743294297   \n2   287141                      The Aeneid for Boys and Girls  1599150603   \n3  6066812  All's Fairy in Love and War (Avalon: Web of Ma...  1934876569   \n4   287149                               The Devil's Notebook  0922915113   \n\n  language_code  is_ebook  average_rating   \n0       unknown       0.0            3.23  \\\n1           eng       0.0            3.49   \n2       unknown       0.0            4.13   \n3       unknown       0.0            4.22   \n4       unknown       0.0            3.81   \n\n                                       similar_books   \n0  ['8709549', '17074050', '28937', '158816', '22...  \\\n1  ['6604176', '6054190', '2285777', '82641', '75...   \n2                                                 []   \n3  ['948696', '439885', '274955', '12978730', '37...   \n4  ['287151', '1104760', '1172822', '440292', '28...   \n\n                                         description     format   \n0  Anita Diamant's international bestseller \"The ...   Audio CD  \\\n1  Addie Downs and Valerie Adler were eight when ...  Hardcover   \n2  Relates in vigorous prose the tale of Aeneas, ...  Paperback   \n3  To Kara's astonishment, she discovers that a p...  Paperback   \n4  Wisdom, humor, and dark observations by the fo...  Paperback   \n\n                                           cover_img                author   \n0  https://s.gr-assets.com/assets/nophoto/book/11...            ['626222']  \\\n1  https://s.gr-assets.com/assets/nophoto/book/11...              ['9212']   \n2  https://s.gr-assets.com/assets/nophoto/book/11...           ['3041852']   \n3  https://images.gr-assets.com/books/1316637798m...             ['19158']   \n4  https://images.gr-assets.com/books/1328768789m...  ['2983296', '40075']   \n\n                publisher  num_pages edition_information  publication_year   \n0  Simon & Schuster Audio       -1.0            Abridged            2001.0  \\\n1             Atria Books      368.0             unknown            2009.0   \n2    Yesterday's Classics      162.0             unknown            2006.0   \n3              Seven Seas      216.0             unknown            2009.0   \n4             Feral House      147.0             unknown            2000.0   \n\n   ratings_count  format_code  language_code1   \n0           10.0            1               1  \\\n1        51184.0            2               2   \n2           46.0            3               1   \n3           98.0            3               1   \n4          986.0            3               1   \n\n                               processed_description   \n0  anita diamants international bestseller red te...  \\\n1  addie down valerie adler eight first met decid...   \n2  relates vigorous prose tale aeneas legendary a...   \n3  karas astonishment discovers portal opened bed...   \n4  wisdom humor dark observation founder church s...   \n\n                                   glove_description  \n0  [-0.109194554, -0.02343459, -0.00643954, -0.11...  \n1  [-0.09596572, 0.110401616, -0.050980728, -0.08...  \n2  [0.08972758, -0.07232258, 0.06552754, 0.069813...  \n3  [-0.17288154, 0.020485822, 0.01281396, -0.1110...  \n4  [-0.016083162, -0.080028355, 0.051149257, -0.1...  ",
      "text/html": "<div>\n<style scoped>\n    .dataframe tbody tr th:only-of-type {\n        vertical-align: middle;\n    }\n\n    .dataframe tbody tr th {\n        vertical-align: top;\n    }\n\n    .dataframe thead th {\n        text-align: right;\n    }\n</style>\n<table border=\"1\" class=\"dataframe\">\n  <thead>\n    <tr style=\"text-align: right;\">\n      <th></th>\n      <th>book_id</th>\n      <th>title</th>\n      <th>isbn</th>\n      <th>language_code</th>\n      <th>is_ebook</th>\n      <th>average_rating</th>\n      <th>similar_books</th>\n      <th>description</th>\n      <th>format</th>\n      <th>cover_img</th>\n      <th>author</th>\n      <th>publisher</th>\n      <th>num_pages</th>\n      <th>edition_information</th>\n      <th>publication_year</th>\n      <th>ratings_count</th>\n      <th>format_code</th>\n      <th>language_code1</th>\n      <th>processed_description</th>\n      <th>glove_description</th>\n    </tr>\n  </thead>\n  <tbody>\n    <tr>\n      <th>0</th>\n      <td>1333909</td>\n      <td>Good Harbor</td>\n      <td>0743509986</td>\n      <td>unknown</td>\n      <td>0.0</td>\n      <td>3.23</td>\n      <td>['8709549', '17074050', '28937', '158816', '22...</td>\n      <td>Anita Diamant's international bestseller \"The ...</td>\n      <td>Audio CD</td>\n      <td>https://s.gr-assets.com/assets/nophoto/book/11...</td>\n      <td>['626222']</td>\n      <td>Simon &amp; Schuster Audio</td>\n      <td>-1.0</td>\n      <td>Abridged</td>\n      <td>2001.0</td>\n      <td>10.0</td>\n      <td>1</td>\n      <td>1</td>\n      <td>anita diamants international bestseller red te...</td>\n      <td>[-0.109194554, -0.02343459, -0.00643954, -0.11...</td>\n    </tr>\n    <tr>\n      <th>1</th>\n      <td>6066819</td>\n      <td>Best Friends Forever</td>\n      <td>0743294297</td>\n      <td>eng</td>\n      <td>0.0</td>\n      <td>3.49</td>\n      <td>['6604176', '6054190', '2285777', '82641', '75...</td>\n      <td>Addie Downs and Valerie Adler were eight when ...</td>\n      <td>Hardcover</td>\n      <td>https://s.gr-assets.com/assets/nophoto/book/11...</td>\n      <td>['9212']</td>\n      <td>Atria Books</td>\n      <td>368.0</td>\n      <td>unknown</td>\n      <td>2009.0</td>\n      <td>51184.0</td>\n      <td>2</td>\n      <td>2</td>\n      <td>addie down valerie adler eight first met decid...</td>\n      <td>[-0.09596572, 0.110401616, -0.050980728, -0.08...</td>\n    </tr>\n    <tr>\n      <th>2</th>\n      <td>287141</td>\n      <td>The Aeneid for Boys and Girls</td>\n      <td>1599150603</td>\n      <td>unknown</td>\n      <td>0.0</td>\n      <td>4.13</td>\n      <td>[]</td>\n      <td>Relates in vigorous prose the tale of Aeneas, ...</td>\n      <td>Paperback</td>\n      <td>https://s.gr-assets.com/assets/nophoto/book/11...</td>\n      <td>['3041852']</td>\n      <td>Yesterday's Classics</td>\n      <td>162.0</td>\n      <td>unknown</td>\n      <td>2006.0</td>\n      <td>46.0</td>\n      <td>3</td>\n      <td>1</td>\n      <td>relates vigorous prose tale aeneas legendary a...</td>\n      <td>[0.08972758, -0.07232258, 0.06552754, 0.069813...</td>\n    </tr>\n    <tr>\n      <th>3</th>\n      <td>6066812</td>\n      <td>All's Fairy in Love and War (Avalon: Web of Ma...</td>\n      <td>1934876569</td>\n      <td>unknown</td>\n      <td>0.0</td>\n      <td>4.22</td>\n      <td>['948696', '439885', '274955', '12978730', '37...</td>\n      <td>To Kara's astonishment, she discovers that a p...</td>\n      <td>Paperback</td>\n      <td>https://images.gr-assets.com/books/1316637798m...</td>\n      <td>['19158']</td>\n      <td>Seven Seas</td>\n      <td>216.0</td>\n      <td>unknown</td>\n      <td>2009.0</td>\n      <td>98.0</td>\n      <td>3</td>\n      <td>1</td>\n      <td>karas astonishment discovers portal opened bed...</td>\n      <td>[-0.17288154, 0.020485822, 0.01281396, -0.1110...</td>\n    </tr>\n    <tr>\n      <th>4</th>\n      <td>287149</td>\n      <td>The Devil's Notebook</td>\n      <td>0922915113</td>\n      <td>unknown</td>\n      <td>0.0</td>\n      <td>3.81</td>\n      <td>['287151', '1104760', '1172822', '440292', '28...</td>\n      <td>Wisdom, humor, and dark observations by the fo...</td>\n      <td>Paperback</td>\n      <td>https://images.gr-assets.com/books/1328768789m...</td>\n      <td>['2983296', '40075']</td>\n      <td>Feral House</td>\n      <td>147.0</td>\n      <td>unknown</td>\n      <td>2000.0</td>\n      <td>986.0</td>\n      <td>3</td>\n      <td>1</td>\n      <td>wisdom humor dark observation founder church s...</td>\n      <td>[-0.016083162, -0.080028355, 0.051149257, -0.1...</td>\n    </tr>\n  </tbody>\n</table>\n</div>"
     },
     "execution_count": 11,
     "metadata": {},
     "output_type": "execute_result"
    }
   ],
   "source": [
    "books.head(5)"
   ],
   "metadata": {
    "collapsed": false,
    "pycharm": {
     "name": "#%%\n"
    }
   }
  },
  {
   "cell_type": "code",
   "execution_count": 4,
   "outputs": [
    {
     "data": {
      "text/plain": "Index(['book_id', 'title', 'isbn', 'language_code', 'is_ebook',\n       'average_rating', 'similar_books', 'description', 'format', 'cover_img',\n       'author', 'publisher', 'num_pages', 'edition_information',\n       'publication_year', 'ratings_count', 'format_code', 'language_code1',\n       'processed_description', 'glove_description'],\n      dtype='object')"
     },
     "execution_count": 4,
     "metadata": {},
     "output_type": "execute_result"
    }
   ],
   "source": [
    "books.columns"
   ],
   "metadata": {
    "collapsed": false,
    "pycharm": {
     "name": "#%%\n"
    }
   }
  },
  {
   "cell_type": "code",
   "execution_count": 13,
   "outputs": [],
   "source": [
    "books['author_ids'] = books['author'].apply(lambda x: ';'.join(str(i) for i in eval(x)))\n"
   ],
   "metadata": {
    "collapsed": false,
    "pycharm": {
     "name": "#%%\n"
    }
   }
  },
  {
   "cell_type": "code",
   "execution_count": 16,
   "outputs": [
    {
     "data": {
      "text/plain": "   book_id                                              title        isbn   \n0  1333909                                        Good Harbor  0743509986  \\\n1  6066819                               Best Friends Forever  0743294297   \n2   287141                      The Aeneid for Boys and Girls  1599150603   \n3  6066812  All's Fairy in Love and War (Avalon: Web of Ma...  1934876569   \n4   287149                               The Devil's Notebook  0922915113   \n5  6066814          Crowner Royal (Crowner John Mystery, #13)  184737297X   \n6    89371                                   The Te Of Piglet  0413675106   \n7    89375  90 Minutes in Heaven: A True Story of Death an...  0800759494   \n8    89376                                             Heaven  0842379428   \n9    89377                                  Penny from Heaven  037583687X   \n\n  language_code  is_ebook  average_rating   \n0       unknown       0.0            3.23  \\\n1           eng       0.0            3.49   \n2       unknown       0.0            4.13   \n3       unknown       0.0            4.22   \n4       unknown       0.0            3.81   \n5       unknown       0.0            3.93   \n6       unknown       0.0            3.81   \n7       unknown       0.0            3.91   \n8           eng       0.0            4.26   \n9       unknown       0.0            3.98   \n\n                                       similar_books   \n0  ['8709549', '17074050', '28937', '158816', '22...  \\\n1  ['6604176', '6054190', '2285777', '82641', '75...   \n2                                                 []   \n3  ['948696', '439885', '274955', '12978730', '37...   \n4  ['287151', '1104760', '1172822', '440292', '28...   \n5  ['439108', '522621', '116770', '1275927', '620...   \n6  ['888460', '734023', '147311', '219106', '3139...   \n7  ['299795', '8100288', '7570892', '53817', '121...   \n8  ['45366', '246849', '11096385', '19102466', '7...   \n9  ['614054', '272343', '824934', '581383', '9359...   \n\n                                         description     format   \n0  Anita Diamant's international bestseller \"The ...   Audio CD  \\\n1  Addie Downs and Valerie Adler were eight when ...  Hardcover   \n2  Relates in vigorous prose the tale of Aeneas, ...  Paperback   \n3  To Kara's astonishment, she discovers that a p...  Paperback   \n4  Wisdom, humor, and dark observations by the fo...  Paperback   \n5  London, 1196. At the command of Richard the Li...  Hardcover   \n6  Taoist philosophy explained using examples fro...    unknown   \n7  As he is driving home from a minister's confer...    unknown   \n8  What is Heaven really going to be like? What w...    unknown   \n9  It's 1953 and 11-year-old Penny dreams of a su...  Hardcover   \n\n                                           cover_img  ... num_pages   \n0  https://s.gr-assets.com/assets/nophoto/book/11...  ...      -1.0  \\\n1  https://s.gr-assets.com/assets/nophoto/book/11...  ...     368.0   \n2  https://s.gr-assets.com/assets/nophoto/book/11...  ...     162.0   \n3  https://images.gr-assets.com/books/1316637798m...  ...     216.0   \n4  https://images.gr-assets.com/books/1328768789m...  ...     147.0   \n5  https://images.gr-assets.com/books/1328724803m...  ...     400.0   \n6  https://s.gr-assets.com/assets/nophoto/book/11...  ...      -1.0   \n7  https://s.gr-assets.com/assets/nophoto/book/11...  ...      -1.0   \n8  https://images.gr-assets.com/books/1406508230m...  ...     533.0   \n9  https://images.gr-assets.com/books/1320470906m...  ...     288.0   \n\n  edition_information  publication_year ratings_count  format_code   \n0            Abridged            2001.0          10.0            1  \\\n1             unknown            2009.0       51184.0            2   \n2             unknown            2006.0          46.0            3   \n3             unknown            2009.0          98.0            3   \n4             unknown            2000.0         986.0            3   \n5             unknown            2009.0         186.0            2   \n6             unknown              -1.0          11.0            4   \n7             unknown              -1.0       68157.0            4   \n8             unknown              -1.0        7345.0            4   \n9             unknown            2006.0        6949.0            2   \n\n   language_code1                              processed_description   \n0               1  anita diamants international bestseller red te...  \\\n1               2  addie down valerie adler eight first met decid...   \n2               1  relates vigorous prose tale aeneas legendary a...   \n3               1  karas astonishment discovers portal opened bed...   \n4               1  wisdom humor dark observation founder church s...   \n5               1  london command richard lionheart sir john de w...   \n6               1  taoist philosophy explained using example miln...   \n7               1  driving home minister conference baptist minis...   \n8               2  heaven really going like look like wont heaven...   \n9               1  yearold penny dream summer butter pecan ice cr...   \n\n                                   glove_description     author_ids   \n0  [-0.109194554, -0.02343459, -0.00643954, -0.11...         626222  \\\n1  [-0.09596572, 0.110401616, -0.050980728, -0.08...           9212   \n2  [0.08972758, -0.07232258, 0.06552754, 0.069813...        3041852   \n3  [-0.17288154, 0.020485822, 0.01281396, -0.1110...          19158   \n4  [-0.016083162, -0.080028355, 0.051149257, -0.1...  2983296;40075   \n5  [-0.008410563, -0.09311661, 0.08472941, -0.046...          37778   \n6  [-0.09883666, -0.048887495, 0.044787, -0.07557...          27397   \n7  [-0.070356965, 0.0033260754, -0.06084435, -0.0...    39054;11099   \n8  [-0.10637292, -0.055722836, -0.06527442, -0.04...           4862   \n9  [0.029615425, 0.08949813, -0.03935328, -0.0058...         137561   \n\n                                                text  \n0  Anita Diamant's international bestseller \"The ...  \n1  Addie Downs and Valerie Adler were eight when ...  \n2  Relates in vigorous prose the tale of Aeneas, ...  \n3  To Kara's astonishment, she discovers that a p...  \n4  Wisdom, humor, and dark observations by the fo...  \n5  London, 1196. At the command of Richard the Li...  \n6  Taoist philosophy explained using examples fro...  \n7  As he is driving home from a minister's confer...  \n8  What is Heaven really going to be like? What w...  \n9  It's 1953 and 11-year-old Penny dreams of a su...  \n\n[10 rows x 22 columns]",
      "text/html": "<div>\n<style scoped>\n    .dataframe tbody tr th:only-of-type {\n        vertical-align: middle;\n    }\n\n    .dataframe tbody tr th {\n        vertical-align: top;\n    }\n\n    .dataframe thead th {\n        text-align: right;\n    }\n</style>\n<table border=\"1\" class=\"dataframe\">\n  <thead>\n    <tr style=\"text-align: right;\">\n      <th></th>\n      <th>book_id</th>\n      <th>title</th>\n      <th>isbn</th>\n      <th>language_code</th>\n      <th>is_ebook</th>\n      <th>average_rating</th>\n      <th>similar_books</th>\n      <th>description</th>\n      <th>format</th>\n      <th>cover_img</th>\n      <th>...</th>\n      <th>num_pages</th>\n      <th>edition_information</th>\n      <th>publication_year</th>\n      <th>ratings_count</th>\n      <th>format_code</th>\n      <th>language_code1</th>\n      <th>processed_description</th>\n      <th>glove_description</th>\n      <th>author_ids</th>\n      <th>text</th>\n    </tr>\n  </thead>\n  <tbody>\n    <tr>\n      <th>0</th>\n      <td>1333909</td>\n      <td>Good Harbor</td>\n      <td>0743509986</td>\n      <td>unknown</td>\n      <td>0.0</td>\n      <td>3.23</td>\n      <td>['8709549', '17074050', '28937', '158816', '22...</td>\n      <td>Anita Diamant's international bestseller \"The ...</td>\n      <td>Audio CD</td>\n      <td>https://s.gr-assets.com/assets/nophoto/book/11...</td>\n      <td>...</td>\n      <td>-1.0</td>\n      <td>Abridged</td>\n      <td>2001.0</td>\n      <td>10.0</td>\n      <td>1</td>\n      <td>1</td>\n      <td>anita diamants international bestseller red te...</td>\n      <td>[-0.109194554, -0.02343459, -0.00643954, -0.11...</td>\n      <td>626222</td>\n      <td>Anita Diamant's international bestseller \"The ...</td>\n    </tr>\n    <tr>\n      <th>1</th>\n      <td>6066819</td>\n      <td>Best Friends Forever</td>\n      <td>0743294297</td>\n      <td>eng</td>\n      <td>0.0</td>\n      <td>3.49</td>\n      <td>['6604176', '6054190', '2285777', '82641', '75...</td>\n      <td>Addie Downs and Valerie Adler were eight when ...</td>\n      <td>Hardcover</td>\n      <td>https://s.gr-assets.com/assets/nophoto/book/11...</td>\n      <td>...</td>\n      <td>368.0</td>\n      <td>unknown</td>\n      <td>2009.0</td>\n      <td>51184.0</td>\n      <td>2</td>\n      <td>2</td>\n      <td>addie down valerie adler eight first met decid...</td>\n      <td>[-0.09596572, 0.110401616, -0.050980728, -0.08...</td>\n      <td>9212</td>\n      <td>Addie Downs and Valerie Adler were eight when ...</td>\n    </tr>\n    <tr>\n      <th>2</th>\n      <td>287141</td>\n      <td>The Aeneid for Boys and Girls</td>\n      <td>1599150603</td>\n      <td>unknown</td>\n      <td>0.0</td>\n      <td>4.13</td>\n      <td>[]</td>\n      <td>Relates in vigorous prose the tale of Aeneas, ...</td>\n      <td>Paperback</td>\n      <td>https://s.gr-assets.com/assets/nophoto/book/11...</td>\n      <td>...</td>\n      <td>162.0</td>\n      <td>unknown</td>\n      <td>2006.0</td>\n      <td>46.0</td>\n      <td>3</td>\n      <td>1</td>\n      <td>relates vigorous prose tale aeneas legendary a...</td>\n      <td>[0.08972758, -0.07232258, 0.06552754, 0.069813...</td>\n      <td>3041852</td>\n      <td>Relates in vigorous prose the tale of Aeneas, ...</td>\n    </tr>\n    <tr>\n      <th>3</th>\n      <td>6066812</td>\n      <td>All's Fairy in Love and War (Avalon: Web of Ma...</td>\n      <td>1934876569</td>\n      <td>unknown</td>\n      <td>0.0</td>\n      <td>4.22</td>\n      <td>['948696', '439885', '274955', '12978730', '37...</td>\n      <td>To Kara's astonishment, she discovers that a p...</td>\n      <td>Paperback</td>\n      <td>https://images.gr-assets.com/books/1316637798m...</td>\n      <td>...</td>\n      <td>216.0</td>\n      <td>unknown</td>\n      <td>2009.0</td>\n      <td>98.0</td>\n      <td>3</td>\n      <td>1</td>\n      <td>karas astonishment discovers portal opened bed...</td>\n      <td>[-0.17288154, 0.020485822, 0.01281396, -0.1110...</td>\n      <td>19158</td>\n      <td>To Kara's astonishment, she discovers that a p...</td>\n    </tr>\n    <tr>\n      <th>4</th>\n      <td>287149</td>\n      <td>The Devil's Notebook</td>\n      <td>0922915113</td>\n      <td>unknown</td>\n      <td>0.0</td>\n      <td>3.81</td>\n      <td>['287151', '1104760', '1172822', '440292', '28...</td>\n      <td>Wisdom, humor, and dark observations by the fo...</td>\n      <td>Paperback</td>\n      <td>https://images.gr-assets.com/books/1328768789m...</td>\n      <td>...</td>\n      <td>147.0</td>\n      <td>unknown</td>\n      <td>2000.0</td>\n      <td>986.0</td>\n      <td>3</td>\n      <td>1</td>\n      <td>wisdom humor dark observation founder church s...</td>\n      <td>[-0.016083162, -0.080028355, 0.051149257, -0.1...</td>\n      <td>2983296;40075</td>\n      <td>Wisdom, humor, and dark observations by the fo...</td>\n    </tr>\n    <tr>\n      <th>5</th>\n      <td>6066814</td>\n      <td>Crowner Royal (Crowner John Mystery, #13)</td>\n      <td>184737297X</td>\n      <td>unknown</td>\n      <td>0.0</td>\n      <td>3.93</td>\n      <td>['439108', '522621', '116770', '1275927', '620...</td>\n      <td>London, 1196. At the command of Richard the Li...</td>\n      <td>Hardcover</td>\n      <td>https://images.gr-assets.com/books/1328724803m...</td>\n      <td>...</td>\n      <td>400.0</td>\n      <td>unknown</td>\n      <td>2009.0</td>\n      <td>186.0</td>\n      <td>2</td>\n      <td>1</td>\n      <td>london command richard lionheart sir john de w...</td>\n      <td>[-0.008410563, -0.09311661, 0.08472941, -0.046...</td>\n      <td>37778</td>\n      <td>London, 1196. At the command of Richard the Li...</td>\n    </tr>\n    <tr>\n      <th>6</th>\n      <td>89371</td>\n      <td>The Te Of Piglet</td>\n      <td>0413675106</td>\n      <td>unknown</td>\n      <td>0.0</td>\n      <td>3.81</td>\n      <td>['888460', '734023', '147311', '219106', '3139...</td>\n      <td>Taoist philosophy explained using examples fro...</td>\n      <td>unknown</td>\n      <td>https://s.gr-assets.com/assets/nophoto/book/11...</td>\n      <td>...</td>\n      <td>-1.0</td>\n      <td>unknown</td>\n      <td>-1.0</td>\n      <td>11.0</td>\n      <td>4</td>\n      <td>1</td>\n      <td>taoist philosophy explained using example miln...</td>\n      <td>[-0.09883666, -0.048887495, 0.044787, -0.07557...</td>\n      <td>27397</td>\n      <td>Taoist philosophy explained using examples fro...</td>\n    </tr>\n    <tr>\n      <th>7</th>\n      <td>89375</td>\n      <td>90 Minutes in Heaven: A True Story of Death an...</td>\n      <td>0800759494</td>\n      <td>unknown</td>\n      <td>0.0</td>\n      <td>3.91</td>\n      <td>['299795', '8100288', '7570892', '53817', '121...</td>\n      <td>As he is driving home from a minister's confer...</td>\n      <td>unknown</td>\n      <td>https://s.gr-assets.com/assets/nophoto/book/11...</td>\n      <td>...</td>\n      <td>-1.0</td>\n      <td>unknown</td>\n      <td>-1.0</td>\n      <td>68157.0</td>\n      <td>4</td>\n      <td>1</td>\n      <td>driving home minister conference baptist minis...</td>\n      <td>[-0.070356965, 0.0033260754, -0.06084435, -0.0...</td>\n      <td>39054;11099</td>\n      <td>As he is driving home from a minister's confer...</td>\n    </tr>\n    <tr>\n      <th>8</th>\n      <td>89376</td>\n      <td>Heaven</td>\n      <td>0842379428</td>\n      <td>eng</td>\n      <td>0.0</td>\n      <td>4.26</td>\n      <td>['45366', '246849', '11096385', '19102466', '7...</td>\n      <td>What is Heaven really going to be like? What w...</td>\n      <td>unknown</td>\n      <td>https://images.gr-assets.com/books/1406508230m...</td>\n      <td>...</td>\n      <td>533.0</td>\n      <td>unknown</td>\n      <td>-1.0</td>\n      <td>7345.0</td>\n      <td>4</td>\n      <td>2</td>\n      <td>heaven really going like look like wont heaven...</td>\n      <td>[-0.10637292, -0.055722836, -0.06527442, -0.04...</td>\n      <td>4862</td>\n      <td>What is Heaven really going to be like? What w...</td>\n    </tr>\n    <tr>\n      <th>9</th>\n      <td>89377</td>\n      <td>Penny from Heaven</td>\n      <td>037583687X</td>\n      <td>unknown</td>\n      <td>0.0</td>\n      <td>3.98</td>\n      <td>['614054', '272343', '824934', '581383', '9359...</td>\n      <td>It's 1953 and 11-year-old Penny dreams of a su...</td>\n      <td>Hardcover</td>\n      <td>https://images.gr-assets.com/books/1320470906m...</td>\n      <td>...</td>\n      <td>288.0</td>\n      <td>unknown</td>\n      <td>2006.0</td>\n      <td>6949.0</td>\n      <td>2</td>\n      <td>1</td>\n      <td>yearold penny dream summer butter pecan ice cr...</td>\n      <td>[0.029615425, 0.08949813, -0.03935328, -0.0058...</td>\n      <td>137561</td>\n      <td>It's 1953 and 11-year-old Penny dreams of a su...</td>\n    </tr>\n  </tbody>\n</table>\n<p>10 rows × 22 columns</p>\n</div>"
     },
     "execution_count": 16,
     "metadata": {},
     "output_type": "execute_result"
    }
   ],
   "source": [
    "books.head(10)"
   ],
   "metadata": {
    "collapsed": false,
    "pycharm": {
     "name": "#%%\n"
    }
   }
  },
  {
   "cell_type": "code",
   "execution_count": 21,
   "outputs": [],
   "source": [
    "# define the features to be included in the TF-IDF matrix\n",
    "features = ['processed_description', 'author_ids', 'publisher', 'format', 'language_code', 'title', 'num_pages', 'publication_year']\n",
    "\n",
    "books['text'] = books['title'] + ' ' + books['processed_description'] + ' ' + books['author_ids'] + ' ' + books['publisher'] + ' ' + books['format'] + ' ' + books['language_code'] + ' ' + books['num_pages'].astype(str) + ' ' + books['publication_year'].astype(str)"
   ],
   "metadata": {
    "collapsed": false,
    "pycharm": {
     "name": "#%%\n"
    }
   }
  },
  {
   "cell_type": "code",
   "execution_count": 22,
   "outputs": [
    {
     "data": {
      "text/plain": "   book_id                                              title        isbn   \n0  1333909                                        Good Harbor  0743509986  \\\n1  6066819                               Best Friends Forever  0743294297   \n2   287141                      The Aeneid for Boys and Girls  1599150603   \n3  6066812  All's Fairy in Love and War (Avalon: Web of Ma...  1934876569   \n4   287149                               The Devil's Notebook  0922915113   \n\n  language_code  is_ebook  average_rating   \n0       unknown       0.0            3.23  \\\n1           eng       0.0            3.49   \n2       unknown       0.0            4.13   \n3       unknown       0.0            4.22   \n4       unknown       0.0            3.81   \n\n                                       similar_books   \n0  ['8709549', '17074050', '28937', '158816', '22...  \\\n1  ['6604176', '6054190', '2285777', '82641', '75...   \n2                                                 []   \n3  ['948696', '439885', '274955', '12978730', '37...   \n4  ['287151', '1104760', '1172822', '440292', '28...   \n\n                                         description     format   \n0  Anita Diamant's international bestseller \"The ...   Audio CD  \\\n1  Addie Downs and Valerie Adler were eight when ...  Hardcover   \n2  Relates in vigorous prose the tale of Aeneas, ...  Paperback   \n3  To Kara's astonishment, she discovers that a p...  Paperback   \n4  Wisdom, humor, and dark observations by the fo...  Paperback   \n\n                                           cover_img  ... num_pages   \n0  https://s.gr-assets.com/assets/nophoto/book/11...  ...      -1.0  \\\n1  https://s.gr-assets.com/assets/nophoto/book/11...  ...     368.0   \n2  https://s.gr-assets.com/assets/nophoto/book/11...  ...     162.0   \n3  https://images.gr-assets.com/books/1316637798m...  ...     216.0   \n4  https://images.gr-assets.com/books/1328768789m...  ...     147.0   \n\n  edition_information  publication_year ratings_count  format_code   \n0            Abridged            2001.0          10.0            1  \\\n1             unknown            2009.0       51184.0            2   \n2             unknown            2006.0          46.0            3   \n3             unknown            2009.0          98.0            3   \n4             unknown            2000.0         986.0            3   \n\n   language_code1                              processed_description   \n0               1  anita diamants international bestseller red te...  \\\n1               2  addie down valerie adler eight first met decid...   \n2               1  relates vigorous prose tale aeneas legendary a...   \n3               1  karas astonishment discovers portal opened bed...   \n4               1  wisdom humor dark observation founder church s...   \n\n                                   glove_description     author_ids   \n0  [-0.109194554, -0.02343459, -0.00643954, -0.11...         626222  \\\n1  [-0.09596572, 0.110401616, -0.050980728, -0.08...           9212   \n2  [0.08972758, -0.07232258, 0.06552754, 0.069813...        3041852   \n3  [-0.17288154, 0.020485822, 0.01281396, -0.1110...          19158   \n4  [-0.016083162, -0.080028355, 0.051149257, -0.1...  2983296;40075   \n\n                                                text  \n0  Good Harbor anita diamants international bests...  \n1  Best Friends Forever addie down valerie adler ...  \n2  The Aeneid for Boys and Girls relates vigorous...  \n3  All's Fairy in Love and War (Avalon: Web of Ma...  \n4  The Devil's Notebook wisdom humor dark observa...  \n\n[5 rows x 22 columns]",
      "text/html": "<div>\n<style scoped>\n    .dataframe tbody tr th:only-of-type {\n        vertical-align: middle;\n    }\n\n    .dataframe tbody tr th {\n        vertical-align: top;\n    }\n\n    .dataframe thead th {\n        text-align: right;\n    }\n</style>\n<table border=\"1\" class=\"dataframe\">\n  <thead>\n    <tr style=\"text-align: right;\">\n      <th></th>\n      <th>book_id</th>\n      <th>title</th>\n      <th>isbn</th>\n      <th>language_code</th>\n      <th>is_ebook</th>\n      <th>average_rating</th>\n      <th>similar_books</th>\n      <th>description</th>\n      <th>format</th>\n      <th>cover_img</th>\n      <th>...</th>\n      <th>num_pages</th>\n      <th>edition_information</th>\n      <th>publication_year</th>\n      <th>ratings_count</th>\n      <th>format_code</th>\n      <th>language_code1</th>\n      <th>processed_description</th>\n      <th>glove_description</th>\n      <th>author_ids</th>\n      <th>text</th>\n    </tr>\n  </thead>\n  <tbody>\n    <tr>\n      <th>0</th>\n      <td>1333909</td>\n      <td>Good Harbor</td>\n      <td>0743509986</td>\n      <td>unknown</td>\n      <td>0.0</td>\n      <td>3.23</td>\n      <td>['8709549', '17074050', '28937', '158816', '22...</td>\n      <td>Anita Diamant's international bestseller \"The ...</td>\n      <td>Audio CD</td>\n      <td>https://s.gr-assets.com/assets/nophoto/book/11...</td>\n      <td>...</td>\n      <td>-1.0</td>\n      <td>Abridged</td>\n      <td>2001.0</td>\n      <td>10.0</td>\n      <td>1</td>\n      <td>1</td>\n      <td>anita diamants international bestseller red te...</td>\n      <td>[-0.109194554, -0.02343459, -0.00643954, -0.11...</td>\n      <td>626222</td>\n      <td>Good Harbor anita diamants international bests...</td>\n    </tr>\n    <tr>\n      <th>1</th>\n      <td>6066819</td>\n      <td>Best Friends Forever</td>\n      <td>0743294297</td>\n      <td>eng</td>\n      <td>0.0</td>\n      <td>3.49</td>\n      <td>['6604176', '6054190', '2285777', '82641', '75...</td>\n      <td>Addie Downs and Valerie Adler were eight when ...</td>\n      <td>Hardcover</td>\n      <td>https://s.gr-assets.com/assets/nophoto/book/11...</td>\n      <td>...</td>\n      <td>368.0</td>\n      <td>unknown</td>\n      <td>2009.0</td>\n      <td>51184.0</td>\n      <td>2</td>\n      <td>2</td>\n      <td>addie down valerie adler eight first met decid...</td>\n      <td>[-0.09596572, 0.110401616, -0.050980728, -0.08...</td>\n      <td>9212</td>\n      <td>Best Friends Forever addie down valerie adler ...</td>\n    </tr>\n    <tr>\n      <th>2</th>\n      <td>287141</td>\n      <td>The Aeneid for Boys and Girls</td>\n      <td>1599150603</td>\n      <td>unknown</td>\n      <td>0.0</td>\n      <td>4.13</td>\n      <td>[]</td>\n      <td>Relates in vigorous prose the tale of Aeneas, ...</td>\n      <td>Paperback</td>\n      <td>https://s.gr-assets.com/assets/nophoto/book/11...</td>\n      <td>...</td>\n      <td>162.0</td>\n      <td>unknown</td>\n      <td>2006.0</td>\n      <td>46.0</td>\n      <td>3</td>\n      <td>1</td>\n      <td>relates vigorous prose tale aeneas legendary a...</td>\n      <td>[0.08972758, -0.07232258, 0.06552754, 0.069813...</td>\n      <td>3041852</td>\n      <td>The Aeneid for Boys and Girls relates vigorous...</td>\n    </tr>\n    <tr>\n      <th>3</th>\n      <td>6066812</td>\n      <td>All's Fairy in Love and War (Avalon: Web of Ma...</td>\n      <td>1934876569</td>\n      <td>unknown</td>\n      <td>0.0</td>\n      <td>4.22</td>\n      <td>['948696', '439885', '274955', '12978730', '37...</td>\n      <td>To Kara's astonishment, she discovers that a p...</td>\n      <td>Paperback</td>\n      <td>https://images.gr-assets.com/books/1316637798m...</td>\n      <td>...</td>\n      <td>216.0</td>\n      <td>unknown</td>\n      <td>2009.0</td>\n      <td>98.0</td>\n      <td>3</td>\n      <td>1</td>\n      <td>karas astonishment discovers portal opened bed...</td>\n      <td>[-0.17288154, 0.020485822, 0.01281396, -0.1110...</td>\n      <td>19158</td>\n      <td>All's Fairy in Love and War (Avalon: Web of Ma...</td>\n    </tr>\n    <tr>\n      <th>4</th>\n      <td>287149</td>\n      <td>The Devil's Notebook</td>\n      <td>0922915113</td>\n      <td>unknown</td>\n      <td>0.0</td>\n      <td>3.81</td>\n      <td>['287151', '1104760', '1172822', '440292', '28...</td>\n      <td>Wisdom, humor, and dark observations by the fo...</td>\n      <td>Paperback</td>\n      <td>https://images.gr-assets.com/books/1328768789m...</td>\n      <td>...</td>\n      <td>147.0</td>\n      <td>unknown</td>\n      <td>2000.0</td>\n      <td>986.0</td>\n      <td>3</td>\n      <td>1</td>\n      <td>wisdom humor dark observation founder church s...</td>\n      <td>[-0.016083162, -0.080028355, 0.051149257, -0.1...</td>\n      <td>2983296;40075</td>\n      <td>The Devil's Notebook wisdom humor dark observa...</td>\n    </tr>\n  </tbody>\n</table>\n<p>5 rows × 22 columns</p>\n</div>"
     },
     "execution_count": 22,
     "metadata": {},
     "output_type": "execute_result"
    }
   ],
   "source": [
    "books.head(5)"
   ],
   "metadata": {
    "collapsed": false,
    "pycharm": {
     "name": "#%%\n"
    }
   }
  },
  {
   "cell_type": "code",
   "execution_count": 23,
   "outputs": [],
   "source": [
    "from sklearn.feature_extraction.text import TfidfVectorizer\n",
    "\n",
    "# initialize the vectorizer\n",
    "tfidf = TfidfVectorizer()\n",
    "\n",
    "# fit and transform the text data\n",
    "tfidf_matrix = tfidf.fit_transform(books['text'])"
   ],
   "metadata": {
    "collapsed": false,
    "pycharm": {
     "name": "#%%\n"
    }
   }
  },
  {
   "cell_type": "code",
   "execution_count": 29,
   "outputs": [],
   "source": [
    "from sklearn.metrics.pairwise import cosine_similarity\n",
    "def get_similar_books(book_id, num_books=20):\n",
    "    # get the index of the given book\n",
    "    idx = books[books['book_id'] == book_id].index\n",
    "\n",
    "    # calculate the cosine similarity between the given book and all other books\n",
    "    cosine_sim = cosine_similarity(tfidf_matrix[idx], tfidf_matrix)\n",
    "\n",
    "\n",
    "    # get the cosine similarity scores between the given book and all other books\n",
    "    sim_scores = list(enumerate(cosine_sim[0]))\n",
    "\n",
    "    # sort the scores in descending order\n",
    "    sim_scores = sorted(sim_scores, key=lambda x: x[1], reverse=True)\n",
    "\n",
    "    # get the indices of the top similar books\n",
    "    sim_indices = [i[0] for i in sim_scores[1:num_books+1]]\n",
    "\n",
    "    # return the titles of the top similar books\n",
    "    return books['title'].iloc[sim_indices]"
   ],
   "metadata": {
    "collapsed": false,
    "pycharm": {
     "name": "#%%\n"
    }
   }
  },
  {
   "cell_type": "code",
   "execution_count": 32,
   "outputs": [
    {
     "data": {
      "text/plain": "1172267                                          Good Harbor\n74832                                            Good Harbor\n805644                                          Good Harbour\n849444                                       Day After Night\n1183366                                           Friendship\n751629                         The Friendship Dance Of Women\n1155687    The HerStories Project: Women Explore the Joy,...\n1091789                              The House in South Road\n503197                                              Re Joyce\n130291                                       Day After Night\n707788     Joyce's Book of Memory: The Mnemotechnic of Ul...\n330656     James Joyce: The Years of Growth, 1882-1915:  ...\n173852     The Friends We Keep: A Woman's Quest for the S...\n416420     The Company We Keep: In Search of Biblical Fri...\n473346                             The Meaning of Friendship\n481998                                       The Boston Girl\n532724                              The Last Days of Dogtown\n253184                              The Last Days Of Dogtown\n83615      Joyce, Bakhtin, and Popular Literature: Chroni...\n687265     Pound-Joyce: The Letters of Ezra Pound to Jame...\nName: title, dtype: object"
     },
     "execution_count": 32,
     "metadata": {},
     "output_type": "execute_result"
    }
   ],
   "source": [
    "get_similar_books(1333909)"
   ],
   "metadata": {
    "collapsed": false,
    "pycharm": {
     "name": "#%%\n"
    }
   }
  },
  {
   "cell_type": "code",
   "execution_count": 28,
   "outputs": [
    {
     "data": {
      "text/plain": "\"['8709549', '17074050', '28937', '158816', '228563', '11296581', '1073987', '7298465', '1274862', '18290554', '86382', '343067', '2774907', '663892', '1233981', '298912', '401091', '307575']\""
     },
     "execution_count": 28,
     "metadata": {},
     "output_type": "execute_result"
    }
   ],
   "source": [
    "books.similar_books.iloc[0]"
   ],
   "metadata": {
    "collapsed": false,
    "pycharm": {
     "name": "#%%\n"
    }
   }
  },
  {
   "cell_type": "code",
   "execution_count": null,
   "outputs": [],
   "source": [
    "common_values = list(set(get_similar_books(1333909).tolist()) & set(list2))"
   ],
   "metadata": {
    "collapsed": false,
    "pycharm": {
     "name": "#%%\n"
    }
   }
  },
  {
   "cell_type": "code",
   "execution_count": 33,
   "outputs": [],
   "source": [
    "books.to_pickle('final_result_book.pkl')"
   ],
   "metadata": {
    "collapsed": false,
    "pycharm": {
     "name": "#%%\n"
    }
   }
  },
  {
   "cell_type": "code",
   "execution_count": null,
   "outputs": [],
   "source": [],
   "metadata": {
    "collapsed": false,
    "pycharm": {
     "name": "#%%\n"
    }
   }
  }
 ],
 "metadata": {
  "kernelspec": {
   "display_name": "Python 3",
   "language": "python",
   "name": "python3"
  },
  "language_info": {
   "codemirror_mode": {
    "name": "ipython",
    "version": 2
   },
   "file_extension": ".py",
   "mimetype": "text/x-python",
   "name": "python",
   "nbconvert_exporter": "python",
   "pygments_lexer": "ipython2",
   "version": "2.7.6"
  }
 },
 "nbformat": 4,
 "nbformat_minor": 0
}